{
 "cells": [
  {
   "cell_type": "markdown",
   "metadata": {
    "id": "9yDw5mv0qURL"
   },
   "source": [
    "[![Open In Colab](https://colab.research.google.com/assets/colab-badge.svg)](https://colab.research.google.com/github/porterjenkins/byu-cs474/blob/master/lab1_pytorch_intro.ipynb)\n",
    "\n",
    "\n",
    "\n",
    "\n",
    "\n"
   ]
  },
  {
   "cell_type": "markdown",
   "metadata": {
    "id": "FYabkPq6Osas"
   },
   "source": [
    "# Deep Learning Part 1: PyTorch, Autodifferentiation, and Optimization\n",
    "\n",
    "---\n",
    "\n",
    "While these sections can be completed on your own computer using Jupyter, I suggest using Google Colab. Colab provides a standardized virtual environment and allows you to request a GPU, which will let you perform deep learning much faster. If you choose to do these sections on your own computer, you may have to do extra work in getting your CUDA-compatible GPU working and getting the right versions of the packages for the sections.\n",
    "\n",
    "We won't use GPUs for this section, but it will be vital to speed up training in some of the future sections."
   ]
  },
  {
   "cell_type": "markdown",
   "metadata": {
    "id": "hiquMGSKOquL"
   },
   "source": [
    "---\n",
    "\n",
    "# What is PyTorch and Automatic Differentiation"
   ]
  },
  {
   "cell_type": "code",
   "execution_count": 15,
   "metadata": {
    "id": "YedNwhuoOquL"
   },
   "outputs": [],
   "source": [
    "import torch"
   ]
  },
  {
   "cell_type": "markdown",
   "metadata": {
    "id": "4Mwd_l3-OquM"
   },
   "source": [
    "## Part 1: Tensors and Array Operations"
   ]
  },
  {
   "cell_type": "markdown",
   "metadata": {
    "id": "PHvGT9ceOquM"
   },
   "source": [
    "Some of you may already be familiar with NumPy or vector math and so this should be a simple and brief overview.\n",
    "\n",
    "PyTorch tries to be as close to NumPy as possible."
   ]
  },
  {
   "cell_type": "markdown",
   "metadata": {
    "id": "xdxCQ0gYOquN"
   },
   "source": [
    "### Tensor creation, shapes, and data types\n",
    "\n",
    "Tensors are n-dimensional containers: 0D tensors are scalars, 1D tensors are vectors, and 2D tensors are matrices. We'll often work with tensors with more than 2 dimensions.\n",
    "\n",
    "Let start by creating a simple tensor.\n",
    "Pass in the array `[1, 2]` into the `torch.tensor()` function and store the tensor as variable `v`."
   ]
  },
  {
   "cell_type": "code",
   "execution_count": 16,
   "metadata": {
    "id": "hD19cj9tOquN"
   },
   "outputs": [],
   "source": [
    "v = torch.tensor([1, 2])"
   ]
  },
  {
   "cell_type": "markdown",
   "metadata": {
    "id": "iKZqsb2yOquN"
   },
   "source": [
    "Let us look at shape and data type of `v`.\n",
    "You can view the shape of `v` with `v.shape` or calling `v.size()` and you can look at the data type of `v` with `v.dtype`.\n",
    "\n",
    "Print the shape and data type of `v` below."
   ]
  },
  {
   "cell_type": "code",
   "execution_count": 17,
   "metadata": {
    "colab": {
     "base_uri": "https://localhost:8080/"
    },
    "id": "FILMXnbmOquO",
    "outputId": "caef1350-e1a4-41be-daf2-dfebd4de980c"
   },
   "outputs": [
    {
     "name": "stdout",
     "output_type": "stream",
     "text": [
      "torch.Size([2])\n",
      "torch.int64\n"
     ]
    }
   ],
   "source": [
    "print(v.shape)\n",
    "print(v.dtype)"
   ]
  },
  {
   "cell_type": "markdown",
   "metadata": {
    "id": "2-ZYtRxPOquO"
   },
   "source": [
    "We see that that the shape of `v.shape = torch.Size([2])` and its dtype is `torch.int64`.\n",
    "\n",
    "Initialize a new tensor `w` with the following array `[[1.0], [2.0]]` and print out its shape and dtype."
   ]
  },
  {
   "cell_type": "code",
   "execution_count": 18,
   "metadata": {
    "colab": {
     "base_uri": "https://localhost:8080/"
    },
    "id": "8CEuvIr9OquO",
    "outputId": "5b3c0d16-9194-4cbd-9bce-352ff2bf6268"
   },
   "outputs": [
    {
     "name": "stdout",
     "output_type": "stream",
     "text": [
      "torch.Size([2, 1])\n",
      "torch.float32\n"
     ]
    }
   ],
   "source": [
    "w = torch.tensor([[1.0], [2.0]])\n",
    "print(w.shape)\n",
    "print(w.dtype)"
   ]
  },
  {
   "cell_type": "markdown",
   "metadata": {
    "id": "Ij9Ek7qhOquO"
   },
   "source": [
    "This time our tensor has a shape of `torch.Size([2, 1])` and its dtype is `torch.float32`."
   ]
  },
  {
   "cell_type": "markdown",
   "metadata": {
    "id": "iZ41g6YqOquO"
   },
   "source": [
    "Let's now change `v` to look like `w`.\n",
    "First we will try to make `v` share the same shape as `w`. `v` has 1 dimension and `w` has 2.\n",
    "Both `v` and `w` have a value of 2 in dimension 0 (using 0-based indexing) and `w` has a value of 1 in dimension 1.\n",
    "\n",
    "To add a dimension to `v` we can call the `v.unsqueeze()` function.\n",
    "It takes in a dimension argument (`dim`) specifying where we want to add the dimension.\n",
    "Because `v` is missing its dimension 1, specify `1` as the `dim` argument.\n",
    "\n",
    "*Note: `.unsqueeze()` returns a reshaped tensor and doesn't modify `v`.*\n",
    "\n",
    "Do not modify `v` and assign the unsqueezed tensor to the `answer` variable."
   ]
  },
  {
   "cell_type": "code",
   "execution_count": 29,
   "metadata": {
    "id": "cfzdW8DoOquO"
   },
   "outputs": [],
   "source": [
    "answer = v.unsqueeze(1)\n",
    "\n",
    "assert answer.shape == w.shape == torch.Size([2, 1])\n",
    "assert v.shape == torch.Size([2])"
   ]
  },
  {
   "cell_type": "markdown",
   "metadata": {
    "id": "Jb8Xg05hOquP"
   },
   "source": [
    "Now let's change the `v`'s data type. This easiest method is to call is the `.float()` function.\n",
    "\n",
    "*Note: Like `.unsqueeze()`, `.float()` returns a new tensor with the specified dtype and doesn't modify `v`*.\n",
    "Do not modify v and assign the float tensor to the `answer` variable."
   ]
  },
  {
   "cell_type": "code",
   "execution_count": 30,
   "metadata": {
    "id": "9B4G9NJ_OquP"
   },
   "outputs": [],
   "source": [
    "answer = v.float()\n",
    "\n",
    "assert answer.dtype == w.dtype == torch.float32\n",
    "assert v.dtype == torch.int64"
   ]
  },
  {
   "cell_type": "markdown",
   "metadata": {
    "id": "S1FoaU2NOquP"
   },
   "source": [
    "Now let's change `w` to look like `v`, but this time let's do it in one line.\n",
    "\n",
    "First we should change `w`'s dimensions so it matches `v`.\n",
    "To remove a dimension we can call the `.squeeze()` function and specify the dimension we want to remove.\n",
    "This will only remove the dimension if it has **value of 1**, if you squeeze a dimension with a value >1, then nothing changes.\n",
    "If you do not specify a dimension, all dimensions with a value of 1 are removed.\n",
    "**It is good coding practice to specify the dimension.**\n",
    "\n",
    "To make `w` share the same dtype as `v` we can use the `.long()` (because a long is a 64-bit integer).\n",
    "\n",
    "Now convert `w` to have the same shape and dtype as `v`, in 1 line of code. Remember `.squeeze()` and `.long()` returns tensors so you can chain the functions."
   ]
  },
  {
   "cell_type": "code",
   "execution_count": 31,
   "metadata": {
    "id": "4fylIEn8OquQ"
   },
   "outputs": [],
   "source": [
    "answer = w.squeeze(1).long()\n",
    "assert answer.shape == v.shape == torch.Size([2])\n",
    "assert answer.dtype == v.dtype == torch.int64"
   ]
  },
  {
   "cell_type": "markdown",
   "metadata": {
    "id": "3nseyumWOquQ"
   },
   "source": [
    "While there are many other dtypes, `torch.float32` and `torch.int64` are the main ones you will encounter."
   ]
  },
  {
   "cell_type": "markdown",
   "metadata": {
    "id": "bXyNW0IhOquQ"
   },
   "source": [
    "There are a few other helpful tensor creation functions."
   ]
  },
  {
   "cell_type": "code",
   "execution_count": 32,
   "metadata": {
    "colab": {
     "base_uri": "https://localhost:8080/"
    },
    "id": "wugxs7bcOquQ",
    "outputId": "7d8c1cc9-3e70-47c6-a8e7-72e8c87f2202"
   },
   "outputs": [
    {
     "data": {
      "text/plain": [
       "tensor([0, 0])"
      ]
     },
     "execution_count": 32,
     "metadata": {},
     "output_type": "execute_result"
    }
   ],
   "source": [
    "torch.zeros(size=(3, 3)) # returns a 3x3 tensor filled with 0's\n",
    "torch.ones(2) # returns a tensor with shape (3,) filled with 1's\n",
    "torch.full((3, 1), fill_value=-1) # returns a tensor with shape (3,) filled with -1's\n",
    "torch.rand(size=(2, 2)) # returns a 2x2 tensor filled with (uniform) random floats between 0 and 1\n",
    "torch.randn(size=(2,2)) # returns a 2x2 tensors filled with random floats drawn from a standard normal distribution\n",
    "\n",
    "torch.zeros_like(v) # returns a tensor with the same shape and dtype as v, but filled with 0's.\n",
    "# You could similarly call ones_like(), full_like(), rand_like()"
   ]
  },
  {
   "cell_type": "markdown",
   "metadata": {
    "id": "fd4FzZLaOquR"
   },
   "source": [
    "You can also easily create a tensor with a sequence of integers with the `torch.arange()` function. Just like Python's `range()` function you can specify where the sequence should start, end, and the sequence step size."
   ]
  },
  {
   "cell_type": "code",
   "execution_count": 33,
   "metadata": {
    "colab": {
     "base_uri": "https://localhost:8080/"
    },
    "id": "iLiKqVObOquS",
    "outputId": "f6bb2cba-469a-414f-9deb-5c56b0c53170"
   },
   "outputs": [
    {
     "data": {
      "text/plain": [
       "tensor([1, 3, 5])"
      ]
     },
     "execution_count": 33,
     "metadata": {},
     "output_type": "execute_result"
    }
   ],
   "source": [
    "torch.arange(6) # returns a tensor with shape (6,) containing a sequence from 0 to 6 (exclusive), i.e. [0, 1, 2, 3, 4, 5]\n",
    "torch.arange(1, 7) # returns a tensor with shape (6,) containing a sequence from 1 to 7 (exclusive), i.e. [1, 2, 3, 4, 5, 6]\n",
    "torch.arange(1, 7, 2) # returns a tensor with shape (6,) containing sequence [1, 3, 5]"
   ]
  },
  {
   "cell_type": "markdown",
   "metadata": {
    "id": "Q7dgX7SlOquS"
   },
   "source": [
    "### Changing shapes"
   ]
  },
  {
   "cell_type": "markdown",
   "metadata": {
    "id": "pKGdsuSaOquT"
   },
   "source": [
    "We have explained how you can add or remove dimensions to a tensor with `.unsqueeze()` and `.squeeze()`.\n",
    "But what if we want reshape a tensor?\n",
    "\n",
    "Using the `torch.arange()` function, create a tensor, named `x`, containing a sequence from 0 to 12 (exclusive)"
   ]
  },
  {
   "cell_type": "code",
   "execution_count": 34,
   "metadata": {
    "id": "vrGpHdRjOquT"
   },
   "outputs": [],
   "source": [
    "x = torch.arange(12)\n",
    "\n",
    "assert x.equal(torch.tensor([0, 1, 2, 3, 4, 5, 6, 7, 8, 9, 10, 11]))"
   ]
  },
  {
   "cell_type": "markdown",
   "metadata": {
    "id": "9GKaLp7yOquT"
   },
   "source": [
    "Let's say we want to change our tensor sequence (vector) into a matrix such that: $$\\begin{bmatrix} 0 & 1 & 2 & 3 & 4 & 5 & 6 & 7 & 8 & 9 & 10 & 11 \\end{bmatrix} \\rightarrow \\begin{bmatrix} 0 & 1 & 2 & 3 \\\\ 4 & 5 & 6 & 7 \\\\ 8 & 9 & 10 & 11 \\end{bmatrix}$$\n",
    "\n",
    "This matrix has 3 rows and 4 columns, i.e. shape=(3,4), so we can call the `.view()` function and specify the shape we want to view sequence of data.\n",
    "**Note: `.view()` returns a tensor*. Do **not** overwrite `x`, just print out `x.view(3, 4)` and validate that we get the desired matrix."
   ]
  },
  {
   "cell_type": "code",
   "execution_count": 35,
   "metadata": {
    "colab": {
     "base_uri": "https://localhost:8080/"
    },
    "id": "QSATVKvKOquT",
    "outputId": "cd1ee53b-67b6-4aec-c140-74caaedba8ba"
   },
   "outputs": [
    {
     "name": "stdout",
     "output_type": "stream",
     "text": [
      "tensor([[ 0,  1,  2,  3],\n",
      "        [ 4,  5,  6,  7],\n",
      "        [ 8,  9, 10, 11]])\n"
     ]
    }
   ],
   "source": [
    "print(x.view(3,4))"
   ]
  },
  {
   "cell_type": "markdown",
   "metadata": {
    "id": "qqZuUqtYOquT"
   },
   "source": [
    "Now change the shape of `x` so that: $\\begin{bmatrix} 0 & 1 & 2 & 3 & 4 & 5 & 6 & 7& 8 & 9 & 10 & 11 \\end{bmatrix} \\rightarrow \\begin{bmatrix} 0 & 1 & 2 \\\\ 3 & 4 & 5 \\\\ 6 & 7 & 8 \\\\ 9 & 10 & 11 \\end{bmatrix}$"
   ]
  },
  {
   "cell_type": "code",
   "execution_count": 36,
   "metadata": {
    "colab": {
     "base_uri": "https://localhost:8080/"
    },
    "id": "XkVpIIXzOquT",
    "outputId": "9cc59108-93cd-4b2b-c63a-b102d7f55a68"
   },
   "outputs": [
    {
     "name": "stdout",
     "output_type": "stream",
     "text": [
      "tensor([[ 0,  1,  2],\n",
      "        [ 3,  4,  5],\n",
      "        [ 6,  7,  8],\n",
      "        [ 9, 10, 11]])\n"
     ]
    }
   ],
   "source": [
    "print(x.view(4,3))"
   ]
  },
  {
   "cell_type": "markdown",
   "metadata": {
    "id": "8-x4Pg6wOquT"
   },
   "source": [
    "Now change the shape so that we that 2 matrices that are 3 by 2: $$\\begin{bmatrix} 0 & 1 & 2 & 3 & 4 & 5 & 6 & 7 & 8 & 9 & 10 & 11 \\end{bmatrix} \\rightarrow \\begin{bmatrix} \\begin{bmatrix} 0 & 1 \\\\ 2 & 3 \\\\ 4 & 5 \\end{bmatrix} \\\\ \\begin{bmatrix} 6 & 7 \\\\ 8 & 9 \\\\ 10 & 11 \\end{bmatrix} \\end{bmatrix}$$\n"
   ]
  },
  {
   "cell_type": "code",
   "execution_count": 37,
   "metadata": {
    "colab": {
     "base_uri": "https://localhost:8080/"
    },
    "id": "BGi3-BWgOquT",
    "outputId": "992c27cd-04ce-4c16-dc42-e470d02301d4"
   },
   "outputs": [
    {
     "name": "stdout",
     "output_type": "stream",
     "text": [
      "tensor([[[ 0,  1],\n",
      "         [ 2,  3],\n",
      "         [ 4,  5]],\n",
      "\n",
      "        [[ 6,  7],\n",
      "         [ 8,  9],\n",
      "         [10, 11]]])\n"
     ]
    }
   ],
   "source": [
    "print(x.view(2,3,2))"
   ]
  },
  {
   "cell_type": "markdown",
   "metadata": {
    "id": "q00IyV1pOquT"
   },
   "source": [
    "Notice that the memory in all three cases is contiguous, meaning we can count the numbers from left to right and top to bottom, but what if we wanted our tensor to look like:\n",
    "$$\\begin{bmatrix} 0 & 1 & 2 & 3 & 4 & 5 & 6 & 7 & 8 & 9 & 10 & 11 \\end{bmatrix} \\rightarrow \\begin{bmatrix} 0 & 4 & 8 \\\\ 1 & 5 & 9 \\\\ 2 & 6 & 10 \\\\ 3 & 7 & 11 \\end{bmatrix}$$\n",
    "We can make use of the `.transpose()` function by first making our data sequence into a 3x4 matrix and then calling `.transpose()`:\n",
    "$$\\begin{aligned}\n",
    "\\begin{bmatrix} 0 & 1 & 2 & 3 & 4 & 5 & 6 & 7 & 8 & 9 & 10 & 11 \\end{bmatrix} \\rightarrow \\begin{bmatrix} 0 & 1 & 2 & 3 \\\\ 4 & 5 & 6 & 7 \\\\ 8 & 9 & 10 & 11 \\end{bmatrix} \\\\\n",
    "\\begin{bmatrix} 0 & 1 & 2 & 3 \\\\ 4 & 5 & 6 & 7 \\\\ 8 & 9 & 10 & 11 \\end{bmatrix}^\\textrm{T} \\rightarrow \\begin{bmatrix} 0 & 4 & 8 \\\\ 1 & 5 & 9 \\\\ 2 & 6 & 10 \\\\ 3 & 7 & 11 \\end{bmatrix}\n",
    "\\end{aligned}$$\n",
    "The `.transpose()` function takes in two arguments, the two dimensions you want to transpose, this is easy in our case since there are only two dimensions (because we only have two dimension you could also use `.T`, which is an alias for `.transpose()` in two dimensions).\n",
    "\n",
    "Use `.view()` and `.transpose()` and validate your new tensor is correct."
   ]
  },
  {
   "cell_type": "code",
   "execution_count": 38,
   "metadata": {
    "colab": {
     "base_uri": "https://localhost:8080/"
    },
    "id": "-geOJlK7OquU",
    "outputId": "653ee04d-8315-4dfd-b921-6e5f6886d8ac"
   },
   "outputs": [
    {
     "name": "stdout",
     "output_type": "stream",
     "text": [
      "tensor([[ 0,  4,  8],\n",
      "        [ 1,  5,  9],\n",
      "        [ 2,  6, 10],\n",
      "        [ 3,  7, 11]])\n"
     ]
    }
   ],
   "source": [
    "print(x.view(3,4).transpose(0,1))"
   ]
  },
  {
   "cell_type": "markdown",
   "metadata": {
    "id": "PkvWYceIOquU"
   },
   "source": [
    "What if we wanted to flatten the above tensor so that:\n",
    "$$\\begin{bmatrix} 0 & 4 & 8 \\\\ 1 & 5 & 9 \\\\ 2 & 6 & 10 \\\\ 3 & 7 & 11 \\end{bmatrix} \\rightarrow \\begin{bmatrix} 0 & 4 & 8 & 1 & 5 & 9 & 2 & 6 & 10 & 3 & 7 & 11 \\end{bmatrix}$$\n",
    "\n",
    "Use the same `.view()` and `.transpose()` functions you used above, but this time tack on `.view(12)` to flatten the matrix."
   ]
  },
  {
   "cell_type": "code",
   "execution_count": 47,
   "metadata": {
    "colab": {
     "base_uri": "https://localhost:8080/",
     "height": 162
    },
    "id": "ZJHNg9abOquU",
    "outputId": "0183a557-4abe-466e-dbf3-34dac3e235a6"
   },
   "outputs": [
    {
     "ename": "RuntimeError",
     "evalue": "view size is not compatible with input tensor's size and stride (at least one dimension spans across two contiguous subspaces). Use .reshape(...) instead.",
     "output_type": "error",
     "traceback": [
      "\u001b[0;31m---------------------------------------------------------------------------\u001b[0m",
      "\u001b[0;31mRuntimeError\u001b[0m                              Traceback (most recent call last)",
      "\u001b[0;32m<ipython-input-47-df3a872fe7c6>\u001b[0m in \u001b[0;36m<cell line: 1>\u001b[0;34m()\u001b[0m\n\u001b[0;32m----> 1\u001b[0;31m \u001b[0mprint\u001b[0m\u001b[0;34m(\u001b[0m\u001b[0mx\u001b[0m\u001b[0;34m.\u001b[0m\u001b[0mview\u001b[0m\u001b[0;34m(\u001b[0m\u001b[0;36m3\u001b[0m\u001b[0;34m,\u001b[0m\u001b[0;36m4\u001b[0m\u001b[0;34m)\u001b[0m\u001b[0;34m.\u001b[0m\u001b[0mtranspose\u001b[0m\u001b[0;34m(\u001b[0m\u001b[0;36m0\u001b[0m\u001b[0;34m,\u001b[0m\u001b[0;36m1\u001b[0m\u001b[0;34m)\u001b[0m\u001b[0;34m.\u001b[0m\u001b[0mview\u001b[0m\u001b[0;34m(\u001b[0m\u001b[0;36m12\u001b[0m\u001b[0;34m)\u001b[0m\u001b[0;34m)\u001b[0m\u001b[0;34m\u001b[0m\u001b[0;34m\u001b[0m\u001b[0m\n\u001b[0m",
      "\u001b[0;31mRuntimeError\u001b[0m: view size is not compatible with input tensor's size and stride (at least one dimension spans across two contiguous subspaces). Use .reshape(...) instead."
     ]
    }
   ],
   "source": [
    "print(x.view(3,4).transpose(0,1).view(12))"
   ]
  },
  {
   "cell_type": "markdown",
   "metadata": {
    "id": "pqtd-Kq0OquU"
   },
   "source": [
    "You should have run into `RuntimeError: view size is not compatible with input tensor's size and stride ...`.\n",
    "This error was thrown because the transpose messed with the contiguity of our data and `.view()` ensures that our data remains contiguous.\n",
    "If however, we want to enforce our change, we can call `.reshape()`.\n",
    "Go ahead and rerun the same line of code above, but this time replace `.view(12)` with `.reshape(12)`."
   ]
  },
  {
   "cell_type": "code",
   "execution_count": 48,
   "metadata": {
    "colab": {
     "base_uri": "https://localhost:8080/"
    },
    "id": "HKbhfWluOquU",
    "outputId": "d149f32d-0667-4853-f3f1-19b9f6cf62ab"
   },
   "outputs": [
    {
     "name": "stdout",
     "output_type": "stream",
     "text": [
      "tensor([ 0,  4,  8,  1,  5,  9,  2,  6, 10,  3,  7, 11])\n"
     ]
    }
   ],
   "source": [
    "print(x.view(3,4).transpose(0,1).reshape(12))"
   ]
  },
  {
   "cell_type": "markdown",
   "metadata": {
    "id": "5D5KFr-NOquU"
   },
   "source": [
    "`.view()` is faster than `.reshape()`, so you use `.reshape()` only when needed."
   ]
  },
  {
   "cell_type": "markdown",
   "metadata": {
    "id": "YXEamNTXOquV"
   },
   "source": [
    "### Broadcasting and Array Operations"
   ]
  },
  {
   "cell_type": "code",
   "execution_count": 49,
   "metadata": {
    "id": "TxuBiA4HOquV"
   },
   "outputs": [],
   "source": [
    "s = torch.tensor(1)\n",
    "v1 = torch.tensor([1])\n",
    "v2 = torch.tensor([1, 2])\n",
    "v3 = torch.tensor([1, 2, 3])\n",
    "A = torch.tensor([[1, 2],\n",
    "                  [3, 4]])\n",
    "B = torch.tensor([[1, 2, 3],\n",
    "                  [4, 5, 6]])"
   ]
  },
  {
   "cell_type": "markdown",
   "metadata": {
    "id": "wNZjR5CoOquV"
   },
   "source": [
    "Print out the shape of `s`"
   ]
  },
  {
   "cell_type": "code",
   "execution_count": 50,
   "metadata": {
    "colab": {
     "base_uri": "https://localhost:8080/"
    },
    "id": "Q06EhiAgOquV",
    "outputId": "fb580886-b56f-4f95-8143-e43af5863243"
   },
   "outputs": [
    {
     "data": {
      "text/plain": [
       "torch.Size([])"
      ]
     },
     "execution_count": 50,
     "metadata": {},
     "output_type": "execute_result"
    }
   ],
   "source": [
    "s.shape"
   ]
  },
  {
   "cell_type": "markdown",
   "metadata": {
    "id": "XABSu6xtOquV"
   },
   "source": [
    "The shape of `s` is `torch.Size([])` because it has no dimensions and is therefore a scalar and so in some cases it will operate different from `v1` which is a vector of size 1."
   ]
  },
  {
   "cell_type": "markdown",
   "metadata": {
    "id": "lYysRt9yOquW"
   },
   "source": [
    "### Broadcasting\n",
    "\n",
    "Broadcasting is how array libraries, such as PyTorch and NumPy, perform arithmetic operations on two arrays with different shapes.\n",
    "\n",
    "There are two main rules to remember:\n",
    "1. If one array has fewer dimensions than another, then we **prepend** (e.g. `unsqueeze(0)`) dimensions to the smaller array until both arrays have the same number of dimensions.\n",
    "    ```python\n",
    "    x.shape == (5, 4, 2)\n",
    "    y.shape == (2, )\n",
    "    # After Step 1\n",
    "    x.shape == (5, 4, 2)\n",
    "    y.shape == (1, 1, 2)\n",
    "    ```\n",
    "2. After Step 1, both arrays must have the same value at each dimension must or one of them must have a value of one. Whenever a dimension of 1 is matched to a dimension >1, it duplicates its data to match the size of the other.\n",
    "    ```python\n",
    "    # Example will Fail\n",
    "    x.shape == (1, 4, 2, 9)\n",
    "    y.shape == (1, 1, 5, 9)\n",
    "    Matches:   (T, T, F, T)\n",
    "\n",
    "    # Example will Pass\n",
    "    x.shape == (1, 4, 2, 9)\n",
    "    y.shape == (2, 4, 1, 9)\n",
    "    Matches:   (T, T, T, T)\n",
    "    ```\n",
    "\n",
    "You do not need to implement these rules, they are done automatically, but you need to know them when you are performing operations on two arrays."
   ]
  },
  {
   "cell_type": "markdown",
   "metadata": {
    "id": "4YbP1Ja9OquX"
   },
   "source": [
    "Example 1: Adding `A + s`\n",
    "\n",
    "Because `A.shape == (2, 2)` and `s.shape == ()` then Step 1 prepends 1 to `s` twice so that it has a shape of (1, 1). Then the value of `s` gets copied on the dimensions where it has a value of 1.\n",
    "\n",
    "<!-- $\\begin{aligned}\n",
    "A + s &= \\begin{bmatrix} 1 & 2 \\\\ 3 & 4 \\end{bmatrix} + 1 \\\\  \n",
    "\\textrm{After Step 1} \\\\\n",
    "    &= \\begin{bmatrix} 1 & 2 \\\\ 3 & 4 \\end{bmatrix} + \\begin{bmatrix} \\begin{bmatrix} 1 \\end{bmatrix} \\end{bmatrix} \\\\\n",
    "\\textrm{After Step 2} \\\\\n",
    "    &= \\begin{bmatrix} 1 & 2 \\\\ 3 & 4 \\end{bmatrix} + \\begin{bmatrix} 1 & 1 \\\\ 1 & 1 \\end{bmatrix} = \\begin{bmatrix} 2 & 3 \\\\ 4 & 5 \\end{bmatrix}\n",
    "\\end{aligned}$ -->\n",
    "\n",
    "$\\begin{aligned}\n",
    "A + s &= \\begin{array}{cc} [[1 & 2]\\; \\\\ \\;[3 & 4]] \\end{array} + 1 \\\\  \n",
    "\\textrm{After Step 1} \\\\\n",
    "    &= \\begin{array}{cc} [[1 & 2]\\; \\\\ \\;[3 & 4]] \\end{array} + \\begin{array}{c} [[1]] \\end{array} \\\\  \n",
    "\\textrm{After Step 2} \\\\\n",
    "    &= \\begin{array}{cc} [[1 & 2]\\; \\\\ \\;[3 & 4]] \\end{array} + \\begin{array}{c} [[1 & 1]\\; \\\\ \\;[1 & 1]] \\end{array} = \\begin{array}{cc} [[2 & 3]\\; \\\\ \\;[4 & 5]] \\end{array} \\\\  \n",
    "\\end{aligned}$\n",
    "\n",
    "Add `A + s` below and validate you get the correct answer."
   ]
  },
  {
   "cell_type": "code",
   "execution_count": 51,
   "metadata": {
    "colab": {
     "base_uri": "https://localhost:8080/"
    },
    "id": "LL1of2EzOquX",
    "outputId": "9971dfac-6581-4dba-a65c-78cb45b31d79"
   },
   "outputs": [
    {
     "data": {
      "text/plain": [
       "tensor([[2, 3],\n",
       "        [4, 5]])"
      ]
     },
     "execution_count": 51,
     "metadata": {},
     "output_type": "execute_result"
    }
   ],
   "source": [
    "A + s"
   ]
  },
  {
   "cell_type": "markdown",
   "metadata": {
    "id": "OMzL9MG-OquX"
   },
   "source": [
    "*Note, you can get the same result if you add by a float/integer, i.e. `A + 1`. PyTorch works well with floats and integers.*"
   ]
  },
  {
   "cell_type": "markdown",
   "metadata": {
    "id": "3_ezGsdeOquX"
   },
   "source": [
    "Example 2: Adding `B + v3`.\n",
    "\n",
    "Because `B.shape == (2, 3)` and `v3.shape == (3,)` then Step 1 prepends 1 to `v3` once so that it has a shape of (1, 3). Then the value of `v3` gets copied on the dimensions where it has a value of 1.\n",
    "\n",
    "$\\begin{aligned}\n",
    "B + v_3 &= \\begin{array}{ccc} [[1 & 2 & 3]\\; \\\\ \\;[4 & 5 & 6]] \\end{array} + \\begin{array}{ccc} [1 & 2 & 3] \\end{array} \\\\  \n",
    "\\textrm{After Step 1} \\\\\n",
    "    &= \\begin{array}{ccc} [[1 & 2 & 3]\\; \\\\ \\;[4 & 5 & 6]] \\end{array} + \\begin{array}{ccc} [[1 & 2 & 3]] \\end{array} \\\\  \n",
    "\\textrm{After Step 2} \\\\\n",
    "    &= \\begin{array}{ccc} [[1 & 2 & 3]\\; \\\\ \\;[4 & 5 & 6]] \\end{array} + \\begin{array}{ccc} [[1 & 2 & 3]\\; \\\\ \\;[1 & 2 & 3]] \\end{array} = \\begin{array}{ccc} [[2 & 4 & 6]\\; \\\\ \\;[5 & 7 & 9]] \\end{array} \\\\  \n",
    "\\end{aligned}$\n",
    "\n",
    "Add `B + v3` below and validate you get the correct answer."
   ]
  },
  {
   "cell_type": "code",
   "execution_count": 52,
   "metadata": {
    "colab": {
     "base_uri": "https://localhost:8080/"
    },
    "id": "rgcK8zzkOquY",
    "outputId": "e7eedf9d-1d48-414e-fad7-54adf8f781fc"
   },
   "outputs": [
    {
     "data": {
      "text/plain": [
       "tensor([[2, 4, 6],\n",
       "        [5, 7, 9]])"
      ]
     },
     "execution_count": 52,
     "metadata": {},
     "output_type": "execute_result"
    }
   ],
   "source": [
    "B + v3"
   ]
  },
  {
   "cell_type": "markdown",
   "metadata": {
    "id": "NCyeULhuOquY"
   },
   "source": [
    "Example 3: Adding `B + v2`\n",
    "\n",
    "We want to happen is for:\n",
    "\n",
    "$\\begin{aligned}\n",
    "B + v_2 &= \\begin{array}{ccc} [[1 & 2 & 3]\\; \\\\ \\;[4 & 5 & 6]] \\end{array} + \\begin{array}{cc} [1 & 2] \\end{array} \\\\  \n",
    "\\textrm{After Step 1} \\\\\n",
    "    &= \\begin{array}{ccc} [[1 & 2 & 3]\\; \\\\ \\;[4 & 5 & 6]] \\end{array} + \\begin{array}{c} [[1]\\; \\\\ \\;[2]] \\end{array} \\\\  \n",
    "\\textrm{After Step 2} \\\\\n",
    "    &= \\begin{array}{ccc} [[1 & 2 & 3]\\; \\\\ \\;[4 & 5 & 6]] \\end{array} + \\begin{array}{c} [[1 & 1 & 1]\\; \\\\ \\;[2 & 2 & 2]] \\end{array} = \\begin{array}{ccc} [[2 & 3 & 4]\\; \\\\ \\;[6 & 7 & 8]] \\end{array}\n",
    "\\end{aligned}$\n",
    "\n",
    "Try by first running `B + v2`"
   ]
  },
  {
   "cell_type": "code",
   "execution_count": 53,
   "metadata": {
    "colab": {
     "base_uri": "https://localhost:8080/",
     "height": 144
    },
    "id": "XPDrm-lYOquY",
    "outputId": "d7bd841b-2b73-4c86-af4a-0873a2c22806"
   },
   "outputs": [
    {
     "ename": "RuntimeError",
     "evalue": "The size of tensor a (3) must match the size of tensor b (2) at non-singleton dimension 1",
     "output_type": "error",
     "traceback": [
      "\u001b[0;31m---------------------------------------------------------------------------\u001b[0m",
      "\u001b[0;31mRuntimeError\u001b[0m                              Traceback (most recent call last)",
      "\u001b[0;32m<ipython-input-53-380b60dda218>\u001b[0m in \u001b[0;36m<cell line: 1>\u001b[0;34m()\u001b[0m\n\u001b[0;32m----> 1\u001b[0;31m \u001b[0mB\u001b[0m \u001b[0;34m+\u001b[0m \u001b[0mv2\u001b[0m\u001b[0;34m\u001b[0m\u001b[0;34m\u001b[0m\u001b[0m\n\u001b[0m",
      "\u001b[0;31mRuntimeError\u001b[0m: The size of tensor a (3) must match the size of tensor b (2) at non-singleton dimension 1"
     ]
    }
   ],
   "source": [
    "B + v2"
   ]
  },
  {
   "cell_type": "markdown",
   "metadata": {
    "id": "iabDzcLwOquY"
   },
   "source": [
    "This does not work.\n",
    "You should have run into the following error `RuntimeError: The size of tensor a (3) must match the size of tensor b (2) at non-singleton dimension 1.`\n",
    "\n",
    "Let's quickly parse this statement. `The size of tensor a`, i.e. `B`, `must match the size of tensor b`, i.e. `v2`, `at dimension 1`.\n",
    "`B.shape == (2, 3)` and `v2.shape == (2,)` and after Step 1 `v2.shape == (1, 2)`.\n",
    "Therefore, the value at `B`'s 1st dimension is `(3)` and the value at `v2`'s 1st dimension is `(2)`. Hence the error.\n",
    "\n",
    "We need to use an `.unsqueeze()` to fix the dimensions of `v2`. Fix the dimensions of `v2` below and validate you get the correct answer: $\\begin{array}{ccc} [[2 & 3 & 4]\\; \\\\ \\;[6 & 7 & 8]] \\end{array}$.\n"
   ]
  },
  {
   "cell_type": "code",
   "execution_count": 54,
   "metadata": {
    "colab": {
     "base_uri": "https://localhost:8080/"
    },
    "id": "jn4VahMbOquY",
    "outputId": "19668a6f-75a4-4748-b8e9-364a8679a3a3"
   },
   "outputs": [
    {
     "data": {
      "text/plain": [
       "tensor([[2, 3, 4],\n",
       "        [6, 7, 8]])"
      ]
     },
     "execution_count": 54,
     "metadata": {},
     "output_type": "execute_result"
    }
   ],
   "source": [
    "B + v2.unsqueeze(1)"
   ]
  },
  {
   "cell_type": "markdown",
   "metadata": {
    "id": "PQT7kSaWOquZ"
   },
   "source": [
    "### Multiplication Notation\n",
    "$A \\times x$ versus $Ax$\n",
    "\n",
    "When we use the notation $A \\times x$ we mean we are performing elementwise multiplication, and in Python it looks like `A * x`, but if we use notation $Ax$ we mean that we are performing matrix multiplication and in Python it looks like `A @ x`."
   ]
  },
  {
   "cell_type": "markdown",
   "metadata": {
    "id": "2_wRvZXaOquZ"
   },
   "source": [
    "### Broadcasting Quiz"
   ]
  },
  {
   "cell_type": "code",
   "execution_count": 55,
   "metadata": {
    "id": "6AiBkGtkOquZ"
   },
   "outputs": [],
   "source": [
    "a = torch.arange(2)\n",
    "b = torch.arange(4)"
   ]
  },
  {
   "cell_type": "markdown",
   "metadata": {
    "id": "y1gvO9idOquZ"
   },
   "source": [
    "Add `a` and `b` such that: $$\\begin{bmatrix} 0 \\\\ 1 \\end{bmatrix} + \\begin{bmatrix} 0 & 1 & 2 & 3 \\end{bmatrix} = \\begin{bmatrix}  0 & 1 & 2 & 3 \\\\ 1 & 2 & 3 & 4 \\end{bmatrix}$$"
   ]
  },
  {
   "cell_type": "code",
   "execution_count": 57,
   "metadata": {
    "id": "J-MZDqB3Oqua"
   },
   "outputs": [],
   "source": [
    "answer = a.unsqueeze(1) + b.unsqueeze(0)\n",
    "\n",
    "assert torch.equal(answer, torch.tensor([[0, 1 , 2, 3], [1, 2, 3, 4]]))"
   ]
  },
  {
   "cell_type": "markdown",
   "metadata": {
    "id": "s9h9VXLLOqua"
   },
   "source": [
    "Change `b` into a 2x2 matrix (use `.view()`) multiply with `a` along `b`'s column dimension. $$\\begin{bmatrix} 0 & 1 \\\\ 2 & 3 \\end{bmatrix} * \\begin{bmatrix} 0 & 1 \\end{bmatrix} = \\begin{bmatrix} 0 & 1 \\\\ 0 & 3 \\end{bmatrix}$$"
   ]
  },
  {
   "cell_type": "code",
   "execution_count": 61,
   "metadata": {
    "id": "S5UwpLA7Oqua"
   },
   "outputs": [],
   "source": [
    "answer  = b.view(2,2) * a\n",
    "\n",
    "assert torch.equal(answer, torch.tensor([[0, 1], [0, 3]]))"
   ]
  },
  {
   "cell_type": "markdown",
   "metadata": {
    "id": "Um_34FbKOqua"
   },
   "source": [
    "Change `b` into a 2x2 matrix (use `.view()`) multiply with `a` along `b`'s row dimension. $$\\begin{bmatrix} 0 & 1 \\\\ 2 & 3 \\end{bmatrix} * \\begin{bmatrix} 0 \\\\ 1 \\end{bmatrix} = \\begin{bmatrix} 0 & 0 \\\\ 2 & 3 \\end{bmatrix}$$"
   ]
  },
  {
   "cell_type": "code",
   "execution_count": 62,
   "metadata": {
    "id": "jr99bcDnOqua"
   },
   "outputs": [],
   "source": [
    "answer = b.view(2,2) * a.unsqueeze(1)\n",
    "\n",
    "assert torch.equal(answer, torch.tensor([[0, 0], [2, 3]]))"
   ]
  },
  {
   "cell_type": "markdown",
   "metadata": {
    "id": "9rQjWhvBOqua"
   },
   "source": [
    "Change `b` into a 2x2 matrix and matrix multiply `a` such that:  $$\\begin{bmatrix} 0 & 1 \\\\ 2 & 3 \\end{bmatrix} \\begin{bmatrix} 0 \\\\ 1 \\end{bmatrix} = \\begin{bmatrix} 1 \\\\ 3 \\end{bmatrix}$$"
   ]
  },
  {
   "cell_type": "code",
   "execution_count": 64,
   "metadata": {
    "id": "rfapMwiYOqua"
   },
   "outputs": [],
   "source": [
    "answer = b.view(2,2) @ a.unsqueeze(1)\n",
    "\n",
    "assert torch.equal(answer, torch.tensor([[1], [3]]))"
   ]
  },
  {
   "cell_type": "code",
   "execution_count": 65,
   "metadata": {
    "id": "id5lWBlAOqua"
   },
   "outputs": [],
   "source": [
    "c = torch.zeros((1, 2))\n",
    "d = torch.zeros(3)"
   ]
  },
  {
   "cell_type": "markdown",
   "metadata": {
    "id": "pvzBZBBmOqua"
   },
   "source": [
    "Add `c` and `d` such that the resulting shape is (1, 3, 2)."
   ]
  },
  {
   "cell_type": "code",
   "execution_count": 74,
   "metadata": {
    "id": "YsaJmHhuOqua"
   },
   "outputs": [],
   "source": [
    "answer = c.unsqueeze(0) + d.unsqueeze(0).unsqueeze(2)\n",
    "\n",
    "assert answer.shape == torch.Size([1, 3, 2])"
   ]
  },
  {
   "cell_type": "markdown",
   "metadata": {
    "id": "nLYejjkzOqub"
   },
   "source": [
    "---\n",
    "\n",
    "# Automatic Differentiation"
   ]
  },
  {
   "cell_type": "markdown",
   "metadata": {
    "id": "2OflsKQLOqub"
   },
   "source": [
    "PyTorch is a machine learning library that provides us with the ability to automatically differentiate (autodiff) functions. In this section we will explore how we can make use of PyTorch's autodiff functions.\n",
    "\n",
    "To help us understand a little more about how PyTorch performs autodiff, we are going to import the `make_dot()` function below"
   ]
  },
  {
   "cell_type": "code",
   "execution_count": 75,
   "metadata": {
    "colab": {
     "base_uri": "https://localhost:8080/"
    },
    "id": "mtZIZnxhOquc",
    "outputId": "aedeb72f-17a7-4b66-db31-2da14b9eddb2"
   },
   "outputs": [
    {
     "name": "stdout",
     "output_type": "stream",
     "text": [
      "Collecting torchviz\n",
      "  Downloading torchviz-0.0.2.tar.gz (4.9 kB)\n",
      "  Preparing metadata (setup.py) ... \u001b[?25l\u001b[?25hdone\n",
      "Requirement already satisfied: torch in /usr/local/lib/python3.10/dist-packages (from torchviz) (2.4.0+cu121)\n",
      "Requirement already satisfied: graphviz in /usr/local/lib/python3.10/dist-packages (from torchviz) (0.20.3)\n",
      "Requirement already satisfied: filelock in /usr/local/lib/python3.10/dist-packages (from torch->torchviz) (3.16.0)\n",
      "Requirement already satisfied: typing-extensions>=4.8.0 in /usr/local/lib/python3.10/dist-packages (from torch->torchviz) (4.12.2)\n",
      "Requirement already satisfied: sympy in /usr/local/lib/python3.10/dist-packages (from torch->torchviz) (1.13.2)\n",
      "Requirement already satisfied: networkx in /usr/local/lib/python3.10/dist-packages (from torch->torchviz) (3.3)\n",
      "Requirement already satisfied: jinja2 in /usr/local/lib/python3.10/dist-packages (from torch->torchviz) (3.1.4)\n",
      "Requirement already satisfied: fsspec in /usr/local/lib/python3.10/dist-packages (from torch->torchviz) (2024.6.1)\n",
      "Requirement already satisfied: MarkupSafe>=2.0 in /usr/local/lib/python3.10/dist-packages (from jinja2->torch->torchviz) (2.1.5)\n",
      "Requirement already satisfied: mpmath<1.4,>=1.1.0 in /usr/local/lib/python3.10/dist-packages (from sympy->torch->torchviz) (1.3.0)\n",
      "Building wheels for collected packages: torchviz\n",
      "  Building wheel for torchviz (setup.py) ... \u001b[?25l\u001b[?25hdone\n",
      "  Created wheel for torchviz: filename=torchviz-0.0.2-py3-none-any.whl size=4132 sha256=984003be38ca8d845f3494da07bcc0d902559e64350984da41f05ad4bef49161\n",
      "  Stored in directory: /root/.cache/pip/wheels/4c/97/88/a02973217949e0db0c9f4346d154085f4725f99c4f15a87094\n",
      "Successfully built torchviz\n",
      "Installing collected packages: torchviz\n",
      "Successfully installed torchviz-0.0.2\n"
     ]
    }
   ],
   "source": [
    "!pip install torchviz # `!` signifies a bash operation rather than Python\n",
    "from torchviz import make_dot"
   ]
  },
  {
   "cell_type": "markdown",
   "metadata": {
    "id": "hjbjg9omOquc"
   },
   "source": [
    "Let's make scalar tensor `x = torch.tensor(2)` to see how PyTorch works."
   ]
  },
  {
   "cell_type": "code",
   "execution_count": 77,
   "metadata": {
    "id": "CeWaetIbOquc"
   },
   "outputs": [],
   "source": [
    "x = torch.tensor(2)"
   ]
  },
  {
   "cell_type": "markdown",
   "metadata": {
    "id": "m9SHyEUtOquc"
   },
   "source": [
    "We have already talked about two important properties that a tensor has: `.shape` and `.dtype`.\n",
    "There are three more properties of a tensor we need to introduce: `.requires_grad`, `.grad`, and `.data`.\n",
    "Let's first look at whether `x` is using autograd by printing out `x.requires_grad` below."
   ]
  },
  {
   "cell_type": "code",
   "execution_count": 78,
   "metadata": {
    "colab": {
     "base_uri": "https://localhost:8080/"
    },
    "id": "ANbn1k5QOqud",
    "outputId": "ae7ddab3-e0ba-401d-f6e2-c0dfe9de9153"
   },
   "outputs": [
    {
     "name": "stdout",
     "output_type": "stream",
     "text": [
      "False\n"
     ]
    }
   ],
   "source": [
    "print(x.requires_grad)"
   ]
  },
  {
   "cell_type": "markdown",
   "metadata": {
    "id": "bFMR8WZlOqud"
   },
   "source": [
    "By default tensors have `x.requires_grad` set to `False`, which means we will never calculate `x`'s gradients. Let's change that by setting `x.requires_grad` to `True`."
   ]
  },
  {
   "cell_type": "code",
   "execution_count": 79,
   "metadata": {
    "colab": {
     "base_uri": "https://localhost:8080/",
     "height": 144
    },
    "id": "bx2jeA_LOqud",
    "outputId": "b381768a-e80d-41ee-f02a-e9aedafe5eea"
   },
   "outputs": [
    {
     "ename": "RuntimeError",
     "evalue": "only Tensors of floating point and complex dtype can require gradients",
     "output_type": "error",
     "traceback": [
      "\u001b[0;31m---------------------------------------------------------------------------\u001b[0m",
      "\u001b[0;31mRuntimeError\u001b[0m                              Traceback (most recent call last)",
      "\u001b[0;32m<ipython-input-79-8f837d4e47aa>\u001b[0m in \u001b[0;36m<cell line: 1>\u001b[0;34m()\u001b[0m\n\u001b[0;32m----> 1\u001b[0;31m \u001b[0mx\u001b[0m\u001b[0;34m.\u001b[0m\u001b[0mrequires_grad\u001b[0m \u001b[0;34m=\u001b[0m \u001b[0;32mTrue\u001b[0m\u001b[0;34m\u001b[0m\u001b[0;34m\u001b[0m\u001b[0m\n\u001b[0m",
      "\u001b[0;31mRuntimeError\u001b[0m: only Tensors of floating point and complex dtype can require gradients"
     ]
    }
   ],
   "source": [
    "x.requires_grad = True"
   ]
  },
  {
   "cell_type": "markdown",
   "metadata": {
    "id": "L4_TNPhZOqud"
   },
   "source": [
    "You should run into `RuntimeError: only Tensors of floating point and complex dtype can require gradients.`\n",
    "We need to make `x` into a `torch.float32` tensor.\n",
    "Go ahead and call the `.float()` function (remember to update `x` with the output of `.float()`) and then set `x.requires_grad` to `True`."
   ]
  },
  {
   "cell_type": "code",
   "execution_count": 81,
   "metadata": {
    "id": "8XMMaB_iOqud"
   },
   "outputs": [],
   "source": [
    "x = x.float()\n",
    "x.requires_grad = True\n",
    "assert x.requires_grad == True"
   ]
  },
  {
   "cell_type": "markdown",
   "metadata": {
    "id": "N_29hn0FOque"
   },
   "source": [
    "Now print out `x.grad`"
   ]
  },
  {
   "cell_type": "code",
   "execution_count": 82,
   "metadata": {
    "colab": {
     "base_uri": "https://localhost:8080/"
    },
    "id": "wUxuvcPhOque",
    "outputId": "742788af-3160-470a-cfe9-26e2d307adb7"
   },
   "outputs": [
    {
     "name": "stdout",
     "output_type": "stream",
     "text": [
      "None\n"
     ]
    }
   ],
   "source": [
    "print(x.grad)"
   ]
  },
  {
   "cell_type": "markdown",
   "metadata": {
    "id": "ADJg2DyoOque"
   },
   "source": [
    "`x` has no gradients right now because we haven't computed any derivatives.\n",
    "Let's fix that, create a simple function $y = 3x$, i.e. `y = 3*x`, and print out the value of `y`."
   ]
  },
  {
   "cell_type": "code",
   "execution_count": 83,
   "metadata": {
    "colab": {
     "base_uri": "https://localhost:8080/"
    },
    "id": "m3V5-IcpOque",
    "outputId": "94055456-bcab-4fbd-e2e1-4aea77fb820b"
   },
   "outputs": [
    {
     "name": "stdout",
     "output_type": "stream",
     "text": [
      "tensor(6., grad_fn=<MulBackward0>)\n"
     ]
    }
   ],
   "source": [
    "y = 3*x\n",
    "print(y)"
   ]
  },
  {
   "cell_type": "markdown",
   "metadata": {
    "id": "V9Q6au3dOque"
   },
   "source": [
    "Because $x = 2$ the output of $y = 3(2) = 6$.\n",
    "More than that though, there is a `grad_fn=<MulBackward0>` attached to our tensor.\n",
    "This gradient function is part of a computation graph, which is the history of operations that were necessary to compute `y`.\n",
    "PyTorch utilizes this computation graph to know how to compute the gradients of all tensors involved in making `y`."
   ]
  },
  {
   "cell_type": "markdown",
   "metadata": {
    "id": "k15Zqf4BOque"
   },
   "source": [
    "To visualize this computation graph, let's use the `make_dot()` function."
   ]
  },
  {
   "cell_type": "code",
   "execution_count": 84,
   "metadata": {
    "colab": {
     "base_uri": "https://localhost:8080/",
     "height": 306
    },
    "id": "8WXaj5jsOquf",
    "outputId": "3402a85e-8eea-4310-f85e-37608f7ef940"
   },
   "outputs": [
    {
     "data": {
      "image/svg+xml": [
       "<?xml version=\"1.0\" encoding=\"UTF-8\" standalone=\"no\"?>\n",
       "<!DOCTYPE svg PUBLIC \"-//W3C//DTD SVG 1.1//EN\"\n",
       " \"http://www.w3.org/Graphics/SVG/1.1/DTD/svg11.dtd\">\n",
       "<!-- Generated by graphviz version 2.43.0 (0)\n",
       " -->\n",
       "<!-- Title: %3 Pages: 1 -->\n",
       "<svg width=\"109pt\" height=\"214pt\"\n",
       " viewBox=\"0.00 0.00 109.00 214.00\" xmlns=\"http://www.w3.org/2000/svg\" xmlns:xlink=\"http://www.w3.org/1999/xlink\">\n",
       "<g id=\"graph0\" class=\"graph\" transform=\"scale(1 1) rotate(0) translate(4 210)\">\n",
       "<title>%3</title>\n",
       "<polygon fill=\"white\" stroke=\"transparent\" points=\"-4,4 -4,-210 105,-210 105,4 -4,4\"/>\n",
       "<!-- 138456011629376 -->\n",
       "<g id=\"node1\" class=\"node\">\n",
       "<title>138456011629376</title>\n",
       "<polygon fill=\"#caff70\" stroke=\"black\" points=\"77.5,-30 23.5,-30 23.5,0 77.5,0 77.5,-30\"/>\n",
       "<text text-anchor=\"middle\" x=\"50.5\" y=\"-18\" font-family=\"monospace\" font-size=\"10.00\">y</text>\n",
       "<text text-anchor=\"middle\" x=\"50.5\" y=\"-7\" font-family=\"monospace\" font-size=\"10.00\"> ()</text>\n",
       "</g>\n",
       "<!-- 138455844141232 -->\n",
       "<g id=\"node2\" class=\"node\">\n",
       "<title>138455844141232</title>\n",
       "<polygon fill=\"lightgrey\" stroke=\"black\" points=\"95,-85 6,-85 6,-66 95,-66 95,-85\"/>\n",
       "<text text-anchor=\"middle\" x=\"50.5\" y=\"-73\" font-family=\"monospace\" font-size=\"10.00\">MulBackward0</text>\n",
       "</g>\n",
       "<!-- 138455844141232&#45;&gt;138456011629376 -->\n",
       "<g id=\"edge3\" class=\"edge\">\n",
       "<title>138455844141232&#45;&gt;138456011629376</title>\n",
       "<path fill=\"none\" stroke=\"black\" d=\"M50.5,-65.87C50.5,-59.11 50.5,-49.35 50.5,-40.26\"/>\n",
       "<polygon fill=\"black\" stroke=\"black\" points=\"54,-40.11 50.5,-30.11 47,-40.11 54,-40.11\"/>\n",
       "</g>\n",
       "<!-- 138455844142528 -->\n",
       "<g id=\"node3\" class=\"node\">\n",
       "<title>138455844142528</title>\n",
       "<polygon fill=\"lightgrey\" stroke=\"black\" points=\"101,-140 0,-140 0,-121 101,-121 101,-140\"/>\n",
       "<text text-anchor=\"middle\" x=\"50.5\" y=\"-128\" font-family=\"monospace\" font-size=\"10.00\">AccumulateGrad</text>\n",
       "</g>\n",
       "<!-- 138455844142528&#45;&gt;138455844141232 -->\n",
       "<g id=\"edge1\" class=\"edge\">\n",
       "<title>138455844142528&#45;&gt;138455844141232</title>\n",
       "<path fill=\"none\" stroke=\"black\" d=\"M50.5,-120.75C50.5,-113.8 50.5,-103.85 50.5,-95.13\"/>\n",
       "<polygon fill=\"black\" stroke=\"black\" points=\"54,-95.09 50.5,-85.09 47,-95.09 54,-95.09\"/>\n",
       "</g>\n",
       "<!-- 138456009589360 -->\n",
       "<g id=\"node4\" class=\"node\">\n",
       "<title>138456009589360</title>\n",
       "<polygon fill=\"lightblue\" stroke=\"black\" points=\"77.5,-206 23.5,-206 23.5,-176 77.5,-176 77.5,-206\"/>\n",
       "<text text-anchor=\"middle\" x=\"50.5\" y=\"-194\" font-family=\"monospace\" font-size=\"10.00\">x</text>\n",
       "<text text-anchor=\"middle\" x=\"50.5\" y=\"-183\" font-family=\"monospace\" font-size=\"10.00\"> ()</text>\n",
       "</g>\n",
       "<!-- 138456009589360&#45;&gt;138455844142528 -->\n",
       "<g id=\"edge2\" class=\"edge\">\n",
       "<title>138456009589360&#45;&gt;138455844142528</title>\n",
       "<path fill=\"none\" stroke=\"black\" d=\"M50.5,-175.84C50.5,-168.21 50.5,-158.7 50.5,-150.45\"/>\n",
       "<polygon fill=\"black\" stroke=\"black\" points=\"54,-150.27 50.5,-140.27 47,-150.27 54,-150.27\"/>\n",
       "</g>\n",
       "</g>\n",
       "</svg>\n"
      ],
      "text/plain": [
       "<graphviz.graphs.Digraph at 0x7decc36836a0>"
      ]
     },
     "execution_count": 84,
     "metadata": {},
     "output_type": "execute_result"
    }
   ],
   "source": [
    "make_dot(y, params={\"x\": x, \"y\": y})"
   ]
  },
  {
   "cell_type": "markdown",
   "metadata": {
    "id": "FyHEL0puOquf"
   },
   "source": [
    "Our computation graph starts with `x` fed into `AccumulatedGrad` (which we will discuss later), that is fed into `MulBackward0` which was the `grad_fn` attached to tensor `y`.\n",
    "`x` and `y` both have `()` underneath them specifying the shape of the tensors."
   ]
  },
  {
   "cell_type": "markdown",
   "metadata": {
    "id": "62mxG-xqOquf"
   },
   "source": [
    "Let's calculate the derivative of our function by calling `y.backward()`"
   ]
  },
  {
   "cell_type": "code",
   "execution_count": 85,
   "metadata": {
    "id": "-nZKw9j-Oquf"
   },
   "outputs": [],
   "source": [
    "y.backward()"
   ]
  },
  {
   "cell_type": "markdown",
   "metadata": {
    "id": "dYusyP1OOqug"
   },
   "source": [
    "We know that the derivative of our function $\\frac{dy}{dx} = \\frac{d}{dx} 3x = 3$. Print out `x.grad` to validate that PyTorch is working correctly."
   ]
  },
  {
   "cell_type": "code",
   "execution_count": 86,
   "metadata": {
    "colab": {
     "base_uri": "https://localhost:8080/"
    },
    "id": "6m5JUIvtOquh",
    "outputId": "57dc3484-941b-47e5-a9a9-959d1f3cf124"
   },
   "outputs": [
    {
     "name": "stdout",
     "output_type": "stream",
     "text": [
      "tensor(3.)\n"
     ]
    }
   ],
   "source": [
    "print(x.grad)"
   ]
  },
  {
   "cell_type": "markdown",
   "metadata": {
    "id": "t_vModmQOquh"
   },
   "source": [
    "What happens if we call `y.backward()` again?"
   ]
  },
  {
   "cell_type": "code",
   "execution_count": 87,
   "metadata": {
    "colab": {
     "base_uri": "https://localhost:8080/",
     "height": 347
    },
    "id": "d5GqqRi8Oqui",
    "outputId": "c16bf837-db45-4120-a830-6fbc9dfb62cd"
   },
   "outputs": [
    {
     "ename": "RuntimeError",
     "evalue": "Trying to backward through the graph a second time (or directly access saved tensors after they have already been freed). Saved intermediate values of the graph are freed when you call .backward() or autograd.grad(). Specify retain_graph=True if you need to backward through the graph a second time or if you need to access saved tensors after calling backward.",
     "output_type": "error",
     "traceback": [
      "\u001b[0;31m---------------------------------------------------------------------------\u001b[0m",
      "\u001b[0;31mRuntimeError\u001b[0m                              Traceback (most recent call last)",
      "\u001b[0;32m<ipython-input-87-d62d7ff0bcfa>\u001b[0m in \u001b[0;36m<cell line: 2>\u001b[0;34m()\u001b[0m\n\u001b[1;32m      1\u001b[0m \u001b[0;31m# call y.backward() again\u001b[0m\u001b[0;34m\u001b[0m\u001b[0;34m\u001b[0m\u001b[0m\n\u001b[0;32m----> 2\u001b[0;31m \u001b[0my\u001b[0m\u001b[0;34m.\u001b[0m\u001b[0mbackward\u001b[0m\u001b[0;34m(\u001b[0m\u001b[0;34m)\u001b[0m\u001b[0;34m\u001b[0m\u001b[0;34m\u001b[0m\u001b[0m\n\u001b[0m",
      "\u001b[0;32m/usr/local/lib/python3.10/dist-packages/torch/_tensor.py\u001b[0m in \u001b[0;36mbackward\u001b[0;34m(self, gradient, retain_graph, create_graph, inputs)\u001b[0m\n\u001b[1;32m    519\u001b[0m                 \u001b[0minputs\u001b[0m\u001b[0;34m=\u001b[0m\u001b[0minputs\u001b[0m\u001b[0;34m,\u001b[0m\u001b[0;34m\u001b[0m\u001b[0;34m\u001b[0m\u001b[0m\n\u001b[1;32m    520\u001b[0m             )\n\u001b[0;32m--> 521\u001b[0;31m         torch.autograd.backward(\n\u001b[0m\u001b[1;32m    522\u001b[0m             \u001b[0mself\u001b[0m\u001b[0;34m,\u001b[0m \u001b[0mgradient\u001b[0m\u001b[0;34m,\u001b[0m \u001b[0mretain_graph\u001b[0m\u001b[0;34m,\u001b[0m \u001b[0mcreate_graph\u001b[0m\u001b[0;34m,\u001b[0m \u001b[0minputs\u001b[0m\u001b[0;34m=\u001b[0m\u001b[0minputs\u001b[0m\u001b[0;34m\u001b[0m\u001b[0;34m\u001b[0m\u001b[0m\n\u001b[1;32m    523\u001b[0m         )\n",
      "\u001b[0;32m/usr/local/lib/python3.10/dist-packages/torch/autograd/__init__.py\u001b[0m in \u001b[0;36mbackward\u001b[0;34m(tensors, grad_tensors, retain_graph, create_graph, grad_variables, inputs)\u001b[0m\n\u001b[1;32m    287\u001b[0m     \u001b[0;31m# some Python versions print out the first line of a multi-line function\u001b[0m\u001b[0;34m\u001b[0m\u001b[0;34m\u001b[0m\u001b[0m\n\u001b[1;32m    288\u001b[0m     \u001b[0;31m# calls in the traceback and some print out the last line\u001b[0m\u001b[0;34m\u001b[0m\u001b[0;34m\u001b[0m\u001b[0m\n\u001b[0;32m--> 289\u001b[0;31m     _engine_run_backward(\n\u001b[0m\u001b[1;32m    290\u001b[0m         \u001b[0mtensors\u001b[0m\u001b[0;34m,\u001b[0m\u001b[0;34m\u001b[0m\u001b[0;34m\u001b[0m\u001b[0m\n\u001b[1;32m    291\u001b[0m         \u001b[0mgrad_tensors_\u001b[0m\u001b[0;34m,\u001b[0m\u001b[0;34m\u001b[0m\u001b[0;34m\u001b[0m\u001b[0m\n",
      "\u001b[0;32m/usr/local/lib/python3.10/dist-packages/torch/autograd/graph.py\u001b[0m in \u001b[0;36m_engine_run_backward\u001b[0;34m(t_outputs, *args, **kwargs)\u001b[0m\n\u001b[1;32m    766\u001b[0m         \u001b[0munregister_hooks\u001b[0m \u001b[0;34m=\u001b[0m \u001b[0m_register_logging_hooks_on_whole_graph\u001b[0m\u001b[0;34m(\u001b[0m\u001b[0mt_outputs\u001b[0m\u001b[0;34m)\u001b[0m\u001b[0;34m\u001b[0m\u001b[0;34m\u001b[0m\u001b[0m\n\u001b[1;32m    767\u001b[0m     \u001b[0;32mtry\u001b[0m\u001b[0;34m:\u001b[0m\u001b[0;34m\u001b[0m\u001b[0;34m\u001b[0m\u001b[0m\n\u001b[0;32m--> 768\u001b[0;31m         return Variable._execution_engine.run_backward(  # Calls into the C++ engine to run the backward pass\n\u001b[0m\u001b[1;32m    769\u001b[0m             \u001b[0mt_outputs\u001b[0m\u001b[0;34m,\u001b[0m \u001b[0;34m*\u001b[0m\u001b[0margs\u001b[0m\u001b[0;34m,\u001b[0m \u001b[0;34m**\u001b[0m\u001b[0mkwargs\u001b[0m\u001b[0;34m\u001b[0m\u001b[0;34m\u001b[0m\u001b[0m\n\u001b[1;32m    770\u001b[0m         )  # Calls into the C++ engine to run the backward pass\n",
      "\u001b[0;31mRuntimeError\u001b[0m: Trying to backward through the graph a second time (or directly access saved tensors after they have already been freed). Saved intermediate values of the graph are freed when you call .backward() or autograd.grad(). Specify retain_graph=True if you need to backward through the graph a second time or if you need to access saved tensors after calling backward."
     ]
    }
   ],
   "source": [
    "# call y.backward() again\n",
    "y.backward()"
   ]
  },
  {
   "cell_type": "markdown",
   "metadata": {
    "id": "8aZIebkoOqui"
   },
   "source": [
    "You should run into a `RuntimeError: Trying to backward through the graph a second time ...` because PyTorch frees up certain resources required to compute gradients once `.backward()` is called.\n",
    "You can call `y.backward()` multiple times if you always specify `y.backward(retain_graph=True)`, but you should never do that in this class.\n",
    "If you run into this error hereafter, you most likely made a mistake."
   ]
  },
  {
   "cell_type": "markdown",
   "metadata": {
    "id": "MfPtCAKDOquj"
   },
   "source": [
    "Let's compute the derivative of $y = 3x$ again.\n",
    "This time compute `y = 3*x` first and then call `y.backward()`"
   ]
  },
  {
   "cell_type": "code",
   "execution_count": 88,
   "metadata": {
    "id": "5VJoC2atOquj"
   },
   "outputs": [],
   "source": [
    "y = 3*x\n",
    "y.backward()"
   ]
  },
  {
   "cell_type": "markdown",
   "metadata": {
    "id": "GuIZWe0LOquj"
   },
   "source": [
    "Now print out `x.grad`"
   ]
  },
  {
   "cell_type": "code",
   "execution_count": 89,
   "metadata": {
    "colab": {
     "base_uri": "https://localhost:8080/"
    },
    "id": "AaLApCvAOquj",
    "outputId": "fd124059-6148-496d-f932-90543ddcd7b1"
   },
   "outputs": [
    {
     "name": "stdout",
     "output_type": "stream",
     "text": [
      "tensor(6.)\n"
     ]
    }
   ],
   "source": [
    "print(x.grad)"
   ]
  },
  {
   "cell_type": "markdown",
   "metadata": {
    "id": "f4mMJAs_Oquk"
   },
   "source": [
    "**6?** Wasn't the derivative of $3x$ equal to 3? This occurred because PyTorch accumulates the gradients every time you call `.backward()`. Because `x.grad` was previously 3 and this new gradient is 3, then `x.grad` is now equal to 6.\n",
    "This is what `AccumulatedGrad` meant on the computation graph.\n",
    "To avoid your gradients from accumulating set `x.grad = None` (we call this zeroing out the gradients)."
   ]
  },
  {
   "cell_type": "code",
   "execution_count": 91,
   "metadata": {
    "id": "cjq_hMW_Oquk"
   },
   "outputs": [],
   "source": [
    "x.grad = None"
   ]
  },
  {
   "cell_type": "markdown",
   "metadata": {
    "id": "x4v-1jmUOquk"
   },
   "source": [
    "Now set `y = 3*x`, call `y.backward()`, and print out `x.grad` and validate that it equals 3."
   ]
  },
  {
   "cell_type": "code",
   "execution_count": 92,
   "metadata": {
    "colab": {
     "base_uri": "https://localhost:8080/"
    },
    "id": "jArU10_COquk",
    "outputId": "52871bd9-8a14-4cc0-8a16-a48dbbc7ad37"
   },
   "outputs": [
    {
     "name": "stdout",
     "output_type": "stream",
     "text": [
      "tensor(3.)\n"
     ]
    }
   ],
   "source": [
    "y = 3*x\n",
    "y.backward()\n",
    "print(x.grad)"
   ]
  },
  {
   "cell_type": "markdown",
   "metadata": {
    "id": "Z2ZsLY0VOqul"
   },
   "source": [
    "What about $x^2$? Set $y = x^2$, i.e. `y = x**2` and print out `y`."
   ]
  },
  {
   "cell_type": "code",
   "execution_count": 93,
   "metadata": {
    "colab": {
     "base_uri": "https://localhost:8080/"
    },
    "id": "mFnct0ITOqul",
    "outputId": "744e1993-4c18-4aaa-e52a-f3bd57b1468d"
   },
   "outputs": [
    {
     "name": "stdout",
     "output_type": "stream",
     "text": [
      "tensor(4., grad_fn=<PowBackward0>)\n"
     ]
    }
   ],
   "source": [
    "y = x**2\n",
    "print(y)"
   ]
  },
  {
   "cell_type": "markdown",
   "metadata": {
    "id": "VQgyQnz0Oqul"
   },
   "source": [
    "Because `x = 2` the output of $y = (2)^2 = 4$ and as before we have a `grad_fn=<PowBackward0>` attached to our tensor.\n",
    "\n",
    "Now let's visualize the computation graph."
   ]
  },
  {
   "cell_type": "code",
   "execution_count": 94,
   "metadata": {
    "colab": {
     "base_uri": "https://localhost:8080/",
     "height": 350
    },
    "id": "vfjybVclOqul",
    "outputId": "ee458d68-48f7-49da-c319-737f139e3232"
   },
   "outputs": [
    {
     "data": {
      "image/svg+xml": [
       "<?xml version=\"1.0\" encoding=\"UTF-8\" standalone=\"no\"?>\n",
       "<!DOCTYPE svg PUBLIC \"-//W3C//DTD SVG 1.1//EN\"\n",
       " \"http://www.w3.org/Graphics/SVG/1.1/DTD/svg11.dtd\">\n",
       "<!-- Generated by graphviz version 2.43.0 (0)\n",
       " -->\n",
       "<!-- Title: %3 Pages: 1 -->\n",
       "<svg width=\"169pt\" height=\"247pt\"\n",
       " viewBox=\"0.00 0.00 169.00 247.00\" xmlns=\"http://www.w3.org/2000/svg\" xmlns:xlink=\"http://www.w3.org/1999/xlink\">\n",
       "<g id=\"graph0\" class=\"graph\" transform=\"scale(1 1) rotate(0) translate(4 243)\">\n",
       "<title>%3</title>\n",
       "<polygon fill=\"white\" stroke=\"transparent\" points=\"-4,4 -4,-243 165,-243 165,4 -4,4\"/>\n",
       "<!-- 138455844499792 -->\n",
       "<g id=\"node1\" class=\"node\">\n",
       "<title>138455844499792</title>\n",
       "<polygon fill=\"#caff70\" stroke=\"black\" points=\"107.5,-30 53.5,-30 53.5,0 107.5,0 107.5,-30\"/>\n",
       "<text text-anchor=\"middle\" x=\"80.5\" y=\"-18\" font-family=\"monospace\" font-size=\"10.00\">y</text>\n",
       "<text text-anchor=\"middle\" x=\"80.5\" y=\"-7\" font-family=\"monospace\" font-size=\"10.00\"> ()</text>\n",
       "</g>\n",
       "<!-- 138455844140848 -->\n",
       "<g id=\"node2\" class=\"node\">\n",
       "<title>138455844140848</title>\n",
       "<polygon fill=\"lightgrey\" stroke=\"black\" points=\"161,-118 0,-118 0,-66 161,-66 161,-118\"/>\n",
       "<text text-anchor=\"middle\" x=\"80.5\" y=\"-106\" font-family=\"monospace\" font-size=\"10.00\">PowBackward0</text>\n",
       "<text text-anchor=\"middle\" x=\"80.5\" y=\"-95\" font-family=\"monospace\" font-size=\"10.00\">&#45;&#45;&#45;&#45;&#45;&#45;&#45;&#45;&#45;&#45;&#45;&#45;&#45;&#45;&#45;&#45;&#45;&#45;&#45;&#45;&#45;&#45;&#45;&#45;</text>\n",
       "<text text-anchor=\"middle\" x=\"80.5\" y=\"-84\" font-family=\"monospace\" font-size=\"10.00\">exponent: &#160;&#160;&#160;&#160;&#160;&#160;&#160;&#160;&#160;&#160;&#160;&#160;&#160;2</text>\n",
       "<text text-anchor=\"middle\" x=\"80.5\" y=\"-73\" font-family=\"monospace\" font-size=\"10.00\">self &#160;&#160;&#160;: [saved tensor]</text>\n",
       "</g>\n",
       "<!-- 138455844140848&#45;&gt;138455844499792 -->\n",
       "<g id=\"edge3\" class=\"edge\">\n",
       "<title>138455844140848&#45;&gt;138455844499792</title>\n",
       "<path fill=\"none\" stroke=\"black\" d=\"M80.5,-65.61C80.5,-57.54 80.5,-48.64 80.5,-40.63\"/>\n",
       "<polygon fill=\"black\" stroke=\"black\" points=\"84,-40.43 80.5,-30.43 77,-40.43 84,-40.43\"/>\n",
       "</g>\n",
       "<!-- 138456026011136 -->\n",
       "<g id=\"node3\" class=\"node\">\n",
       "<title>138456026011136</title>\n",
       "<polygon fill=\"lightgrey\" stroke=\"black\" points=\"131,-173 30,-173 30,-154 131,-154 131,-173\"/>\n",
       "<text text-anchor=\"middle\" x=\"80.5\" y=\"-161\" font-family=\"monospace\" font-size=\"10.00\">AccumulateGrad</text>\n",
       "</g>\n",
       "<!-- 138456026011136&#45;&gt;138455844140848 -->\n",
       "<g id=\"edge1\" class=\"edge\">\n",
       "<title>138456026011136&#45;&gt;138455844140848</title>\n",
       "<path fill=\"none\" stroke=\"black\" d=\"M80.5,-153.98C80.5,-147.43 80.5,-137.91 80.5,-128.33\"/>\n",
       "<polygon fill=\"black\" stroke=\"black\" points=\"84,-128.05 80.5,-118.05 77,-128.05 84,-128.05\"/>\n",
       "</g>\n",
       "<!-- 138456009589360 -->\n",
       "<g id=\"node4\" class=\"node\">\n",
       "<title>138456009589360</title>\n",
       "<polygon fill=\"lightblue\" stroke=\"black\" points=\"107.5,-239 53.5,-239 53.5,-209 107.5,-209 107.5,-239\"/>\n",
       "<text text-anchor=\"middle\" x=\"80.5\" y=\"-227\" font-family=\"monospace\" font-size=\"10.00\">x</text>\n",
       "<text text-anchor=\"middle\" x=\"80.5\" y=\"-216\" font-family=\"monospace\" font-size=\"10.00\"> ()</text>\n",
       "</g>\n",
       "<!-- 138456009589360&#45;&gt;138456026011136 -->\n",
       "<g id=\"edge2\" class=\"edge\">\n",
       "<title>138456009589360&#45;&gt;138456026011136</title>\n",
       "<path fill=\"none\" stroke=\"black\" d=\"M80.5,-208.84C80.5,-201.21 80.5,-191.7 80.5,-183.45\"/>\n",
       "<polygon fill=\"black\" stroke=\"black\" points=\"84,-183.27 80.5,-173.27 77,-183.27 84,-183.27\"/>\n",
       "</g>\n",
       "</g>\n",
       "</svg>\n"
      ],
      "text/plain": [
       "<graphviz.graphs.Digraph at 0x7decc3683dc0>"
      ]
     },
     "execution_count": 94,
     "metadata": {},
     "output_type": "execute_result"
    }
   ],
   "source": [
    "make_dot(y, params={\"y\": y, \"x\": x}, show_attrs=True)"
   ]
  },
  {
   "cell_type": "markdown",
   "metadata": {
    "id": "VFyy3fWiOqum"
   },
   "source": [
    "We specified `show_attrs=True` this time and we see in `PowBackward0` the exponent that was used stored in the computation graph.\n",
    "\n",
    "Let's calculate the derivative of of our function by calling `y.backward()` and don't forget to zero out your gradient first, i.e. `x.grad = None`."
   ]
  },
  {
   "cell_type": "code",
   "execution_count": 95,
   "metadata": {
    "id": "pCbQA0v7Oqum"
   },
   "outputs": [],
   "source": [
    "x.grad = None\n",
    "y.backward()"
   ]
  },
  {
   "cell_type": "markdown",
   "metadata": {
    "id": "HdllcOLFOqum"
   },
   "source": [
    "We know that the derivative of our function $\\frac{dy}{dx} = \\frac{d}{dx} x^2 = 2x = 2(2) = 4$, print out `x.grad` to validate."
   ]
  },
  {
   "cell_type": "code",
   "execution_count": 96,
   "metadata": {
    "colab": {
     "base_uri": "https://localhost:8080/"
    },
    "id": "ssbw-m_yOqum",
    "outputId": "363bad86-3e36-42e3-a235-c1347e7c88d7"
   },
   "outputs": [
    {
     "name": "stdout",
     "output_type": "stream",
     "text": [
      "tensor(4.)\n"
     ]
    }
   ],
   "source": [
    "print(x.grad)"
   ]
  },
  {
   "cell_type": "markdown",
   "metadata": {
    "id": "fMpRkApcOqum"
   },
   "source": [
    "Now let's calculate a multivariable derivative $a^2 (x+1)^2$.\n",
    "\n",
    "Create a scalar tensor `a` with a value of 2 and a scalar tensor `x` with a value of 3.\n",
    "Make sure both have `.requires_grad` set to `True`."
   ]
  },
  {
   "cell_type": "code",
   "execution_count": 97,
   "metadata": {
    "id": "BQeX6yDxOqum"
   },
   "outputs": [],
   "source": [
    "a = torch.tensor(2, requires_grad=True, dtype=torch.float32)\n",
    "x = torch.tensor(3, requires_grad=True, dtype=torch.float32)"
   ]
  },
  {
   "cell_type": "markdown",
   "metadata": {
    "id": "LHt24ZOUOqun"
   },
   "source": [
    "Now set $y = a^2(x+1)^2$ and print out `y`. Validate that $y = a^2(x+1)^2 = (2)^2 * ((3) + 1)^2 = 4 * 4^2 = 64$."
   ]
  },
  {
   "cell_type": "code",
   "execution_count": 98,
   "metadata": {
    "colab": {
     "base_uri": "https://localhost:8080/"
    },
    "id": "TpiYuTO6Oqun",
    "outputId": "4480268a-af0d-4b9f-9374-608b9c561160"
   },
   "outputs": [
    {
     "name": "stdout",
     "output_type": "stream",
     "text": [
      "tensor(64., grad_fn=<MulBackward0>)\n"
     ]
    }
   ],
   "source": [
    "y = a**2 * (x+1)**2\n",
    "print(y)"
   ]
  },
  {
   "cell_type": "markdown",
   "metadata": {
    "id": "fTXm2v0AOqun"
   },
   "source": [
    "Now let's look at the computation graph."
   ]
  },
  {
   "cell_type": "code",
   "execution_count": 99,
   "metadata": {
    "colab": {
     "base_uri": "https://localhost:8080/",
     "height": 468
    },
    "id": "7s_5hXbDOqun",
    "outputId": "af43e002-fec3-4457-a7b4-8c4e0cf93396"
   },
   "outputs": [
    {
     "data": {
      "image/svg+xml": [
       "<?xml version=\"1.0\" encoding=\"UTF-8\" standalone=\"no\"?>\n",
       "<!DOCTYPE svg PUBLIC \"-//W3C//DTD SVG 1.1//EN\"\n",
       " \"http://www.w3.org/Graphics/SVG/1.1/DTD/svg11.dtd\">\n",
       "<!-- Generated by graphviz version 2.43.0 (0)\n",
       " -->\n",
       "<!-- Title: %3 Pages: 1 -->\n",
       "<svg width=\"222pt\" height=\"335pt\"\n",
       " viewBox=\"0.00 0.00 222.00 335.00\" xmlns=\"http://www.w3.org/2000/svg\" xmlns:xlink=\"http://www.w3.org/1999/xlink\">\n",
       "<g id=\"graph0\" class=\"graph\" transform=\"scale(1 1) rotate(0) translate(4 331)\">\n",
       "<title>%3</title>\n",
       "<polygon fill=\"white\" stroke=\"transparent\" points=\"-4,4 -4,-331 218,-331 218,4 -4,4\"/>\n",
       "<!-- 138455844498832 -->\n",
       "<g id=\"node1\" class=\"node\">\n",
       "<title>138455844498832</title>\n",
       "<polygon fill=\"#caff70\" stroke=\"black\" points=\"133.5,-30 79.5,-30 79.5,0 133.5,0 133.5,-30\"/>\n",
       "<text text-anchor=\"middle\" x=\"106.5\" y=\"-18\" font-family=\"monospace\" font-size=\"10.00\">y</text>\n",
       "<text text-anchor=\"middle\" x=\"106.5\" y=\"-7\" font-family=\"monospace\" font-size=\"10.00\"> ()</text>\n",
       "</g>\n",
       "<!-- 138455844139168 -->\n",
       "<g id=\"node2\" class=\"node\">\n",
       "<title>138455844139168</title>\n",
       "<polygon fill=\"lightgrey\" stroke=\"black\" points=\"151,-85 62,-85 62,-66 151,-66 151,-85\"/>\n",
       "<text text-anchor=\"middle\" x=\"106.5\" y=\"-73\" font-family=\"monospace\" font-size=\"10.00\">MulBackward0</text>\n",
       "</g>\n",
       "<!-- 138455844139168&#45;&gt;138455844498832 -->\n",
       "<g id=\"edge8\" class=\"edge\">\n",
       "<title>138455844139168&#45;&gt;138455844498832</title>\n",
       "<path fill=\"none\" stroke=\"black\" d=\"M106.5,-65.87C106.5,-59.11 106.5,-49.35 106.5,-40.26\"/>\n",
       "<polygon fill=\"black\" stroke=\"black\" points=\"110,-40.11 106.5,-30.11 103,-40.11 110,-40.11\"/>\n",
       "</g>\n",
       "<!-- 138455844135136 -->\n",
       "<g id=\"node3\" class=\"node\">\n",
       "<title>138455844135136</title>\n",
       "<polygon fill=\"lightgrey\" stroke=\"black\" points=\"98,-140 9,-140 9,-121 98,-121 98,-140\"/>\n",
       "<text text-anchor=\"middle\" x=\"53.5\" y=\"-128\" font-family=\"monospace\" font-size=\"10.00\">PowBackward0</text>\n",
       "</g>\n",
       "<!-- 138455844135136&#45;&gt;138455844139168 -->\n",
       "<g id=\"edge1\" class=\"edge\">\n",
       "<title>138455844135136&#45;&gt;138455844139168</title>\n",
       "<path fill=\"none\" stroke=\"black\" d=\"M62.25,-120.75C69.97,-113.03 81.4,-101.6 90.72,-92.28\"/>\n",
       "<polygon fill=\"black\" stroke=\"black\" points=\"93.31,-94.64 97.91,-85.09 88.36,-89.69 93.31,-94.64\"/>\n",
       "</g>\n",
       "<!-- 138455844131344 -->\n",
       "<g id=\"node4\" class=\"node\">\n",
       "<title>138455844131344</title>\n",
       "<polygon fill=\"lightgrey\" stroke=\"black\" points=\"101,-195 0,-195 0,-176 101,-176 101,-195\"/>\n",
       "<text text-anchor=\"middle\" x=\"50.5\" y=\"-183\" font-family=\"monospace\" font-size=\"10.00\">AccumulateGrad</text>\n",
       "</g>\n",
       "<!-- 138455844131344&#45;&gt;138455844135136 -->\n",
       "<g id=\"edge2\" class=\"edge\">\n",
       "<title>138455844131344&#45;&gt;138455844135136</title>\n",
       "<path fill=\"none\" stroke=\"black\" d=\"M51,-175.75C51.39,-168.8 51.95,-158.85 52.45,-150.13\"/>\n",
       "<polygon fill=\"black\" stroke=\"black\" points=\"55.94,-150.27 53.01,-140.09 48.95,-149.88 55.94,-150.27\"/>\n",
       "</g>\n",
       "<!-- 138456011624576 -->\n",
       "<g id=\"node5\" class=\"node\">\n",
       "<title>138456011624576</title>\n",
       "<polygon fill=\"lightblue\" stroke=\"black\" points=\"77.5,-261 23.5,-261 23.5,-231 77.5,-231 77.5,-261\"/>\n",
       "<text text-anchor=\"middle\" x=\"50.5\" y=\"-249\" font-family=\"monospace\" font-size=\"10.00\">a</text>\n",
       "<text text-anchor=\"middle\" x=\"50.5\" y=\"-238\" font-family=\"monospace\" font-size=\"10.00\"> ()</text>\n",
       "</g>\n",
       "<!-- 138456011624576&#45;&gt;138455844131344 -->\n",
       "<g id=\"edge3\" class=\"edge\">\n",
       "<title>138456011624576&#45;&gt;138455844131344</title>\n",
       "<path fill=\"none\" stroke=\"black\" d=\"M50.5,-230.84C50.5,-223.21 50.5,-213.7 50.5,-205.45\"/>\n",
       "<polygon fill=\"black\" stroke=\"black\" points=\"54,-205.27 50.5,-195.27 47,-205.27 54,-205.27\"/>\n",
       "</g>\n",
       "<!-- 138455844138784 -->\n",
       "<g id=\"node6\" class=\"node\">\n",
       "<title>138455844138784</title>\n",
       "<polygon fill=\"lightgrey\" stroke=\"black\" points=\"206,-140 117,-140 117,-121 206,-121 206,-140\"/>\n",
       "<text text-anchor=\"middle\" x=\"161.5\" y=\"-128\" font-family=\"monospace\" font-size=\"10.00\">PowBackward0</text>\n",
       "</g>\n",
       "<!-- 138455844138784&#45;&gt;138455844139168 -->\n",
       "<g id=\"edge4\" class=\"edge\">\n",
       "<title>138455844138784&#45;&gt;138455844139168</title>\n",
       "<path fill=\"none\" stroke=\"black\" d=\"M152.42,-120.75C144.41,-113.03 132.54,-101.6 122.88,-92.28\"/>\n",
       "<polygon fill=\"black\" stroke=\"black\" points=\"125.04,-89.51 115.41,-85.09 120.19,-94.55 125.04,-89.51\"/>\n",
       "</g>\n",
       "<!-- 138455844137728 -->\n",
       "<g id=\"node7\" class=\"node\">\n",
       "<title>138455844137728</title>\n",
       "<polygon fill=\"lightgrey\" stroke=\"black\" points=\"208,-195 119,-195 119,-176 208,-176 208,-195\"/>\n",
       "<text text-anchor=\"middle\" x=\"163.5\" y=\"-183\" font-family=\"monospace\" font-size=\"10.00\">AddBackward0</text>\n",
       "</g>\n",
       "<!-- 138455844137728&#45;&gt;138455844138784 -->\n",
       "<g id=\"edge5\" class=\"edge\">\n",
       "<title>138455844137728&#45;&gt;138455844138784</title>\n",
       "<path fill=\"none\" stroke=\"black\" d=\"M163.17,-175.75C162.91,-168.8 162.53,-158.85 162.2,-150.13\"/>\n",
       "<polygon fill=\"black\" stroke=\"black\" points=\"165.7,-149.95 161.82,-140.09 158.7,-150.21 165.7,-149.95\"/>\n",
       "</g>\n",
       "<!-- 138455844134128 -->\n",
       "<g id=\"node8\" class=\"node\">\n",
       "<title>138455844134128</title>\n",
       "<polygon fill=\"lightgrey\" stroke=\"black\" points=\"214,-255.5 113,-255.5 113,-236.5 214,-236.5 214,-255.5\"/>\n",
       "<text text-anchor=\"middle\" x=\"163.5\" y=\"-243.5\" font-family=\"monospace\" font-size=\"10.00\">AccumulateGrad</text>\n",
       "</g>\n",
       "<!-- 138455844134128&#45;&gt;138455844137728 -->\n",
       "<g id=\"edge6\" class=\"edge\">\n",
       "<title>138455844134128&#45;&gt;138455844137728</title>\n",
       "<path fill=\"none\" stroke=\"black\" d=\"M163.5,-236.37C163.5,-228.25 163.5,-215.81 163.5,-205.39\"/>\n",
       "<polygon fill=\"black\" stroke=\"black\" points=\"167,-205.17 163.5,-195.17 160,-205.17 167,-205.17\"/>\n",
       "</g>\n",
       "<!-- 138455843195536 -->\n",
       "<g id=\"node9\" class=\"node\">\n",
       "<title>138455843195536</title>\n",
       "<polygon fill=\"lightblue\" stroke=\"black\" points=\"190.5,-327 136.5,-327 136.5,-297 190.5,-297 190.5,-327\"/>\n",
       "<text text-anchor=\"middle\" x=\"163.5\" y=\"-315\" font-family=\"monospace\" font-size=\"10.00\">x</text>\n",
       "<text text-anchor=\"middle\" x=\"163.5\" y=\"-304\" font-family=\"monospace\" font-size=\"10.00\"> ()</text>\n",
       "</g>\n",
       "<!-- 138455843195536&#45;&gt;138455844134128 -->\n",
       "<g id=\"edge7\" class=\"edge\">\n",
       "<title>138455843195536&#45;&gt;138455844134128</title>\n",
       "<path fill=\"none\" stroke=\"black\" d=\"M163.5,-296.8C163.5,-287.7 163.5,-275.79 163.5,-265.9\"/>\n",
       "<polygon fill=\"black\" stroke=\"black\" points=\"167,-265.84 163.5,-255.84 160,-265.84 167,-265.84\"/>\n",
       "</g>\n",
       "</g>\n",
       "</svg>\n"
      ],
      "text/plain": [
       "<graphviz.graphs.Digraph at 0x7decc3681b10>"
      ]
     },
     "execution_count": 99,
     "metadata": {},
     "output_type": "execute_result"
    }
   ],
   "source": [
    "make_dot(y, params={\"a\": a, \"x\": x, \"y\": y})"
   ]
  },
  {
   "cell_type": "markdown",
   "metadata": {
    "id": "yz7GFzLsOquo"
   },
   "source": [
    "Now call `y.backward()` and validate that\n",
    "\n",
    "$\\frac{dy}{dx} = \\frac{d}{dx} a^2(x+1)^2 = 2a^2(x+1) = 2(2)^2(3 + 1) = 32$\n",
    "\n",
    "$\\frac{dy}{da} = \\frac{d}{da} a^2(x+1)^2 = 2a(x+1)^2 = 2(2)(3 + 1)^2 = 64$\n",
    "\n",
    "by printing `x.grad` and `a.grad`"
   ]
  },
  {
   "cell_type": "code",
   "execution_count": 100,
   "metadata": {
    "colab": {
     "base_uri": "https://localhost:8080/"
    },
    "id": "5gvfw3FDOquo",
    "outputId": "f3bbffa2-05e9-4034-bcb9-9ff8fc6715a3"
   },
   "outputs": [
    {
     "name": "stdout",
     "output_type": "stream",
     "text": [
      "tensor(32.)\n",
      "tensor(64.)\n"
     ]
    }
   ],
   "source": [
    "y.backward()\n",
    "print(x.grad)\n",
    "print(a.grad)"
   ]
  },
  {
   "cell_type": "markdown",
   "metadata": {
    "id": "GY0Y3O7MOqup"
   },
   "source": [
    "Hopefully, it is clear that there all all kinds of functions you could put in that can be differentiated by PyTorch.\n",
    "Let's now work with vector and matrix differentiation.\n",
    "\n",
    "Define two new tensors:\n",
    "- `A` with data `[[0, 1, 2], [3, 4, 5]]` with `requires_grad = True`\n",
    "- `x` with data `[-1, 0, 1]` with `requires_grad = True`"
   ]
  },
  {
   "cell_type": "code",
   "execution_count": 101,
   "metadata": {
    "id": "U6DfRbIbOqup"
   },
   "outputs": [],
   "source": [
    "A = torch.tensor([[0.0, 1, 2], [3, 4, 5]], requires_grad=True)\n",
    "x = torch.tensor([-1, 0, 1.0], requires_grad=True)"
   ]
  },
  {
   "cell_type": "markdown",
   "metadata": {
    "id": "lafdsEDrOqup"
   },
   "source": [
    "Now set $y = (Ax)^2$ and print out `y`. Validate that the output $y = (Ax)^2 = \\left( \\begin{bmatrix} 0 & 1 & 2 \\\\ 3 & 4 & 5 \\end{bmatrix} \\begin{bmatrix} -1 \\\\ 0 \\\\ 1 \\end{bmatrix} \\right)^2 = \\left( \\begin{bmatrix} 2 \\\\ 2 \\end{bmatrix} \\right)^2 = \\begin{bmatrix} 2^2 \\\\ 2^2 \\end{bmatrix} = \\begin{bmatrix} 4 \\\\ 4 \\end{bmatrix}$"
   ]
  },
  {
   "cell_type": "code",
   "execution_count": 102,
   "metadata": {
    "colab": {
     "base_uri": "https://localhost:8080/"
    },
    "id": "-fnnMcYnOquq",
    "outputId": "005fed08-7730-4b23-c707-6b70610b97d7"
   },
   "outputs": [
    {
     "name": "stdout",
     "output_type": "stream",
     "text": [
      "tensor([4., 4.], grad_fn=<PowBackward0>)\n"
     ]
    }
   ],
   "source": [
    "y = (A@x)**2\n",
    "print(y)"
   ]
  },
  {
   "cell_type": "markdown",
   "metadata": {
    "id": "By-pWDfcOquq"
   },
   "source": [
    "Now the \"derivative\" we are computing here is called the Jacobian, because $y$ is a vector-valued function. The Jacobian contains the derivative of every output, $y_i$, with respect to every input, $x_j$. Therefore, the Jacobian of $y$ with respect to $x$ is:\n",
    "\n",
    "$\\begin{aligned}\n",
    "J_y = \\begin{bmatrix} \\frac{\\partial y_1}{\\partial x_1} & \\frac{\\partial y_1}{\\partial x_2} & \\frac{\\partial y_1}{\\partial x_3} \\\\ \\frac{\\partial y_2}{\\partial x_1} & \\frac{\\partial y_2}{\\partial x_2} & \\frac{\\partial y_2}{\\partial x_3} \\end{bmatrix} = \\frac{\\partial y}{\\partial x} &= \\frac{\\partial}{\\partial x} \\left( \\begin{bmatrix} A_{11} & A_{12} & A_{13} \\\\ A_{21} & A_{22} & A_{23} \\end{bmatrix} \\begin{bmatrix} x_1 \\\\ x_2 \\\\ x_3 \\end{bmatrix} \\right)^2 \\\\\n",
    "    &= \\frac{\\partial}{\\partial x} \\left( \\begin{bmatrix} A_{11}x_1 + A_{12}x_2 + A_{13}x_3 \\\\ A_{21}x_1 + A_{22}x_2 + A_{23}x_3 \\end{bmatrix} \\right)^2 \\\\\n",
    "    &= \\frac{\\partial}{\\partial x} \\begin{bmatrix} (A_{11}x_1 + A_{12}x_2 + A_{13}x_3)^2 \\\\ (A_{21}x_1 + A_{22}x_2 + A_{23}x_3)^2 \\end{bmatrix} \\\\\n",
    "    &= \\begin{bmatrix} \\frac{\\partial}{\\partial x} (A_{11}x_1 + A_{12}x_2 + A_{13}x_3)^2 \\\\ \\frac{\\partial}{\\partial x} (A_{21}x_1 + A_{22}x_2 + A_{23}x_3)^2 \\end{bmatrix} \\\\\n",
    "    &= \\begin{bmatrix} \\frac{\\partial}{\\partial x_1} (A_{11}x_1 + A_{12}x_2 + A_{13}x_3)^2 & \\frac{\\partial}{\\partial x_2} (A_{11}x_1 + A_{12}x_2 + A_{13}x_3)^2 & \\frac{\\partial}{\\partial x_3} (A_{11}x_1 + A_{12}x_2 + A_{13}x_3)^2  \\\\ \\frac{\\partial}{\\partial x_1} (A_{21}x_1 + A_{22}x_2 + A_{23}x_3)^2 & \\frac{\\partial}{\\partial x_2} (A_{21}x_1 + A_{22}x_2 + A_{23}x_3)^2 & \\frac{\\partial}{\\partial x_3} (A_{21}x_1 + A_{22}x_2 + A_{23}x_3)^2 \\end{bmatrix} \\\\\n",
    "    &= \\begin{bmatrix} 2A_{11}(A_{11}x_1 + A_{12}x_2 + A_{13}x_3) & 2A_{12}(A_{11}x_1 + A_{12}x_2 + A_{13}x_3) & 2A_{13}(A_{11}x_1 + A_{12}x_2 + A_{13}x_3)  \\\\ 2A_{21}(A_{21}x_1 + A_{22}x_2 + A_{23}x_3) & 2A_{22}(A_{21}x_1 + A_{22}x_2 + A_{23}x_3) & 2A_{23}(A_{21}x_1 + A_{22}x_2 + A_{23}x_3) \\end{bmatrix} \\\\\n",
    "    &= \\begin{bmatrix} 0 & 4 & 8  \\\\ 12 & 16 & 20 \\end{bmatrix}\n",
    "\\end{aligned}$\n",
    "\n",
    "Now call `y.backward()`."
   ]
  },
  {
   "cell_type": "code",
   "execution_count": 103,
   "metadata": {
    "colab": {
     "base_uri": "https://localhost:8080/",
     "height": 293
    },
    "id": "7KtI2BIYOquq",
    "outputId": "2f3a6c4e-3fb8-4b7d-a6dc-49a76d6461ad"
   },
   "outputs": [
    {
     "ename": "RuntimeError",
     "evalue": "grad can be implicitly created only for scalar outputs",
     "output_type": "error",
     "traceback": [
      "\u001b[0;31m---------------------------------------------------------------------------\u001b[0m",
      "\u001b[0;31mRuntimeError\u001b[0m                              Traceback (most recent call last)",
      "\u001b[0;32m<ipython-input-103-ab75bb780f4c>\u001b[0m in \u001b[0;36m<cell line: 1>\u001b[0;34m()\u001b[0m\n\u001b[0;32m----> 1\u001b[0;31m \u001b[0my\u001b[0m\u001b[0;34m.\u001b[0m\u001b[0mbackward\u001b[0m\u001b[0;34m(\u001b[0m\u001b[0;34m)\u001b[0m\u001b[0;34m\u001b[0m\u001b[0;34m\u001b[0m\u001b[0m\n\u001b[0m",
      "\u001b[0;32m/usr/local/lib/python3.10/dist-packages/torch/_tensor.py\u001b[0m in \u001b[0;36mbackward\u001b[0;34m(self, gradient, retain_graph, create_graph, inputs)\u001b[0m\n\u001b[1;32m    519\u001b[0m                 \u001b[0minputs\u001b[0m\u001b[0;34m=\u001b[0m\u001b[0minputs\u001b[0m\u001b[0;34m,\u001b[0m\u001b[0;34m\u001b[0m\u001b[0;34m\u001b[0m\u001b[0m\n\u001b[1;32m    520\u001b[0m             )\n\u001b[0;32m--> 521\u001b[0;31m         torch.autograd.backward(\n\u001b[0m\u001b[1;32m    522\u001b[0m             \u001b[0mself\u001b[0m\u001b[0;34m,\u001b[0m \u001b[0mgradient\u001b[0m\u001b[0;34m,\u001b[0m \u001b[0mretain_graph\u001b[0m\u001b[0;34m,\u001b[0m \u001b[0mcreate_graph\u001b[0m\u001b[0;34m,\u001b[0m \u001b[0minputs\u001b[0m\u001b[0;34m=\u001b[0m\u001b[0minputs\u001b[0m\u001b[0;34m\u001b[0m\u001b[0;34m\u001b[0m\u001b[0m\n\u001b[1;32m    523\u001b[0m         )\n",
      "\u001b[0;32m/usr/local/lib/python3.10/dist-packages/torch/autograd/__init__.py\u001b[0m in \u001b[0;36mbackward\u001b[0;34m(tensors, grad_tensors, retain_graph, create_graph, grad_variables, inputs)\u001b[0m\n\u001b[1;32m    280\u001b[0m \u001b[0;34m\u001b[0m\u001b[0m\n\u001b[1;32m    281\u001b[0m     \u001b[0mgrad_tensors_\u001b[0m \u001b[0;34m=\u001b[0m \u001b[0m_tensor_or_tensors_to_tuple\u001b[0m\u001b[0;34m(\u001b[0m\u001b[0mgrad_tensors\u001b[0m\u001b[0;34m,\u001b[0m \u001b[0mlen\u001b[0m\u001b[0;34m(\u001b[0m\u001b[0mtensors\u001b[0m\u001b[0;34m)\u001b[0m\u001b[0;34m)\u001b[0m\u001b[0;34m\u001b[0m\u001b[0;34m\u001b[0m\u001b[0m\n\u001b[0;32m--> 282\u001b[0;31m     \u001b[0mgrad_tensors_\u001b[0m \u001b[0;34m=\u001b[0m \u001b[0m_make_grads\u001b[0m\u001b[0;34m(\u001b[0m\u001b[0mtensors\u001b[0m\u001b[0;34m,\u001b[0m \u001b[0mgrad_tensors_\u001b[0m\u001b[0;34m,\u001b[0m \u001b[0mis_grads_batched\u001b[0m\u001b[0;34m=\u001b[0m\u001b[0;32mFalse\u001b[0m\u001b[0;34m)\u001b[0m\u001b[0;34m\u001b[0m\u001b[0;34m\u001b[0m\u001b[0m\n\u001b[0m\u001b[1;32m    283\u001b[0m     \u001b[0;32mif\u001b[0m \u001b[0mretain_graph\u001b[0m \u001b[0;32mis\u001b[0m \u001b[0;32mNone\u001b[0m\u001b[0;34m:\u001b[0m\u001b[0;34m\u001b[0m\u001b[0;34m\u001b[0m\u001b[0m\n\u001b[1;32m    284\u001b[0m         \u001b[0mretain_graph\u001b[0m \u001b[0;34m=\u001b[0m \u001b[0mcreate_graph\u001b[0m\u001b[0;34m\u001b[0m\u001b[0;34m\u001b[0m\u001b[0m\n",
      "\u001b[0;32m/usr/local/lib/python3.10/dist-packages/torch/autograd/__init__.py\u001b[0m in \u001b[0;36m_make_grads\u001b[0;34m(outputs, grads, is_grads_batched)\u001b[0m\n\u001b[1;32m    149\u001b[0m             \u001b[0;32mif\u001b[0m \u001b[0mout\u001b[0m\u001b[0;34m.\u001b[0m\u001b[0mrequires_grad\u001b[0m\u001b[0;34m:\u001b[0m\u001b[0;34m\u001b[0m\u001b[0;34m\u001b[0m\u001b[0m\n\u001b[1;32m    150\u001b[0m                 \u001b[0;32mif\u001b[0m \u001b[0mout\u001b[0m\u001b[0;34m.\u001b[0m\u001b[0mnumel\u001b[0m\u001b[0;34m(\u001b[0m\u001b[0;34m)\u001b[0m \u001b[0;34m!=\u001b[0m \u001b[0;36m1\u001b[0m\u001b[0;34m:\u001b[0m\u001b[0;34m\u001b[0m\u001b[0;34m\u001b[0m\u001b[0m\n\u001b[0;32m--> 151\u001b[0;31m                     raise RuntimeError(\n\u001b[0m\u001b[1;32m    152\u001b[0m                         \u001b[0;34m\"grad can be implicitly created only for scalar outputs\"\u001b[0m\u001b[0;34m\u001b[0m\u001b[0;34m\u001b[0m\u001b[0m\n\u001b[1;32m    153\u001b[0m                     )\n",
      "\u001b[0;31mRuntimeError\u001b[0m: grad can be implicitly created only for scalar outputs"
     ]
    }
   ],
   "source": [
    "y.backward()"
   ]
  },
  {
   "cell_type": "markdown",
   "metadata": {
    "id": "V4Lg1XYvOqur"
   },
   "source": [
    "You should run into `RuntimeError: grad can be implicitly created only for scalar outputs`.\n",
    "We can only call `.backward()` on scalar tensors in pytorch; there are some detailed explanations on why online, but simple reason behind this is because backpropagating on a scalar reduces the dimensionality of our gradients making backpropagation cheaper and quicker.\n",
    "Which makes sense because `x` is a vector and the Jacobian we calculated is a matrix.\n",
    "\n",
    "We can easily circumvent this issue by summing up our `y` tensor. Set `y_sum = torch.sum(y)` and call `.backward()` on `y_sum`."
   ]
  },
  {
   "cell_type": "code",
   "execution_count": 104,
   "metadata": {
    "id": "HLsGYnkgOqur"
   },
   "outputs": [],
   "source": [
    "y_sum = torch.sum(y)\n",
    "y_sum.backward()"
   ]
  },
  {
   "cell_type": "markdown",
   "metadata": {
    "id": "Bjb6bGI4Oqur"
   },
   "source": [
    "Now let's look at the gradients from our new function.\n",
    "\n",
    "$\\begin{aligned}\n",
    "\\frac{\\partial y}{\\partial x} &= \\frac{\\partial}{\\partial x} \\sum \\left( \\begin{bmatrix} A_{11} & A_{12} & A_{13} \\\\ A_{21} & A_{22} & A_{23} \\end{bmatrix} \\begin{bmatrix} x_1 \\\\ x_2 \\\\ x_3 \\end{bmatrix} \\right)^2 \\\\\n",
    "    &= \\sum \\frac{\\partial}{\\partial x} \\left( \\begin{bmatrix} A_{11} & A_{12} & A_{13} \\\\ A_{21} & A_{22} & A_{23} \\end{bmatrix} \\begin{bmatrix} x_1 \\\\ x_2 \\\\ x_3 \\end{bmatrix} \\right)^2 \\\\\n",
    "    &= \\sum \\frac{\\partial}{\\partial x} \\left( \\begin{bmatrix} A_{11}x_1 + A_{12}x_2 + A_{13}x_3 \\\\ A_{21}x_1 + A_{22}x_2 + A_{23}x_3 \\end{bmatrix} \\right)^2 \\\\\n",
    "    & \\quad \\quad \\vdots \\\\\n",
    "    &= \\sum \\begin{bmatrix} 2A_{11}(A_{11}x_1 + A_{12}x_2 + A_{13}x_3) & 2A_{12}(A_{11}x_1 + A_{12}x_2 + A_{13}x_3) & 2A_{13}(A_{11}x_1 + A_{12}x_2 + A_{13}x_3)  \\\\ 2A_{21}(A_{21}x_1 + A_{22}x_2 + A_{23}x_3) & 2A_{22}(A_{21}x_1 + A_{22}x_2 + A_{23}x_3) & 2A_{23}(A_{21}x_1 + A_{22}x_2 + A_{23}x_3) \\end{bmatrix} \\\\\n",
    "    &= \\sum \\begin{bmatrix} 0 & 4 & 8  \\\\ 12 & 16 & 20 \\end{bmatrix} \\\\\n",
    "    &= \\begin{bmatrix} 12 & 20 & 28  \\end{bmatrix} \\\\\n",
    "\\end{aligned}$\n",
    "\n",
    "**Note that by summing the output of `y` we ended up summing our Jacobian**.\n",
    "\n",
    "I will quickly show $\\frac{\\partial y}{\\partial A}$ in abbreviated form:\n",
    "\n",
    "$\\begin{aligned}\n",
    "\\frac{\\partial y}{\\partial A} &= \\frac{\\partial}{\\partial x} \\sum \\left( Ax \\right)^2 \\\\\n",
    "    &= \\frac{\\partial}{\\partial A}  (A_1x)^2 + (A_2x)^2 \\\\\n",
    "    &= \\begin{bmatrix} \\frac{\\partial}{\\partial A_1} (A_1x)^2 + (A_2x)^2 \\\\ \\frac{\\partial}{\\partial A_2} (A_1x)^2 + (A_2x)^2  \\end{bmatrix} \\\\\n",
    "    &= \\begin{bmatrix} 2(A_1x)x^T \\\\ 2(A_2x)x^T  \\end{bmatrix} \\\\\n",
    "    &= \\begin{bmatrix} 4x^T \\\\ 4x^T  \\end{bmatrix} \\\\\n",
    "    &= \\begin{bmatrix} -4 & 0 & 4 \\\\ -4 & 0 & 4  \\end{bmatrix} \\\\\n",
    "\\end{aligned}$\n",
    "\n",
    "Print out `x.grad` and `A.grad` and validate you got the correct answer."
   ]
  },
  {
   "cell_type": "code",
   "execution_count": 105,
   "metadata": {
    "colab": {
     "base_uri": "https://localhost:8080/"
    },
    "id": "eFn__s7xOqur",
    "outputId": "1d70cfb5-575b-4a6b-9c6c-001a6a69b075"
   },
   "outputs": [
    {
     "name": "stdout",
     "output_type": "stream",
     "text": [
      "tensor([12., 20., 28.])\n",
      "tensor([[-4.,  0.,  4.],\n",
      "        [-4.,  0.,  4.]])\n"
     ]
    }
   ],
   "source": [
    "print(x.grad)\n",
    "print(A.grad)"
   ]
  },
  {
   "cell_type": "markdown",
   "metadata": {
    "id": "NR2bfXm-Oqus"
   },
   "source": [
    "And just for fun, let's look at the computation graph."
   ]
  },
  {
   "cell_type": "code",
   "execution_count": 106,
   "metadata": {
    "colab": {
     "base_uri": "https://localhost:8080/",
     "height": 453
    },
    "id": "mCl0KiLpOqus",
    "outputId": "631827c2-5c5d-4933-92a9-677f63dd150e"
   },
   "outputs": [
    {
     "data": {
      "image/svg+xml": [
       "<?xml version=\"1.0\" encoding=\"UTF-8\" standalone=\"no\"?>\n",
       "<!DOCTYPE svg PUBLIC \"-//W3C//DTD SVG 1.1//EN\"\n",
       " \"http://www.w3.org/Graphics/SVG/1.1/DTD/svg11.dtd\">\n",
       "<!-- Generated by graphviz version 2.43.0 (0)\n",
       " -->\n",
       "<!-- Title: %3 Pages: 1 -->\n",
       "<svg width=\"228pt\" height=\"324pt\"\n",
       " viewBox=\"0.00 0.00 228.00 324.00\" xmlns=\"http://www.w3.org/2000/svg\" xmlns:xlink=\"http://www.w3.org/1999/xlink\">\n",
       "<g id=\"graph0\" class=\"graph\" transform=\"scale(1 1) rotate(0) translate(4 320)\">\n",
       "<title>%3</title>\n",
       "<polygon fill=\"white\" stroke=\"transparent\" points=\"-4,4 -4,-320 224,-320 224,4 -4,4\"/>\n",
       "<!-- 138455842970880 -->\n",
       "<g id=\"node1\" class=\"node\">\n",
       "<title>138455842970880</title>\n",
       "<polygon fill=\"#caff70\" stroke=\"black\" points=\"136.5,-30 82.5,-30 82.5,0 136.5,0 136.5,-30\"/>\n",
       "<text text-anchor=\"middle\" x=\"109.5\" y=\"-18\" font-family=\"monospace\" font-size=\"10.00\">y_sum</text>\n",
       "<text text-anchor=\"middle\" x=\"109.5\" y=\"-7\" font-family=\"monospace\" font-size=\"10.00\"> ()</text>\n",
       "</g>\n",
       "<!-- 138455843302624 -->\n",
       "<g id=\"node2\" class=\"node\">\n",
       "<title>138455843302624</title>\n",
       "<polygon fill=\"lightgrey\" stroke=\"black\" points=\"154,-85 65,-85 65,-66 154,-66 154,-85\"/>\n",
       "<text text-anchor=\"middle\" x=\"109.5\" y=\"-73\" font-family=\"monospace\" font-size=\"10.00\">SumBackward0</text>\n",
       "</g>\n",
       "<!-- 138455843302624&#45;&gt;138455842970880 -->\n",
       "<g id=\"edge7\" class=\"edge\">\n",
       "<title>138455843302624&#45;&gt;138455842970880</title>\n",
       "<path fill=\"none\" stroke=\"black\" d=\"M109.5,-65.87C109.5,-59.11 109.5,-49.35 109.5,-40.26\"/>\n",
       "<polygon fill=\"black\" stroke=\"black\" points=\"113,-40.11 109.5,-30.11 106,-40.11 113,-40.11\"/>\n",
       "</g>\n",
       "<!-- 138455843306992 -->\n",
       "<g id=\"node3\" class=\"node\">\n",
       "<title>138455843306992</title>\n",
       "<polygon fill=\"lightgrey\" stroke=\"black\" points=\"154,-140 65,-140 65,-121 154,-121 154,-140\"/>\n",
       "<text text-anchor=\"middle\" x=\"109.5\" y=\"-128\" font-family=\"monospace\" font-size=\"10.00\">PowBackward0</text>\n",
       "</g>\n",
       "<!-- 138455843306992&#45;&gt;138455843302624 -->\n",
       "<g id=\"edge1\" class=\"edge\">\n",
       "<title>138455843306992&#45;&gt;138455843302624</title>\n",
       "<path fill=\"none\" stroke=\"black\" d=\"M109.5,-120.75C109.5,-113.8 109.5,-103.85 109.5,-95.13\"/>\n",
       "<polygon fill=\"black\" stroke=\"black\" points=\"113,-95.09 109.5,-85.09 106,-95.09 113,-95.09\"/>\n",
       "</g>\n",
       "<!-- 138455843298928 -->\n",
       "<g id=\"node4\" class=\"node\">\n",
       "<title>138455843298928</title>\n",
       "<polygon fill=\"lightgrey\" stroke=\"black\" points=\"151,-195 68,-195 68,-176 151,-176 151,-195\"/>\n",
       "<text text-anchor=\"middle\" x=\"109.5\" y=\"-183\" font-family=\"monospace\" font-size=\"10.00\">MvBackward0</text>\n",
       "</g>\n",
       "<!-- 138455843298928&#45;&gt;138455843306992 -->\n",
       "<g id=\"edge2\" class=\"edge\">\n",
       "<title>138455843298928&#45;&gt;138455843306992</title>\n",
       "<path fill=\"none\" stroke=\"black\" d=\"M109.5,-175.75C109.5,-168.8 109.5,-158.85 109.5,-150.13\"/>\n",
       "<polygon fill=\"black\" stroke=\"black\" points=\"113,-150.09 109.5,-140.09 106,-150.09 113,-150.09\"/>\n",
       "</g>\n",
       "<!-- 138455843300656 -->\n",
       "<g id=\"node5\" class=\"node\">\n",
       "<title>138455843300656</title>\n",
       "<polygon fill=\"lightgrey\" stroke=\"black\" points=\"101,-250 0,-250 0,-231 101,-231 101,-250\"/>\n",
       "<text text-anchor=\"middle\" x=\"50.5\" y=\"-238\" font-family=\"monospace\" font-size=\"10.00\">AccumulateGrad</text>\n",
       "</g>\n",
       "<!-- 138455843300656&#45;&gt;138455843298928 -->\n",
       "<g id=\"edge3\" class=\"edge\">\n",
       "<title>138455843300656&#45;&gt;138455843298928</title>\n",
       "<path fill=\"none\" stroke=\"black\" d=\"M59.98,-230.98C68.7,-223.15 81.84,-211.34 92.4,-201.86\"/>\n",
       "<polygon fill=\"black\" stroke=\"black\" points=\"94.75,-204.46 99.85,-195.17 90.07,-199.25 94.75,-204.46\"/>\n",
       "</g>\n",
       "<!-- 138455843891424 -->\n",
       "<g id=\"node6\" class=\"node\">\n",
       "<title>138455843891424</title>\n",
       "<polygon fill=\"lightblue\" stroke=\"black\" points=\"80,-316 21,-316 21,-286 80,-286 80,-316\"/>\n",
       "<text text-anchor=\"middle\" x=\"50.5\" y=\"-304\" font-family=\"monospace\" font-size=\"10.00\">A</text>\n",
       "<text text-anchor=\"middle\" x=\"50.5\" y=\"-293\" font-family=\"monospace\" font-size=\"10.00\"> (2, 3)</text>\n",
       "</g>\n",
       "<!-- 138455843891424&#45;&gt;138455843300656 -->\n",
       "<g id=\"edge4\" class=\"edge\">\n",
       "<title>138455843891424&#45;&gt;138455843300656</title>\n",
       "<path fill=\"none\" stroke=\"black\" d=\"M50.5,-285.84C50.5,-278.21 50.5,-268.7 50.5,-260.45\"/>\n",
       "<polygon fill=\"black\" stroke=\"black\" points=\"54,-260.27 50.5,-250.27 47,-260.27 54,-260.27\"/>\n",
       "</g>\n",
       "<!-- 138455843302192 -->\n",
       "<g id=\"node7\" class=\"node\">\n",
       "<title>138455843302192</title>\n",
       "<polygon fill=\"lightgrey\" stroke=\"black\" points=\"220,-250 119,-250 119,-231 220,-231 220,-250\"/>\n",
       "<text text-anchor=\"middle\" x=\"169.5\" y=\"-238\" font-family=\"monospace\" font-size=\"10.00\">AccumulateGrad</text>\n",
       "</g>\n",
       "<!-- 138455843302192&#45;&gt;138455843298928 -->\n",
       "<g id=\"edge5\" class=\"edge\">\n",
       "<title>138455843302192&#45;&gt;138455843298928</title>\n",
       "<path fill=\"none\" stroke=\"black\" d=\"M159.86,-230.98C150.99,-223.15 137.63,-211.34 126.89,-201.86\"/>\n",
       "<polygon fill=\"black\" stroke=\"black\" points=\"129.13,-199.17 119.32,-195.17 124.49,-204.41 129.13,-199.17\"/>\n",
       "</g>\n",
       "<!-- 138455844044560 -->\n",
       "<g id=\"node8\" class=\"node\">\n",
       "<title>138455844044560</title>\n",
       "<polygon fill=\"lightblue\" stroke=\"black\" points=\"196.5,-316 142.5,-316 142.5,-286 196.5,-286 196.5,-316\"/>\n",
       "<text text-anchor=\"middle\" x=\"169.5\" y=\"-304\" font-family=\"monospace\" font-size=\"10.00\">x</text>\n",
       "<text text-anchor=\"middle\" x=\"169.5\" y=\"-293\" font-family=\"monospace\" font-size=\"10.00\"> (3)</text>\n",
       "</g>\n",
       "<!-- 138455844044560&#45;&gt;138455843302192 -->\n",
       "<g id=\"edge6\" class=\"edge\">\n",
       "<title>138455844044560&#45;&gt;138455843302192</title>\n",
       "<path fill=\"none\" stroke=\"black\" d=\"M169.5,-285.84C169.5,-278.21 169.5,-268.7 169.5,-260.45\"/>\n",
       "<polygon fill=\"black\" stroke=\"black\" points=\"173,-260.27 169.5,-250.27 166,-260.27 173,-260.27\"/>\n",
       "</g>\n",
       "</g>\n",
       "</svg>\n"
      ],
      "text/plain": [
       "<graphviz.graphs.Digraph at 0x7decc35b4100>"
      ]
     },
     "execution_count": 106,
     "metadata": {},
     "output_type": "execute_result"
    }
   ],
   "source": [
    "make_dot(y_sum, params={\"A\": A, \"x\": x, \"y_sum\": y_sum})"
   ]
  },
  {
   "cell_type": "markdown",
   "metadata": {
    "id": "KHtkfp91Oqus"
   },
   "source": [
    "## Final Notes about Autodiff"
   ]
  },
  {
   "cell_type": "markdown",
   "metadata": {
    "id": "juaxEdn8Oqus"
   },
   "source": [
    "There are two other functions that are useful when using autodifferentiation: `.clone()` and `.detach()`.\n",
    "\n",
    "- `.clone()` gives us the ability to copy a tensor and remain on the computation graph.\n",
    "- `.detach()` gives us the ability to copy a tensor, but to become detached from computation graph, i.e. the copy will have `requires_grad = False`.\n",
    "\n",
    "To illustrate this we will initialize two tensors: $x=1$ and $y=2$"
   ]
  },
  {
   "cell_type": "code",
   "execution_count": 129,
   "metadata": {
    "id": "ofw7LLdsOqut"
   },
   "outputs": [],
   "source": [
    "x = torch.tensor(1).float()\n",
    "y = torch.tensor(2).float()\n",
    "\n",
    "x.requires_grad = True\n",
    "y.requires_grad = True"
   ]
  },
  {
   "cell_type": "markdown",
   "metadata": {
    "id": "m1A6Hx_fOqut"
   },
   "source": [
    "And vizualize the computation graph of:\n",
    "```python\n",
    "z = x + y\n",
    "l = 2*z + 3*z\n",
    "```"
   ]
  },
  {
   "cell_type": "code",
   "execution_count": 130,
   "metadata": {
    "colab": {
     "base_uri": "https://localhost:8080/",
     "height": 453
    },
    "id": "Hhv1_fzUOqut",
    "outputId": "7c3b24d9-a780-46b9-e2ed-9274067dd691"
   },
   "outputs": [
    {
     "data": {
      "image/svg+xml": [
       "<?xml version=\"1.0\" encoding=\"UTF-8\" standalone=\"no\"?>\n",
       "<!DOCTYPE svg PUBLIC \"-//W3C//DTD SVG 1.1//EN\"\n",
       " \"http://www.w3.org/Graphics/SVG/1.1/DTD/svg11.dtd\">\n",
       "<!-- Generated by graphviz version 2.43.0 (0)\n",
       " -->\n",
       "<!-- Title: %3 Pages: 1 -->\n",
       "<svg width=\"228pt\" height=\"324pt\"\n",
       " viewBox=\"0.00 0.00 228.00 324.00\" xmlns=\"http://www.w3.org/2000/svg\" xmlns:xlink=\"http://www.w3.org/1999/xlink\">\n",
       "<g id=\"graph0\" class=\"graph\" transform=\"scale(1 1) rotate(0) translate(4 320)\">\n",
       "<title>%3</title>\n",
       "<polygon fill=\"white\" stroke=\"transparent\" points=\"-4,4 -4,-320 224,-320 224,4 -4,4\"/>\n",
       "<!-- 138455842361312 -->\n",
       "<g id=\"node1\" class=\"node\">\n",
       "<title>138455842361312</title>\n",
       "<polygon fill=\"#caff70\" stroke=\"black\" points=\"136.5,-30 82.5,-30 82.5,0 136.5,0 136.5,-30\"/>\n",
       "<text text-anchor=\"middle\" x=\"109.5\" y=\"-18\" font-family=\"monospace\" font-size=\"10.00\">l</text>\n",
       "<text text-anchor=\"middle\" x=\"109.5\" y=\"-7\" font-family=\"monospace\" font-size=\"10.00\"> ()</text>\n",
       "</g>\n",
       "<!-- 138455843304400 -->\n",
       "<g id=\"node2\" class=\"node\">\n",
       "<title>138455843304400</title>\n",
       "<polygon fill=\"lightgrey\" stroke=\"black\" points=\"154,-85 65,-85 65,-66 154,-66 154,-85\"/>\n",
       "<text text-anchor=\"middle\" x=\"109.5\" y=\"-73\" font-family=\"monospace\" font-size=\"10.00\">AddBackward0</text>\n",
       "</g>\n",
       "<!-- 138455843304400&#45;&gt;138455842361312 -->\n",
       "<g id=\"edge9\" class=\"edge\">\n",
       "<title>138455843304400&#45;&gt;138455842361312</title>\n",
       "<path fill=\"none\" stroke=\"black\" d=\"M109.5,-65.87C109.5,-59.11 109.5,-49.35 109.5,-40.26\"/>\n",
       "<polygon fill=\"black\" stroke=\"black\" points=\"113,-40.11 109.5,-30.11 106,-40.11 113,-40.11\"/>\n",
       "</g>\n",
       "<!-- 138455843306800 -->\n",
       "<g id=\"node3\" class=\"node\">\n",
       "<title>138455843306800</title>\n",
       "<polygon fill=\"lightgrey\" stroke=\"black\" points=\"101,-140 12,-140 12,-121 101,-121 101,-140\"/>\n",
       "<text text-anchor=\"middle\" x=\"56.5\" y=\"-128\" font-family=\"monospace\" font-size=\"10.00\">MulBackward0</text>\n",
       "</g>\n",
       "<!-- 138455843306800&#45;&gt;138455843304400 -->\n",
       "<g id=\"edge1\" class=\"edge\">\n",
       "<title>138455843306800&#45;&gt;138455843304400</title>\n",
       "<path fill=\"none\" stroke=\"black\" d=\"M65.25,-120.75C72.97,-113.03 84.4,-101.6 93.72,-92.28\"/>\n",
       "<polygon fill=\"black\" stroke=\"black\" points=\"96.31,-94.64 100.91,-85.09 91.36,-89.69 96.31,-94.64\"/>\n",
       "</g>\n",
       "<!-- 138455843305120 -->\n",
       "<g id=\"node4\" class=\"node\">\n",
       "<title>138455843305120</title>\n",
       "<polygon fill=\"lightgrey\" stroke=\"black\" points=\"154,-195 65,-195 65,-176 154,-176 154,-195\"/>\n",
       "<text text-anchor=\"middle\" x=\"109.5\" y=\"-183\" font-family=\"monospace\" font-size=\"10.00\">AddBackward0</text>\n",
       "</g>\n",
       "<!-- 138455843305120&#45;&gt;138455843306800 -->\n",
       "<g id=\"edge2\" class=\"edge\">\n",
       "<title>138455843305120&#45;&gt;138455843306800</title>\n",
       "<path fill=\"none\" stroke=\"black\" d=\"M100.75,-175.75C93.03,-168.03 81.6,-156.6 72.28,-147.28\"/>\n",
       "<polygon fill=\"black\" stroke=\"black\" points=\"74.64,-144.69 65.09,-140.09 69.69,-149.64 74.64,-144.69\"/>\n",
       "</g>\n",
       "<!-- 138455843292592 -->\n",
       "<g id=\"node9\" class=\"node\">\n",
       "<title>138455843292592</title>\n",
       "<polygon fill=\"lightgrey\" stroke=\"black\" points=\"208,-140 119,-140 119,-121 208,-121 208,-140\"/>\n",
       "<text text-anchor=\"middle\" x=\"163.5\" y=\"-128\" font-family=\"monospace\" font-size=\"10.00\">MulBackward0</text>\n",
       "</g>\n",
       "<!-- 138455843305120&#45;&gt;138455843292592 -->\n",
       "<g id=\"edge8\" class=\"edge\">\n",
       "<title>138455843305120&#45;&gt;138455843292592</title>\n",
       "<path fill=\"none\" stroke=\"black\" d=\"M118.42,-175.75C126.28,-168.03 137.93,-156.6 147.42,-147.28\"/>\n",
       "<polygon fill=\"black\" stroke=\"black\" points=\"150.06,-149.59 154.75,-140.09 145.16,-144.6 150.06,-149.59\"/>\n",
       "</g>\n",
       "<!-- 138455843303872 -->\n",
       "<g id=\"node5\" class=\"node\">\n",
       "<title>138455843303872</title>\n",
       "<polygon fill=\"lightgrey\" stroke=\"black\" points=\"101,-250 0,-250 0,-231 101,-231 101,-250\"/>\n",
       "<text text-anchor=\"middle\" x=\"50.5\" y=\"-238\" font-family=\"monospace\" font-size=\"10.00\">AccumulateGrad</text>\n",
       "</g>\n",
       "<!-- 138455843303872&#45;&gt;138455843305120 -->\n",
       "<g id=\"edge3\" class=\"edge\">\n",
       "<title>138455843303872&#45;&gt;138455843305120</title>\n",
       "<path fill=\"none\" stroke=\"black\" d=\"M59.98,-230.98C68.7,-223.15 81.84,-211.34 92.4,-201.86\"/>\n",
       "<polygon fill=\"black\" stroke=\"black\" points=\"94.75,-204.46 99.85,-195.17 90.07,-199.25 94.75,-204.46\"/>\n",
       "</g>\n",
       "<!-- 138455842365552 -->\n",
       "<g id=\"node6\" class=\"node\">\n",
       "<title>138455842365552</title>\n",
       "<polygon fill=\"lightblue\" stroke=\"black\" points=\"77.5,-316 23.5,-316 23.5,-286 77.5,-286 77.5,-316\"/>\n",
       "<text text-anchor=\"middle\" x=\"50.5\" y=\"-304\" font-family=\"monospace\" font-size=\"10.00\">x</text>\n",
       "<text text-anchor=\"middle\" x=\"50.5\" y=\"-293\" font-family=\"monospace\" font-size=\"10.00\"> ()</text>\n",
       "</g>\n",
       "<!-- 138455842365552&#45;&gt;138455843303872 -->\n",
       "<g id=\"edge4\" class=\"edge\">\n",
       "<title>138455842365552&#45;&gt;138455843303872</title>\n",
       "<path fill=\"none\" stroke=\"black\" d=\"M50.5,-285.84C50.5,-278.21 50.5,-268.7 50.5,-260.45\"/>\n",
       "<polygon fill=\"black\" stroke=\"black\" points=\"54,-260.27 50.5,-250.27 47,-260.27 54,-260.27\"/>\n",
       "</g>\n",
       "<!-- 138455843300272 -->\n",
       "<g id=\"node7\" class=\"node\">\n",
       "<title>138455843300272</title>\n",
       "<polygon fill=\"lightgrey\" stroke=\"black\" points=\"220,-250 119,-250 119,-231 220,-231 220,-250\"/>\n",
       "<text text-anchor=\"middle\" x=\"169.5\" y=\"-238\" font-family=\"monospace\" font-size=\"10.00\">AccumulateGrad</text>\n",
       "</g>\n",
       "<!-- 138455843300272&#45;&gt;138455843305120 -->\n",
       "<g id=\"edge5\" class=\"edge\">\n",
       "<title>138455843300272&#45;&gt;138455843305120</title>\n",
       "<path fill=\"none\" stroke=\"black\" d=\"M159.86,-230.98C150.99,-223.15 137.63,-211.34 126.89,-201.86\"/>\n",
       "<polygon fill=\"black\" stroke=\"black\" points=\"129.13,-199.17 119.32,-195.17 124.49,-204.41 129.13,-199.17\"/>\n",
       "</g>\n",
       "<!-- 138455842371072 -->\n",
       "<g id=\"node8\" class=\"node\">\n",
       "<title>138455842371072</title>\n",
       "<polygon fill=\"lightblue\" stroke=\"black\" points=\"196.5,-316 142.5,-316 142.5,-286 196.5,-286 196.5,-316\"/>\n",
       "<text text-anchor=\"middle\" x=\"169.5\" y=\"-304\" font-family=\"monospace\" font-size=\"10.00\">y</text>\n",
       "<text text-anchor=\"middle\" x=\"169.5\" y=\"-293\" font-family=\"monospace\" font-size=\"10.00\"> ()</text>\n",
       "</g>\n",
       "<!-- 138455842371072&#45;&gt;138455843300272 -->\n",
       "<g id=\"edge6\" class=\"edge\">\n",
       "<title>138455842371072&#45;&gt;138455843300272</title>\n",
       "<path fill=\"none\" stroke=\"black\" d=\"M169.5,-285.84C169.5,-278.21 169.5,-268.7 169.5,-260.45\"/>\n",
       "<polygon fill=\"black\" stroke=\"black\" points=\"173,-260.27 169.5,-250.27 166,-260.27 173,-260.27\"/>\n",
       "</g>\n",
       "<!-- 138455843292592&#45;&gt;138455843304400 -->\n",
       "<g id=\"edge7\" class=\"edge\">\n",
       "<title>138455843292592&#45;&gt;138455843304400</title>\n",
       "<path fill=\"none\" stroke=\"black\" d=\"M154.58,-120.75C146.72,-113.03 135.07,-101.6 125.58,-92.28\"/>\n",
       "<polygon fill=\"black\" stroke=\"black\" points=\"127.84,-89.6 118.25,-85.09 122.94,-94.59 127.84,-89.6\"/>\n",
       "</g>\n",
       "</g>\n",
       "</svg>\n"
      ],
      "text/plain": [
       "<graphviz.graphs.Digraph at 0x7decc35b5960>"
      ]
     },
     "execution_count": 130,
     "metadata": {},
     "output_type": "execute_result"
    }
   ],
   "source": [
    "z = x + y\n",
    "l = 2*z + 3*z\n",
    "\n",
    "make_dot(l, params={\"x\": x, \"y\": y, \"l\": l})"
   ]
  },
  {
   "cell_type": "markdown",
   "metadata": {
    "id": "4076oW3wOqut"
   },
   "source": [
    "The output of `l` is $l = 2z + 3z = 5(x + y) = 15$.\n",
    "The gradients of $x$ and $y$ are then $\\frac{d}{dx} 5(x+y) = \\frac{d}{dx} 5x = 5$ and $\\frac{d}{dy} 5(x+y) = \\frac{d}{dy} 5y = 5$. Take the derivative of `l` and print out `l` and the gradients of `x` and `y` to validate this is true."
   ]
  },
  {
   "cell_type": "code",
   "execution_count": 131,
   "metadata": {
    "colab": {
     "base_uri": "https://localhost:8080/"
    },
    "id": "ZqbO_c1wOquu",
    "outputId": "b5994b34-f148-454e-b92f-9576084c5d67"
   },
   "outputs": [
    {
     "name": "stdout",
     "output_type": "stream",
     "text": [
      "tensor(15., grad_fn=<AddBackward0>)\n",
      "tensor(5.)\n",
      "tensor(5.)\n"
     ]
    }
   ],
   "source": [
    "l.backward()\n",
    "print(l)\n",
    "print(x.grad)\n",
    "print(y.grad)"
   ]
  },
  {
   "cell_type": "markdown",
   "metadata": {
    "id": "z1-5fDaIOquu"
   },
   "source": [
    "### `.clone()`\n",
    "\n"
   ]
  },
  {
   "cell_type": "markdown",
   "metadata": {
    "id": "UneExL8VOquu"
   },
   "source": [
    "Now compute the same function, but this time let `l = 2*z + 3*z.clone()`. Call `make_dot()` and visualize the computation graph."
   ]
  },
  {
   "cell_type": "code",
   "execution_count": 132,
   "metadata": {
    "colab": {
     "base_uri": "https://localhost:8080/",
     "height": 526
    },
    "id": "xAL_laJhOquv",
    "outputId": "6977074a-7ba3-47b8-dc2e-56e9aa57ff24"
   },
   "outputs": [
    {
     "data": {
      "image/svg+xml": [
       "<?xml version=\"1.0\" encoding=\"UTF-8\" standalone=\"no\"?>\n",
       "<!DOCTYPE svg PUBLIC \"-//W3C//DTD SVG 1.1//EN\"\n",
       " \"http://www.w3.org/Graphics/SVG/1.1/DTD/svg11.dtd\">\n",
       "<!-- Generated by graphviz version 2.43.0 (0)\n",
       " -->\n",
       "<!-- Title: %3 Pages: 1 -->\n",
       "<svg width=\"228pt\" height=\"379pt\"\n",
       " viewBox=\"0.00 0.00 228.00 379.00\" xmlns=\"http://www.w3.org/2000/svg\" xmlns:xlink=\"http://www.w3.org/1999/xlink\">\n",
       "<g id=\"graph0\" class=\"graph\" transform=\"scale(1 1) rotate(0) translate(4 375)\">\n",
       "<title>%3</title>\n",
       "<polygon fill=\"white\" stroke=\"transparent\" points=\"-4,4 -4,-375 224,-375 224,4 -4,4\"/>\n",
       "<!-- 138455843207376 -->\n",
       "<g id=\"node1\" class=\"node\">\n",
       "<title>138455843207376</title>\n",
       "<polygon fill=\"#caff70\" stroke=\"black\" points=\"136.5,-30 82.5,-30 82.5,0 136.5,0 136.5,-30\"/>\n",
       "<text text-anchor=\"middle\" x=\"109.5\" y=\"-18\" font-family=\"monospace\" font-size=\"10.00\">l</text>\n",
       "<text text-anchor=\"middle\" x=\"109.5\" y=\"-7\" font-family=\"monospace\" font-size=\"10.00\"> ()</text>\n",
       "</g>\n",
       "<!-- 138455843302096 -->\n",
       "<g id=\"node2\" class=\"node\">\n",
       "<title>138455843302096</title>\n",
       "<polygon fill=\"lightgrey\" stroke=\"black\" points=\"154,-85 65,-85 65,-66 154,-66 154,-85\"/>\n",
       "<text text-anchor=\"middle\" x=\"109.5\" y=\"-73\" font-family=\"monospace\" font-size=\"10.00\">AddBackward0</text>\n",
       "</g>\n",
       "<!-- 138455843302096&#45;&gt;138455843207376 -->\n",
       "<g id=\"edge10\" class=\"edge\">\n",
       "<title>138455843302096&#45;&gt;138455843207376</title>\n",
       "<path fill=\"none\" stroke=\"black\" d=\"M109.5,-65.87C109.5,-59.11 109.5,-49.35 109.5,-40.26\"/>\n",
       "<polygon fill=\"black\" stroke=\"black\" points=\"113,-40.11 109.5,-30.11 106,-40.11 113,-40.11\"/>\n",
       "</g>\n",
       "<!-- 138455843298112 -->\n",
       "<g id=\"node3\" class=\"node\">\n",
       "<title>138455843298112</title>\n",
       "<polygon fill=\"lightgrey\" stroke=\"black\" points=\"101,-140 12,-140 12,-121 101,-121 101,-140\"/>\n",
       "<text text-anchor=\"middle\" x=\"56.5\" y=\"-128\" font-family=\"monospace\" font-size=\"10.00\">MulBackward0</text>\n",
       "</g>\n",
       "<!-- 138455843298112&#45;&gt;138455843302096 -->\n",
       "<g id=\"edge1\" class=\"edge\">\n",
       "<title>138455843298112&#45;&gt;138455843302096</title>\n",
       "<path fill=\"none\" stroke=\"black\" d=\"M65.25,-120.75C72.97,-113.03 84.4,-101.6 93.72,-92.28\"/>\n",
       "<polygon fill=\"black\" stroke=\"black\" points=\"96.31,-94.64 100.91,-85.09 91.36,-89.69 96.31,-94.64\"/>\n",
       "</g>\n",
       "<!-- 138455843301040 -->\n",
       "<g id=\"node4\" class=\"node\">\n",
       "<title>138455843301040</title>\n",
       "<polygon fill=\"lightgrey\" stroke=\"black\" points=\"154,-250 65,-250 65,-231 154,-231 154,-250\"/>\n",
       "<text text-anchor=\"middle\" x=\"109.5\" y=\"-238\" font-family=\"monospace\" font-size=\"10.00\">AddBackward0</text>\n",
       "</g>\n",
       "<!-- 138455843301040&#45;&gt;138455843298112 -->\n",
       "<g id=\"edge2\" class=\"edge\">\n",
       "<title>138455843301040&#45;&gt;138455843298112</title>\n",
       "<path fill=\"none\" stroke=\"black\" d=\"M105.16,-230.66C96.46,-212.93 76.73,-172.73 65.24,-149.32\"/>\n",
       "<polygon fill=\"black\" stroke=\"black\" points=\"68.3,-147.59 60.75,-140.16 62.01,-150.68 68.3,-147.59\"/>\n",
       "</g>\n",
       "<!-- 138455843304208 -->\n",
       "<g id=\"node10\" class=\"node\">\n",
       "<title>138455843304208</title>\n",
       "<polygon fill=\"lightgrey\" stroke=\"black\" points=\"207,-195 106,-195 106,-176 207,-176 207,-195\"/>\n",
       "<text text-anchor=\"middle\" x=\"156.5\" y=\"-183\" font-family=\"monospace\" font-size=\"10.00\">CloneBackward0</text>\n",
       "</g>\n",
       "<!-- 138455843301040&#45;&gt;138455843304208 -->\n",
       "<g id=\"edge9\" class=\"edge\">\n",
       "<title>138455843301040&#45;&gt;138455843304208</title>\n",
       "<path fill=\"none\" stroke=\"black\" d=\"M117.26,-230.75C123.97,-223.18 133.84,-212.05 142.01,-202.84\"/>\n",
       "<polygon fill=\"black\" stroke=\"black\" points=\"144.87,-204.89 148.88,-195.09 139.63,-200.25 144.87,-204.89\"/>\n",
       "</g>\n",
       "<!-- 138455843301952 -->\n",
       "<g id=\"node5\" class=\"node\">\n",
       "<title>138455843301952</title>\n",
       "<polygon fill=\"lightgrey\" stroke=\"black\" points=\"101,-305 0,-305 0,-286 101,-286 101,-305\"/>\n",
       "<text text-anchor=\"middle\" x=\"50.5\" y=\"-293\" font-family=\"monospace\" font-size=\"10.00\">AccumulateGrad</text>\n",
       "</g>\n",
       "<!-- 138455843301952&#45;&gt;138455843301040 -->\n",
       "<g id=\"edge3\" class=\"edge\">\n",
       "<title>138455843301952&#45;&gt;138455843301040</title>\n",
       "<path fill=\"none\" stroke=\"black\" d=\"M59.98,-285.98C68.7,-278.15 81.84,-266.34 92.4,-256.86\"/>\n",
       "<polygon fill=\"black\" stroke=\"black\" points=\"94.75,-259.46 99.85,-250.17 90.07,-254.25 94.75,-259.46\"/>\n",
       "</g>\n",
       "<!-- 138455842365552 -->\n",
       "<g id=\"node6\" class=\"node\">\n",
       "<title>138455842365552</title>\n",
       "<polygon fill=\"lightblue\" stroke=\"black\" points=\"77.5,-371 23.5,-371 23.5,-341 77.5,-341 77.5,-371\"/>\n",
       "<text text-anchor=\"middle\" x=\"50.5\" y=\"-359\" font-family=\"monospace\" font-size=\"10.00\">x</text>\n",
       "<text text-anchor=\"middle\" x=\"50.5\" y=\"-348\" font-family=\"monospace\" font-size=\"10.00\"> ()</text>\n",
       "</g>\n",
       "<!-- 138455842365552&#45;&gt;138455843301952 -->\n",
       "<g id=\"edge4\" class=\"edge\">\n",
       "<title>138455842365552&#45;&gt;138455843301952</title>\n",
       "<path fill=\"none\" stroke=\"black\" d=\"M50.5,-340.84C50.5,-333.21 50.5,-323.7 50.5,-315.45\"/>\n",
       "<polygon fill=\"black\" stroke=\"black\" points=\"54,-315.27 50.5,-305.27 47,-315.27 54,-315.27\"/>\n",
       "</g>\n",
       "<!-- 138455843297776 -->\n",
       "<g id=\"node7\" class=\"node\">\n",
       "<title>138455843297776</title>\n",
       "<polygon fill=\"lightgrey\" stroke=\"black\" points=\"220,-305 119,-305 119,-286 220,-286 220,-305\"/>\n",
       "<text text-anchor=\"middle\" x=\"169.5\" y=\"-293\" font-family=\"monospace\" font-size=\"10.00\">AccumulateGrad</text>\n",
       "</g>\n",
       "<!-- 138455843297776&#45;&gt;138455843301040 -->\n",
       "<g id=\"edge5\" class=\"edge\">\n",
       "<title>138455843297776&#45;&gt;138455843301040</title>\n",
       "<path fill=\"none\" stroke=\"black\" d=\"M159.86,-285.98C150.99,-278.15 137.63,-266.34 126.89,-256.86\"/>\n",
       "<polygon fill=\"black\" stroke=\"black\" points=\"129.13,-254.17 119.32,-250.17 124.49,-259.41 129.13,-254.17\"/>\n",
       "</g>\n",
       "<!-- 138455842371072 -->\n",
       "<g id=\"node8\" class=\"node\">\n",
       "<title>138455842371072</title>\n",
       "<polygon fill=\"lightblue\" stroke=\"black\" points=\"196.5,-371 142.5,-371 142.5,-341 196.5,-341 196.5,-371\"/>\n",
       "<text text-anchor=\"middle\" x=\"169.5\" y=\"-359\" font-family=\"monospace\" font-size=\"10.00\">y</text>\n",
       "<text text-anchor=\"middle\" x=\"169.5\" y=\"-348\" font-family=\"monospace\" font-size=\"10.00\"> ()</text>\n",
       "</g>\n",
       "<!-- 138455842371072&#45;&gt;138455843297776 -->\n",
       "<g id=\"edge6\" class=\"edge\">\n",
       "<title>138455842371072&#45;&gt;138455843297776</title>\n",
       "<path fill=\"none\" stroke=\"black\" d=\"M169.5,-340.84C169.5,-333.21 169.5,-323.7 169.5,-315.45\"/>\n",
       "<polygon fill=\"black\" stroke=\"black\" points=\"173,-315.27 169.5,-305.27 166,-315.27 173,-315.27\"/>\n",
       "</g>\n",
       "<!-- 138455843306032 -->\n",
       "<g id=\"node9\" class=\"node\">\n",
       "<title>138455843306032</title>\n",
       "<polygon fill=\"lightgrey\" stroke=\"black\" points=\"208,-140 119,-140 119,-121 208,-121 208,-140\"/>\n",
       "<text text-anchor=\"middle\" x=\"163.5\" y=\"-128\" font-family=\"monospace\" font-size=\"10.00\">MulBackward0</text>\n",
       "</g>\n",
       "<!-- 138455843306032&#45;&gt;138455843302096 -->\n",
       "<g id=\"edge7\" class=\"edge\">\n",
       "<title>138455843306032&#45;&gt;138455843302096</title>\n",
       "<path fill=\"none\" stroke=\"black\" d=\"M154.58,-120.75C146.72,-113.03 135.07,-101.6 125.58,-92.28\"/>\n",
       "<polygon fill=\"black\" stroke=\"black\" points=\"127.84,-89.6 118.25,-85.09 122.94,-94.59 127.84,-89.6\"/>\n",
       "</g>\n",
       "<!-- 138455843304208&#45;&gt;138455843306032 -->\n",
       "<g id=\"edge8\" class=\"edge\">\n",
       "<title>138455843304208&#45;&gt;138455843306032</title>\n",
       "<path fill=\"none\" stroke=\"black\" d=\"M157.66,-175.75C158.57,-168.8 159.89,-158.85 161.04,-150.13\"/>\n",
       "<polygon fill=\"black\" stroke=\"black\" points=\"164.53,-150.46 162.37,-140.09 157.59,-149.54 164.53,-150.46\"/>\n",
       "</g>\n",
       "</g>\n",
       "</svg>\n"
      ],
      "text/plain": [
       "<graphviz.graphs.Digraph at 0x7decc35b43a0>"
      ]
     },
     "execution_count": 132,
     "metadata": {},
     "output_type": "execute_result"
    }
   ],
   "source": [
    "# compute z and l\n",
    "z = x + y\n",
    "l = 2*z + 3*z.clone()\n",
    "\n",
    "make_dot(l, params={\"x\": x, \"y\": y, \"l\": l})"
   ]
  },
  {
   "cell_type": "markdown",
   "metadata": {
    "id": "qXq9ll_5Oquv"
   },
   "source": [
    "The computation graph now has `CloneBackward0` attached to, but since `.clone()` doesn't change any gradients then the output of `l` and `x.grad` and `y.grad` should all be the same as above.\n",
    "Take the derivative of `l` (don't forget to zero out the gradients of `x` and `y`) and print out `l` and the gradients of `x` and `y` to validate this is true."
   ]
  },
  {
   "cell_type": "code",
   "execution_count": 133,
   "metadata": {
    "colab": {
     "base_uri": "https://localhost:8080/"
    },
    "id": "DKB_z8tEOquv",
    "outputId": "225ad6af-4ffb-4a77-ead6-ba23addae62d"
   },
   "outputs": [
    {
     "name": "stdout",
     "output_type": "stream",
     "text": [
      "tensor(15., grad_fn=<AddBackward0>)\n",
      "tensor(5.)\n",
      "tensor(5.)\n"
     ]
    }
   ],
   "source": [
    "x.grad, y.grad = None, None\n",
    "l.backward()\n",
    "print(l)\n",
    "print(x.grad)\n",
    "print(y.grad)"
   ]
  },
  {
   "cell_type": "markdown",
   "metadata": {
    "id": "-JZxBdVFOquv"
   },
   "source": [
    "### `.detach()`\n",
    "\n"
   ]
  },
  {
   "cell_type": "markdown",
   "metadata": {
    "id": "DikCUy2UOquv"
   },
   "source": [
    "Once again compute the same function, but this time let `l = 2*z + 3*z.detach()`. Call `make_dot()` and visualize the computation graph."
   ]
  },
  {
   "cell_type": "code",
   "execution_count": 134,
   "metadata": {
    "colab": {
     "base_uri": "https://localhost:8080/",
     "height": 453
    },
    "id": "2deQc6mxOquv",
    "outputId": "323c5baa-bc1e-40b1-c586-5f6bf2977b9b"
   },
   "outputs": [
    {
     "data": {
      "image/svg+xml": [
       "<?xml version=\"1.0\" encoding=\"UTF-8\" standalone=\"no\"?>\n",
       "<!DOCTYPE svg PUBLIC \"-//W3C//DTD SVG 1.1//EN\"\n",
       " \"http://www.w3.org/Graphics/SVG/1.1/DTD/svg11.dtd\">\n",
       "<!-- Generated by graphviz version 2.43.0 (0)\n",
       " -->\n",
       "<!-- Title: %3 Pages: 1 -->\n",
       "<svg width=\"228pt\" height=\"324pt\"\n",
       " viewBox=\"0.00 0.00 228.00 324.00\" xmlns=\"http://www.w3.org/2000/svg\" xmlns:xlink=\"http://www.w3.org/1999/xlink\">\n",
       "<g id=\"graph0\" class=\"graph\" transform=\"scale(1 1) rotate(0) translate(4 320)\">\n",
       "<title>%3</title>\n",
       "<polygon fill=\"white\" stroke=\"transparent\" points=\"-4,4 -4,-320 224,-320 224,4 -4,4\"/>\n",
       "<!-- 138455842359072 -->\n",
       "<g id=\"node1\" class=\"node\">\n",
       "<title>138455842359072</title>\n",
       "<polygon fill=\"#caff70\" stroke=\"black\" points=\"136.5,-30 82.5,-30 82.5,0 136.5,0 136.5,-30\"/>\n",
       "<text text-anchor=\"middle\" x=\"109.5\" y=\"-18\" font-family=\"monospace\" font-size=\"10.00\">l</text>\n",
       "<text text-anchor=\"middle\" x=\"109.5\" y=\"-7\" font-family=\"monospace\" font-size=\"10.00\"> ()</text>\n",
       "</g>\n",
       "<!-- 138455843291872 -->\n",
       "<g id=\"node2\" class=\"node\">\n",
       "<title>138455843291872</title>\n",
       "<polygon fill=\"lightgrey\" stroke=\"black\" points=\"154,-85 65,-85 65,-66 154,-66 154,-85\"/>\n",
       "<text text-anchor=\"middle\" x=\"109.5\" y=\"-73\" font-family=\"monospace\" font-size=\"10.00\">AddBackward0</text>\n",
       "</g>\n",
       "<!-- 138455843291872&#45;&gt;138455842359072 -->\n",
       "<g id=\"edge7\" class=\"edge\">\n",
       "<title>138455843291872&#45;&gt;138455842359072</title>\n",
       "<path fill=\"none\" stroke=\"black\" d=\"M109.5,-65.87C109.5,-59.11 109.5,-49.35 109.5,-40.26\"/>\n",
       "<polygon fill=\"black\" stroke=\"black\" points=\"113,-40.11 109.5,-30.11 106,-40.11 113,-40.11\"/>\n",
       "</g>\n",
       "<!-- 138455843298064 -->\n",
       "<g id=\"node3\" class=\"node\">\n",
       "<title>138455843298064</title>\n",
       "<polygon fill=\"lightgrey\" stroke=\"black\" points=\"154,-140 65,-140 65,-121 154,-121 154,-140\"/>\n",
       "<text text-anchor=\"middle\" x=\"109.5\" y=\"-128\" font-family=\"monospace\" font-size=\"10.00\">MulBackward0</text>\n",
       "</g>\n",
       "<!-- 138455843298064&#45;&gt;138455843291872 -->\n",
       "<g id=\"edge1\" class=\"edge\">\n",
       "<title>138455843298064&#45;&gt;138455843291872</title>\n",
       "<path fill=\"none\" stroke=\"black\" d=\"M109.5,-120.75C109.5,-113.8 109.5,-103.85 109.5,-95.13\"/>\n",
       "<polygon fill=\"black\" stroke=\"black\" points=\"113,-95.09 109.5,-85.09 106,-95.09 113,-95.09\"/>\n",
       "</g>\n",
       "<!-- 138455843296624 -->\n",
       "<g id=\"node4\" class=\"node\">\n",
       "<title>138455843296624</title>\n",
       "<polygon fill=\"lightgrey\" stroke=\"black\" points=\"154,-195 65,-195 65,-176 154,-176 154,-195\"/>\n",
       "<text text-anchor=\"middle\" x=\"109.5\" y=\"-183\" font-family=\"monospace\" font-size=\"10.00\">AddBackward0</text>\n",
       "</g>\n",
       "<!-- 138455843296624&#45;&gt;138455843298064 -->\n",
       "<g id=\"edge2\" class=\"edge\">\n",
       "<title>138455843296624&#45;&gt;138455843298064</title>\n",
       "<path fill=\"none\" stroke=\"black\" d=\"M109.5,-175.75C109.5,-168.8 109.5,-158.85 109.5,-150.13\"/>\n",
       "<polygon fill=\"black\" stroke=\"black\" points=\"113,-150.09 109.5,-140.09 106,-150.09 113,-150.09\"/>\n",
       "</g>\n",
       "<!-- 138455843292496 -->\n",
       "<g id=\"node5\" class=\"node\">\n",
       "<title>138455843292496</title>\n",
       "<polygon fill=\"lightgrey\" stroke=\"black\" points=\"101,-250 0,-250 0,-231 101,-231 101,-250\"/>\n",
       "<text text-anchor=\"middle\" x=\"50.5\" y=\"-238\" font-family=\"monospace\" font-size=\"10.00\">AccumulateGrad</text>\n",
       "</g>\n",
       "<!-- 138455843292496&#45;&gt;138455843296624 -->\n",
       "<g id=\"edge3\" class=\"edge\">\n",
       "<title>138455843292496&#45;&gt;138455843296624</title>\n",
       "<path fill=\"none\" stroke=\"black\" d=\"M59.98,-230.98C68.7,-223.15 81.84,-211.34 92.4,-201.86\"/>\n",
       "<polygon fill=\"black\" stroke=\"black\" points=\"94.75,-204.46 99.85,-195.17 90.07,-199.25 94.75,-204.46\"/>\n",
       "</g>\n",
       "<!-- 138455842365552 -->\n",
       "<g id=\"node6\" class=\"node\">\n",
       "<title>138455842365552</title>\n",
       "<polygon fill=\"lightblue\" stroke=\"black\" points=\"77.5,-316 23.5,-316 23.5,-286 77.5,-286 77.5,-316\"/>\n",
       "<text text-anchor=\"middle\" x=\"50.5\" y=\"-304\" font-family=\"monospace\" font-size=\"10.00\">x</text>\n",
       "<text text-anchor=\"middle\" x=\"50.5\" y=\"-293\" font-family=\"monospace\" font-size=\"10.00\"> ()</text>\n",
       "</g>\n",
       "<!-- 138455842365552&#45;&gt;138455843292496 -->\n",
       "<g id=\"edge4\" class=\"edge\">\n",
       "<title>138455842365552&#45;&gt;138455843292496</title>\n",
       "<path fill=\"none\" stroke=\"black\" d=\"M50.5,-285.84C50.5,-278.21 50.5,-268.7 50.5,-260.45\"/>\n",
       "<polygon fill=\"black\" stroke=\"black\" points=\"54,-260.27 50.5,-250.27 47,-260.27 54,-260.27\"/>\n",
       "</g>\n",
       "<!-- 138455843295952 -->\n",
       "<g id=\"node7\" class=\"node\">\n",
       "<title>138455843295952</title>\n",
       "<polygon fill=\"lightgrey\" stroke=\"black\" points=\"220,-250 119,-250 119,-231 220,-231 220,-250\"/>\n",
       "<text text-anchor=\"middle\" x=\"169.5\" y=\"-238\" font-family=\"monospace\" font-size=\"10.00\">AccumulateGrad</text>\n",
       "</g>\n",
       "<!-- 138455843295952&#45;&gt;138455843296624 -->\n",
       "<g id=\"edge5\" class=\"edge\">\n",
       "<title>138455843295952&#45;&gt;138455843296624</title>\n",
       "<path fill=\"none\" stroke=\"black\" d=\"M159.86,-230.98C150.99,-223.15 137.63,-211.34 126.89,-201.86\"/>\n",
       "<polygon fill=\"black\" stroke=\"black\" points=\"129.13,-199.17 119.32,-195.17 124.49,-204.41 129.13,-199.17\"/>\n",
       "</g>\n",
       "<!-- 138455842371072 -->\n",
       "<g id=\"node8\" class=\"node\">\n",
       "<title>138455842371072</title>\n",
       "<polygon fill=\"lightblue\" stroke=\"black\" points=\"196.5,-316 142.5,-316 142.5,-286 196.5,-286 196.5,-316\"/>\n",
       "<text text-anchor=\"middle\" x=\"169.5\" y=\"-304\" font-family=\"monospace\" font-size=\"10.00\">y</text>\n",
       "<text text-anchor=\"middle\" x=\"169.5\" y=\"-293\" font-family=\"monospace\" font-size=\"10.00\"> ()</text>\n",
       "</g>\n",
       "<!-- 138455842371072&#45;&gt;138455843295952 -->\n",
       "<g id=\"edge6\" class=\"edge\">\n",
       "<title>138455842371072&#45;&gt;138455843295952</title>\n",
       "<path fill=\"none\" stroke=\"black\" d=\"M169.5,-285.84C169.5,-278.21 169.5,-268.7 169.5,-260.45\"/>\n",
       "<polygon fill=\"black\" stroke=\"black\" points=\"173,-260.27 169.5,-250.27 166,-260.27 173,-260.27\"/>\n",
       "</g>\n",
       "</g>\n",
       "</svg>\n"
      ],
      "text/plain": [
       "<graphviz.graphs.Digraph at 0x7decc35b4460>"
      ]
     },
     "execution_count": 134,
     "metadata": {},
     "output_type": "execute_result"
    }
   ],
   "source": [
    "# compute z and l\n",
    "z = x + y\n",
    "l = 2*z + 3*z.detach()\n",
    "\n",
    "make_dot(l, params={\"x\": x, \"y\": y, \"l\": l})"
   ]
  },
  {
   "cell_type": "markdown",
   "metadata": {
    "id": "2TnqIWAIOquv"
   },
   "source": [
    "The computation graph has changed because `3*z.detach()` looks like the number 9 to the compuation graph.\n",
    "The output has not changed though, $l = 2z + 9 = 2(x + y) + 9 = 6 + 9 = 15$. However, our gradients are changed because $\\frac{d}{dx} 2(x+y) + 9 = \\frac{d}{dx} 2x = 2$ and $\\frac{d}{dy} 2(x+y) + 9= \\frac{d}{dy} 2y = 2$.\n",
    "Take the derivative of `l` (don't forget to zero out the gradients of `x` and `y`) and print out `l` and the gradients of `x` and `y` to validate this is true."
   ]
  },
  {
   "cell_type": "code",
   "execution_count": 135,
   "metadata": {
    "colab": {
     "base_uri": "https://localhost:8080/"
    },
    "id": "MYTFhlQaOquw",
    "outputId": "d1f1a55a-8747-4e2d-ab8a-5eb630e5db55"
   },
   "outputs": [
    {
     "name": "stdout",
     "output_type": "stream",
     "text": [
      "tensor(15., grad_fn=<AddBackward0>)\n",
      "tensor(2.)\n",
      "tensor(2.)\n"
     ]
    }
   ],
   "source": [
    "x.grad, y.grad = None, None\n",
    "l.backward()\n",
    "print(l)\n",
    "print(x.grad)\n",
    "print(y.grad)"
   ]
  },
  {
   "cell_type": "markdown",
   "metadata": {
    "id": "gH4C-ixiOquw"
   },
   "source": [
    "---\n",
    "\n",
    "# Gradient Descent Learning"
   ]
  },
  {
   "cell_type": "code",
   "execution_count": 136,
   "metadata": {
    "id": "bgKzMWRTOquw"
   },
   "outputs": [],
   "source": [
    "import numpy as np\n",
    "import matplotlib.pyplot as plt\n",
    "from matplotlib import cm\n",
    "import matplotlib.animation as animation\n",
    "from typing import List"
   ]
  },
  {
   "cell_type": "markdown",
   "metadata": {
    "id": "iAXxMZaWOquw"
   },
   "source": [
    "Why do we care about using PyTorch's autodiff functionality?\n",
    "Because it can be utilized for optimization.\n",
    "Assume for example, we have $n$ data points and we want to find a line that best fits the data, differentiation can tell us how to find the best fitting line through gradient descent."
   ]
  },
  {
   "cell_type": "markdown",
   "metadata": {
    "id": "AcbyZgD-Oquw"
   },
   "source": [
    "First let's create a Random Number Generator (RNG) to make sure our experiment is reproducible"
   ]
  },
  {
   "cell_type": "code",
   "execution_count": 137,
   "metadata": {
    "id": "fm668cwkOqux"
   },
   "outputs": [],
   "source": [
    "rng = np.random.default_rng(42)"
   ]
  },
  {
   "cell_type": "markdown",
   "metadata": {
    "id": "4qm5pRfgOquy"
   },
   "source": [
    "And now let's generate our data.\n",
    "The true slope to our line is $m=.3$ and the our true intercept is $b=.25$.\n",
    "Our data is 9 data points along this line with some added noise."
   ]
  },
  {
   "cell_type": "code",
   "execution_count": 138,
   "metadata": {
    "id": "GslnNWE0Oquy"
   },
   "outputs": [],
   "source": [
    "true_m = .3\n",
    "true_b = .25\n",
    "x_data = np.linspace(.1, .9, 9)\n",
    "noise = rng.normal(0, 1, size=x_data.shape) * .1\n",
    "y_data = true_m*x_data + true_b + noise"
   ]
  },
  {
   "cell_type": "markdown",
   "metadata": {
    "id": "Rx8GpfbCOquy"
   },
   "source": [
    "Below are some helper functions.\n",
    "You don't need to look at them, just execute the cell below and move on."
   ]
  },
  {
   "cell_type": "code",
   "execution_count": 139,
   "metadata": {
    "id": "La6b6KBGOquy"
   },
   "outputs": [],
   "source": [
    "def _add_true_fn_and_data(ax, handles, labels):\n",
    "    ax.set_xlim(-.05, 1.05)\n",
    "    ax.set_ylim(-.05, 1.05)\n",
    "    ax.set_xlabel(r\"x\")\n",
    "    ax.set_ylabel(r\"y\")\n",
    "    ax.set_title(\"Input/Output Plot\")\n",
    "    # Plot data\n",
    "    ax.scatter(x_data, y_data)\n",
    "    # Plot true function\n",
    "    xs = np.linspace(0, 1, 100)\n",
    "    true_ys = true_m*xs + true_b\n",
    "    handle, = ax.plot(xs, true_ys, label=\"true fn\")\n",
    "    handles.append(handle)\n",
    "    labels.append(\"true fn\")\n",
    "\n",
    "\n",
    "def _add_pred_fn_and_errors(pred_m, pred_b, ax, handles, labels):\n",
    "    xs = np.linspace(0, 1, 100)\n",
    "    pred_ys = pred_m * xs + pred_b\n",
    "    pred_line, = ax.plot(xs, pred_ys, label=\"pred fn\")\n",
    "    handles.append(pred_line)\n",
    "    labels.append(\"pred fn\")\n",
    "\n",
    "    pred_y = pred_m * x_data + pred_b\n",
    "    errors = pred_y - y_data\n",
    "    error_lines = []\n",
    "    for x_i, y_i, error in zip(x_data, y_data, errors):\n",
    "        error_line, = ax.plot([x_i, x_i], [y_i, y_i + error], c=\"red\", label=\"error\")\n",
    "        error_lines.append(error_line)\n",
    "    handles.append(error_line)\n",
    "    labels.append(\"error\")\n",
    "    return pred_line, error_lines\n",
    "\n",
    "\n",
    "def _add_loss_surface(ax, m_min=-1, m_max=1.5, b_min=-.4, b_max=.9):\n",
    "    steps = 50\n",
    "    m_space = np.linspace(m_min, m_max, steps)\n",
    "    b_space = np.linspace(b_min, b_max, steps)\n",
    "\n",
    "    MM, BB = np.meshgrid(m_space, b_space, indexing=\"ij\")\n",
    "    MM = MM.reshape(steps * steps)\n",
    "    BB = BB.reshape(steps * steps)\n",
    "\n",
    "    YY = MM[:, None] @ x_data[None, :] + BB[:, None]\n",
    "    EE = YY - y_data[None, :]\n",
    "    EE = np.mean(EE**2, axis=1)\n",
    "\n",
    "    MM = MM.reshape(steps, steps)\n",
    "    BB = BB.reshape(steps, steps)\n",
    "    EE = EE.reshape(steps, steps)\n",
    "\n",
    "    ax.contourf(MM, BB, np.log2(EE))\n",
    "    ax.set_title(\"Loss Surface\")\n",
    "    ax.set_xlabel(\"slope \" + r\"($m$)\")\n",
    "    ax.set_ylabel(\"intercept \" + r\"($b$)\")\n",
    "\n",
    "\n",
    "def plot_data(pred_m=None, pred_b=None, figsize=(6, 6)):\n",
    "    fig, ax = plt.subplots(1, 1, figsize=figsize)\n",
    "    handles = []\n",
    "    labels = []\n",
    "\n",
    "    _add_true_fn_and_data(ax=ax, handles=handles, labels=labels)\n",
    "\n",
    "    # Plot predicted function\n",
    "    if pred_m is not None or pred_b is not None:\n",
    "        if pred_m is None:\n",
    "            pred_m = 0\n",
    "        if pred_b is None:\n",
    "            pred_b = 0\n",
    "        _add_pred_fn_and_errors(pred_m=pred_m, pred_b=pred_b, ax=ax, handles=handles, labels=labels)\n",
    "\n",
    "    ax.legend(handles, labels)\n",
    "    plt.show()\n",
    "\n",
    "\n",
    "def plot_1d_loss_surface(pred_ms=None, pred_bs=None, figsize=(12, 6)):\n",
    "    if pred_ms is None and pred_bs is None:\n",
    "        raise ValueError(f\"Expected pred_ms or pred_bs to be not None\")\n",
    "    if pred_ms is not None and pred_bs is not None:\n",
    "        print(f\"Both pred_ms and pred_bs are not None and function will default to using pred_ms\")\n",
    "\n",
    "    fig, axes = plt.subplots(1, 2, figsize=figsize)\n",
    "    handles = []\n",
    "    labels = []\n",
    "\n",
    "    ### Input Output ###\n",
    "    inp_out_ax = axes[0]\n",
    "    _add_true_fn_and_data(ax=inp_out_ax, handles=handles, labels=labels)\n",
    "\n",
    "    # Plot predicted function\n",
    "    pred_vars = None\n",
    "    if pred_ms is not None:\n",
    "        pred_ms = np.array(pred_ms)\n",
    "        pred_ms = np.concatenate((pred_ms, pred_ms[::-1]))\n",
    "        pred_bs = np.zeros_like(pred_ms)\n",
    "        loss_title = \"Loss Surface With Respect To Slope\"\n",
    "        loss_xlabel = \"slope\"\n",
    "        pred_vars = pred_ms\n",
    "    else:\n",
    "        pred_bs = np.array(pred_bs)\n",
    "        pred_bs = np.concatenate((pred_bs, pred_bs[::-1]))\n",
    "        pred_ms = np.zeros_like(pred_bs)\n",
    "        loss_title = \"Loss Surface With Respect To Intercept\"\n",
    "        loss_xlabel = \"intercept\"\n",
    "        pred_vars = pred_bs\n",
    "\n",
    "    pred_line, error_lines = _add_pred_fn_and_errors(pred_m=pred_ms[0], pred_b=pred_bs[0], ax=inp_out_ax, handles=handles, labels=labels)\n",
    "\n",
    "    inp_out_ax.legend(handles, labels)\n",
    "\n",
    "    ### 1D Loss Surface ###\n",
    "    loss_ax = axes[1]\n",
    "\n",
    "    pred_ys = x_data[:, None] @ pred_ms[None, :] + pred_bs\n",
    "    sses = np.sum((y_data[:, None] - pred_ys)**2, axis=0)\n",
    "\n",
    "    loss_ax.plot(pred_vars[:len(pred_vars)//2], sses[:len(sses)//2])\n",
    "\n",
    "    loss_scatter = loss_ax.scatter(pred_vars[0:1], sses[0:1])\n",
    "\n",
    "    loss_ax.set_title(loss_title)\n",
    "    loss_ax.set_xlabel(loss_xlabel)\n",
    "    loss_ax.set_ylabel(\"Sum Square Error\")\n",
    "\n",
    "    xs = np.linspace(0, 1, 100)\n",
    "    def update(frame):\n",
    "        # for each frame, update the data stored on each artist.\n",
    "        pred_m = pred_ms[frame]\n",
    "        pred_b = pred_bs[frame]\n",
    "        pred_ys = pred_m * xs + pred_b\n",
    "\n",
    "        pred_line.set_ydata(pred_ys)\n",
    "\n",
    "        pred_y = pred_m * x_data + pred_b\n",
    "        errors = pred_y - y_data\n",
    "\n",
    "        for error_line, y_i, error in zip(error_lines, y_data, errors):\n",
    "            error_line.set_ydata([y_i, y_i + error])\n",
    "\n",
    "        loss_scatter.set_offsets(np.array([pred_vars[frame], sses[frame]]))\n",
    "\n",
    "        return (pred_line, *error_lines, loss_scatter)\n",
    "\n",
    "    anim = animation.FuncAnimation(fig=fig, func=update, frames=len(pred_ms), interval=50, blit=True)\n",
    "    from IPython.display import HTML\n",
    "    anim = HTML(anim.to_html5_video())\n",
    "    plt.close('all')\n",
    "    del fig\n",
    "    return anim\n",
    "\n",
    "\n",
    "def plot_2d_loss_surface():\n",
    "    def fan_linspace(start, diff, step, fan_up=True):\n",
    "        quarter_step = step//4\n",
    "        offset = diff\n",
    "        if not fan_up:\n",
    "            offset = -diff\n",
    "        return np.concatenate([np.linspace(start, start+offset, quarter_step),\n",
    "                            np.linspace(start+offset, start, quarter_step),\n",
    "                            np.linspace(start, start-offset, quarter_step),\n",
    "                            np.linspace(start-offset, start, quarter_step)])\n",
    "\n",
    "    sim_steps = 50\n",
    "    anim_pred_ms = np.concatenate([np.full(sim_steps, true_m), fan_linspace(true_m, true_m*2, sim_steps), (true_m - .5 + np.cos(np.linspace(0, 2*np.pi, sim_steps)) / 2).tolist(), (true_m + .5 + np.cos(np.linspace(np.pi, 3*np.pi, sim_steps)) / 2).tolist()])[:, None]\n",
    "    anim_pred_bs = np.concatenate([fan_linspace(true_b, true_b*2, sim_steps), np.full(sim_steps, true_b), (true_b + np.sin(np.linspace(0, 2*np.pi, sim_steps)) / 2).tolist(), (true_b + np.sin(np.linspace(0, 2*np.pi, sim_steps)) / 2).tolist()])[:, None]\n",
    "\n",
    "    fig, axes = plt.subplots(1, 2, figsize=(12, 6))\n",
    "    handles = []\n",
    "    labels = []\n",
    "\n",
    "    ### Input Output ###\n",
    "    inp_out_ax = axes[0]\n",
    "    _add_true_fn_and_data(inp_out_ax, handles, labels)\n",
    "    pred_line, error_lines = _add_pred_fn_and_errors(anim_pred_ms[0], anim_pred_bs[0], inp_out_ax, handles, labels)\n",
    "    inp_out_ax.set_xlim(-.2, 1.2)\n",
    "    inp_out_ax.set_ylim(-.2, 1.2)\n",
    "    inp_out_ax.legend(handles, labels)\n",
    "\n",
    "    ### Loss Surface ###\n",
    "    loss_ax = axes[1]\n",
    "    _add_loss_surface(loss_ax)\n",
    "    loss_scatter = loss_ax.scatter(anim_pred_ms[0:1], anim_pred_bs[0:1], c=\"orange\")\n",
    "\n",
    "    xs = np.linspace(0, 1, 100)\n",
    "    def update(frame):\n",
    "        # for each frame, update the data stored on each artist.\n",
    "        pred_m = anim_pred_ms[frame]\n",
    "        pred_b = anim_pred_bs[frame]\n",
    "        pred_ys = pred_m * xs + pred_b\n",
    "\n",
    "        pred_line.set_ydata(pred_ys)\n",
    "\n",
    "        pred_y = pred_m * x_data + pred_b\n",
    "        errors = pred_y - y_data\n",
    "\n",
    "        for error_line, y_i, error in zip(error_lines, y_data, errors):\n",
    "            error_line.set_ydata([y_i, y_i + error])\n",
    "\n",
    "        loss_scatter.set_offsets(np.concatenate([anim_pred_ms[frame], anim_pred_bs[frame]]))\n",
    "\n",
    "        return (pred_line, *error_lines, loss_scatter)\n",
    "\n",
    "\n",
    "    anim = animation.FuncAnimation(fig=fig, func=update, frames=len(anim_pred_ms), interval=45, blit=True)\n",
    "    from IPython.display import HTML\n",
    "    anim = HTML(anim.to_html5_video())\n",
    "    plt.close('all')\n",
    "    del fig\n",
    "    return anim\n",
    "\n",
    "def plot_slope_grad(m: torch.Tensor | List[torch.Tensor], grad: torch.Tensor | List[torch.Tensor] | None, learning_rate: float = 1., figsize=(4, 3)):\n",
    "    fig, ax = plt.subplots(figsize=figsize)\n",
    "    # Plot loss surface\n",
    "    xs = np.linspace(-1.2, 2.5, 100)\n",
    "    y_hat = x_data[:, None] @ xs[None, :]\n",
    "    sses = np.sum((y_hat - y_data[:, None])**2, axis=0)\n",
    "    ax.plot(xs, sses)\n",
    "\n",
    "    # Plot gradient\n",
    "    if isinstance(m, torch.Tensor):\n",
    "        m = [m]\n",
    "    handle = None\n",
    "    for i in range(len(m)):\n",
    "        loss = np.sum((x_data * m[i].item() - y_data)**2)\n",
    "        ax.scatter(x=[m[i].item()], y=[loss], color='r')\n",
    "        if grad is not None:\n",
    "            if grad[i] is None:\n",
    "                continue\n",
    "            handle = ax.arrow(x=m[i].item(), y=loss, dx=grad[i].item() * learning_rate, dy=0, head_width=0.2, head_length=0.1, width=0.01, color='r', length_includes_head=True, label=\"gradient\")\n",
    "\n",
    "    if handle is not None:\n",
    "        ax.legend([handle], [\"gradient\"])\n",
    "\n",
    "    ax.set_xlabel(\"slope \" + r\"($m$)\")\n",
    "    ax.set_ylabel(\"SSE Loss\")\n",
    "\n",
    "    plt.show()\n",
    "\n",
    "\n",
    "def plot_grad(m: torch.Tensor | List[torch.Tensor],\n",
    "              b: torch.Tensor | List[torch.Tensor],\n",
    "              m_grad: torch.Tensor | List[torch.Tensor] | None,\n",
    "              b_grad: torch.Tensor | List[torch.Tensor] | None,\n",
    "              learning_rate: float = 1., figsize=(4, 4)):\n",
    "    fig, ax = plt.subplots(figsize=figsize)\n",
    "    _add_loss_surface(ax, m_min=-3, m_max=3, b_min=-3, b_max=3)\n",
    "\n",
    "    if isinstance(m, torch.Tensor):\n",
    "        m = [m]\n",
    "        m_grad = [m_grad]\n",
    "        b = [b]\n",
    "        b_grad = [b_grad]\n",
    "\n",
    "    handle = None\n",
    "    for i in range(len(m)):\n",
    "        ax.scatter(x=[m[i].item()], y=[b[i].item()], color='r')\n",
    "        if m_grad is not None:\n",
    "            if m_grad[i] is None:\n",
    "                continue\n",
    "            handle = ax.arrow(x=m[i].item(), y=b[i].item(), dx=m_grad[i].item() * learning_rate, dy=b_grad[i].item() * learning_rate,\n",
    "                              head_width=0.2, head_length=0.1, width=0.01, color='r', length_includes_head=True, label=\"gradient\")\n",
    "\n",
    "    if handle is not None:\n",
    "        ax.legend([handle], [\"gradient\"])\n",
    "\n",
    "    ax.set_xlabel(\"slope \" + r\"($m$)\")\n",
    "    ax.set_ylabel(\"intercept \" + r\"($b$)\")"
   ]
  },
  {
   "cell_type": "markdown",
   "metadata": {
    "id": "LDFz2kmhOquz"
   },
   "source": [
    "Now that we have generated our data, call `plot_data()` so we can see what it looks like, you don't have to pass in any arguments."
   ]
  },
  {
   "cell_type": "code",
   "execution_count": 140,
   "metadata": {
    "colab": {
     "base_uri": "https://localhost:8080/",
     "height": 564
    },
    "id": "b93saVj_Oquz",
    "outputId": "1e363d46-36be-42b9-8bd6-091f70258be7"
   },
   "outputs": [
    {
     "data": {
      "image/png": "[encoded data removed]",
      "text/plain": [
       "<Figure size 600x600 with 1 Axes>"
      ]
     },
     "metadata": {},
     "output_type": "display_data"
    }
   ],
   "source": [
    "plot_data()"
   ]
  },
  {
   "cell_type": "markdown",
   "metadata": {
    "id": "-Df39gJjOquz"
   },
   "source": [
    "Now call `plot_data()`, but this time pass in a prediction for the slope (e.g.\n",
    "`pred_m=0.5`) and intercept (e.g. `pred_b=0.1`)."
   ]
  },
  {
   "cell_type": "code",
   "execution_count": 141,
   "metadata": {
    "colab": {
     "base_uri": "https://localhost:8080/",
     "height": 564
    },
    "id": "MlGZHS3uOquz",
    "outputId": "11b27ac4-aad0-493f-d22a-07c744a0835c"
   },
   "outputs": [
    {
     "data": {
      "image/png": "[encoded data removed]",
      "text/plain": [
       "<Figure size 600x600 with 1 Axes>"
      ]
     },
     "metadata": {},
     "output_type": "display_data"
    }
   ],
   "source": [
    "plot_data(pred_m=.5,pred_b=.1)"
   ]
  },
  {
   "cell_type": "markdown",
   "metadata": {
    "id": "ahhxkaYUOquz"
   },
   "source": [
    "The errors $e$ are computed by looking at the difference between the true data $y$ and our predictions $\\hat{y}$, i.e. $e = y - \\hat{y}$.\n",
    "Now if we squared our errors and then took their sum, i.e compute the sum squared error (SSE), $\\sum (y - \\hat{y})^2$ then we get a single value, which we call the loss, that tells us how good our prediction function fits the data.\n",
    "\n",
    "Furthermore, if we moved the predicted slope around we could see how different slopes compare to each either through the loss.\n",
    "To visualize this look execute the cell below."
   ]
  },
  {
   "cell_type": "code",
   "execution_count": 142,
   "metadata": {
    "colab": {
     "base_uri": "https://localhost:8080/",
     "height": 641
    },
    "id": "JMPWwaHOOqu0",
    "outputId": "0ee55d1e-8f99-429e-9c3a-3605fe313fdf"
   },
   "outputs": [
    {
     "data": {
      "text/html": [
       "<video width=\"1200\" height=\"600\" controls autoplay loop>\n",
       "  <source type=\"video/mp4\" src=\"data:video/mp4;base64,AAAAIGZ0eXBNNFYgAAACAE00ViBpc29taXNvMmF2YzEAAAAIZnJlZQABIO9tZGF0AAACrgYF//+q\n",
       "3EXpvebZSLeWLNgg2SPu73gyNjQgLSBjb3JlIDE2MyByMzA2MCA1ZGI2YWE2IC0gSC4yNjQvTVBF\n",
       "Ry00IEFWQyBjb2RlYyAtIENvcHlsZWZ0IDIwMDMtMjAyMSAtIGh0dHA6Ly93d3cudmlkZW9sYW4u\n",
       "b3JnL3gyNjQuaHRtbCAtIG9wdGlvbnM6IGNhYmFjPTEgcmVmPTMgZGVibG9jaz0xOjA6MCBhbmFs\n",
       "eXNlPTB4MzoweDExMyBtZT1oZXggc3VibWU9NyBwc3k9MSBwc3lfcmQ9MS4wMDowLjAwIG1peGVk\n",
       "X3JlZj0xIG1lX3JhbmdlPTE2IGNocm9tYV9tZT0xIHRyZWxsaXM9MSA4eDhkY3Q9MSBjcW09MCBk\n",
       "ZWFkem9uZT0yMSwxMSBmYXN0X3Bza2lwPTEgY2hyb21hX3FwX29mZnNldD0tMiB0aHJlYWRzPTMg\n",
       "bG9va2FoZWFkX3RocmVhZHM9MSBzbGljZWRfdGhyZWFkcz0wIG5yPTAgZGVjaW1hdGU9MSBpbnRl\n",
       "cmxhY2VkPTAgYmx1cmF5X2NvbXBhdD0wIGNvbnN0cmFpbmVkX2ludHJhPTAgYmZyYW1lcz0zIGJf\n",
       "cHlyYW1pZD0yIGJfYWRhcHQ9MSBiX2JpYXM9MCBkaXJlY3Q9MSB3ZWlnaHRiPTEgb3Blbl9nb3A9\n",
       "MCB3ZWlnaHRwPTIga2V5aW50PTI1MCBrZXlpbnRfbWluPTIwIHNjZW5lY3V0PTQwIGludHJhX3Jl\n",
       "ZnJlc2g9MCByY19sb29rYWhlYWQ9NDAgcmM9Y3JmIG1idHJlZT0xIGNyZj0yMy4wIHFjb21wPTAu\n",
       "NjAgcXBtaW49MCBxcG1heD02OSBxcHN0ZXA9NCBpcF9yYXRpbz0xLjQwIGFxPTE6MS4wMACAAABG\n",
       "QGWIhAA3//728P4FNjuY0JcRzeidMx+/Fbi6NDe9zgAAAwAAAwAAAwAAAwBKnoXg9nZTsl4YAAAD\n",
       "AAAH2AAR+d9fussZzs8QBkCFFqGvHK4eHGUX44DOAnCcjyFl6DxZrWMDv6NnPtlVUI/fWMT8NdhU\n",
       "eWvhungIeH17cNQ+Fiy/kV8bcKyDPhytO/2hbk959nuREq9mC1Qyoztlvv5RCWujCD0v+vi5BoF+\n",
       "b6V7Fa/DHqQF0BiwFDGwwm0N06fRDBZuuuRgN98o//y5Wy59RWJHWloQFxt920WwUWhpwaJ9RaFQ\n",
       "UIwo3j2N/2hJEjcMOleN/hAX7qf1psdlkQDCUjOG4hpOSLdGiHs+Xfwzl3wLUU7jKuG6vcWKhDha\n",
       "BfBLsBNdkw5Kd+twLLBSncMqk5rFcbNEVsBpxBHHvvNhMqWYByoGxW4ewt28hmO6Mi9HFi7jqFYM\n",
       "o9xvFwMhw12GTX4PgFTf5mfAmrXVOcD6J6+by14jQ3hh99YZr/IXyGZ3rj4cSXLensRdFpmn6OoC\n",
       "b7LHOtbSgwG2wIcH1vGX/UVB431ZGc0PuXBuWRZyjmmUSJBSZxdN1I3SOCZzorfZ3XB9dS+QLYFE\n",
       "+bvBgcz5ychQquUo1RBkInGdBCzi814fO/CTYUo+UlLIoit6WstP0Y5uxa4LzsWW4514vZ6SQjZ+\n",
       "NWJv8TgxHRqXnmHL/LNnY0n1s8BJ8ikw2YCfkwBfjp0iHd9MJ205ba0DxCyqlKOTFD1mdBazAE6J\n",
       "Xs78U7QSZiw6ojG2LFMjXqL6pQchz9t3sHGdChJsKwuAlf/Q19rc2VbJ74L9GVCDDPXWqlzTgjNx\n",
       "DhFHukcpKWwwAuMLahC3aAOAagZJzvWPcKaMKhLuiiHb9d/QmFMn64fU72yd3YJTIJGZXuoPrASd\n",
       "8hvlEkpTn3o4ZZYCnPxmQfnctLZen8zUN4HH/mtSpeeIujaZkV7AoCrz2yOM/APSn+lAvdpaNXZH\n",
       "npNRJinhv+jfy5dDfj8MgsCuCOArqgyI03XlUpXxPvcwuYlsgBBuuqliRfp6Z9TYfRVC15xLiNBP\n",
       "DjiRvuohKImO9WDLgC20W7OKa1/QCV2crZ1dyst2xLigY2yT/V8/Fl/shv5inNdL2XMOczx8YNof\n",
       "C4cDw8E1exjGXAxcRtxjZyTRsxQ0ooVoGtPA3i5vcy80ohXaX2qGLL9Vkpt5dn8uiN0Prbkiy0fi\n",
       "k68xWE67+svYfdZYGzxlpvyfpz18hEeh4qYOmFijPf3MrSzE5pPjApgbGMxtrXzK8M3vuerIyIWc\n",
       "7EieSWL79+HxiUSH1NEFlmkfWRH2QlzmoZ86eVe/JHzYaGLzcUNj8UU8Z6ibWiKhjHTId7bTt4zU\n",
       "vkzVeE1iXgp33apSQhWFsOFbMTY5VHwsFjkjCoJHT4Crn5I/wjP/klq8ev1C/lDMVhiNXKoAf20R\n",
       "6EjWg72zBoONdJMCyb5979/f/qjnsDLJkglGZNLIcGSPcySqe76ljUEJ9Oi2JDOxegzdp0jZq7u+\n",
       "8j8J8mS8wo3222hq68tz7n4FvBQAIFH3gw6qujZj9fGIkWyCV5mPOFFncYcI/bzuR/MmnRuotHAu\n",
       "fupgIPvzk5yOxPB7CRD8x3u+HAhkfpQm4qO2ffi+UKa9n4/fBLrTiUTgEPHkCaLK+7BmAjp/9k9v\n",
       "z479eLr3Xj/Uty12E80BOpUfs64STnRU4f3nv0Wh5LgSbA5kr7JUIreNPzJ9Fl7szkpfkxGrFVcz\n",
       "bPa07JJol3KWPnpDb6MISUMWAhIhNuJpO57R2mFRxEjA817zinSQtqUHfPKYBiJlOxdXn0s0BqJS\n",
       "cUwz+GRCKwy+Dj/nR/+HlbuPe5DNdNNoDazV4WWaNURTjGGt2dF+NT+t/BeTK+quM7vXo0RcG3sd\n",
       "MdQKiPKVtAOTB77lULvzmAvu6mlR/3w8+yhz5ZPidt97bjLljtKpBEZeUpBnS2jarVYnVuDnzm8Z\n",
       "e4NdbpYRwiBaCy0GuRCbNRGQprEs/PVZZbzEEqF1/lMg9UpA0Fdh41CfJWFYVgC9VElw43+NIcEI\n",
       "jspVHRFrAZMpG6U1MOtUrHsK0SC09wgaXJ0XhUtkLKj36B3+lBlP0P/yECyDfGICzcZeh/cV4ABc\n",
       "b/tiNjtX2cl33DXizCOpi3L4dFfS2sM2mjuFLkUNwB/ie4Awab0s6OYH5cmuWFvkewhP4IBXJvpn\n",
       "Dpvh2novRsupVhzK/mwRgB7DqWcz9tgCHqlPmdshzbGRrYjuYSplPYmA173PY3z0xVhlvin8u5uG\n",
       "dNs+ymyqORxaU6O0cmkAnQE0f6oAWXqwxV1gvgvEWo0G41PYbP3WBDZp1TU8jXSP96Xtt3glSzsw\n",
       "iSPTuC6uVtEfAQSa/cVDJuCqwl+bWz0M/w3SCsX1JhPQCsSXGuLlK7ah1+GNgpDSZqs+A3mrfc7Z\n",
       "GcMBlMDS430glX9tSBOzizCb+iAsC5SziT54M3F/2TfnGAmOxG2F9jTQWCkyWfmFix9ZvDjygWBn\n",
       "GgLhdhRUimGVWo+XZC4H3ZR3krpI+8bnGk1nOzVJjyhr8OUWJwjooVTX7pHmJmyLRh4esRqM9YeS\n",
       "INmxkwaQqm+fBi2+HCLAF625eVKuZBPCZFD5yufnsdaWn8NTKvOBRcGutslCNYdnK55UZ6f6R9+k\n",
       "BDzrWMHBl+/1cbe0+E1/X/Hl0OpWqT5TdgCv0sjmST+Ilin4H3DkDqpYmUjVBAJ7DEX+gdLw6Xzz\n",
       "WOnWX/N0dajx2wO9KgqBcnrZ0ttuu6wEIlc955Rh7BwnRPI3CdJ5DlodkvtLXU7suAlMG1ENo4hW\n",
       "z0cgVuzuBnUz6PhiOh3VPaxwNkWlFO7xfGMGrFb3NqzFx7UD5UPGGGJbN5AClTaTUVAc56h3BM38\n",
       "8Z9CN9qqeH0jMet6VWdy4SjpaQeaaWWJWNonlBfcGY+NmNmX5EznHfgvup+zuwmxLhVK1zn+7jQ3\n",
       "6GfzvmrspW1VOprnX2xaKtJCjeGunXUELPwpEej+suBEA7Lh/HGCB9z4GNLQXeYUObs7DLax1gSb\n",
       "Os45dR5h30gdE+c3x5Xq5cUXCtKlHKSfRfY02c1Ofs/dy31a+UkTADp5Ph7QQ7OMUWuIO5DiBXqh\n",
       "o+HSWKOKvusQnXEn3rCsHn/GvUmRexjVddEKi/qeOR9V34dhbh7//qcexQasP3P93BeAfNnccLGA\n",
       "MSCJjCNl+hs7li3v6Pv03e7mSmiuC+j8yZoxOBoUI6rP+M/z3bSlE1tDFcOKFqgiaqjOJ2Rs10pQ\n",
       "OIVanOON2pGokGgA4zk0RKL0iLB+BPi4YUBpaZSv0nObDa7+FfXk5358XAvdx+1vff+zZUGkWnXH\n",
       "FbCW83AsuLF+naIDQxnMcmatGsQBdQ0lD8pHKoSxuTWIEloN9Jca7pkwS7d59SIWLKx4f954rZrP\n",
       "AErP/EnboMMDjGsh9m5O7t0XgPTBPXtkksQk20LB/+nNxHuWTk7cipCoWPFFH5/gup7xpqQrdccp\n",
       "vNoB8SXLT0HGT5LmXyRl6bx3Yz2a6RP2J05nEFzZVaYmFmaoLLk31OA38QJy/g/7R9ERSPQjgQXP\n",
       "6M3PKNhIwt+ycVeTnwDD2d5HmORtcDf9BwPQbMg/LNjhen8f+pfHr91w4Nq+Vgv6ro0UZioG1/9H\n",
       "7IaFPJlWh9g0c8Xr1gPFNbcadjC+H6JGE3VCJdmxvluV+6hsLH+T5fzE4f8V/7YxFThhnWNErbgh\n",
       "0R8fGt/hOJcobYkjQTXpLIEjHhfBViGNKtAx1VbePqo2ZcwbND0NpGswsVCf8Z/lACiIIe6N+4mu\n",
       "ORCbAK+kNvpmBtIVfwYwU5St6Ea3z6Bp6DvVUo3Ei/kvBPwpRZGucOQ8izthG5l4xNSSxg+30Ai3\n",
       "+jIQkP/1NVOGajJbFUk/FLsnuGBCj/87m2HT0m3eiJxXEoqqAtn6elMamXlSdS0o/Rxjo0fayr+e\n",
       "hXcDJIcCp53/1aBfoE/HdHb07rFfwWURq4FkLc/SAvJBWGvywFu8nLhvQYL57fPg7hyPLJ0gqhT8\n",
       "SS138YnTpNEercXqcYiD/NFOB9MlbjQG5AijhwFsDtLuWUCqJQpA0rvKnuYt+YlOik/rvKwOkAQb\n",
       "233z5fknWEXMlWA6Zv368vhgAygSYPzTcMeFLTeUe+9G8FxkHNiAPXQWZBMW9Ekm6ZMriPj2qmBR\n",
       "mrKocde9TajlKVtmjd+5+p1BhAik6yW6N0+iY55UML9ITovqCd1iCdE3uyZriqWHAxa9hPq5zDM6\n",
       "bS1NsuODZHiXl9+sPhzc1Sz7nB0+bgxcGsFTtSlvIOwdKV81Q4KyKBCdEbV5Gx1+QqP+ktQSycEy\n",
       "pF/AYtZVBSazj86pLWLylffFUDHS4Mu87DfTT4mx7jVf9iNRyKITLh2I5Qp1+dzVCcNR9H4CecmB\n",
       "3NmECMIXNW5OaXr8fw6dxPCps0X6t21e290IpzXAngCIgAneGxmop2QVRux2qRdqV7m5iWfVipak\n",
       "XdAD7lh+wNL7axkrUuYUvR/s0pcYZOg0J4UqHZpngUwf3v7tDe5RUFyuadSnl41H7ag6/lej/BzC\n",
       "iC9akLG5myf/WKcDOfxuL1yddgUUzZEAcmaeZtmBZvemvIXJpipTISm9XTwJTiGacRrqB3dObrc4\n",
       "5aigEEDQDZF/1quAdfFpXAGc40bHlz01CC/pa6/8MLXtN35QopUJMtz/OHi5vtNqTm4+Ixi3jbv1\n",
       "eOl4c+0CvlsMyCpsW2h1IMsDTFoZo7HyEPaXxt6R7ozAfJ+G8XeqpaI+t2IOm6Jh6+oUFCYbhMzt\n",
       "wjY+9QJvcUQsTYrhbQVfNjbq73zELPPmrzp+Uli1pNAtmauElynRF4mGiQ1txnFNmHuvSUrC8f8i\n",
       "ucsG8OiHGrtVNZJOr7+lmK/rXG39DhNG+4exfGCZqHcj9w3DLinpMHNprL7bWpdJYPsrA03YTwyo\n",
       "CoYBYjjn8AAAAwDcgVGpKD4fvZcTto5XxbmPDZcoq/6iVudud4zME4wV2iqzki4iGjLyJ0wRIeRl\n",
       "5vqfgI+QRpHBj6b4qG49GVTVdtus7PqogGfcGof7cCnLIXwyRfDObyjGnPCupr/3BrzmWsf7FPYd\n",
       "oXc4nkfiLowxlmft1eHtylPOkno9wcVjtxk0u3t5ZFNSFdfqI7ufKD6hMV7wqQPRJHqbcg3FvUM+\n",
       "xd3T1D6xZM+5clN5IDmhoNwYT4bsLBhREKt9iY9JhxuK+XCAJUaZs6FnPFlSmljEzhJ6wwARx7T8\n",
       "WBMbUCKXlv9obiqLkl5vsg3AiSqJVTwKqH2LyHLiURq7UorTLQKdzmrhQSKM5vFkGgIwHzbOzN0p\n",
       "Z6pU/7QMzHG5yVGRw4z0Qwtqsdql4Jx3/s6f57/sBm/bq3FVKSd2Vz1hlDoHT+uS3trxp7aN6RzF\n",
       "LjUBAwP8uwBonEBjp1nrpzfBvlWU0ybX97p2ulQ9bpXwvOZXdzzh8gB0KEYQ3fF1OUbMYrISS0/Z\n",
       "jF7iOMR5DY45X+YLn88+H6OYhK6ONhaB7ZZsQQAAmqAC82HlKBYi0SGq+F4ODvnt0ZCm++X9/nrc\n",
       "2VJ/jyt4wRICFsrQzToqc9YpcILX6wDj+IoQFYlvr+nLhtfD1IsZzqDUab/PIKflNdmi26h07mV7\n",
       "BO8aj1RjborY55GYE8GE04txiyNTwnzZCykNO9MI/yAIyx50raDN2kQEvlh83kBmASW5ej+pHLCO\n",
       "t0fED3K+M1/cDJ5SRrKskKdy5dyhfKyXSEGGbnt1NgphVp+h4pCX1zddcmO/9ru/aGUh/Bk9uXWp\n",
       "P5kJMqwQijPWvXiMvbVhklaVmHm8MjdmCS4XYUCnPvaFZ1swb69mUK+G51/p4IDqEoQIdUFHj7fk\n",
       "Mv1jMsSs8eTcrkfzm0tej05pT1kPPrsKmtRilvlCs6tctSZIev3ezSlfbXcCKg+/6ZCPYOVsJlRj\n",
       "B/h5xh518qvHeA42JblG8W3/WzDkYxBQJ8oVZYZo3IUywz+b66HfdZM2C2a4hCCrrku69vHFbazq\n",
       "WQE5gu6vkYMg98qazPuvstC6xn+YK/bdJDeyz8fKYDOPJyya3WhyDqxtHBXExYyeigBXCiDwealI\n",
       "OeQNke3eY5t1MZ/DpA6loS3oz7d7vvsJ3kZguKU+4yxhHCOIiLx8xfL0MLhKrtwwWUAQSQItyZzT\n",
       "/zYTeE03WmRHq459fJmRZpvRZ2c5xp79ZeA0Q6SQ8YajYnLmCRH1oPXse7qpbCWqlyU24lqeYxPU\n",
       "qqdmfmb/ackmsmnSFsNrRwzk7d2HTdb1Fl9uZNWjS0SzAqvF+yWZyip8jFzOKZHUs6oiW7kZpg0R\n",
       "Y6Rlwu/UEYVee7Zkyf7EJSufYhwyloc9VePEg1LN8a1L1IqXIS0DfbNAPoTZSTR4rxhtA1bKcDTf\n",
       "jwlqSGjn8DAtOJuXlp/CFvRrC/NqY/sj2eYdrem5hUV1oSU+Gby9TkATBoPISULsVzi+7tuvegOa\n",
       "sdfcgAWmFodpOjBfJXxuW5opW3Pdv2HtB3D2JnHYIrl4cw4I8ZdyA14CUY6xayr5v5i+zSq+FT2F\n",
       "fxdwGLi7vM3VMM6PcJbaurEqNYIIlPufjH21lyCxVVJkJbHaxeA5+LwvTO5+23LG1v9/1Pcf8nw0\n",
       "PSA/JSlMJkxKgpjXEoj0MopZmcRdhs1sv8mhRdumrx9BpNf925hf5yZc8BGqcA+GIXnBM2voCNIg\n",
       "aEobxQEndnyWkqz+MLqsRgXHgibQsV6nw2nDIOrPDMoLDhHmWleW8rHgUm/gJeguUsRskq1JDAXh\n",
       "MmsUK8kYrEM4tT/2OIJKU0jQKYfTNhqyvPT6aQISddypcU5mUY3o3JPuGA8fDS6G3oqWoihSY1wY\n",
       "gPkitCjvu65hwDVvJ534vEqgKeUwMybhqVBTj37nIwOfvvk/tPZ+DzTg1WJinMlAx24cb93QZxdx\n",
       "fHRyOsHYRtOkVOrXg4n5hjfIgJFAX+V82RHgVlgDrUPSMeuaOuPNpGWUWjgZwR0ZZUCU/GA6nLwO\n",
       "ruqQEh0kxB4DuKeEqRcGFeJTBQSg+Ofe7ykq4Zd80zKsYNygqBfit1ENIOmpxiWvBHZtIzgsq4Dp\n",
       "JGvtMMF7l0FHsmbjOMgFpjxN39ibcMG5FWmjn++lY+2srYBYxc0c/dBRhii4vYACCuhjy8+wpa0h\n",
       "ILBMFvU5tqZuy3CjaZUD3SIwvHBrOsM2spLs8rWCt/HraiKqGLVnNA3+NYTVhQIfLWvJOZbJuAJM\n",
       "YRO+fjXqFqxZeNsgsCWgDNnCP2gxJz3ZhY+WlKPmAYfsKodzb+wWJmIdRODkI/OYIe5VVoZkvise\n",
       "C7Q17zG1p4ZDtcxC3aNm3x5FCivNtVCiF0d278fcaT0yE46/b1YWiY3yLQ+jgex5jXmGvWVZK4RR\n",
       "cmHN/NinISzaFaLfF8+I3L0MHmSYo3t2z79kxrzYmPmwExYkaQh7/K+bHGUV+vt0SPsOvu1DnFOR\n",
       "0CAbrGHo0Z5sJX6D0WZ4pwdGQBrUi3IQs9a4UfX73POKu96cZfi88XwWff4JmR+8X815WFuwhOAR\n",
       "VJHGwHB2o366HuUzV25tSRnMnxq2re6Vq9VdxgQKQHRD9Kh15BptmvNOMO1k+lIEDDJwL2NmdPDf\n",
       "y1QE1VOCsI/aMNc0YPYDRxteJvKwBv/bIzxn9WijZUGpcbQTfYRlAjHqtxI+Iy5HS8jE+vs/JZNR\n",
       "sEVfJQj1huDMNoB7yw7wxrlgaJOHw0LbfWTNH5ePRhpEEZlfJA0NjP/4qWq0c2k+pncgvv4zrulM\n",
       "424loedzpBsCaK7oa7/1pF8JkktdcC6vmTSMhuUG/dFeqFx2R9dj8FCsszLB2XBhCjeEI0o3HW2n\n",
       "7neyoSlY0YIXeaJ5N76GS+7E+H1Md8bv2qz2V8N/+XRqHrM5O/qL707WfVKNIcjLyxNXwgyfjGfu\n",
       "4QssCbzH/Pl2LxjRtsvthdr+0VQVxKhLL0PP4fMlTn/D4kuZyzvsPALhejjFpdLvfHZXninGW2Id\n",
       "uNW5/CyXn2jwzAVw3/5ScjQNBskq5Cx16Yw4PwyTwEtaff6tC5nzOK1uSs94CT4g9XWdXcrGJGpg\n",
       "w12WWj7reCWJ6fBe+vavVbmswTa81YHC5FK2wBuCkQ/xLQImUkcXfjQcp76fXV/XZFCe42ttIGD7\n",
       "F2/zdZDU7qaNQoK9bjtwkmYTjkXPR9Vcp33cvZFP2QrA7J32/g9xHeTLwz+N1KrhghlIqaWdAWmv\n",
       "QoSGjfYRniYhjGXJbQUi6NiDzqSLWQd2bzj5JZ3aehbRO2N6ALDEPiXrtwAN4+i5qliZqQCL9vH2\n",
       "ioWJ+DT9NWjYmI/etYYoJ+BEIOvl4FXFKR3ummlt61PvasVxjl+aOoYZzjNqekbpD4A7bDK3jUkg\n",
       "kSkFQ3abR0c4BVq/pRxzug385NwpFF8VZQ8/1Ybg9itoQnxkCWrL5AGjblxy5zMOQyd2XOg8fHGB\n",
       "XJSylA8DgXiqZDf8akBQpImuX6kkM2xA93kbO0NP+aYbkubL51BypwwbmsasILeTWQy7CI2qNPgD\n",
       "gYf/5fwo98geVrd9x6YU0uvnkfmr9nkh9l6oToT0yuoIckwdw9lF/CVxWG5ufQ31CiFXlPU0blx2\n",
       "ffEvqgQQ1eiDoHxMigodcHOH3M3jJ+5NLHXxRoltyzTEK/0EbHCj/hOtLAnW7a+DE4QwwSmeP0bR\n",
       "qaWkOWJMqC+0aT1xqP/MT0BL9egwjQs2QvSMjTpL+vpZIYXD1LKm6fWDHnHWBV04pbjhN1riFsou\n",
       "dJmP11kwtY5Wy66YQreKt7X/JIePvd/HB8ZysOnQk4sgKUXnzaaGu0FEwubj0YQDseSGxPmn8JaE\n",
       "zaB4I+O47fHn4Io9GKUs758+5cKkBNOh5/QfPIom1eP+MGXMUUmd7ygmuFHilGHYAzMuu6Y84vv4\n",
       "dus012+8qHqdofL7NAVCJEQBVOHgulyKSPVQFVeOBHumcuuivvlNrUgeyY5uyJytoG0PwBE38Ntm\n",
       "e/+j3lmMAL6mrI6bo8mCZqCRtFm8nQXDMDg+1QVMQG8AslHz2IuF50FA7R3xhi9UjjDRTMJSnkb5\n",
       "qBsvZfBGg8pk4ieaiLPoJlZEO0Yg2uZNkaevPlWakdEZuE/XU4QXmYiiGw9+5SbOVnPQ0vzAFpJP\n",
       "X2wlJ05EOf/nlbD5DWpIHMy7FUW445TxxjzJUC8rLUNXGW5X/qqDix1Ml/JIN5sPMAjSeF/uJXqx\n",
       "YqAH6KRSeQhF/NPPmHOd4V06CWKk30WKBb1BDd3JK2Yd8gABbuA0dtdILOtRn/WPLeq+PMFiFD54\n",
       "fWcaywJuN40kI14Rnfj1aA2eV2SjBFFTDdSBXPNUHQVI0JxRAqTmVPVCegwwEv4sABQd4FyYsrrD\n",
       "c779/6mwlqw4XnyJWoIw3ueOsqxV1R9LXjIQAeuG59yNVs0mZ8Tci686c7ZawXfbx2dId/6yky/r\n",
       "N1PdOEGi0PqQGBJBYuUIwZGa88h353zGaVxLUBW4AorTXpbA0cbDe/XqtTMmD1ZdudQVr1zVLX6x\n",
       "BtjLTU8A/jhhfCytwG8zz1rT2wjyloBLlPMKzGcYvfxRRkASqgrLQ/KPzLgBpfuZEuvGTCdUPYyH\n",
       "sghD1eFIGAFBKKGOrnixi1mkIHMnPt2yohazI/ef1X045/65pM0GmJzXhbF0K8sCIfY+/uG2xmHc\n",
       "eVGD06jb1Wr/hoXTkZ4kfRuUJVVfpI4Q8Fb70DOkCOp708+vUzqXhVsU6CAXKBrjXvJc70XcF9We\n",
       "U7KQBUQvg23d6aTyEk99zxZ2P4VEyaGSXnm4CK5vbWRrru3s0RAc4MNYp1gwZ2KiamqRVoHTq+o5\n",
       "w/DU1eAwziW9bykQ/1nXIWepSJITunRxZKGbun3EtEkump7cso5RR0f8kWaSVjiytFuyWd1xIDHu\n",
       "Ha3MllffGrRLvlR0hZGyM6kqyyL2YTM2/cw3y64mSaJGqdqTnAEQQZ1DGWBEi/9ctmDYaflHyYtK\n",
       "o5+aZamIdI+WTbotphcNSWJPumkOALS0dYK/wkt6fZ/swVw7/o206hxgr9JuCOFeuuKVL1+sLWG3\n",
       "zgtaV1cCDn764du5JxupmycB9urj9sMhMR9EDo4Vo5xjeINtGZU2kiTyLT+1BD8qmIJmXwQ3ALRz\n",
       "eQlPiBIMVSG0+TAzjd7iazRz5T2FCIviw88U7JBOEgd1w0qmxsgm6OIhXAcKRxTsgMlBaJVg4jsg\n",
       "7ivimigrsDLFM1sEdbql8iUi6H8OgcusRVvFpmb0RjLV9HqY59ID8DCzG/BK7zxZPqY/vhOe6ZIO\n",
       "tPCQEcyw3Iarnz37z9hl3zmXLJJXdhYz+HM5ORZVPiYtbbi4xxELCfEB9iZeLFigoqGv64Vt6oRi\n",
       "UV1ICHxKfGwH+hJNmGb+vtp2xPtRj3G1Eqr7cp8xXZu6MAcMVF5FQtyzocO3DYJtDLWnFA7GsFuP\n",
       "mjuHKkzZPDyJp6ieb6HNC2CYIgtZz1+1UuJKpFcn+qwStrz+i0+brNz2QGEUvDzXHFdlL5flLBNR\n",
       "sbhA3txThn6QwQaUk7N7QrE70IiJ714FzzfwpBdh3O6lBvWLFsI4d282Ui683T6gfiyEaxxXzFEa\n",
       "aCMXiaYfDUce1FWr82Cx2Er6cbepMQU1bfb4i2Lf7R04ySAGaQD+tpwJZfrnwA4OYG2H3zJAQiFP\n",
       "slxrCt8mtj5jVJyTI/P97a9bj2P3hLe7AxS7/Dmv4qf+/Tri6HIdS1P6rmI33r19v31KKFoVlxEA\n",
       "63p7rZuDYBSGFkOIIY1N8p/Ygnj8AjLSDIJj4oE+2s5OGD0MfGEkKKFOoDTfKk4yQjd1NUdi5guZ\n",
       "B986DP7VywsP1n/3L7Fy4275AJuykPJOBPgLHJ1yx1nfDQ9nR+f6MtnNFmkcd7KDgB6BFNrO3mS2\n",
       "ddb6rNa4lzhuPqpL4Ic2En5yVQx26D1ADEv8DqHkXo3vLeNiE80uid2ZFZZgplvT6wM5IWHlDL1W\n",
       "WHhgEL56ZvTgfgXSrGbeMTjiHS7HHzHm5gflM9675s1ljU/an/+HiIWDmGI6We2ahW+QNtA6U7fe\n",
       "Rqe5cU2hM0PM7n0nJLugDEcL5EGjFKoIwjE/3UUUFEOSMJHnqR5fMbgn7fEE/S7l5gzG9qhMRqWJ\n",
       "tPXQ2jF0/ng0Il5D2PhkUXTixqaNqCBv651FauTumjRpjqgj828IjY9QfEdREizm9NLP7z2Ge19C\n",
       "XQ0dZ6QY3zPC0rgRTtucW7lXhZHoE/YRUG/9vX/bkTZ6DEW7sI8++NhETGFfVjYs7VGgeFVf7EqL\n",
       "MW6DCCL02Xiw/Q5mvPFFIKRWa7dX3mPBrz3E9TDdKC0T6ykBYj2Ny88K0C6XwluHHGWfsdl2VZn7\n",
       "4v9fia/05FZ0trRqh1fFlk8gFc5ULxFA3zQRvsYRD7Vi6h3H4SWPvXgO+I3UrS/ZWqo0+QhabYEM\n",
       "VgIzghjcZFX7McRZu2DT639nlO+zX9nYRV7+kVANXnRLv/8SaED1O47kyCxT7Bq0eKGcjAELBAAb\n",
       "4CZrMX1X2GzD4dXt96QhbUHFCis0LiV8zXIIsfRRk6PVgDsh2l2G9iVmNnFzJUhxS/dd8byyKzor\n",
       "hkEr0VKMNMZKwdDPPHgE7958rpnrZdr8AeulMLDjTPeRd267BDIhORET2zsX0eDuc7qvcjg3TJxd\n",
       "+eM9FKa3FmdT+SgW2ykNDJv6PDJnua2ERdUvWEKueOBHeE6+f7R9p3iAsdHIFY/ZC266BQZ7Rm6s\n",
       "JG8AY6KrXQdlh6nOC57cTAC9PJjZQBonmPHqN5folwOP3PHxqFW0IcB34quLG54wIAbf2Pv966WX\n",
       "/eLd4bNOi7OdK7C7E85nXaJKLCDmrzrPNmLgflX+qRH+0bzvh8qPR2ZqT1w5OtiY/NL+ew45l1gU\n",
       "PapdNsk0w9W2BrhbIOHIZr8TG+q0Vwy8/qN8mIYUJqN6tCqYxZewzMyMYqcr9qG4NXw9ON9k6P5L\n",
       "RWA6BrrEIedGt9C3Fw8xI6hYZ0YZ2nfE/VJbX8FtgSisKgl5Hm7OgkQQtNn3CCBNDk8qIiAqnql8\n",
       "4SUMdLb1LBs98RBgYeW6Mzv/LOjlzpq4GVEIMR+T9BY1ZN+MWF8YjN1io5v2dcK8da9BWoCoMKq1\n",
       "PuL/ENJRimg5XDSQu8CUkIB0lDfqM+Nh2SpY1cRD+/Ovd1P7iV+WGatI4L/T/LT0bjNz7Cuu59Xm\n",
       "fBeiEqEg6JAlpaRg6BhDrUyIejKr5W7iSvbBW2swNvrflqlct6flufcnR+Looclpz65Y5p3C8Sab\n",
       "w4m1ABKNwcQock5U7NyuDZUiWkw8DrWL6TY642H7b+4qSDrA7xtCRZvlbXxnrJrXoh/R3cCqwpoa\n",
       "tuLV8+eY1yzUBJ3p6Qy5TLzmRWoVanPt1pJm9/VIgWrjsZpECUNl9PUISzQupm+mMfHGJtTVPzzw\n",
       "52Yu4IYSN4+7RDmHywIBlHsMnc08gmR/QYCKTmIwjVNfPzz5um2GyLH2LS3lvEZYgwIfPTvYGj6X\n",
       "D4rzCyBdjxhjcp+5wgr6y18v9KYiQ7oEAfS8Eeasbvhw+xEV9oVoNf428pv1MmwRoy/IOIuUs9oB\n",
       "EZoQNtmQpSBJ+Zt9W5BBsHS9EaPoo30kFn2VTFz0af2UWketHPYGvC9rIog+FOVqYlVx14MPtnCp\n",
       "9poNZe88r/D92ESHtiPAcOPym0u06dO+YVC1BuKyzl5tyKr/Ru7Y+mrHv36hDm0G9h/eMA+8/1no\n",
       "AnRL+kRPHDbEiJ7R56G3oh0Yjnb/MUWbduyAtaquXooVEBvgT4YJevykB6nglCs0lP+issGEXE3e\n",
       "fjzIYWP+ky5GluAvnTfN+XVA3JuaOruXVjljO6qDp/UuMrW/50uwh+Lh0DqbqrYl6NLkzpZPusCs\n",
       "oPF9dJKWHDeG9wMM5trfp1p3BysnCDDHyI7zQf+YJF1FJJoi2eJAKj7x8gyQMMjQfDMo/pSXsBGY\n",
       "VzQmAY9k2XxR8iPpap9PbMkmX5Op/YMezr2u7RNreFJlzuq6Gw4pEiVOik+6Y57hwxmuZ5wZomAc\n",
       "f/fe/xWAtGFlGh+CWVoVjNcFOoxqk8HhmeRjgDNKqmYlBvoyPaqX4easXTRvBIMcgWl3QnBoFrCs\n",
       "fdBlW+RGMf4y+IxNZqHPeKrE9HTAlBbKDb1e4+iOPAi3sCkz4qmk15p07Pj1i8zXKzauHcmsybjP\n",
       "L1Fs6MlJKVH4JdEOuNeDI9BtBxIn0BJ4YF4CcZaZtL2/gwEPnoEGRwwL/Cm5WSMJyL16y53NC1yk\n",
       "FZstlzIzQZRH3T8LcALn04Opnum2iGFyLzqKYqlb0b8JGm4KEo6lCzj0koUMCEvP0ZqBW+zjpgbj\n",
       "nX3hVyYjGtpHAIqarlzA9nqx++6R0k84YXoBNhpuxfGb5Kv6sQSvGZFGueVP6SPV8gRlcLznlmu4\n",
       "BH+z9ChKsyFKc7VqACVNAfdT0S95Yzng3MCyUHhn8oo7h8dt2iGkd1v2jj0+mOwhsANui+4FFJXG\n",
       "Dqf9tOT27miH/3YtDS6jV++GlwHPMVYO4lqSskRqkJ2VxAJi5n9Fl5w5kdIs4LfoqfU/bUgr4ODl\n",
       "B3wegD7Zhi9h30LFrnfKnfDQ3sgJBZ+ZD/AeWHQdr81fXkT83BLQHHkOpIUzfm6Zu46QMIPi/Rel\n",
       "Ew+qMqKjhOmJUetk41R60WpLHJjwTbVbnapE1byc1ZsrrmzrdQNyolbWYCipwXZyXXW+d5pMIOT/\n",
       "IqOfV9+wA5/TWHQuKc4f6d0bmNzZy1yIpr3sY+dgSbFT2GecAvaMLsASP0RIhoHjEPwEWh7qdm1O\n",
       "/pe9ZPHH2G00MP6raPY0axMpARWs2/KLjKL6dQ/V3ZtPzSMURWQGji8CfDHQLvEPHMuPrkFbLVF9\n",
       "9/i2Ir/auJNcGr/4dL2vD3wR3ECHWLCu8S1n9BHqIgax+Ynemt/qoSl35BZLfXs/mtVNXra54dVj\n",
       "ASytODqm/UJBe3zPAAqaPViPt6WVTyqvwAIvho3N6bGE83cKx7rm3otphG57AwcyA7wfQz+ZAJkW\n",
       "ZYBV+rK7rqGsplc+vsIV8t2Ws7gwuOg04SQlhveUJezNSBnweNyPja88iHB4xm/Kv5aT5lC1PF89\n",
       "JaqB6UOT/lbQTnGgCkrbGoM5adnbX/04PFHjNu7ynNc5RzGWE/11sMRPAd/VJhC1vjs0aEdb2eRm\n",
       "VNMZ0LRUwz/JIYcHj3jrKObpcrkw7X9C6gs/ujKC+CkPdTkMsz4N2lBKbFip+8c5g9VajmTMGSME\n",
       "UsRx0Kg3CK3jg+hvaSHKEEMJB+08wuVFYK50SEgXrznVvoOj3Kl/IfJ3G5ETVs/JX9W0vA7N+pM7\n",
       "bPRo6yKqaJpqJ6xzlxm/a6C4vNUpopvnlgDX7WI6cm3Qc6NL+tGBoERelG1fyhfrAQF7MKPXpbWl\n",
       "MyJ1nmV44NItu4rb6KAjRUXlrxtoFRDE+dKoIG27c+OkKMUXup3tsCKjt2HFHa8u+EunShG2geRD\n",
       "Q8szBausvng8Vt0R9jgxOZDk8iOdYB+JtBPq3yOReXauT2WbLSlsnbn5OSTi/7fG6TsBUpH6U/ze\n",
       "smjzHeymWi4TFT6nsnFHn2eWbBMflXYqMi8rn07ir/I2jrBW9MB5WRTxHpI4y8K+ScGUugLzLfHe\n",
       "T4qUk1FXViKAhzg1IQag4H3SBnzfGGOkjtzMcbXVDLLKU9i2dt9hQW2rM5gYS4Tj7ya5hxcvhPxd\n",
       "r3AoyCx0j1jUh1yajjEVrLUBlY4SmUv81T/rNaTLcjKvY8MKhbMntnXih4/kD8h5w7y3gwCZEY40\n",
       "oPwRZFVkB0218E84fUndkKXHtsZTQGuTwSH++nbHuspq21r/5qOsRgzXj+/O9NOZxo3X7HwZ7+hB\n",
       "kyMvlYggGE6HoAs3CVHcJuZwcw3C5xJZLdx1oPcAMWEiMKnxMaKwzWWV505UBkDRNX5OBt8vjD4Y\n",
       "0X0lwCbcLdujbf4D/lSWTZZU56WIrADJq/d5sla92pDpgWdmco/xmWPJfWs1VFrJSNpvx//qWsj1\n",
       "1HdNEl7wgrzImq89SB/y+darhvzfKGs2RK4m5yam/lHivkDrtc4amA3/5S0+rUMZ159sQu+P+bXQ\n",
       "dH4eU49vrxsJ7BTY1UXtwwC/p9wKRDAOHa5WVruPdSRigFwcP8pQc3D7hqS0dZf74Z0UNrCI2LnL\n",
       "JEpUneYwT/jLpVOU40eGCaqrEd2DH3YbcHsdNoqcW8cK7UZAvz28oQIK9/0pyMCA6WUnuwJS8qrB\n",
       "eBc8O2DWmThKowLLFQJobMBqc9b5gjsDBBaXaPPKUpL1BZSgqoF/t8MlZsADEA+JRrhE36cP3+1y\n",
       "NS9pWQt3dL1Jd9gZX2i+5A37QqcLH9aU7FJ1uG0wZJO0tZBAw4049IiCU+OLSkU+PFSX/u6mKZTZ\n",
       "aaLn9I7mu5i8ccmOK71enhwUMoeUqknZ5xK7uVnBQ3VUzTZ1gBxBs9uqv5IYqv1QqFnM6c9CqVfE\n",
       "tTpvKM3Y2fKVrGRsD2ZanMdwUUDKCSwUU99piE8UAl0FexaeVGyIFwTSlX0M5ZNxjjLbnDYyIH/Y\n",
       "+KxzgyU5/qTW7PMLVLb8eNt7ILmtjxOrwqO+h3TiemfTjXNCV2w5Ak3uxMJagssKUN+BZgQe3Hvy\n",
       "GqH5vYcGQXS2ewWHNEeHs9182QIhIW+ZKJWqTuKYOa4VSg/YVwaeLVW6OyEPff9sXqopbQP8HsGX\n",
       "Ahm2ul10iv+zcPdCn6Ik0tQQMbL5E2jxCs8wA6iZNCkMwwbEs5q5qbhiYTIAmAzL0di1wV8AokpA\n",
       "z+fHATXratBNdcee6pGG54sQ1IOqNHrylSy47u44h3netjreYdzlLviVg2H+rhlLqfKcPM3jL31f\n",
       "uVCC7IB03jhb208gV12X857YZFqPVsgmAiU6Yof2wj0WGER+Qo+oo6ix10z88sXOcA6oiM0gxGG9\n",
       "suAUmarY0LYEFJ8l8GPswDWpu2cQdAkSp9HLI9AcCzX5qW+CWswpg0dPPEANgQJzspMShJuoIxGa\n",
       "WXWxlO4vrRCYJeoikNxXSl1cgA57pEdkx37rRTf0c4gy2tnzrTljBeVZYx1frt3by/SmqovDrkGU\n",
       "yUiTLEQyny28VhRzw/WX9YV3q4TL1+ZV2U0Nb6TDnDlTWBt6627zczJJkx+pxR3ZgYfccVdAMfLC\n",
       "uf9AKefXd6kSb5gu4hYxagZyre/zmdVo85Lev8RxnjA26USMph0UVpL8r1EPJnThZrJUMC5d7Jcj\n",
       "sa3QKKTSkzMYXTg9qAwQF0xx6ieMwnCWdE9VW8PIvx68eTsddW+Lq6GX/Bz/cYHCTjKNzWgqL7Mq\n",
       "CGU6BuCGp9EbjfBrLUjn8pdo+xARrlnc8MNvCHUtFRdfZO+g9g4q9n6tT7qfJ16wCHf/MML3kem9\n",
       "ygZu/aLEofb9EprcGOytqqSskNHX4A1btUGcBRsYHc0cYbdpkOg88Pd4IeY+8z0YGd/ID5ySiur9\n",
       "pGHHSYourNjD9XVFQFWpzRsioblhh8Ml6K/eY0OcjN74LSjZp50RC/KtOv1ZDEz4kn/551BCswaw\n",
       "5yRCDvs2NjqlBtCoSxAAEqVM2jn3RIGbmWLvtpV1WOQhVFL/HGMZtI6ojeAT1Qbx47Fx85gAh7NA\n",
       "wMOqkMOiVOiqwL33yl+UZ1LwToisioNdTaML6J/mB8jD2LnBupYMyjdXVx94awRDopEfrRP+KnCM\n",
       "ecg6klrKQwtWuL8AeEqaYll4Zubdk84zWXrFMNwuXzApAN19Xjwd3dBcaPLJOHXqKWbM0NMlzO4W\n",
       "ezyDpwsQgMdl27T9U3Hbz4ldhHqjMrXiuQWI0kzXCQTYgZWM2PvErXL055sjoGIaBhL1zIVKce2l\n",
       "G98ZYfuN4IOm5vuR4Hbu1nD9mYsMEYiBXKTCuqMVG3oslAd+RNeVhFjwbrQVUWTijmxK9t/QfZqp\n",
       "OAJB+IDfCJX3WZEB+gGJbqRLZYhLUpr+Dgh5bukPlWtdW3QZ1dABh4Dcq+nVgKj/o0T0FkX9wdnv\n",
       "IHeQy3+sJRRXB+HZgB38fik1yPWUIM+GLPgTMryLwAr8xAnJnvFVoPBBNLqcfM1kEW6gcnrbQ4wQ\n",
       "7h8ZG1+eVrM71yrGJzruSel3uUo3aebxEt5ydOO4ocKkksqe4Aoy2/6EPvj+wYoRG/lW/FuNzq3R\n",
       "q49r3su8q4IpNxvyox9V3q84amDR4d6IpN0lYeGGOGHMLrgSHz59f5lReblbNNR3yw/kxknxL7R8\n",
       "bDfPpElFJCQIG3TCWATIDodUlbehr/agw5TwfruJBDhdTluac7G1YgeblVpWaRaEPI++hfqgCn4a\n",
       "baFi3CJaVMQH2csWSn1pS3H7oaqlJAa4nETS10qMXPRwBLHk24FNcYjt0fcL9Kym28ut4s0iJvrs\n",
       "Fj6nSQ5SD+TaqsrQNQDPOS9fNFzrgwBhPbMmVGUVJmLZb/1Xh/9Gcmkqt/fXzdCBJpYsRfgfziUA\n",
       "ivQslRrV6it2/TL/dOeg7HKFsAhUUVVzFCSp4NvUHLd9rT287FzFkU0rJje8g/mNmAWjBro5dYt3\n",
       "7soHBdHn+WmZiLr4cBXsrBtuIpQwVSLp4rMY39kV3SFaVoktGF1mmdfH2FhWj7EE3X+hjVPNPMOs\n",
       "Kv/ZX6/q3mrK5Jca4GWnaZyM2tijpnScJyp92QcwxnJM4fA9CgWDLKCm2Zqwpu7QmRpz067qni3d\n",
       "T65SPdvNf31E863YMSoyg1XFg0BXsuNezsmLVjB+8PQUoS6V5zvqjhuc/eaDEShMXROpqnHe/bdm\n",
       "rMQTXfCGW/5S9AIzOIXgAcL08W2qqCoIg4VmYEBs0JSEeTkVyMbqb2g4FpkVQdbjlUlyMQAAAwEb\n",
       "SiPwUMvUgFNA7+3LF7r+nFLZeo8E3frWPOrr6vt5wxnT4W6cOmpIGJWwYv7LpSTAVBf3iRdkNJSi\n",
       "w3u38O6vBeJCY54u23UkaK4qlaB1vwY94pALdgSt/3UgSU/c+enPR5r4z1wuuM5cE5sCQ/LTBfOb\n",
       "BgRt2zCw2e3W3wXIK2j8FFXmdktQZXEA8nTO1cAPd4uaqOi5cj5zakx3B4p8l5t4/n2xILyPasVA\n",
       "8cqohtXcKMpGpWRECiUYBej+ZHAvTC9x5bvovKXjuuSuA7IUVJ+zB8ya87zgZQvT8fB0KsrM7uYK\n",
       "5asRtawPA3cfJ9ziUWOOVdEp8lLAteBfKRzMIHUfhSMlie2sroDCiCowAb08q36mQjJwCsQSIfWG\n",
       "eEYn2/w2qD4xucHkxDXOeEwKMSozHI6RsjabIkgltCeyyn1yzjfyKwnaXphrZbYJttdEv4ZErZdR\n",
       "zAIr4KHc1AxvXtQ6i8hjC3+mYiisbNjzzTQpgkukU3J3Ia3fmtEmvOCRkoTZ7uOy52SFvuYxtrWL\n",
       "M2TPXeCowub2O/VQZWaZj9YcEUkTr/5ktha0Hq/6RTYPb94/j4cXtYQ5fDbdbQj/yJ/t/5P292JI\n",
       "b827ePhvkn7J4zPgMWW0+czw0E45/Ft+cET6cy49H+NLICs3SFGpennqWBF2vXl+H4syOj2SW+LF\n",
       "NkeCCMbQxzA2ZRt9cf8pc2oDmVKroO2VM/vPyJtRP6W1sAeN6V5hX4Ymay57azV4WxJ9DO5A/t+6\n",
       "iBefL97Ry2gBmyyPBKdpMeuBF6lGfrOP1tCE0HtlokEGdJuc6jUbT7ejJW+dT9i31krj8GltofwI\n",
       "OegcUDUHywIA5Gla+8sVqCIGsCnVJ/CifDqbPzfyo6n//ursUB/bzSz4JyI/hgPS4G/1xsUer4kx\n",
       "6GNKiSc0z5JJMZZKD13dIwaxgu686TKhsyubX12P/zCpoZK9eIPcCQLlnvc9ulnv0244EF+h4Y1z\n",
       "M9Jx8eMLP959NNO6G7C8OBWJPKvc0yQZmdWVX0ML0PJJJ5xsBy0zmMU324j79nLXXZJ6UgE6M0Wv\n",
       "RjSLmHE/GdERhzM1NSu8eitf+uiXigjPG7qE2ILGLtAQPzReQVJNTfJYY5720JPA1qSK0HkNoeEd\n",
       "FWrXOUGcflx9MqMqTgXq60ukKg+ZkI9OidiDOlMTGMRBqAazzv6ordBmdNfVV7oiPRC5xLUfnrGk\n",
       "NWypYH4Kg9+jgUSO2ftaT35irhB1ZGYc9xLDjbAObXv8NTvTXD8wJkMLcyqKe8/8rJpsPr3b59SV\n",
       "9U5AO3P5oolwZZ7TP/1YY2gcRsluhGkTtiVeHCIhM+VDrCTCW67AZQjVQoopnUEdCgxngjU3VoaU\n",
       "qnBjR5v39GR4LmuCQmcWLci/eSjFgGW2g3PBPCH+vtv+uiG87TNTxcY8ZWb0B07rqJo0Yx3HUuo+\n",
       "D/86vL3QGwevk6KGLVht4LUmHqpRmEftxieRBRI6GyqsiReScspDTOCVg8lPNUjKhYVa+ChHxu7q\n",
       "SrXhRvMd6vnCNeeLarrKDm7dul12XMGEAiT972Hv7wVJ0yBpq8lzI3Ktpp2fIsFkCl/PevSASoWX\n",
       "nCSMOwgRSt0/rNfh83TtVE/I+4Ci5ivyNHy8fdAYSWFQwwTqc8VYQgZBnjxy/bSTkf8fuBDtUD8N\n",
       "iTCY1XXrL0nEJK/Hyq/9UMySq1MffW0aQ1aqM+9diUoONDCpTBjwZIqOA/jsm4tPkBvU0/bN4eJO\n",
       "VPMpD7GJAyDVHAJaScS+LFitiz++bAkxZSEKvR3DkSHhHJMK0f7mpYSw/OWUplVvJPnj6CJf8EFF\n",
       "JjMZ9cdHv/g/jzqUajSYesuXrznk8o7Enr6qtMzsD+6j+1C8R3RzA6kNn78fy4OaztU5+xeVTbIj\n",
       "odFbmwAJ51HZ1xdnvz07fPKGnvMX/FTadl/8DQHnDTW2XupRp5RDapwR3lWj/qyZIOVWsGuF3gb7\n",
       "9m9T4CaUSdAvPMgMG3S6PoQj82eDkQlvOEGSFDYdIEO7QgyiyrSnbzANnoL9w4dq9lIA7CQVowyF\n",
       "aTBZ9hcYc0tlRlzXep/deoU2Wgl5Oo9Rh83gWWIddsVtGFF+ORE/d7YS80Pr9LSAm+BK0NdDvWLY\n",
       "N6OK2QzTFlD2UjoqAWyA69Fo1vOr73Fsdt1gY4wefq4qwVpOGrdR6gf5fFkApt5qZVupy8VGySlD\n",
       "qzazG4d8lzWnXGs7yN5AoBuM9WxSlaajOToobiMYHw0e6Fzs264J3hm422KaidbDR/WV5SGXsB9/\n",
       "GnFItm7eFpiHQCTeSD0AU+2jfz206HLmRmOVsPKZovhVJGNhiGefzCdBCsA19n2uDRYIwu2qjcZC\n",
       "0SArhjg6adsB98o5/INqCFDSgumIIfz+GmxU2zE7N9BbzgmVQw8SLFFPgOhnWfRkWOXzArBsiicm\n",
       "qjsHZYEbkfnjsO4mPs/H9BLxJyEr7Va+yrhxxZGCthtF5GPZldXLl3OBrqVy1Shzrwcs7ZwcpGU5\n",
       "DAxgWJv382AXRivuUTZ4iNs6QFvveCVgTt/w3qVqHQMeVBwb3Wqv3E5j9DtIvJN9tHlQXHAUoB3f\n",
       "CXNFjgrTd7WOHbIRCxj+YAAAAwACZCgQ7O2qgYhACNN82KyYXJWIYbbhPjXsM2oDBGHQIyF8HkZv\n",
       "fThizY688duPNxImUEpcy+L7KjmmxHx/H7YJ5svoZbz5it7jkpoIzIox55Bga0mGKdlaynTcIukq\n",
       "rr2yV/hQnJp3ecCgXOCqChBHNV/9cyVrIMZPCdlxQPqLpYkD6vXURlNTTauBBjoMyFj9ERD4LTnf\n",
       "GzcW3kxSIg1oy3FLATpN+W+28/ze/C08Ac42LcWlgBo8Dm7AfpI5mwlL6GippvKxP/jZ/cHheID1\n",
       "6DnvdXTFmHOMy3qqoC730L+igtlrDkBpYoZABQC/RQqn2OSJlInAcJL9FeLZL+ElNJOUSVsrdaWj\n",
       "yRk1UGYsOmI5WVxVGp5vOq/sV0VgD2gsVbCV/jNoQOis46QN03rkPYvY6TIkyf/f7xn2OH5XhjtT\n",
       "b+Ppor/6Nm1SVEj2dpDddlSdycYE7jR1owpe5KBbQZXrhAROIBgl9XqSAns2HrkQJxX4N3sTp+O7\n",
       "6B/Laz9LhJ6UNApQwMER6kS+NO3OoUnFoitXtbI/sV0QAlj7sKGbRk+Fp4A50pTxg71A7eFON3Op\n",
       "6xEuj+zmSoWKElokoAyKndGBMWPm1SEx0sp/xkN4AqrSqjA3EKzJRQOCX/U7nUemC9spenSkqX+/\n",
       "mbhM8MGqn/Ke6i5CtufH7BOnOBHrh6CEuPewJLrhLZ0M34qI2DLPl6tpOrUV97hCyOPX+7a0HU21\n",
       "JLya8y0ljcRHi4DxeBW/xAv3dQYgC96f+Wwo2b9htYMmBWR8SbWTjmrzmIk3IvamjZ26RPFwpy5b\n",
       "5/piAAzaEn1FOD4TlzHijaG+Tw9glhYTFF9l9TpMwtSvdu8pE+bxU9AOVn93YDYKj2B24UwzyV/T\n",
       "tDHXcwuDZ8OGM918n3q19cyAGzo3j3hqZtDBOxt6oENVgxaTSc5MkSUe4CBnsudtVpXKUQmkkidk\n",
       "+If5gmqqeLU8dAqMAW/YLGGgYVNVpVjD9LHrUyndXSJxcxSvIUlmVfYNL61GsqA7MOZq7u4m8b+p\n",
       "lFtrCucErrN+esWHmlMPk1TksBYidOTw2NUFBda8FEMVUIXRyLXZ/NkEK9RR4A76Rxqf/Fjp3UhP\n",
       "6NGTiisJBJETeKTrah870tAuEPTwjTcf/bLMK/C/UEQWC+e83VZv/OEIYS6SuNPwDVgtS4EPAq/j\n",
       "368YN3c5jGYG4Rh/ebdMA3ZGAyzEwomidcLTCx9V/hX5IuGasF0ZqzhAXOWaM6OoVGOOOf6FZ4EF\n",
       "RZSBZhYstttuCeRZcAYK+O1lcexkL8p57NYLK/eBn1SLXoEh/m2L/pyQ4ubuhYY045asZn36p/ni\n",
       "to6LGjxKvOqnrnV3d7UeP24imJJW8GlRt2sp3lP++m6qlLvXnHM4myFQKzgyHL3mNbmAmolhRbiB\n",
       "aqxCsJBkf97plKPjxExP1Bo12H79zo4+5NLLFh67R0WOkR3s/uXyzfNHGAnRmoBFCAV6jg05Z8ea\n",
       "92DmEAS34LnAc+m+7ADb+aSBRGhmas5DRL7ozkUWgvEgdyqShG7Wp8tVcwtUEhqQrmKfvq+kxrTu\n",
       "yaQf8an4JE7UJOhqk88mB4C/mAdOUbQvHPnOXY3Q1Lj9G9TqdFwzL5awz9d4fgQhjacso9H90kqo\n",
       "1bQnix5RTJzXaDcWejLrZIz2rpAFs35pkixVd1dvlcU+PsdJfV3+m+qZGkTb/gi6tb2rPLSlmail\n",
       "3AiIADxFXqfrzgFf7fbPdmnbt8b9IwWuyqlewdauO9YfhL8PxSVa6VfWf/w6emnh7oALTZYacaMU\n",
       "bzfP9WPz5b8fSN4HYMiOpCC0AqGdVKehhB6h/DAPlNZlI4et+66bZ9t6/iYKCFOtLlWNTkC6gKlr\n",
       "X/MKx64IaJ9TmFdDY34v/73f1MPd1FLJB9Vs5cNBdBjF0NZVt1Bt8aafC413Fd36uTgDhB/LFiud\n",
       "D6o68cDI1FKxSV9tDDphX6GSHIrw7xKvPBgH6xl78JXfshvR7VqNLAFVv6ss6wLUkqecLuLzC4jx\n",
       "vA3sP/gtbp8+zl7GT4Vgs/awrevpgfKyQM232b2DmEAUghUreeOfBxTqD5NT5tu6cltawfVP8/7e\n",
       "670xuVn2VdoGkVadyefjyB42PAwOnoch6oPWTbZnIa1bmD5e761B8M00bN1FLNomS6cRKxYtTFxV\n",
       "suRAIvoxuB5ojRfYfVrjxLytamTh6KjKSt9o+hhRBd76QZDsUWqFJ4dwRBNEz7pDNbaim1Rx82ka\n",
       "/PIl0EVLreRMuOKLLZGIPjNu5JYVBcvaKf4perCV4VX7mDw/BB28E/OV3tdk/h3EfMu2ST7lX2JU\n",
       "zD1Fox8E8J440UXcgtvtUrVdhydud0t5+/qfz//bgzBE6m0TG3yoG5H0wvsfPkXui+o2NcRQEmP2\n",
       "7ICJiLg3ksZ5c0/MF+MAiXcy7biRoVLKVK9WAtX+3FXQCYL0EXa7yxW/d/1KXsl3dVbQSB5n/4fr\n",
       "VLeikNjbyeEHeK5+SVhMYbfhklizucTEDHjzqPLRapo/Qi4wt9CxdN6c2HQ5h15ofn0bwMRHBsL1\n",
       "fWoXYskz9GDAGkp/NrvWZsHa+ltbxwVFoCwKD0ft0CFwJ0ClHpouWdPASkCq4ncMoahLYcgdOVi7\n",
       "8y8Wf3B6LTF4rRjyRqAdJav01mqH7E5nYS2+jbZp0bgLXOeZa7obtcTgHzU1C5YQEb0Hie+bv7HM\n",
       "z/0AW4k4mqFwKkUuxxy4eGVvrjBp9UwGq5MVbUAUGSVeg5daO0JLvBfqpkVg7aT33g3wV2PdWbp5\n",
       "gGMhmQicMFaSNekFRs7Jrk+JLn9L2R4ysL5vvVc/odtfAKVUqAO1MwC+QvXsHRWwzUDEKkHjhzJA\n",
       "ChIuuCePkBrIRQDGlKxpwoqDnl2lB/XX8h5zuAG09jMFeV8x6Z2WHJ85fjA239YEkEjeDOkarGcV\n",
       "yEviLRd54JW/kYSCB1Jdwrn1wiRcqPRfrXMsCI4Tef5ONm4M/f7RHa9NlINKoG7zpaRVsGQB12HU\n",
       "MTgAAKcxRNsSWqK1oJ1DXMrx8UdJJjNEUMdooVFGZI/j5H71Xh9tP44XVhOGYMMv4pJw2x04EB60\n",
       "KBr8TA/65I75x5vphd3MNmBYpeI8BaxEi0u+5w+8HyqAy2fYAAADABmX/GOii7X/FWxeUiEbO8AV\n",
       "Uu+IdCCNMvhSl7PY8XzLINVFH991vSIKuk5XWsjUEtiVtud5r7Gcbdg/Kw6F8eCAhf+AFACTjN2E\n",
       "dIthrjXECf9Z/Lb9rfct44Bl3bqFnFQN4qaESsEZ8PxOGDot2wF4YTYJEzdtA5KTsWJsVchromd0\n",
       "wkfcQkh11xnHvro8GX8xc3Ol69WGebyGq9dCEvAKrH6hEfnSyz2J+CxDgHDYJaDIS+KP9TYdhowt\n",
       "7v9KkNdFhv4rq5qwvc2fU2aHoG8JwaMJz1G5lI8EyQCyGDD7CpL2jSO72l2GFBF1BLbFLYUAnEDM\n",
       "J0r+8384zVcB5X7qNG23b431VwnEwyc+bBrXSPZebYUBxUU/GYYYhT5uB23hxWJFHpfYKgGpAADW\n",
       "QdASVgFpiq3rnALZDIbKdHN8Xfc79AMAAAMAACrhAAAC90GaIWxDv/6plgABvNPioARuIa5dmEaO\n",
       "8Wqm9yz44LPMMpyMRvJGRRhTg+9HCeKRf65iX1ukOsEIFBvdQCaWI5OzLO6oROtINk4faC2Vq78L\n",
       "HZ0g3bl2gUGxCLHwEtLuZ8e+IKcDlNLvNdIui0xXF6BSgzTxFJOwt8xniupRSEBLBWQaaYdwfgNR\n",
       "jRbfCGB0zd8YdJAPlHtIwbRr+evmJn5jnzaBcxMAiWxlf/SfmF5fVwOgbi3HzHCOkkuv7Kgh196i\n",
       "ODTc+AcrVHnKfc5isHnLqS/oCh/lV5pZ4lYuFD/UiX76nJOVYKKrnYkcOEVxSihvJ1NFINVi8TAS\n",
       "PmEvXIwTFX1t41EyH6y0HiU0CnD0V+njqKio/iu3gABzSZBQXxL2mGQPJDzSkoWYaRoGDJ2YBv0f\n",
       "IKS5ZqYfGG35Bssi6vvpafhvPnuuSDWKMELUnvZ6m/ACjuk9OIcsAZR+SOSYjjrS42YdZg6VRYnI\n",
       "q5s3ezx5gWoSoWqc0/l+NBBexC67HraGVak4mGZ4adoALRr9jeRrAomN6ACtI0z6GWwtsNQ2vcuS\n",
       "Dy41cVNGGszKXDKYVsR62adAa79Uyfibke4XWS0LzyWMDi+cW1C2I3qqqkX1xE7Gc7Tl3Wj7vR4b\n",
       "4H/eo4e0Sgz4hPknsM9bG2u93/2FsERJfPIamRkjeI5a7vJK9AA/hWZkVEMJwcgIJTr6sYXfZKMe\n",
       "Hn6h1J01de/38TXP6pk++BqNN1izpiIAcx+IniYwWkxsJpn1BnLnCqHGmYDPdYhKBWBTZHyGM3Cl\n",
       "sVVAYKp5D+aNiGsINPJyF7GZonTJpKtwRPJGszegy9yYXngJvRJ/UQH+C4GL30nxDC4NWbQ+K0H4\n",
       "Y2yHiIeyoR0+oAIkGe3dbl/17OAO88qD9aS6m7WsFee6BbJ9xplfaqiyd4mbc9dczj4sHQoOWxC0\n",
       "m4+Ez7G9GVmY7JTA3GcAADblJAN+BGXVfbxOAjxb7KmDW0FJzuJFY0wkMuznvQCca8SN6AAAAvtB\n",
       "mkM8IZMphDv//qmWAAAFk5utgP24DDt4jLDMbOEMn9ZGkBffHkCyWl7prMSeXA/PfQ1BTEzWN8GR\n",
       "NS1e/FJb68hJG5kfq/dOBuJFEt6TKAlHLWGktNMyakqKd+TFjrw8PBcGE1JHxuKB1lPR16Vws5q6\n",
       "l5WP//Wqf0+5pERUmQYJXrXnEhvEXE/uCl4J0IM7TaZtLNo/A0DMksUiSFK8nWfQdcqe43cjDLZ7\n",
       "PNjGtHJ/2gM4FwARg51e9WSAAAADAKga+ENyKnXxbmCujuFJobYLor6C4kCGJ3S1CgNqzeZwXl5Y\n",
       "62+ePP4Wu48YYqjZVgaIdSIvJjdIj0SQQce3yBfq6MfoNO9U3KlR/acLY6MAXhiXq1g5RkfFJX/0\n",
       "VJnrij6HjXQ0TvxLf/BK5UtR6zWKxTTbB8aY+MKSh5zSF8krrdsGkK+/5+BhOaSN9znN+sCq1llb\n",
       "JX21AZxWg4PKuzIYnTHTq3Jr/I3zeT6ibXP0KsGOD4WpMWi64SCa0u9cIZoHUL/8rsEU6WiIOvpY\n",
       "hKmA+ok/nq8aPQ+yzWufy/XASdH0Llg6DIl2tq7fX4WfH++CpZy1O8nM6Fwx2X5ZaRHjTlv5U0zr\n",
       "FKZOTDHt/Vm4wZTBnTq6bDASuTjc7e6TsmrPXohhfcBqpgC1IcJT8Ztptp6XP2DPwss3ZK8tYHxY\n",
       "ot33RuomyjmfJMdAw3+Y73TPCvXWNiBYvScpSf3eXU3xyqhkzM2Bw1RlQB0nBzhYFzZka0Qmeeoc\n",
       "w7l0U39QW4YAHYXNmCgCt0raff1C4BeuO/2KeA65t/6rImOa8hif/CsO04NZnfX845j6A0K64x0f\n",
       "AV9amJphsOIIh4ZhEreKJu4Bi3kKGujnJB1kMxcvcFVOIgcS0ak3EBxZkiWC1aHv9Cz6KmxxYXsu\n",
       "/arLk0v6Y8emtOruJhkR4wUWGDy4fsxwLxodjc+ThrBhPPlmafGETuQ99tJ3MOOxaVmrvFY2wi9C\n",
       "TwUJrEWBtn98gAAAsWylzLBBBwJfAAABPwGeYmpCvwATJVIYEFiil+K8amLe7KMAJTd95L149jLV\n",
       "ZLaxsmL8o6JG/WYr/Lrq6oSjgV3OZa8VBjKRk7mYgnSg0kxsy5+DtQ37cxiL7Rm8s6p888ZN9eXY\n",
       "UR9I8kkfSFNHq4YduiAeSWixfADYRjqF5TOhZOZ5so8yErECwuNxs9WgkUJ1gGejTcy4ToU8vJaW\n",
       "maTzGWEXbdfVk2hQfi29Ha0GcxHpb3/ugYheEuddtjmc+eOL0AZBEUej/GQx8ympa7n14+juVWDS\n",
       "OS38bBa5BF85po322S99MZX4se8mFaTp9gOJ+6yfQnZiBOpgLhs9K9C/6rTKQpcGob13BOdfhPjt\n",
       "PAV+fyJX05B+WoOuY82Z9zlr+RwEHYbRukgRAceI16GMGifeMi/NYMPdiy7k9izr5PIMvessv5pU\n",
       "toAAAAJ8QZpkSeEPJlMCH//+qZYAAAMAHdPLuoBuAgXcj2RnckhinjZ+K2JntrqyuPaHOZoTcTTN\n",
       "NR2qysYS2cF0w4yfcj9LvVOPx4B65/7IY3oEKeECzgDFYmKgqNS6QdVhAmr8FZXDF3ESH/j1o9/6\n",
       "4ILhTwqrZv0EhYbIemarLYXdhWB9AfQqoDi+NMnD4GP2QvqKEa30nNDc4aU0MYlTH7CDQANOT44A\n",
       "EsvQu6ST44jJ2jXZKlZ874dpdH1NTXajfUaXw4W/QOH8kNbBuhd4NCOoWTBAFYQSdZA8vF7TG2Bm\n",
       "q/+Gfx0Tvz/kQt7xm8XiJS6i7BqxcS/OG9mUyaQkJ0dwKmnhDz3o1SZNm89YdhSrOTEqNCCrGv25\n",
       "KjOHp+SKgxfdh5dTMN4uYaqFIvD5yA/jN8hrHfpT0X4Udsu8eUIFgluj5B1qO+FJEux93TwsmvH/\n",
       "2KUkvSLEj47R7slglDFExDuN+rFVhmpvCqGxcUt21c8A66Y4xt3H13kFVCdadFK9N5h6s8Hdqe6Y\n",
       "+GPq3Yi3oOZZHRMIZHpMbe9AEBv2FwqiQBvgczoz8KwTnqfxxLOpq3O7pJajmfVq0wWahitpGFg3\n",
       "+QMZfoF1TLWPfZrMt7vuvSpd1uxQICrwMgXGSGVNqRsldjx9sa05hzGi0futl1Fq1qJ1JuAtOipK\n",
       "a9h+nClA0hgJ6GZdzEO6YWiN/NZsTa/bcrLJtEkIvBrfRTcd371pXzbE5478+s90RX0DEPoXexAm\n",
       "8LUgrW4cWecXmPWfDZ6pY/qIfQWh90nsf236kEIoWEysZPDDDuDRzBK0d5uGShjX5ohkTTBAIfqt\n",
       "fvQb4Pe856YwZZcgAEfBAAAEe0GaiEnhDyZTAh3//qmWAAADAAADABICe79piIAtYqExeMbqceh9\n",
       "EQCeydJurblUDCWLhFpm0U0t9Dbti613msBkWd2uXdPQOz3Je39ZIBtzgUHUwGfwinFqrB/7SBOJ\n",
       "eyO+vodPnbbcyq+1ZuDJhLrO18xMdwtwtv5d+rs59LTJwluSXV/G5nvbuYvV/WokiRhIGwoLAnjg\n",
       "aSuATkbVTRawFS5g6Y7sTEfiCf+6FkOE8pRxiEUmE9+u5o5RmOAPpkGBdTZDpxBlEt/7PmHsQCwx\n",
       "AkzP1nym2DS9kez7+11C575kGuj64QwMtCwK55YLKZ35kv5kTM73mdAOAxXFQs5VcWP2cy3LwTvk\n",
       "OrJJXQ0e/OayWiQ5M4y6y5/h0o2nJ+vWkKKaxkg2033LA/fqyAlYehww1uo92/SykqTqeaGAud3x\n",
       "6qBXCnHA8+u2owRLE8b8Z9yTH0Mcw8st/PpnMWlm9i+2+RTUQU+HYMqawcPa+rhodYhwnbAIvqnm\n",
       "RL7WRo9wOtfSlIl7EISKjxzy5s89A107ln2wjq2X0OvkDvi3J6TmhBpiclMZVLLzo6/YU4x+7AN3\n",
       "JVUlN1AgrdXBB/zqq4G830PXSZlQPpsUNbXA6YMNewkms80KQ/31h8nwOHK2dOUg3s6y8vOoThb0\n",
       "dizwWQeBCHxDG+dHtgdTz08bCfqz9QesbhdGqbEmaesCq4j1in0Is3gfNEW3kBNrflAykMRct4pv\n",
       "LWZ76zB6ODSr5vAsp4FY3ft+HftBIYM2iwvgvGIS0Q6RPMVJwh5lDnKcAK8kzyMfEm0ZlneDB+JF\n",
       "DttbRisrrJU8Iu/N0cy704oHp6xgGvYp+jIj8OEqvn2TynoZ6/P0A1AvD4yttD4I/6LP+/sd2zD1\n",
       "8gcDGbENRemsUFniewLZ/Ermy7OOAlEHL3vw+aRTvrSky7Unlr3NlBcKuvVbArKj4oHLWxStAsrO\n",
       "segC6//hGJmnczOJImatAEcwLgrDHM8SNDgsxA3MIsGM39aM9g/nm68xjojWnM0F8Xi1kGDUIsZQ\n",
       "mbQlFxTrwf2GvT76gnjbwp2Sp6KuAxDkZiySvp7kI6c776b3LSOxuhxfqYRK/PjCcq2idSfFEzx/\n",
       "UsuO6xripMhGALk327LXhylzimWnGPs0MfYByFurWNO08hcXtrXNrpIUQy9+Qli9SsytsjphqAVI\n",
       "7fBxz82I9/10TDOzWrHVZ5GwF6WVfxYYBP81eEuovlLd3jx/XlG3Mgp8X1sGu4ix+z1jiIgUA5Qa\n",
       "FrfNtgp44k9gvlczNvo6b6TwfoUjlDmMnluTtiET+5xdejkgFloNQK4qnPYxqPpLzrnp3maLqhD9\n",
       "VzE3fOXbUSiyimDxe4NKMuBcRNy/U+JfdSicF05cEt9/7MFSFG/BVyiNtG22XUr+d0/4AzqlZmRF\n",
       "J0n7rwlVR3QXXhoC1QQEt8leLkPackUH85o/W2XE+f5gMLAq+jycnop5Kd2ITaPl2YoLX4I+HV8B\n",
       "KWPu2WM8SvaJUAgZohv1M+3ESeGbCcLA1IEAAAG2QZ6mRRE8M/8AA7YHwrAAAElfoC4dFN+AAvW4\n",
       "WOCRGCl7LpstSHWYt99ageaEcLdI5+YoS4iFLBH/h/fPnoyWa1Qjaf6qof+g0cGZn1e5Q5mFPzcM\n",
       "BiGg3f+2Q/eNxfaXmHxL01568YcyOTtka57K+BUAD1ESWkogvgKrX4NC1WNwn3CxBQA7pg2GXN8i\n",
       "enCXHladmzPysgBtF01Uh5x53Emodtt9HOupAOIKCieJDgRIJiW/F2Ho/tiXYhQmu62/j7vA5Lku\n",
       "8xihfXNIMIhivhZRWajTVP+jvFW+YYr0Bn2NzJ5NRXUwDXkDVsty2mDS/G8Qkoa3TmoDgHIAk5Uf\n",
       "n5QlLjS9jtLNihoT2eaVqoV1hqT0zVOvCzAal6736Z4GuP+IuVuZc3yzLuv6UUoX8YKE77ATg5SI\n",
       "624gKqZoxjYNRodLpHXQ9hkYZ2iMDJ3w2kekYWiHCBIT2911J2SSyN6stsQi/x6h2AGyGgA+jNM7\n",
       "Ou8bIteo/7vb/aJAp29goDCLJXZj1U4OQurc9/k3flbhrm1a3wiGV4pthTmWJiBamv5jupnczCla\n",
       "DqF9BL+esCRAmN6BAAABDwGexXRCvwAAAwAAAwAc/fV0Pt74e6gAmb25mhV0CrU/e8zhWPZqAuH/\n",
       "f2nOMeyDZ6n5maliM31HIvcTOl15el9CAtcOvnCk9C8aW2l7dB4mOhpM/z/9w/Hz2tK8pAAihjmb\n",
       "Sv7Yc60f3Y6Z83W0sgCpg+nnep/GyDYC2390YahKGBXAA7UHCNwVpGV2B9HQ26i95Hcuna9XNQ7z\n",
       "ebOeKSfaxCnsKYQBC55j7dR8mgMNKJT9z533ZYfbqzW0ROSmaCObmJo0vTYoLyIUWpY1oT+KY+CX\n",
       "2qKaLfqcWQMDglEPbaE8xIeWdGmaybBFDNa4PyXDmW7q8oM8R+1eHElES2hNKtA3dLVxcLYeYoAA\n",
       "z4EAAAEWAZ7HakK/AAADAAADAAAWtonhWvK+xwqMK15DJrZeGwAJw89qImqsLzbYS2b7EHmeYcDe\n",
       "0DvQdZ52BiQI+NDdREGKz5koyojwSeUwcs+VABsl2UykMdbY7gU2quVGbLsuLfv320oIfAciaQTN\n",
       "EbmmpDOImv1fzspRPu/jweFXK16I3F5DAa3pZB76DRhLfYd5jc2X2IcWFyl3WsiFdgVTFe2UaNi7\n",
       "dYJ0LN3tHu3LWfb0wNfWXnq6TcAP3tEzcG77wJSP9gbTS/k194U0PLXepqrd1D8vLC3dUeD7Ks5R\n",
       "sCjMcwXVhWiH7xLQoCkt6Sfb3fF+as4k2ylUm3ifq39Wns3GXH1Lt+ERmo9v477w6hURaZAALuAA\n",
       "AAUeQZrMSahBaJlMCHf//qmWAAADAAADABIDqPQBa4noRTQyoAgrUbHxt2MfRf44IVQc4FF26ocw\n",
       "DElbeueL78Yp8f9136y/7dBxrdKCVDnrn0xH2NkUC9PPn7XBr+zagBRgElOuuPv660cAI4Uarv/J\n",
       "+svS66UmPWT8hqJY9iNocMkr+bGtDwquojPKR08CBM5bOFWCRcAuuimanA4u+ka3svVBZBowMed8\n",
       "2ZyCmdVshIlBsqeCI1MezlywW8XHUNEq4Jkn4Tbaxw6OBRmE05tJD3zW3AFdoQtRWrSKXPqE1wb7\n",
       "g5+Ao/ZrT62sq2KKGe4+VpTBkYMC9Q4fJNkbdU1mHUvAOsai6Q+DZip44VZaPRPx8VXyp3X316hh\n",
       "7oxTIE+JwFbxJc68gE43iClLtn3dC+jXBs1xnhPb3LzsKupFc48rEROIuqH/bumSyY1iPTuJ3PlL\n",
       "RWOhl4QjsBc0FhJIITOvu+AH2bqXwsu+qcg6aAeZwgqRhSma6rL+6ranb/EmGjD6w7fBftL28ypU\n",
       "0enUi3xe3TErRpG9KrCj2c0xtMSKTMbDPatJ4TIoIeQk8wkhBuoZS1r28FM/+f2Sr8lgyprddqZv\n",
       "G3KnCY9QmHV0bdDSbqZGa/Drh20lrtwHSFp3L/cpJsgeQC342zTwQeJGe1BUeB4izPg/FIzK7npM\n",
       "MZKed9GmxSj8RGxBAMatk4ER2jjCJ20LWzPFX9eSePw/PbNMHP+AZXv1mM9GrkknPlHyODS1FExl\n",
       "7rL+wrKHj3ZSkxpICPpDWUFRVakDDKfu8+z5QDpe3L2YYDOT+RP5I3W0YMy0cLSkagC4M/hMXrOh\n",
       "uH1kFhrWn/ldjFQ7/Xg0vv4Pn5eytj4nGEpBFvcFw/PUXS2dqmYIuJvYsq9ntnumBOT9KN6EdmSX\n",
       "8zT6JJOojXke/uABUj8IGb9/xiorRH+pJSqXH/d/2JT5QDqj989baFFeSygnROtsMyB8ArId3kJB\n",
       "o72D+XQj1B1cgTDYZJPQ6ZkgIV01Fx+5oI6sNfmXwEBAapF2Tj6dXFZHOcjV+eWAPY+kKhvdkNdb\n",
       "axKiW94IlNZJIO21ahs3WvjRzxETpZxYvnhfeqmjLZ+AN+AvuJAL3cApqD0aEgv19CRiKuh5my82\n",
       "FcQ4f4JKWgFzmRpOkQUKu/9h+ta2IIPpWT++/ioSFNyAZNFZdyuLXhNcx5hFeBfJnfH66cVFeboL\n",
       "0H5stoS0Jb58hcPGYK1SVLI1NY1dJ2XRkBPGjdNMRZtiRZOQKztCT4i+TAcO+JDNYrC/UPotgYfN\n",
       "wbiZkOFc4873UtA8Ai35wqFsjilETb+djWsGLGIXkRj10pcUBB51xyzZNO3xs2Ajomn9PqN7KQDV\n",
       "tgCfe7HGSGa1fm2VQI0Jt0jWg71a2tccnglzmMun5re+2GDnOfV2AcYHFZmwrQB/R5sVFw8rWnhg\n",
       "jH9T0thQlO0lkTM6WjM89qXavVkaoSKWnekakyigm8Q7/6wSKX7axwSJR2+yI8GgwiGjSM4DIEAy\n",
       "O7jKtncdnnD7WSC5Mm9Xb9mCTfgs6FZpGln89fjI/RBRgwb8Dd3yUq2G7ao9rgJTf+IGinUV0e9+\n",
       "29y4e2mlUkZD3xhd5SCoYlAZ9bNaAe722DNYuMKwovI05bHvg4h9MQeMqixlvgz99ZR2Zam+WR0T\n",
       "5Xhk9G5fbOIumFMqAplxiWKpUZP3n9wc27HI3wrKjlQuJFeiF2Dvtn44ABGU87d+NklSv551eTxs\n",
       "akAAAAIhQZ7qRREsM/8AA7bBJrAAAEduPjyakvC6NREdxiJStF9iAquz9kX2EZV4AAOc38kGKVCQ\n",
       "Ez4+kk93nnbp5qBEB38aPD0kQVt35AkiUFlM3IUytnH26wQhuJ8nPFwR+AN5HUtRvXXMr5yjpRBm\n",
       "q7kYdgVv/Ck6LNP/WAwd8PkSgWOIlkvwHHoNzYBeATXLBe7ih3O8d4ySnpOEDhs8NLYb61wXXoAf\n",
       "6l8bqemZqO76w4+0fNtlUqeJURebCxlFWyZeNLqhheN+som3HJMNL9p8BtiR/MC7MemaxQ5oI/FG\n",
       "YIz9ZpDR7L6uptxb8ypCK9zP6hcnmSCPwTVve4WixByx2iCCfqv4zHtW3daSvpBXqhAI5eJp1qwZ\n",
       "PBnhudXbkV6RqgMzIZ6fV+D4avQRIcusTZ5I1+OJe4WyKjFemME8jc9XIkS+odd9KOj2rassTerv\n",
       "j0Zprj8/xx54q9ylKTE5t75Xlji942WgCNcmC2edRxpW2WdbA5/Ks+pegaI9CYZsfOvvPUrRl3L4\n",
       "PZjgnb34VDiGUt+wD4ZkCJaUzu87PI8I0rhfUOUqlH4u/q8A49IoExph8Cqz76dmHvPRUsv0cbxG\n",
       "WJ/iuxJYOfJ0d/GPOegGQBPln91jZS+6jI1KPs6oJtBxJidHCJAJl5It2ij72FDMfLLk5Bdw28PU\n",
       "FTkkhUPv3qnnNafCM0WWTxSBU4bveOUYDQIDwRDku2sAIvmA3oEAAAGMAZ8JdEK/AAADAAADAAAD\n",
       "ABFXNjO9H1eAddOUb/z7VwAJWwuWJy97smjIhBHyk/vSXo8LW4uOb8XgTiCzLGeU9yLcydC0LezR\n",
       "gazTJXXg73Clb7O53DR6MkW0cya3zDFiFX1+g9r5r/UFWnyUd3nO7goJLR/kZHFQtFpxE6VBkdFQ\n",
       "7aP8pZAyga6PUyiSbeOxKN7N3ql5hY5+YbYXEy18jSgaeLaU7XSrWDNQM5++iQxeZ9JrJx5ANxB6\n",
       "mufi8lwY2Aqx0dEZzX02wFz0pYZCknWZ0nRa7K6qVWIA5W/bWc8S1cNkHPSED/wCRDNiyT05FBhl\n",
       "G/JjZmhRjwxg2+Db0AU2LSTClWdpYPxBwUBsTKYT8Apfn/uPiW4+imWcGECSI46//esU+qX6dejb\n",
       "DPBpC7Fi/F/nwclr68G1VWfPmUxvfyawx7eIUg2XpR7MKDeWWlqzBQncgdqn0qwnNbsG5sjMNlzi\n",
       "aw3/xvOn0i2jvehY59oXBTW7S4pOFtHIMwtIuH4zx5fSZH6YMAOOAAABEgGfC2pCvwAAAwAAAwAc\n",
       "VlAzAAF9/09R/d6CjGPYuIAJakkNM7dNGAFoYK8R8w5x1NnTMc4iVYzkOTw5iWftSnsg8GOA6Nin\n",
       "Zn3zX1kGw3jTvMXwWCSA2GRSY3//xSJDzA6WxK0fYbK6Y4KaeUjRE82x/yfS2T4AXhft8k8iPF54\n",
       "3QB391n3VNM6fTSF+HI0D3tvhAzbGhBQZ78Iay1MKCAQjFgXQFV6MERQR/1R9zo15IdO2ibuCYbq\n",
       "O8RcyQsKEZGbD4vdo3APhojtQVM3SalQFSBMA3lNl5Y3JP5EEDtVVN00Nt+6Uy6iIj9HTRi7+qaz\n",
       "bhWYIOg6rdxJzQUQOsR22R0SxFWZv8FlpXSE/kAAa0AAAAOTQZsOSahBbJlMFEw7//6plgAAAwAA\n",
       "AwAAAwAKmKkQQpPjoA6M12KORkED5v8x6nz/OSjlVnJIt6wYSDmskMsFSwFHgFJa7eK8IjhRIh33\n",
       "C0oZPaP1SBkAzz11xbJ7vvZ9OwltRhMkqwvQlSg/6EqaD3lNdIE3qF+rta6W6LIPq0lM7wuRRQYQ\n",
       "GbZciahpaA91ME5MPF8m4UiKao84Hnxv2XBPJch8d47vuqaPxzOT4M0T15MBe0lAOs2kZj6bUdtO\n",
       "ngaGBUa6fq8ywwAj1Sodx4bhuj4juc0foZYpW4NtAAcvHporB5UVihRg5z1cagHU1HReXDaDDl8W\n",
       "Q+SWtvyRHvBtywKq82DWXv3dG1zSVEW0E6JDwiGKd+GnBOghJY8pMB7pkk5GKkIq0KTSZA7DaRNH\n",
       "MT0e9yXj4lQXCgCh954PO8L9hVGKtV1yFDMJChTGsChZkUIdBhM9tC4nXSTZbf2IK796Uj1g8Yml\n",
       "x20IR8814+i3daQagoHIXuZvaUV9Nfj0xXWu6BnlEW3pU1mR5WDyYPxQeOt42Ptw9BziFKJPFDUi\n",
       "HA22E6Ah3wO+Z8bJsmxPEVSCWQdL9ngJpU44V8sCeSiWHkaRIj9/XS4EVGnz0iDUBe57Q2n6xve+\n",
       "nuaYUMd2A8hKgqwXmOb377uYPk7sCDLxnQFV6Fc14u0QrAISEu77fEndvNllJmp7Zr+fxQz0WMEc\n",
       "R0pgzzAeZHGr55zLUYYbdMdjGldNlssU7WqGlIna5R2lwTtSk58y0n5RZnBxaTrbKpfFxHHb1Cx9\n",
       "LK0MdgYNJz6Mw/WXlHLwWA6sifYOFCIP33PUG/6wsrDIRX2VlGafUOJEPjeGQdk2w652vLbVn7qI\n",
       "B4ssVRPUCyppgc/t5nTe/HSGgaMYICsh2cV7S66YpypEde3i4+Dsxs4mgF+cHLi7EpeTn05WP/v4\n",
       "6ZcnM118FgAhE7VxbZHoTILjRD/2y+CkEBGM0FaUpUtypp/dyI5mkdLKMF2D7Qk3H6rLr0jyTaDg\n",
       "fOaRIyrCLlSz9CyrmWH4pUUFyn7SUQQNR1GAmZDorQz9eyb/sMFYCmToDgaDqSULYV5b6lkgg1H+\n",
       "ddDgBp7VczEqIMC5UzBQ6bWMSgA6O8dR8JrtiISZQnalT5dhQ0315gPsjQuMc3R8JQbni4KENhi8\n",
       "KpdZ12dAoTGG1aQm6DBFyt+cQbx8yZbtVORV1R7yoIABFdAEABBxAAABMwGfLWpCvwAAAwAAAwAc\n",
       "WvOtys9viHjg32W2Z/ulb7CPPjkE0X4qCfuPH0IGjfzQ7BXeHOmxxBLnABtLN+RAxPzrOI9zxSp0\n",
       "QzZnLqG1gBGJbDyTq8J4cA6F8o3AfQ9+HJYrryNUQ2+dsScpUt+T8dZIVaBaKkugX9WIIxEeOeO6\n",
       "OsTSFEs9bsAEI1JambPs4CJef+ctdeuk0S7Pov4xCyp8eipsSm2GrtkpPPPp3on0zG350G3kEmdq\n",
       "Ya63N9BQQG6EC5xdcRO5c9IrQ3x/mQ6D6O4AOU+H/D7LSoVSz8YxWmjDGWc3utMdLnz7mJ28u94W\n",
       "m0TxSKkdxrRi31j0eGMX1Qf2SAXTRdqgs3PqtB5RgMKylqqlEUpShcF8xJX++SENF++RAGGiR2AE\n",
       "o8s9AZB4HHEAAAM7QZswSeEKUmUwUsO//qmWAAADAAADAAADAABUuNfQAjK52aAqeAkG5h4Os0pk\n",
       "dOjLv1jZg2jZweCJZp7qzzNPJOKpyRAqd1O6JI4cwy+O+V0B7ui3sI/pe0OhVTQGBvDELnGoLtES\n",
       "xwzf/JGKJh+GsY2ycZLt75POpjffw7CofqAX00m+BcuHpzg9jwfrxYdTeGVZcqX6c68O+OoSEBBE\n",
       "El8esIIFiNoVqEGuqa+4iCsw6jHxiPT8D8Qk+Km09UTDiYOTK7/6AytSV++O646lU3b1P4ZwKp3P\n",
       "endjLoLWKy2uEjY5Q5fDOxVrzZDaDpfp6AuSGTfRGaODy5uL3NN8ucpdudtKM74aLLbATvx4biB2\n",
       "gOlYNL80d6am6C/ffpl73Wv5zmlovZZheJdSku+j/cAv803NGaJegaQQVLa9ePK0bWl5e6toyLAA\n",
       "xd+UpIRwxt67nIS0KL52x0O6bWMmiKhqiZpvtwYJ/mLmzLpnoV7Wc4DyCv5N6+WlyX3tCCUK7oIJ\n",
       "q9mflfCHIwfi57B0GuQTIW6pJVHuZENOtMF4wN5ApMv0rDhQe9gWQIR73U+j67z3M4Wl3GxEr3wM\n",
       "SIOFNlgfkEoHwtw8cm2Y3TQOhv5YINswBgfSQnz5wkBndodPNxXl/eEs8T43eqEjeD3qcWKN42w/\n",
       "3ufr/vbz1MYc0fDzBTDOh4yln/n5kFTB9lD2M9fk2r3fMl7p5zvLBUqTP9htx1LKFRcVqej7k1Sj\n",
       "hh7QIJp/IXt6DaaIAXY4kpdXvdKKAX121v7m/2d1aFUzncAHo4BjfJlkFA9VTQMos39HAIdNx8d9\n",
       "l7We9lh58W/+1XLSSl1yRcloQrG9Gl+QhxMAsXfvn/4atAhP8xA9b7H7HLYXOnpHMoJeZylHd6Gk\n",
       "4bBzOyP5a+ZmEoJHFab/1O8XNBRqUJVXbp0CBWOFd9Mr0B3NMZISX6q7TfQDxSAf9o4ZeMsoUAJD\n",
       "gXB0tMgsvEBXkiMgSNda47beNSXLEKFeZ/lTHhPdllFYiAQhIThefiWpjOCYZXTOXubxxN0+m/V6\n",
       "93YTNQT7BAkeFUWkAuQH9BBc72y6i3z8dYic1ViKogbxbAMpYVAATcEAAAFWAZ9PakK/AAADAAAD\n",
       "AAADAUctvabUivA7V7h+DQIUu6NH6d81FUmAcz9JbuiUgAZ9RQ4TdfhC7pDE3/qSAaPf5ejbh1C/\n",
       "/k7UHLGAeVls+NcplU+oIdvyf4YDBpfYnxI2XO+A7cTT1V9Qxaf4y9MTITGk+khvn3BYu4h5U4LW\n",
       "rBtYZBFHUfg11Hb4IKJvC9+4tsWd327UT1aqwUso2qGUQfadr7TE7s6NDU3XGbgyUIt6O3BgzfjK\n",
       "pObGjQolxgxKARfQC0+RdUy2O1aoTDHXZMe+cMCOlZGQWIStH3TXA9M+3xeS3hLGoaunsPYuh42t\n",
       "EfJSBMPgxkp/cTa+JntCxAGKcBt+Bpa80rkEdsByz8YLFKLcrTa8IZIWHv+k/1HL1ZfqHsZsHE+Z\n",
       "E545VrX9VBVnIavp+8URdw9binyTzWbU1pQLWcijtpNNUvgJgStDuYuIMDpgAAADfEGbUknhDomU\n",
       "wUTDv/6plgAAAwAAAwAAAwAOkmReiXQAjF90R2ZNLGKwboFS9anNNqKXEN8KP9ucKkTwMzmr7TtP\n",
       "4XYyCQn/taB0xRaQ+e3lLZlpZwN5xvuJGwzOdJeXKgiJQW0sVQHtpgK5cHvRk4cw2B0yZjgJ9WP6\n",
       "ubZgQw2lXlBQb2SZ4WTfFWplX3pC/Ez6xWSr8jxb4+x2oldez30x6cwHcR8gowndpYN6MhkjtL1i\n",
       "JsTcJYGo+tj4bIYZPVBESzA+ZGPvLQRsvbDegjUgT48UnjFIkysJeskydm8xw8JG31wBUZ/+gapd\n",
       "/pPIskE4l9UX5HesVvf5i3OlFtac2JxIjrAZPEl8XPguKSzJWX2qtOQB0+w+jO52FrECHYquy54p\n",
       "jylW/5smaevAG44d5Z8Y5+evgo6TTziPF9QFdTg32gJMlQYXmWwNTUuOeUczd4mZvWJkezC0VGKV\n",
       "epGrASe5KbrEHelEcZWQr50tNDRceXfauULgOuPq+WeMtuArJxR1P5MEcFCKwP8SKrE0JLEYveaQ\n",
       "N5qJrFbd7C8CV45P3m6nsvNvG8uIcEJ7SIP0l81SN/ymzSi/W3mA7PuVRYVRwEQaGuGfwLgyDls8\n",
       "f/kHWGakfgGX0T/p3TdPmfn8APG93fiUrnMs5TGdYjVXHmr4oz55IZJMzqyGh0QHVtE8VICOIU7n\n",
       "DPujFavRCbKKOqIfbxCyzTJqyQPzCYdQYKcoBAXqjRULBgemDnMhioN+hqgFiKr7cf+1vlraW0Gf\n",
       "kET2VUo9tYjwOXIJz6+wvqbgLup5AvoUMbqZviOjRRQTFX20LKN8WY5l1NqHUtBdSj0c+2JrhUDr\n",
       "Ybuf57za9dw1m3ed83OsnVIxqONOUdgq2qFWvmQDENBY49iaTpfL86zIOQBj1xtPQhBP5rJ4zuap\n",
       "TfD9bCXopAm1m/th8Jv/I/61Sy3tYnCGQgVOpr5Wj6GAQbM3OgYTZoK13Ikg+RE5r51owA42d3wt\n",
       "mXd5DnGPHJA3TjvCgs7r01QMjvD7WXTk7+xqUzu/FaDudLGIM4zZhbZhsV118NvGKF+jb1OQCIJq\n",
       "gW8If73tBNAi3160eppH0fJWCNTKr72fDHXEoCk+XME01RWoWtkplYYy7Ztfk3569NJOBzq4hPRj\n",
       "HrAOdhB5k7tBie+arwk3aF3Js/p04AiynCAAg4AAAAE3AZ9xakK/AAADAAADAAADAUctv3NtnFQ5\n",
       "t3q8Dbw5Kk3jWgQFJ06R2DXyV24hBH4fCrZBcaBFpJNIq+LD+dkG9n7zwtCxWeXWY2+NH9FayBPt\n",
       "kAJq8l83Juz+4x33pVkVNzkDFzosIzeoc2dXVKOFsjV1vwwtmpRwCWOmMVuJ93qDZ7PSfgeP87z9\n",
       "qqmW2eFxTWzlipCNzjxBa+5PqmQfClyyv0Bp/AnzO1fIz29wi5V8dPg2hdBkU3wOepBLIkWMeq0B\n",
       "MMhob7tyw2cVSwz5smjI6Qr14xZtHVkO7+0pGmMtsZ/9YTS2r/N7L+UdDO+s4c0REdzywcUOxQiu\n",
       "2OLbffI86n0lAUtGFcZoDhMC8Hq2aTqaCgo+9JpFDJNWdfoL+eIT3SER4Ni4HjzfdxAAfGMfMjbK\n",
       "MR8AAAPqQZt0SeEPJlMFPD///qmWAAADAAADAAADAGembaAEZXVSMDC3lXBgvhuveDremURlVwti\n",
       "NtKowfntovhZTTuJ3TOgB5dMRVnm1hKTl2MeMpXotCcq5LlnAHybY6qlk8KKTQK5k+53i70I8gsx\n",
       "4xpLTiqX10XY+J2NCoIa2XMgiKQToiQPJy4B2kqPe9IIpJ/WKXQ8IzJMC0F5CJt5sbwXUCIo9nJD\n",
       "nEGAvsUp2tR5db+u7ghpEI6dg9VA9fKtgPjhgxs1VlIIBmOT9OdQFBlw4ctDBnY5fyHBWnys29Wu\n",
       "CsCAdVsx9ElfyqM6Ps02s6ymEiszPOCMFv+ACvVG86HQq2FgJb25qE6w+TmLwv7ARyI7YvDZ0i4n\n",
       "/qckcP6WXAEEKlzgzXiTIWA9fY41TJyHUKfrPCZi1xjrnyt+WYcwc24s30DyS7bFiUT/ll4FTsXD\n",
       "i131yHbPG+EBiLapQ3MTH9YgssjSzVb3k2zVSkkLArP9UKvoGK8HheD0uovP6XfXfaNcJKUz+901\n",
       "u7JJU8uZEmBtq27fiLHCtxmFT2DTm+9pWY+qpvotg98e4SX4lY0LdbsogAtPyf1Z5X034j5xNOPo\n",
       "0jN2VAL/9QQ0JhnOwKKlTgin10m6v8/UdOCNd0dEp8yS0RTOwwr984zLPceIKRaQ5tpPcjxo4sxn\n",
       "glyI/Io06Z/eBLvQlPLB5vhCgFokklfJYNzHPqTOgGFLw+rMfBziWGkv/NEDVPjURsFsts8gWNdC\n",
       "WD5dVnL9aTsvHT2Zp+7G4TxTwIgREJDCTsYVHQ9/NHWvWeZMc30m7YEx/V0mbMhc/8Ufjr2Eq8MC\n",
       "FWs2oXal3ukBWygOjF0MhTvpi491T+PqGpdQqTsoSi2HhKqwIG7OcaeMx/iFwuruVfccedqYDL6s\n",
       "rnzw95uer40cCa6E7XcNmTakEViio9SHoeQuQMVhwBLE4cexn4bVSbR4NKbuU/Ce/RodX1uMppGA\n",
       "zp6O3TW64KSQLXxNmqMCxQ6C7jBGSkffgr5UM44SVyAwNz7MseGz+AOFsNFDZ2us3FsDmd7RurXk\n",
       "9xp3ck5nVZLQJfyAiaHSjChhePw+BeCcS1G0qZir4sxkAogQawYA+sZ/HX26wL7BobizlfRbxARd\n",
       "EmFrDatAwILg3KVBSBxnXi3ReQleIGqiqhglNePsWtT1ZYRT7L0lvqVIF29DxgZjNQBlzBEgWdMU\n",
       "LOQcNttjF5RfJC/zKEG43YcyRiPj6xXkE9/7XKS2sBbCbuSW0gGpfNK8WHhrxUyFJIZ/bVcuPkAc\n",
       "yjgSbz3RXwHf06V1WVzVV2hlQ0iHsLTf71gQFc/PA83kFDeZkAvYAAABWgGfk2pCvwAAAwAAAwAA\n",
       "AwFHLeI14QJBUvPKQlGWqfr+ZQk0QKQ6fruw06hsZ2dUqJ8RQ63QOv0ZFactXprEfm0Bk3gKcqlk\n",
       "negB8cdlppsnrCeA3lMg5mcRPy7Yr37Z+87LXtk79UmdlzgoXy0X+G+PjjHCqSov3Ips1N8IzLN/\n",
       "26n2J2BbrffEhCruA+DDnUeT+30nPDvXrDteMMI+0zRhJxWmxjSVTFxc6E8IjPGZCADuk3DSwqA5\n",
       "0c2VXLFYqli0kKaf3NejkkVFWbUNtb83X3z1ShTsnXPaWF7j9kGE8EdNE82kIHeBXwGm/kEHOZad\n",
       "KYLiNeekzdPBV/sClnu/9+5FcDAlKSuEPQi2y7fAMyfJoD/bHF20erWegX+gMLhokWAE73/iwB2N\n",
       "iGOK0pRcWk9Vx7B96BUEHP1d55ldCwBGJEPAevHETTr9+Gp7ifHKSLioE9X43oAAAAeOQZuYSeEP\n",
       "JlMCHf/+qZYAAAMAAAMAAH12f8JLF2AFvXOzro626EmhMWibRHXdWcPSUf90cFTtYb+76fCih1+k\n",
       "GATh7F7IsAIWwyeh8jBO1jMOkno6XUU/9uwzcRreYnnBQDJXB/sxfwV3RMloi92c65QXoCBtRySx\n",
       "ttMBdhxPt+dVq4qj1SDX5gvS6i31Mpn4Xt4W014XE26oQD5xuv8dEdQdCLIJ9/lKtOqOoigBoP67\n",
       "hHKJCbwO/OG+Qcni2AgfiOEBESwg1UdM5aPmnpG9omR5NP6/d7uw0cwxfe8fjHKC2BnF04NCtOvg\n",
       "/g/gFQPfotckyfLxyOyNhBoETlKky1szlyK4M83CZ5XdOClEe0lk0KWlIze2I2zkg8hc7nmSahq1\n",
       "TvtAwwhP4+TR1/fC5zcJEQJVXm+I6Exl1zn86SlAL4Telrw3WJOvzFya8CHWmNQ6O18HQafNruiL\n",
       "1YyXHEtLIKoHg1Isbx3AsXvTNMZ//P8abJLdzmeVqyqrJzK/gIWR++AJuNPrDGlHIstb/SZnVpFP\n",
       "2MsVZf6vOgk3NDog7YJeoLd9wr/WzP8wu/BZbB5NNwtdfxnsN7qp/34y7aERWxyDs0+5paO/v1Ez\n",
       "VpFVl8+baC5X//4urakJD0V981fVCR1ls6v8q5t/DNNdxEXucaezMguDuFczfBRGtC1jky0BX/NI\n",
       "ZBYylPlGk4AIBA6X/RDgRJU/aTF+/fuQ9OsU0Y6S+oyeBPdA8EmWxfHHb2jzzjNvAEVvj6kSBswh\n",
       "Q2iHPGWMHypIXV0iLdafMUG/3Hm1jV00WPy3uuX84wZZGpPg8suy8JgzVdD49xJSAa7Y2ReNoZDh\n",
       "RZhgLUHmdroc6ttlMiUEUDmbbFLsCfOol0RlPmqZQbZR1+zkJuXhBljMJ+Re4J/8Wru4W4LEtdUH\n",
       "Fz+5X0AEiO6lzeO06psIsNUtjHEp+F/6LamAViZ+IdbMD2+/hSGY6u9RvRDTri6aSHIgKIA1/70o\n",
       "v2+taziK06U0vu9baidRGjaqKQATVB/bWP1yefNhQkscQr0yHgn4V2HdLbt10WX2HaCKlj3jQ32Y\n",
       "Qki3tYsm6zShD4nBikFGWyReqsdw3SFywny1qP4Sq8upbnf6i96OCe18/YcFK2cC4y0rGfF3pfJJ\n",
       "jO7MelxP2y/hBoZHcXfhTQ2tF/Pegy2XhXyafkVcuXVrPna9Lkylla8DdFAAd0VALLJHzJst5TYy\n",
       "mu98G4PvWQXcHuOvIzGxLKEi/S+GpiGxxwTxIpOENnaRl+JrXlXn6XOaFM6d8KFGO5BJPOpBcShp\n",
       "3cYs4GY4X268dKw0XsFi4x6hChYyQsWEH9W4aDhr1j8NslhAO/bDB0TuSfJf48hZEV79HBSlL9Kl\n",
       "6ifJMdP7h+VxbY8SHzqA45zE6dJb2ZFbeG3cho5lga1or7ubxJmTYhvnegYbEVaOnWiFH36T5QW3\n",
       "wyqaTU0I7e2PuDhCp1sUKhnRyUtLUJcV6vcMcBqsPh/xLCoUCIzoTg5Tz6pLo+VP76z6tn4F61ga\n",
       "utc67KKSk1/iaONmcq80obh8TNKtfCvxxsCx5/HE8BpXuxg6UpRFx3quaiGZ8bnlCNZ6E6Wy60Mu\n",
       "u3v2ZYa3Ygk/XqAeiAaQ4ThgFYY6jqZoKlkangF56WAzzxg5tKttnhFfEOud13X4kyEV0LKbMoG7\n",
       "dOKmi91jHmTxbrdwvhgytt7+lUbbXeX6r6YA+wruoDYGfS0pUrtaSJSVXFRo6s122+V2+TBsMwgB\n",
       "eOBqnO3x2+VPax3AR8FBdUnV4Bi8p2+VN4C8zsGQ4f4muBkoLnxalaX6YvcYPHJkI/dzV/4SdrNC\n",
       "UdxjaV1XKDxQbkiOqHC2XutzJfc5hRakmXf14GnXctw9fElgbUSMZ7l8ZWqVCC3MdAm2EWCIcAL3\n",
       "rfTMsT1SgYRnV/Pe0GffjqpSISPcFc3bsTMFJSGAalid8tg52oaDtg4UYXmVdIYAkr9hw6mV8pBJ\n",
       "aNyRX/lleeaTDI0i1PodUaTSuqSwY2bYkLcAe6fbMAs92ddmByU39V1IZG9yMLZRse3YFj0Y0DxG\n",
       "p1Rbjbkl+2e2XJut9co0khrEu7PlwPbKKRFtGRpI/OTL1lhVx9veo3NpT6+PqLy8H1i1DylxIj4T\n",
       "WNeqX/pMob5S+BGBk/WZon6YrSdjsLMh/r97zEX5C3h9jERMO0VFFiiyVnDJfYmJ3HblRE48ptfz\n",
       "LPr1B9/h1X9N3EYsl/dG2IIp6sXoR/+3czpNl2Aad+1gOh2T8eG4dbFuaHMbAM/3Mjcnc7KuuWat\n",
       "jddBZuzYsntPj0k3j+bdTlU5YN0qEaz0XmlAOcQtdCV3fTeFf6b8m87RzfCPWBKqXaS8AmiSfEb1\n",
       "pQwtRlQsZyMbQxqN/DQyyoyNJF8ycvPbwwQKiwAX3d6CdCx7nBi39dcR+VmJqAw/B80Ou4PzYV0m\n",
       "Xj+fAmbkZhWOgI6P10j4cX5QgvU9+iZMP/8yGBFx45dbJUpxY172Sgegsv28Q0IpGTgNlxJmECUD\n",
       "PCVVBvD7nAHtA24nPCKnIsr7CumsY0l/5WDB1v/FHzWukCVZjIg9+aMIH95AAR8AAAK5QZ+2RRE8\n",
       "M/8AA7YHwrAAAAMB/C1cUoPZNbXBZVkxG/ACE/qi9FKQqTPoyNgOnAFFY/MvcLMEnfw3lud5hcPq\n",
       "Zb8wL1G8YBcON6DYy3oOfys890c599Bs+z6jDSXPtM3IEDwq/ftvkf0oxx3phgJRm3QeutvpXiSc\n",
       "NMz+hd0kDp3Ey5EfQ46FMJPIZyAndqWykg/CTPO2jNCfXOApC/mDi89/LYMQRGo1PU6mjAsLDA51\n",
       "5TCwisQKqKFIMac6BmshMEtEt8hCpTaCWrq6hB/8uyBKgqdgHVS46XiJuOPPH9nRuLrJN77vjXe5\n",
       "XpaykEtzayVe/yPWubs4Rh8UNLu+5v2deohLk9arUIQQmPPUZ/cu++vueWGZ7qJKAxG64T3IrH18\n",
       "IqdcYwPpMLGuFjGEwz8rrnwyXgAHMn3JjRE+n7Z13nKYSPGyzEcfDZLhfqncvQa08CRqSglGmz7C\n",
       "40E4JBalLQADYURbcNms0fGIzPcbKpIgk4esff8FpQRm6hUBQzlHLXN+ElViVQnXC2NIwIqAH/kp\n",
       "/k6w6PBO6Lrsnd2pr4ijngPVSeT7yvWd1Ji1HGSWimnY5+KJWNpK0fH67/dWY9uM0PF/soOX+36O\n",
       "2OoswLJ7IAgwNxjqvvhkg1VfH2ymtLmOxWVH2Xv4TNUtE1oxlOR2ffznMpO3/0SoMUhl6Oj6GfLS\n",
       "noaJVWxUUVtmbGzIEQo1OCpX54+O+80zX9Cdo3ccdOj/upgAl4LP9V3n54govktwEZv2nh86S93v\n",
       "k6uoUup87gFju8hYcKjculboSIbJtLKDerkj0qHesEGluBf2M9QrWEEDKMsbiXD/A22LQhiKf99w\n",
       "sziyfVCh2zQiQBOqD/BJYMjMb6kKwcEMcsr3G0nNYBQFGYdtATPrU+WowCs70quBIUEJaedk0U+n\n",
       "ZZAWqIjKgAAAAbsBn9V0Qr8AAAMAAAMAAB5oeleKz+yUAF1HRWsahJ7nU21zuHIuRKi2xzwjuvr3\n",
       "7BVFunSkK7NxXgjDKVzQaPg3dgp173fjFekHJnmBW28TTRGZmtazoE9g/c03dejtVzUyfjhZnc7D\n",
       "EG2nW5Wg/C7Ei5LH1pHCaTqYTfWxZsIWg1cLUyI6KjQMQcymSfK5RAMODuvhBWtfPVZsJC0B8yPz\n",
       "Og/7ogjINo0NaIGuQ8McbuM76jEr0KcLCsNt8Sm+7rURVuXWvsYpvP3WwxsUs/sZ6jflo0fOaSmq\n",
       "DUazGUtErNTefk7yb8tl58m5k08Iezg4Lx5k6ji0KijOFHybLrP/bISU+iWVxGHNDXdFl5UZYUl1\n",
       "/pb+HNT8DlD9P2aFhBk/IC9xkYldFFPximABDkdg0x5h7cddSHIQWYkkU/mqAi3OxoLqsPc8+3zm\n",
       "pgYUfD86iWdlDaWiL/yfD6ZsE3Kb693Mf9aRHkke0E3vUxNXOAbBHbiWam+me5apcnO3B6oeiA/2\n",
       "ukoQAkeCMHRajqG38NVj21JDNVE74ixHjLCiFsxrm9FAAPSoIgduqwYFyVw6aaSOcAtDWyQBSQAA\n",
       "AawBn9dqQr8AAAMAAAMAAM46S6UMdiDH3GAkALA8aH814eVjUyh7xtdRIITEnu7y6L8LcYS7eBeT\n",
       "oAezwEwu7t7VmL3+OvxqWavIA2vCLTSUFtvoR3au0VNiTqktE19cgyuddi1afcbaztHuZaurf7u3\n",
       "Nykx5F3tR7pXrLCMoTFF2/uMdylYceuqxhCTYuEVeKqUzxYyS7C4g4iVaq7eZjXbRZbQ6MiHlPVL\n",
       "onpbObNmFH/gCIBqez9Z8dkTkNQHN8gj0Bhq/s4DTUFeVGxqGLz4ZeAactedXkoK9I2KywzMcAcD\n",
       "1GwBKCcyRuST7wrI5NwszU4AJ6IFGwTEQgH5k21Xc6HfSuX6EwMPLYkbNdecsqVKXVUvbje8brLB\n",
       "84QjuLFeJvRTYRYBcW3Qr7sSXL8BmXNzBIAWvUO5qggzbwj5LzeMgjVBlMj2GgKcy4SwBUyHLNCW\n",
       "8mvDenN9aksit2ijEtpwEk5BNPBwWdZv6BAzrGJ+cZt8qKO95SJg2JMxtZ9Zio39jD7l4Levh1IH\n",
       "OoZrRJLxlRl0noj7FliNaS5bNlQdFVPlLGCoG4A2YQAABxNBm9tJqEFomUwId//+qZYAAEp7tqBN\n",
       "A6q7zO6tB5AMDQeiL27KSS5mnzm5dRvqC+ElREpumlsiM9WDByZQtA2Vub8sUBkF+Rg9yPfY0Cel\n",
       "wfVzJJvmGIjG+3L1/r1bfAI1Ruj7u4lHm/uOvPp7kzPL16lOsLvAjkEvhBpnET/tonakeV7jXR4D\n",
       "dy62LEXiVEiMpdsOI+j9rmGK4XMgo4L5SyY/rufEiH2dXZZWYPUU9P/pdhC3vvrUxDwlvyYO1/Eh\n",
       "A9mgNileLtgXZxhz0dPdhajE3iaHhN5kvpv3fjIpijVDtioBiQfJE47CT4Jb9jsA9URWkbo8/BU0\n",
       "pwLuG0bK6TYB93cD3HurMh2LHrQ60/ivG5y5IMXLemwq4YzGn2EJRhw8A+W6Gi4ipTOxf6s5S5wo\n",
       "849di64eoaU7iBH4eU800sK2/F/wIc19mDBejT0YoIyVNFOLan1uZAjYw2sK1Yo/v3iulbrwD6g7\n",
       "81Wfptq/DpvWpZDcQCbesS4BDiFewPM3cGTIL/PS6BGbTnU9BuO4FNolVY+opuIZunhYWyspT4xW\n",
       "vm3WViueBXkRFjxrbOA57/ntM6tRSRkTgMdkCJ90uTlj2qIupAW8AnyJvLPIMfLmzAzGdGS0HpLJ\n",
       "i4YIg6SSnHrdnbmoNf/UJFeJwZNPjKiB8pNtdFT+IVkNozGdI5fDmJIa6c35+UP7SZhPC72EgOJi\n",
       "HwVtU5BUFURkzN1oix6uLGL2ejaLKKlH1Bst5mjNA+ESjaK+Y6bpHFewf9B/duNyl02FUG5+zb+a\n",
       "l6h6dWfniaii00wXkevAhePFKYYhMt++7xT+mf2MzSEijBkwhcjAUuPg/LIZgBDQ533LgV/YpJNP\n",
       "5slxKPl09F5+AoOwoEZ3bDP4dNJp5s+rQzaaTnvbzGDPd/tlvqwVW7s1NxwCAEl9nA+IAacLl8do\n",
       "IrF3fIt3woI070jWgsZOXzgTuCy0n+8CvxGCkOpWa3eUUT1w0sPrv3eXnwPC1NPm04+dz0wtc1lY\n",
       "XTk6Zx0nqqhI2OrYjsJqGJcFTrnrMQg7OqUNrYStJbj6Sk/rWDezaG1CnyJX9zIQaNjafnyjmkaK\n",
       "2fuED7MK8VwVDwEaRogvwQEV3K8Ot7PYbOELqgx3GcgsrlHjMvnkqv/E1bo6WSUl2vjm/NwfTW/o\n",
       "Dmqdd2kmiqzujnxCMXSdcP1MfJN4CXq0HwQ3oRyFfLQtjpgszLcfF2fOFSJi829q44PrztQWKmc8\n",
       "5LrL0aiCPZITospvzxZy4+pYv3OxSQHxGssWeLhbUv9KRHOg5je9fthv5L/MFN0Uab8l0F1I+x/H\n",
       "mVDEmqa6j+nWWScUC9eZJ2ae4Im9UUQRewDWwSnbbm7435ieS6v3VrXS1D5cH+E0z5rMcwAkOboS\n",
       "+pjXeMMyJCXIbKBiEzRJrGmOoHiPkueaCA8VajSTRRXUJC8sGPCkcjrWZrtnrsY/kfsK7tK9UUbV\n",
       "i6c7h922hWa+4fPSuQZX0oq+lSHJTwb3exdzUpV5b2OcFGVPPjYYiBlxnfYKQgyEv4OLAwIZaWBC\n",
       "qu0gxhkGZdEzEw+qZeOftfCDoPAotYTBQjfGTzFxOhLph7n3tF9/XZcBLrtsWSaTCN7EJQ8gD8on\n",
       "JKeydZYN3rFaXTc66lWSEm7vo2JeuGMpMC15eN2iZAuhVlVSthWGquGzD4E7nIzyQL2lnvf6LoLm\n",
       "qo7Jy94EaakIn45ARr0J1GLoYKV9M5p54LyLMapE7n19v/SyqyUVsU9Jqygroco3IHiVZvlpGgrL\n",
       "LjG6QUjIdytVZ/C2NQVj1C2R8E3fGU5KHSkCBJQRHbufCfNvhUUhMvmb5Hysq1aibk90z94vfZT/\n",
       "gp0rA3qM6K6VvmrQDpVHZ9qtzmJtKEXwJeOy8MUwJqjamz77lgNHW8O8B6j29BUP7gm2UCqOVzgr\n",
       "nGzx5miKGdpbw/iB97Liov+lXLVAvijRdl6xc9/9zKpf5T4vVYrca9ZIwN0fjPoMCk2c7JI0r1nI\n",
       "WuxOrrvtpJJ7bKswHrlePt+c1arfGzq/xqGdQO6Er16z/aCpx5qAsqsKm901fhuHj6oTvH26s7In\n",
       "nzizAmpFh8ZBYpbUJcLcd4GSgkN/Gm1XjpttaHkGM1N/mFk0nTuMY24toYhc4fwVCS1HVFoCvJ/p\n",
       "T6RnhoqUon+NV6SFpjNjl2X5/yd/+bdfXY6ZqTem8OyAhJcUJGnms6qYdSrm1CY8ySLg2lNihI68\n",
       "VDX+tQlmRMbv12kBYh3k3UnzHxsA5mQiy4sA5ApozBvjyDq2P+vASzaE9PUIhDylPFDkYOXEJzYE\n",
       "PwlmbuWL1nmfak9WNL/0ttaHUqp7r2J980RFEsGlAjBby2yp/skDsqdf9/Z1YqOyiee9cVWpEsz+\n",
       "WogFBOvAFL2nESqcRPseojSM8AA1IAAAAq5Bn/lFESwv/wAFHyLW8AAA6CWpG3Uz8VL98ZdOhj4n\n",
       "7GNLndwZ6bRsoD/aewEhBkbXkhWY1Rq2TwZ/bNAad90kI2bHLLjd0bbZ/Z/s9ZM4NSt8cqPa+xx/\n",
       "TnWQWhAQK9FBRB2JzsuZh3NpMxoycmPFIljcwnpiyEWNI/uKOGIIz7MmJhU9gr/b1izn4CgApXgM\n",
       "AaXUJU0u2R/F5f+DI2P9dit4C7Ky6Vk8poinjiMYdfYoFi/5z/CTiRe/Ce0UDmuLirNbbqjmLgh3\n",
       "EH5UazgCOIMyh0GeOFnoonSyHbwPIOWWyTx3r35b7fIy6iAAelp3CQcliww+O8adntWFADev/FCg\n",
       "FCiJIzXeCBMSEwidX4/uV7Zei9Opn+x+yySVPiUhW5+808bZVDb5RTcnWgia9iQesSjfrtFsHHQ6\n",
       "UPNJLADoluz9VaVG0K1xiCv9jdAM5creJygJAEIWUb+PdTtQo8F2cEu6Ykk5CfhBzdfqLDHgbP9W\n",
       "WAzGUBtoWK3xA1kDnKZkfjRWlz0iE0WgGR/ZMudyN1+1uqHNHJmkbXjdrZ481eQOPastodRb3RdQ\n",
       "P6y9aFJihwIPAnm92jryIg+vqfzidEOQ8gFEazvfw0BfST/t8JtQt95rLXLds1/O8QNwp3eOw/cC\n",
       "Yubww5ZVFb06s3wCx6YV34Or0yAXnz+i991xDyzSuUQESLyRKH4WQq+QlxwwJWaBfODZR3OldDBm\n",
       "0YD9xVHfUOvXzVXwFZFfxsO0vtO9XgULRvp0ogNJ+ZhBIh5wIkQqo59M/QrlOI3zguNeGvLYrVd4\n",
       "PA77+2qsdhR6XK6mNEfnu1m2CYubhK68YUS1O08nOoLehCnERteHG2hdR/fa/J4b9ZzM6ZazfboL\n",
       "+A+qRtwpJ2bvE+4OKs+cextvhKiDzVOBExQLSQAAAXQBnhpqQr8AAAMAAAMAJbr66UMacKj2HHHl\n",
       "SHm0D1dfjIIGKk7VEArGqzrmprSy8hy/pLXSeRVF8LKryr48luba2ZgBn4rlWHn+JpEbesAiwwUv\n",
       "vW85r6etQDzYPvWzruFD8/vLRvDd82HHr/6Qx8JIV072pB+vTeX4w/tp87PFg4CObG9k9NX2rJaX\n",
       "90LixHF95B+aGO6q4keDlgQ5GsoSPMcaLpRlqYe1bBRTAlWHS7tNlOKHCKCV5EYYm62wteb7awPq\n",
       "MPrTNzw0TOHcATGNwxCKyr7eGTgjV+L0zpj7eYK6XnBNANwm5xkhclKYUQ9gXGkJn4A1pvzomXbd\n",
       "lxgBU88TpsVCwTv1TRXs/w0y8pQpCFX3Z/xXDOZkmmd21A/6Ew2w9bPCVKPQkIsv5rj2L6kV4ukR\n",
       "67Uy7TZvVlnGdxd/qC6tt2oVIfN3a+Y2aIAVjK87gEMXau6WQux1Bi0PcWSNRayD+eLVmGpgneEI\n",
       "Zr+AAu4AAAf2QZoeSahBbJlMCHf//qmWAAADAAAER5X+ELi7AETXOulqHaTOSIE+InkFJLGdSGe8\n",
       "vsZ5gyh1wqqwd0WxkKOxd1YB5auoM8tRl2lHjtJVMGj1j4sRvBgWcPqYj1KIgj/hJD9mr/MN/rSt\n",
       "xz1NOeWKw/R1inmB8sTJpHkP3GHRNSaaLki0gcVoabv6cTp4UO2V2gyRqZybmDr+op6om/WiwjjU\n",
       "HudVyFldfo2N+qK08Pm2+se2Za1Mi4FMYPXN1DT/z6E7/xo7wNU1cTqU+IQC7KMA/sbdSnOcqONB\n",
       "hm3jv7CExHyrG4E8DdERnjBvo6cc4jPf5Wm6GeGTJYmQAJ5PVcDU9CCok/S8vIc0JPvmU9XBFElG\n",
       "0h9B9K/bJLC+7FOnktvkgEzjgx1oAK0HPB32vBTFTZYSWB1QkTd74N6mgz2Iz/0fhjvU5AcsTzzn\n",
       "fPOJYTuSlcsM9EV2cdk/d6zHE+xF1ioIOCkcSRNkpguNoRN2pQwZC5IjFu6LrKd883xUPfxxV4A2\n",
       "lGkpMoRUKObhXBabTGm44TelfMeWtVFEwVTMqG/CBWuePRieNt5CPGGvi+q7i+EGKaDjCdfGpZN8\n",
       "R8ut4qqkC0reObqF5rLWWgK+0p77gbb1hYKAmF8mCCfl5rbWOiiXz4m394vopM1Mbu8jrOq6tP2d\n",
       "WEDj0Kkg0/4qYjHKdRG0mglxhfbbLvye4UjuTTO9ODoi2SrTjKpoOpCKPP5tKuF7Vg4tIQGtFFOx\n",
       "rrfV4zjYlkLZX58kkHqyqD8jopCCxx1rc/RztPZO/nVUEk+zUDQbopotiQ/ZllgcuN7dFDZHE86q\n",
       "O0Uc/Sckm2DNGYdsC+DXxDMJnGy0x5WyolEMCrCK7/94nuYssKHonchXg9zDT0kwtEfWzDx4p43h\n",
       "cjhHVYoKmKrLchAPX86+87K4EstoPqj8vD8jrjP2Xb2mrRgQ5WE5E5qrcGUDddY/7V0p78pDktM2\n",
       "DWdxX6OUzRxb7iY4EU75+LIDXuh+mCuVwNNt7Rt2MMkiRhnR17BuBRXlwd5sQc0KV7JiAXwR4s/S\n",
       "l5IgvzhYiWJpFAYgghRifta2GlcL1iJ4/XLIne/tEdcLSLkRJA9uerW2HA3gm3wZUVt/woWaCGqc\n",
       "oanbKCRAkl31Pt/MApzCaqFqFB8hH7rXWp1KmcOJm0CQfc3daEzIIqM4YI6jHf8NHUVyMJK/hB3+\n",
       "plY4q3twupfFuz+I2ctADh4CfPiFtdWo8oZgxyynfvj9yNrGRz6Dj8MirjuHHK+7454N+5DjG5Rb\n",
       "k9QQ30tZbHtwLuilAd6i2g5rKrzPUZwLn38G2+gN7hG0l3FY29ofFzWrscb+hIlveNCOI/gVdC8d\n",
       "Oqo4CrtAe/vPAmx3+lMeW84zqS/ywI4ftvfgPme1Q9aYArHjYlJiSCL1scxs1V0piXwKh5Pj+rXJ\n",
       "Bp/4ECmS9XwweoCKACrQZpCAR6XY+Nn0RdbwR1Qm49iIPXGAVHiNv730PjfhsasEKnroChj3V8YJ\n",
       "kEykbzh7qcucGz5SC0t2lozpBUAg8P///48azyqHvPJAWqFiUEjkFKHaMQM/0thPTZ1UuXCNvtvP\n",
       "N7CRPVnjbWIr44/QTB91ZEQ5fVc92cQAbT/GJS9Zfy39DQ35s6oDbUXNIX/IuHgxhHluCGGt/3VM\n",
       "b0tMZPtjbjx4CsKY25lnA9u1zj/SuSOu/BpbTsSkIDr9w2gAyKZE0nHdtiPDxZ8c8CQwcsyaNnDx\n",
       "ceHtMdOmmtrMXxwAauUgrMn5HRYdJ5veCsDgtGlCGvvtMLW9KA+nCAVNkQG77hj7n9NqxXO0hUI9\n",
       "22M3EvOKI7S+dOXXBQM2BPv/YYbetkdoD7RkCZgPVV0VsECZpU1dm09rJHhZFOVYoYnkFeJ00JpY\n",
       "UdwTt6SdTnOXCT7F/r78hg821+eKqe4pETi9mjE9e/0MBlo8b+hZcDkiLq4CoTboWpdUDTYKZ3LI\n",
       "mi9ItOLmMkFM6h3OVpwwEF9VUH9JPCqNkRh2lfsb6hc06XhU2+6s/PijkjEu5N3Z2y08X1zToGpc\n",
       "CXVnt0nirNtMyZxPuPa/pvwNCtLpn8II0fdID0Wp4fDDN0PalwZehod956spDLocrh8iEZrM2vJh\n",
       "UjjrZA5cVn+zs++h/CBjniyunTxCumu+S84lpYDZ/mIvomX2LWOYfH2j4P2QXfs9CtYmaxnwAdHy\n",
       "F0viQhea6YJkGZOfpCtZ5XTnlMwpa6l/1uAelDWX3SuVWnepbkBD6MhrHeewDLlMCEj7F0x1igwV\n",
       "fG3ctJoUV2ykRhBVB3ZH77xAl6+SNvV1T0tmnNYKE21oD6gndbSBo6jjl58142YiFpqfXXxBXc32\n",
       "1IlKNXnSmGbsSJQbumX1sNg5ET12FiL+xpRd4cmGI1LUzXi+WEqhVM4LVWHd6kTyWhqat9wnoFQU\n",
       "YwzWCTByIkSm03yzn5JF0k49Yty5JKqNoXVH5RbV7tPLvUUrTQ90ESZRm1ojaxXgf5mtWDWfkWZO\n",
       "p4fwATOO23sN1e3D23gWS3n55QtRQ1FOK+4UJHR47CjFYHxCc1km6kFZPEWryDapa+bwLgWVeOMD\n",
       "/WerQ1wUWTDPSB0xJAK61UKfORgMoe29TMa7tbUBLRSLzEfGbA/dkX43iA4lkMAT4RBwpDv/BgC5\n",
       "p8kdFfiJGRCPr0V88Dd1McNG7gqdoamU82TFvc5iHgX62O7BEf8ptRFOdfpLeJc6KAAI+QAAAexB\n",
       "njxFFSwv/wAFHyLW8AArMqom4qG9FFhCvsBP0RnyWS6wA3XirPs6kgUYtpzWisHt1sPnYdKk0X0u\n",
       "NwgbxUUSFDM2C71x+atokpYiA6RgeSLh+JJRh1XzwZSXECmqP2QlQkg1xgR/TgdPkP5+zgJ6A8tW\n",
       "j8/G2zxGZQ8akJFfBYRqTohX6Ek/pgCECUHAGovZAHyciIa3EmyM650ICQuryDgs1so8AJdnEVVz\n",
       "of7cLafYkhJhmPZ6oBkHY6fl8UcDR2iXxGcBqSqPj9iv3f7IOmA2BhcvLS2K8pErlITOWhuUObPk\n",
       "RTwBdIHHkD8oF6j7nFbBsHJFe+uQ/Sv2bPqeTpR0Qu8eAF18VL8O/Gh2vVRXW5X9OkkTvSJUtMjj\n",
       "CZbDzL9Wwm1Ittur99Oe3A42jE8mIt5w5M7rW2N+T6vV486D7Jy1QN2YxZ7UzC9dDpI+ADBSALC2\n",
       "/NJZayfhYJ0sb2U9d6sFPYcCg8k3nCzUelt+GPkMBynyQm9TtwshLFCdW0s5AKR9wcDJb/Gv4nQs\n",
       "pE7XKw6NlIMAWZf8zp2pmOC1DB2+1JWy3hKgK9Qoue89ANBq5T82DSqt2cl8omNES2MV8cj5tWIE\n",
       "rg7ruD/ZWaCJme4nl+fNclHL7Lf7SZG+TuiF/rHtCRfwRcEAAAFXAZ5dakK/AAADAAAG6dJdKH5M\n",
       "wD584Gi/hBhGELgcE+IEmMIbwUkCpyvdrikupCB50tv+LWhWSaj1uTSrKEKdcw2IEK/+uAx0s3rp\n",
       "Pnhy+fESZyFc4vYR7797VSQxHDZZyHhYcz06LxIS0/3jjD1D7f2OGHcvmldwQi8BWjCQ29+TBBP2\n",
       "ECfJpC6h3J/em+2PjLKTF7CVNZL0+eVwotu4lZrV/7miaoIVzV6jcpGxdhuC8UX5rSfqq4OApjQX\n",
       "9rI++HP+yjIKtUTX3NkvjTJJb6ZB3U1QUbqGv6G/1iE0CgcyBEPQnfpyzWj2fCSbXKz48lkpfnBi\n",
       "61LKl+yZDvuQRsKaXwruyf+lMQ57mS5iEZ0/z/VV4nOBQ09a4epYrVUyA23xOT/h98muLdqEILvq\n",
       "Grwx0os/er8P8qc9+tCFhaoP0cB4n/FJyPI7l3s6ncEITwNmDDwBJwAABEdBmkBJqEFsmUwUTDv/\n",
       "/qmWAAADAAAdHdhyCNktNZAGYAWCu9U3UpqLW3qMBgCB59gYiDg2l2UJCR0pGmyd46/isi835xYq\n",
       "7lGIDCR7+WuaP8Xz/ufgptMDfhYFkkhJ3JfmNBIk1glutl/PdpdWunihECcFW3YtnlxU6y0J6bCD\n",
       "SXc4ubgpchj8bB/Ib4fDzZhjFP7LK3YjS1LRhvFCQOLXdHOIri+1DvWafmiPbT8+pvirGP63NLuR\n",
       "4izPlC8nsuHgqFgVn03vW5iBBCMaQ0xKUXdgxm8cfGtQXfchfKtYS5XgzgaxisavqEG2OA+F22EX\n",
       "PKXe3UrYSJNMsBS9UfmjBVeKoi93IWlK3NnBNdY8O0CYc/QcHZcSZnJrjEspYx9UOPgy90JJz7UY\n",
       "I/CUAX6KweG+tg8oaZKh9D04ym/uw6mB8vp4FmB+OyGmqzIeUGresAli5AJnw1WlEoJDRa7dlZRu\n",
       "5y/WlCHo189iAe2r/mYMVp3lUrYdkP8ZE6EheXjw0eNYFAJBeHhuDJtF2zBf0+UZsCvkh4+w7S1s\n",
       "Cewtjb07AqLQ9RuVCJFN6krgtx5bulvw01RHE4xz2AsedvbfUZLor4WtSEbL/SoKnFuETq+cwnVg\n",
       "gn6FgcQJxFMEsrsC6Mlg2pzoIoy9Iu+vBx4SKNF3nYJqCg4FvCH3Qj1qAi80ZjL7azPVF4XeG1Tc\n",
       "HOfdI+h9FVoaA5QQ+3ec6TMVCjbnpotGnKxGqAz+nlWG4RUZ5aJnWLTw3/CgHQKbPsU+eWygKJbR\n",
       "peoh0vDg8jEvGNg5MpNxpxJRcelpuPNxDdbWuJMhNig54LCa4vhjNDTUbn81BOTHrSEWvLXT9ozP\n",
       "lC46AnLlC1LB/n4jaVrS5MkwMr1/GtCru5PaKESLE4SGD4YrTIZAGkWOU0foCJkZlG5tbHqjErnr\n",
       "VADV36D5dXgIaAm911LT7iIKQl8BWrLKMUI7+fb1E22dh6c9+lJxaYfgwx60R3vpQeVIyr99ZYtq\n",
       "RDizsorueUFKQZ0/Xnd5Fh7Ma5MEI41C8yEF7v9I/sGZRD8V8fFnT3np9JA3ib8Gqc7rHBMX0kZ0\n",
       "+EnoOb+uTJlCpE+BkF1uwW++83Lx9a8XE7S+CXRpIBpCiYBy05HjHVB3v96CKXMwVMqUVfeSJPEE\n",
       "Ifq1+EXarMw3fkQ2mPUkqkt/Hmm8HiDXw7O1e/Mk1muXI8QsIwg+VwcwAHeS+XhSwC79CVd2kgID\n",
       "7y1wdRNHmcjUrZnDTvG6K/zr2aoOJWyPiICXXMml3mUrylQLCwFMYCHNfXBvgUjtnxVAwv4ZRBiY\n",
       "PeKcmKR8FJiH/eDTDKURxs2EV86yMfl4wyw35pTFtwkY8ir2bTLJNmKCKRBqJbLn/WBJ9MNJqI/8\n",
       "QuFiCnZHY4zbglDNKiP+G/0YAO8ziBX2r+Gnkz0DnIKNWHGweG9WM1MZgBEfaTMFwIDD9kwHxtgA\n",
       "AAFxAZ5/akK/AAADAAAxDoZdZlNZ2ZPkxZeZV6nYFfHgAVen/ldWFgHig7y8kcXwtTrLlZuU5Mr/\n",
       "+hIidD51uNYPvL4DQ8990NXVCi6HPpKGPYWC8uL7TtoSPwjlL6BYgxqEPiUu/u3XcUY2xBhm5m0G\n",
       "Nvr/+LCYCdAGlyG7e1RpH9DJwt7vHbGOgDMN/s5aass0cA0SU5agc6pm8PyIQBqqlqgr0gVxYa9q\n",
       "m1+YyMCD0kkD+Z7WQ4M228k869Zkf9m3FQo/j57gV5iprgB957W2bUN7+6zP+0TUT5nBucO3VWFR\n",
       "Of0fZNJhLrSSLIKHoToQU9i5ZHJI5BLq2EOnG1xLnw5CRYKq1cspnr8q+abgFztrCH3OLDWWNpBs\n",
       "+8rW5wgyzfAheAgfGhW5lYE6JhzJFjoeYcaD1Qgiu0zXnP5ELdz3XVAkhiKoAlAEkNPeu4sYoTP8\n",
       "DnpqNmcWzF8VDQIisNJDRz+eswqbLSf4i8CJqwdNAAAJfkGaY0nhClJlMCHf/qmWAABZOQtAFBuO\n",
       "WwThpn9fqHIBiBnuDrW14dZZbEzMDvFOj2Eei7C4lc3byW7wwSdkwwvTxD6Gl4NeGGzNdCgz5PK7\n",
       "omQxqtqBxsL+WLGLXSvAzBlCXYX5QqRBu1rGhRWViLGvPlHr4xtmlo33TD7FZQlbfuA9FUyjjVmG\n",
       "DstLcUJf6QoYsZyUTM9lmkf4IMlfHDzcIlxqYVNTuYfSwtNHyjvPBSgz5gC6+VbXuzWttb5QZxEv\n",
       "Qe501A6Q8f8hCQ+Q1PPLB4ajUvKi8n5R1gXsi2LzM9I0hr5kFUGrr2G8IgSCG0ryfqKAFeKYB3Sm\n",
       "DlsRsT5HKLXgJY1MrF+d3iPLzxkxofsIfIklZ/VOfYAcREIqCSoANoWjM6OYnSEKyCaIJYJQPjsi\n",
       "ik6S/+c+3mBeWx2hF+u9+ExFh+5WDl5fYTgMB0VsQguqgiAci4Y1xe4k3qR/E3jPeyt2vqUcJj60\n",
       "hvJiV7EwH7/y2Dfb0zRJQv+JfboJ44XU1emTB4X/uy+k6BidKXSPCbCuZYk8jH0FWzPPivxxI/fl\n",
       "vGe5LMJIZp2QKmJkVNufIb/vxUaXWHLIf8XnBjwo9urlryWA1HnFfhXLLPfX2dZwbEILXZBImWOC\n",
       "vKagyneJp/ju7k1pGVPeiAGK7LNShWCP72WW2I6A7zhAGrI89Pl8d8k8rlsr3XTbXBsDxnwnwsm7\n",
       "7r+swE7JGkoS1PnVIUAdOiEDuLFFFPYuLtD0VZvbq4pdw3OYNAs9XXDA6BkgNJHryxLZ9MypjxF1\n",
       "biV0uLHlSTxo1Bb5sTrCYqrnHGMgACK37yDGuUYRmk4kLUqozD3zSPdaXbdwZ3GfW6mqBqa7MOKd\n",
       "K0r1R21qKrGErsVYqbDHIbgRKi55r27ZX6UJGb2GVs1s050wd2tQO86fVDunCzmQKhfmVYcH90JD\n",
       "EyDTQYmAx6uz7iP6rUtFrnZL6wuAhxkWIRlxDBWxul0OZu1RZMlxxOJy04FJ/6PGXoRgk/smsV5A\n",
       "IWhKggsnGoGhgo/WCqBKxZ1AmbyE5JSp8169u73b3/hUK2+ESV6kyzMd3tWjZiIQppRGF+fkXZO7\n",
       "srYBeBwoMlJgFBcAvkKjQpFgDFYgcvp4bKtXNyBltS034SOIRVUqlso1TE/eaCgkOP4+0YmeD5b7\n",
       "luusWxxFwh4vxcZFzr7K6l+CgQQItGAxbjXj28+mOk3MkSDB4e3gvhg440++Jz0iqQMhrbRD/O/y\n",
       "z/LNYJDakmXMUZ2tDr6I5IzF+leazurSODK3KTOmx/Wg4WT6bOArp87IJIi1pmvyOvBPmUHzRhZK\n",
       "fWrCdXOmGw6Vrrn3mVBBkLRtqeRSS25XbmKybpxPKZvFX/Ws3cM13Y1j02ETqeU6VABsjxaAH5k5\n",
       "pa8KGtonIaQo+Uo0hB99Q4JkR1pfp53sf8X8nyExZ179ga2ukcifi7u4Qc6iSvQ+KmmnzhPSXDLR\n",
       "oEwVwMDZh/JxMqoglhq+r9iJHr1BPsQO97PlljsRbECZZDbrIIHl9ZcTggjmvhLvJJd4TwbK/8mV\n",
       "EXzxSy2dekK+MJMod5bSDT0e2OVtIQ0q2ikcy/GCdljaejrZnPjDwlQbY7Zl2c1fMs2ZNv2p0E3t\n",
       "N4zylMANVzC9eur/63K9uA/AnCuy+YLJDHKZQZOi2x3A7EuSHZmAWp37ihov08xLt0Rz/Ul4jJu5\n",
       "5ZDNpzEfGlSad6uUapPjDOwfwtbYcqmxZial36fvJtHzq775YqtYOFFmFDZISQpeHUAy5xIVCrE1\n",
       "PxPk19muWzZuw9xwZ6jzmvazcSu+FmNqon9uDGsCgmRbDV+rdh/hrAWwaemvw7jKAv+1ifKBNK36\n",
       "iu0+d8D01m5Ml1a3F54k0upr0El/Apv6iY2HrpKi8XvrQ8mZxM9BK8GsnSYmFzksAXCrzDVypJjU\n",
       "Q2jYFRjOLsX7hP4x2riqpNPqO48iYCRsYgz5gtGAQ4qfqQVKJGeguHwN/e6NBewauqEF0XyNdlFZ\n",
       "HRTW6wJt5Dj7p38CPMbBkTjggGhUN5c1wqSl9tpFIVrW/EMVN4EllU6jxMwz8yfFdccLIAhfXWzq\n",
       "yWQXMD6acIlK0Zk1MZOr+yYkIVfTQelmFqJnL6nwTUPTLUBJEzNWl9ntcS8bzrvBe38qQCOT2Xiz\n",
       "eY9bNCbMw1DqWes7QPnUnv/TuPFUzIfYrzztHy+YjNh7cw8z1CF5tUeUp5C+vfR9pf3patxOVrz9\n",
       "lEjPRPzJEiJd7yWxbLha+IPxsyfzqKLSXB6GVFf5IRhJ0efDQ6lWkd2VdBEF4f0dF63sOyVfVE2b\n",
       "fKQzPjDptEGdi7PDR8d9AtQC8sMMn19hyifs1n64VdeLyddufVoFnQX8Qq1X/ar6601s43TWRr+5\n",
       "sfD5BhRz/gZ89dzNKqsuh9cDrie7dwYR8DKD6+4hz0/z3SnxrV6Syqmo+CNVzzl3NCPORL12iD5d\n",
       "SYZ2GpjV6IyRF8tV9C0DyLheepWnzvTA5pssP9S3hPqWrmMwd0gR4vrLkqhLn6cZHfuScT0WQa34\n",
       "JJexOUfpjg+qTM+RS9Z+dfK2ItCfGh1i1IeK74uEZ61vDZ5DBzCq4b2usSGzUu5PpfEXSiBg42ge\n",
       "Ij7Y7f6ifxzM9WNWxW22Tt3wJCjzt0yRI4xrv/kn/j5yJmMjGRoy8SQlFSilf5ADq29SH7AxedpW\n",
       "i+EszvLsT0crmUX+S9+URzyE3qhIS5HmnYzQ5u5l6pTrqXRBbU9e+0Wfz6fnUSGGYV70MEBohUq2\n",
       "HHccIrqCQMpaVg18ZTYFDp2Z3Thqzjfa96sLhnZkG6SG0tfp8qaVGaLzTE5HszH2JOPBLk49XPo9\n",
       "I63RzFOPU0ebBVoqKEZRj/B3tgf+qJKaXb/q5sP3tG35UTXJgpQdYjEkx1iCPPonx4qwHG/tvl4R\n",
       "u6gWBd6iMbUyMhAd7hCYpuf4cGuN2X3gQQ90xDQMihAfUETG+PN5viSisZN/G+j6GKMmKFNu2zaO\n",
       "XsGw7PpPaZpD+mCtl/cQ0itnbnl8yFymTEBxNQovj6LmmP/UODpnV2GYV8s2KHFZti7JKnrZr6SR\n",
       "T2lKuJKAcPlXDZLfH2mXAmZM6qh1Q0GmRkAt3sJ5HSUavHcIK27f1xI72Adm25iU0pb++Quom6Vb\n",
       "Om1FFECD8oSq7Jn6+V7lAKPPUQ3CpLhs/whYOwe/oed+e64COwrEKGOPb3aJXp+i5caZUkNi/aqg\n",
       "aLs1dpQvQi4gAACbgAAAAchBnoFFNEwv/wAFHtWtMkrHx+XpseC8k7APjb3RyVNmgUuBEVNbeXGj\n",
       "7gyvTxWS35WOGoHqGPqy35az53x4LdgrXH19uOrj4PT2uk8ZzNCiWWrmgltUPukA+fUoS3mVMldR\n",
       "smZcUmjdhebkC8GXZdQirT8GsbtnI7kcpqx0RX2Lg8LqtpAGSUq461ud/HXV/hetKw2q/vOuePQz\n",
       "D9LPmhiAv13yc9mMyRwYC7ACHQ1mpXxvqfpgsPV1w8EO9b52/novXfvPcRlRZFrSD2zlzFw52fEP\n",
       "52dvC/qxlIVL6woN0Ibsm0Tb142iLAaKc4c18wjG9aeNoIsP480IxtXzytcNmJ/Yjz47yTQP6p6i\n",
       "cjCcLrD+NXFF0FVJ3qutiIfP8fRT59Kp0toIPHwtqfk0ITn0o831ox7jjzoE+gy7RQgsQaRkZaOF\n",
       "k/rXEVJYwnJvAiNwf7F49d5lMamJmtOPiG7tu6UuWykCalLIA498FK0kRqdnVVZKjl7osZNCCmPa\n",
       "2AIwrvQ9In6bHaJwiJpB1ZpPH4xoM2Qh0ZqZau7YcuWeNp9Rs0HBov3frGRvTKtmL8s0A8U03ULe\n",
       "w58/ipkPiqMYvFxUIptQLuEAAAFqAZ6iakK/AACO67lRjGJ2U7/aJgZ8NxCdEb2GQIXTTVki8tJ2\n",
       "bDEcKBrovI0Z3vdYADZcf4f/h56U2UeJHKvaanxrIrboG3zztgXA0tPOrYZpcnI+QoEWdczI/4Rd\n",
       "qHVuCpeZxQY5Bo6vZ7BEDTLRipvhgDOzAmt6+n+77yg7jaM96FchALlLijmRS94ZW+DKJQXSWqv6\n",
       "/n/9MqAFeky4zA36jlzcI0go+feu1zly9I0LYwyMEZX0N/j1f26yAYg+4iWcZmRHRXYfxa6JRODO\n",
       "4jNl/8QgQKMAaXYyAKO6qyQog5CgdG83Q3RY1oaDKEYF0IXF8b9actuqmHwADdltcip4is5d0s8q\n",
       "R8umQ6fxiimYnIs3HNVToUvntmmEs6Fr0nE4U1J4nN6aEz3Cyyk9ho510suQDkLq/v0Tjj6Z7nWB\n",
       "PMkAcmib+dSu85c3a3y0knuVk5pBBHlTUxmYEodly9aQB7bfd0AAYEAAAAWWQZqmSahBaJlMCHf/\n",
       "/qmWAABKJi++kHON2CTU3ciAA4Hc1Gn0dTSxFQIVavRRbDBPUjEGAI4kFolZuQqIdHyuNMzEkngN\n",
       "kTeioGdI/bin/s6NJ5nZlo4xf6O7AhWW/ao3pocTBSSrW377PjDIAxDOQ/Zl+aK5Xj/XL/3SotOh\n",
       "5hyxVCk4sgoB653TstxdHOs7MUMvytjoqZwdF7eC8gc4HUYhjAPX1mW3D3mlridBwH5VPJfEGMt/\n",
       "k+1RqiA3hX2Khg0YIeQIIx0IcpcgdyWFWOMRcrJeb55RQ95FkZM3lnmWK0GTJlq9TT4dBoOmvlf9\n",
       "5YQGjtR+v4Mzcsz/YuCSp1zDgdbUW53SFqGZSwaICcaP3lYqxZyxjwxTEMcvYCv4paNEzS/GQUI8\n",
       "RehnTA4UUKLiNMz4K2ULRLe9fM16gaSuOk5gWcVOGs4XPZ7gYJkQiHE2Ww7bJnwJik1wZoxiZ4k6\n",
       "teEhxIKz22NkVTdkb6ozkyPvNWOVXzCfQAnTwYk/y2IQ+GEeyLUUSwtqBCAK/Y9BxNwA1AJtbrG5\n",
       "VK10OibPwI8z03mK+H5oJpWJLw10HaS0M7ywOGrnpx6yJj5eNrjzN/iCJbSccGrfNQEkfX9hiOsQ\n",
       "LZXDbraYbUITVPM7nxDuIfyH2eBnKJqIANeQ4F+dna+ppvu914ST4twKmjCDL8fvv+x+cIg/Jgq6\n",
       "xqNDdOPMNmnj8FEprfhxrv4gWJANVFrSFlRWIAjliQsImnqVfU+4io/H2/PXGuSsaj3X+9dUa69l\n",
       "FvbTifhn5/76xOqJKQJL7Sd5m5XZClSuvSBH/MjbC3gI9ORtLU98lYLLjD0e+qUIrFab+UIfyeCR\n",
       "WJ3WXWSim/1Nao3dLF1djm0x9rJDNEjc3oo4NDe2RTin6qQfNNDKQmUGAmP/ESnRyLwPOKjQ9nCN\n",
       "Z0WG2qjNeorDzVWD/tPm0//p5U66769ED1bBw83mLq7bvTRmYXj5aeZLbgEG3MkA25T9GfNEZxtm\n",
       "gsn2ypiAkMHY0N/EOWiy7cLLLaAoSoeum1+x7OEevRsSpObbzOJpwqJMU7PJIXZgPOyYAifYt+O8\n",
       "UEw7xuYgm7nWP2E1Agt1FhhaBlxSqL+94PMw2JDkKMd2PC2TZOhErS3MY3j0eYVEa7g6jm6EufPZ\n",
       "3RGAOjM5Z8Z+4CQN1zgOL6R0nntDhQX9ByNNg655+K9yOTycTwwMRRYmfjpz3kzRnIR27uyGHTKz\n",
       "603ola3eVtQx3ZzC2btkO/907ERkQchso5yLUvQSLI99kamIuHwuZste0Akg6uzDNXMwnISe7AKT\n",
       "gZpNJTLQzOk3uG8rMcUPPupOn/LI/01lav5IGClTgekr2G/cq8pWQkMMN9kByzcD1ErgWQuGFMSj\n",
       "RnL0y7hJST6R3+x+Yjx48ZPVRjsQSqhVnc4hzDHKWveAeAwmw/uMc3F65K/nyluNKBb9yN0S8jKH\n",
       "Sq5q6+++ZrYU5FTL3FERDPVG9wCUsljgcoNIBsDFooDKf3OS22kv7I7sCx0y3+VHPea7QXZLMX4k\n",
       "1a/G5AsqLHsnMDRZEVLIU5wilAcm06W0nhMQhXCVM1a9WzGFwxKxUjkmaN0mJCcbXBAhjJo+Hz9d\n",
       "KzBoOcZMSJhOQ9izUUl/7V0sU30mdlFF/oGFvGv7loYbG2wdNMp6ooXfI7pONf+ZLQldVMyS8+ht\n",
       "8AVL8QSM+9gDmcot5osIMwMpd7mKHBnXssGkh2kDkItZSwWVdKjnBLXqlQLGhC7fcDiuAXBnSEXY\n",
       "HUhBDYc32I76CbYA3PObOruEd3JMpnbu4a1vXgTiFpM+aFNchpWM34MKTMlnhYQefBUIUhiVbvE2\n",
       "tz7Va+7mmCmW2gByqFuK3eutfD1PVHL9a545B9+s3rk2JcQPP0yLQlX6B+c7IHwAaMEAAAHeQZ7E\n",
       "RREsL/8ABR8i2diCFCb9juZOwSLv5CDhiug/nlkxvwAKrsZD8Y1Gt1tf/hC0ifs0Apw1lIWWFCYv\n",
       "sAAJedvhbLpbc2DIAHPduyjhAOkbNpryKMYFgwUn2hmZeYwSNJ313aMcu6wHpVxAa9pd6Ov1BIIF\n",
       "6Ykv5BlUNHBkojUOXAVpWDMakyP0ewRFYxHtLjuVysRM2op0wmJUcgFJbccZzKMwQG70iKiXSeQI\n",
       "BEwXLEBioinWhix443dQkZrhg1xhcwzB91V19f0mPMRdaT0ZzAE6eFQTv4kgwC/z/OHA7BY6gZHV\n",
       "plcD0xW29HNNYDOujBtk4pfTDsLK9swdXtwM9jJoU4UYz+wFGYvuRhEenZpuML/9GbANot/6CMJ0\n",
       "MUmoP5y98LCApk56jPl18rhIFmdu5w+EBUIWQxf3tBQwg/Tjc7OQoTcyf7QccKOORBXSSGckg5uX\n",
       "ZjD08j/YFt03iv4wQHt91aymSjapNJ2iMZb7aApaUth7o6Sb+ILBnMN03rI09ae9k+1O9UojNpQ0\n",
       "L5TYOBOpCo65Q68/tWAUueMaTcFd3VG8ZJ7l5bsw+/+3CeoTfHoaGizNdWf/0cMFNPiUUY9arDVd\n",
       "G7bDIM3p58v2rxcUfJahwogPSQAAARUBnuVqQr8AAAMBpnQy6zKr8CbJRIgFM/+XERdOmGSuRqqz\n",
       "HeQNjABaaUVx+pgzaz3yN9YZ4TKVblqWMgrvFuI2gvK8CPMZ0SNjQqzKcNLLqX6M0NqjNpQc1yDX\n",
       "AA48ppx7PPyIn5HKyzxdaRMAtDuAkvjs88IRlpXDnKbYv9zlZf3nfTd+vbVhdeZv80nN0u8Y6sIs\n",
       "yPjHHJYl9DNRkBiPcod+W5loVZcXTQ8vWk242x1Ob4UQsxD0iDbFCS1DN+f0AT/12V9BoP1LBizT\n",
       "wM3eq1eoqgDGxhDcvgMw7oibkF8RJfVmCFA3OqVG3Pt0FcVfEy2z/wdQQBmob8N1R5ajl+NMb7Hp\n",
       "hSY0+fLlyXfbK2EwAA1JAAAAWUGa6UmoQWyZTAh3//6plgAAAwAKmE6vls0wO3NkjnWX/wP98AQQ\n",
       "m7+9RnN5BFOUTUs4Um6L1c68C9UfC6Gk+NvVI2mOeg3zEAGqEGNO4M0JiZHBCvuAABcRAAAB6kGf\n",
       "B0UVLC//AAUfItczZF0zUAILD0+J06U/EnYSBKkpSgkCHmutgQwvBoMdkSevpFu9ZFopKNw2AlHv\n",
       "ykoeeFOGD7AunspnnCnID891nW+y7VWlvc4I17KKsWFPFApmSJo5rjVzIicZgjEPVg6k2Up4dRhp\n",
       "KLWwnrzTheoUacJvognYJxIXKTlpCeJtJJH42NDhgl17HZm80rpWCD+N/4G2bu6N9T3XgPERkGvw\n",
       "R3dVyTQEG7ymjZ5sZ40ONBhJS51dsvr/1rU2gMSXPhzqiPwUvUGuFVIwZl7TIerYwBEQJtqFk8bW\n",
       "prttUk3nz2nXMlFvqYZzOTdi1alL5GGPo6aZR92TLP2eqbCjWjfszW5u5U9zgD0slspNqzZ1uCc5\n",
       "uEsgl646QlDWHNWfHcZ02scl1z+PxLNuDfH6ZPOizUugRp63YILc6bsXKFcyZqFjM70vuqIhNJkm\n",
       "q1OHFUXuMlLqPFAiEErp9qgvZoUXWbsNJRm+6Rj56htIW0FNuRkF6DNT5YWATsuzBO29AJqRh2Fz\n",
       "8+gsCWGJQu+W6IoJWNbt71D9mdj8c5eOsbrp6/aD3FMLTnjMobhnnCxGazr1w2qVGuwj77Ro3RNu\n",
       "s5nFXAo8Ujxzp6kl8PSYRycOcYFyETT1WymY2jT1fW0AAABZAZ8oakK/AAALFX610Yt/nWQtgXoW\n",
       "FxWe2j3tixIeK/hu/G13AK/aRKbGN4dNG5BcYajMv5YW26SG354Jdkd6nyQRIotOJhd5EF3FyEbR\n",
       "/EgnIycoKzwABnwAAAs8QZstSahBbJlMCHf//qmWAABZOQtAFBuOVuTDhn9fqHIBiBnpfSLgwL+C\n",
       "8YzcqM+k7X7BpbCN0UlvRi3hpFD24WpOuegCYDd0eAKCeLG9QW+2Hupd6lZNhGyS+blNG1yZIFKM\n",
       "XeViIl1Y/reDIrn1iTX/W27p0KvXq0is7BN/0bFDXbTh3Lyq3hRlXpkI3Zyz5y0Qf8jxvVoUVNa8\n",
       "n5PeeE/0+D/rM5rKRsSjXll9lds9GQiYLcBXVOpPtanmUS5F+Pl5RR7y8zhoLk0eBoeA7Zzka4aH\n",
       "nqASh+EW9JmSvM+K6vuul3UkglLn2MraxcZSwuP8yZq2k6+2sZK1LLc0jBb9IPqDpif7rg4Vitu+\n",
       "Vs6hbvdE8vLgx1qPNKSZtaH30g5BTsL4V8K3DfnttAqEQP6J0dubNK4uVVWj5/h2D6n9jiEADAvF\n",
       "DRX2Ngkd4/QklLtxn+SxsvSleGYkX/2TuXB3dObrW3bbQm6OXVbLYvOFiC/o5aVwBnONEGcxoDt+\n",
       "vp9vv4nJVeff1egcv4ZRo3YS2o5+FHRi2opGIwz5kZKGMoWgBcO9Fl/0wqpKKpDVla+/mA8GKToX\n",
       "4kwiCAu8DSsuezajN6n2co5K+anztLPrvHQMAc7vaC5xXLkRn3sEq8ic7T1dt6KMD2rDO8juZ0XD\n",
       "lmlUqGRW5CsFh1HKTqLi+PPoSZiZVoPybSgV0eKbYtsQDFMhV6ALNk6xeuamJrmqXBhRAI30w49W\n",
       "+rsEyKSAw8cb0XtJd9anPMBoa7UmN7VD6xZM+h5J/oIHNDQbgwn2kal94XCampki/+tS3/n7iH2+\n",
       "JJVAsV5GbQcwSHLjXoX595KGIRAD0taoEUvLf7Q3LnOkD6GRU3MyTy9XfpobFf2LyHLiUPWb2vyn\n",
       "jly2ydjxGdaVYsQgUDI3TWVCeY4FI+TDH/FVb90rqEYyVzCAStq4IDcbyfTpMRk3umv3etDVRzVP\n",
       "Q5NSb5fJCGkCfi+K7erXNA8JmReC3rN/ynsWskWzwvFPCKaxJnmEPIy37LD2e7wXFpqIXUJQ2IQQ\n",
       "voag/RX2LzoFKZO8f3pH7rvzV54mB2MYjsMdYcpH9jy1WdmKlxL4ikHb/AJMSJUuaNNo7Q9eIvHw\n",
       "4V2bDAjhdcf+CJMXRAgwu99SJc/Plu9uNl3C+Jp6q5qjJjF6yzBMlPE2bnlj83z4Zb0gWh8C7lC+\n",
       "Vd0ceKjS/+Uvkuuo9lE72MPUhGMP87ia6csnEK9+uDp8YTJpdhclECCDQZeCatO0onhqh0YEyaey\n",
       "rZiKfmvzma1wzW4+6wDqoZcmVMGTESYKTkCn/k72MJIcd5GJ0BAj55UNn9PdvzQrICXQ4/CztJsN\n",
       "ZhWKFwANeA68SmokajxS+SgKpSpMRQiqq5GAN5HevzjTCAj3XSoTWG0Y/RA2rDMjN7s/qUqusiHu\n",
       "aerKz/HiHOkYyYu4LyS4cO8xzavD0a15ZXgR7tgr0kl3sQW7U9C5Ve2jv8UfIZomtdCkc9r23ApY\n",
       "o+OXKUF/E53waVfmwm8aiZ/u/erjn18mZHB36LOznONPfrL6vg1yZuwfr8dtPFpnGukWe9Opc34L\n",
       "Z32tGSk0kL5zPHZgfgd/2yo35/lrQQL91+R8iKqNbz4zY0/KFlek1wKNNClf2D3B0FgiLeZ8ADuh\n",
       "ay82mUAM9NXNzaw16Ch2frrD5WyQGj/8AcorodXn0NlgIyWDZLlBWE59TZelBGj3f5cxcFU9fNaw\n",
       "mNGF8S09AxQZ/o4f1yTEUx2pKwzHE26IS1cynx/6N5H5wQXtNmnOYTI4vTeeYJTQDf7l3De+7i68\n",
       "pSQpystNW70vXCIeTzjBJvJjzqVH7nP83gFykLxDlCzyk9lwTZg+57qTjwuvTe0J3yZe7QNsWxf/\n",
       "fjPsPAbPKbbUAZUoDwbuttoFb+hEa3bB6/jXkKu2A/jbzVuKTuvidAz0hxQzG8uHTcqH0+78Rt2v\n",
       "P219LkOxDrH7q3uwLEYbVjm8qSiCISIdeZxusLF1yMNQ4Okyau0/jDfjIHEODO/vOsZFOdCMtTbf\n",
       "i5vqMG4RyOk7/bJChWmZWUFHhgVsBcmtj1O6peV2PxTtUqTYksMM8+loy7duCGNENvDUZDpwCpaX\n",
       "f0MEMPXOUTleizhtrsbV1+eEC2bHM36+3VivmwyMBEJYCfskR9d/ma4vYmcQED0ycnQdtieKtVbf\n",
       "dzNL3iRldzEGo8eG3V1pBwUJVpN2pbSKURWYhA4UCFp+IkOATJRpjIyfhdyCkXLyU0dcu2prt3Mk\n",
       "1zQs3g/YNWnBky9nNiPrNddvGp64B7GtvE2jg0TEYkKdrlK5UQb7K7DEYapE9FIUWgX8I8afa8sU\n",
       "MXQXBJbIQzikK+zIaNiDPWpQLI9DtkbE5mmz2Q4zUd8nHesmj9MR00GxBaRhGrSCjU+kiuTivKVR\n",
       "QrO9rlwruBzfbkVfYsv/iF8TYvQx53J2et4Q02pxHd1g0dhT3yNbwPRR6edroapy9U/ROWO5Iqxm\n",
       "rkfkoUqp/ol/N4wh651mRJLEAUqentG+Hcq2yNvl5uVUGYo0mxW2eY71gYMbLzdPJYK/QkK4habc\n",
       "soxAASi9eEv47RtLTOgyYpaj+gDDSbGQ5rPzsLqkYbsqnCjX6X6BjOOJUAXAl0N6bApxD+9556J+\n",
       "x/RpuUCkHVtRsto4pX2nrGaCI07s17mdaiiA5fiDxmRA8LTmTSwBZXX9MiUvNhCE/WV7musohTXw\n",
       "E9iQuiVJDV50JFq9ugyAVFRZydQja9BNgWZaHyTFwtxuLVg/MtsKY6AbOpAWtVCrRLwHdcHkccXu\n",
       "/e9yBU9a23SVW3zhjwPSp1DD/bCaTDozVkklkJ0ghhuU+mhC8C/y3LZTvq+Yecjh+KH/L7VqsA2p\n",
       "oLtVeJE5cFpt8sn6nCjWaMRZe9sGVwBIPCzoXyzK1YAK1gGInws4cGWcokRppYifxKgN/ZZFU59N\n",
       "FThoPOGyj0tUc1JxLIBwU4UIl7iK50/mXYRBqNNtWlPHCXVwnLLpz8B49uGHBSy/hpNdA3wjV09y\n",
       "iLJV3kh3Eos8kPlXVMweBWnZF0YYKosDJmsxewnN9SOZtIrP9Hdt1P9Sd2HsAIKZkYAxhtcYdxzV\n",
       "ji7uE59Ve8onaIPEiqzZxc85C3buVwGbKHDhZOtuSvRKhUXXf9K+v8T9UFnsUEISnIMWRNDtGPqw\n",
       "V8nU/9Rg5n2LrLJORLSb8S+W64FX7sCBH3AKiPnQuONkMqaVzZl2/P4x3+gNfXE9ejBEM9hszPAq\n",
       "rSzDu2BS7Dwy+2pSiKbEkaTAU5qLPV4+GFb1dl7BkdAFpqiQG6yLiFU+Bi/lGihhjt/Kp1w89oF7\n",
       "K4KxNXaN8viNJOv8mNCLHzUhZix6d3yHf3uTK1K7WfOT22gdlFWJ7/OzdKjWuJj+wthtFLinElzS\n",
       "PGjKFr9oRBLKO8tBz8lt6v1QEYHdeD7UcbgQeC5a/1i3z17p20EMGAcoo9341tui5CM2tToPwyoM\n",
       "Dw7mNfEwvmAvubjiq9zz+38kkrCAvJYzt1axvlgvt7w3AYxU+6WZyNsiY8RsJ25+kJ5rIs2nWDEt\n",
       "29sfXONM4ZT6WyzQYHJOzMGXgngZVKu76krKN+8CfeilnnEIqF2jWHZltoCL4pZEs8B5PW/jvS8X\n",
       "2TFHI2IzWhGfE4ARKt8qcaF7E9xW9kJhOWG6+RnY1RVDFeqBBtEamyi6z0nzTLKGFBdwWVTQThRY\n",
       "opTz/DVKY4ewGJphbvmA+vU/slQ+VZdIp7HKtLyuFbiLt5ck0QA3M1P55khhv2W86lfQQJ8XfMe3\n",
       "BJ0as+F4SBdgl7TMVaFSE1N1i5iE06djnMmBpazJ6dT6ojSPcJwAvIEAAAJ0QZ9LRRUsM/8AA7bB\n",
       "KBx9ccZGFVcuzU0rCqLX3Yda2+XeaOU0l66qcq3Ko/gA74K/wN3DiHGAEZHyItTaSXu1uXn7eKwH\n",
       "5pesFFAckg+qpZd1D59RXNVsKo2sFfd4DIpwDsa2Miu+Zj2jTXpX4qxi8F7NLQgNJVBuO21onkTK\n",
       "1ONMtJQNlbKh+9W7BDleWlkYW0oJw0bzAM2/28toVFG2/4/yMWvdT6/FMR9oXEZWQkKOK06mtsdp\n",
       "LZBtBCaZ5tvR8ylt8Gnu246sIzo7cqPEn40iRqMD6E4L4rHOw1yAAAAIyitkWFFctO9YEUSw4bnK\n",
       "U3ZHeF3FU2WWwtQKV0Ey7Fa1mklmA9D3yR6YR6/ySR7aXHuyBMhyYRx1ElYRaBRLSFrAP6BXlMaV\n",
       "IxiVfVxfV4DcelaDVIkVsXwZLh5GTEKOMUOWR9/R4HWtPQY8B6q+btA/7PCfprRMGrVNmPPYmffP\n",
       "CPvQ9d1b3N6DlAFTRFBZihdkFAcm4Zbpq+d93CfTMsyLgyMUpEIa7R1I1DhcUbT4IRfdRR/Qm842\n",
       "a353bzL0nKickS7o5kAAA/+Izsi6SINrJxuY5P/GASLx8I9W4d1rSIRhUKLBJ5ImtD8ZBcqFRm+v\n",
       "BKCGz1eDUT/PB/qhe0TCqBlZk0Lv69KMrDZ8yLLiBzdPX1uG6C/W+AkLv039SBEFjGXO1p8RtwQt\n",
       "9YehwsdKr5Zny8rzExcQf5WDVBfSkf+EkrjAePQkYihO650xCk5/JmzFvMEBEA2ZgwiVC7R1Txsb\n",
       "GPFyg3kkgyjTVWfUx/xiJOOyImFQIYflqLpwYntMJfSeB4QoxQKIFi0QcD4HHAAAARgBn2p0Qr8A\n",
       "AAMBm/6LnNeGFvUY7SPJUkjgmpcCxR1e9qbREXJbYo2+iZYXTtlqReLzaeyEdSYOfN0eoHpX0aA4\n",
       "012D6j3pdhtFVUEkRL43l4AV/Su6+c+qHCizG9OcAUnqazcfiglaePEjnYQPjt9l73FRf7o403CD\n",
       "7V4gAeouExG96RYsb0/HwcQQmfXx84IbFbWDiRTJ3EPiGKGdYsfpNeVFeWyANdXJi1hVd0OJtXY5\n",
       "5Q3SO8GJDeZz6oQuKKCgM36tzQT0UCv8unc2NDhj6/FJxCMycIBhNtCM2E+E9pWQSB2Sq7I/3AmK\n",
       "BvoDbBXl4HKC1j5kUGyYgvzBrDnuuPtVXLBakwNrOJgbyy8y6peTJIfgAEnAAAABdQGfbGpCvwAA\n",
       "juu5UYxideeDfy4A2MRnI3Fi+pCC8/Yzk1GAm7RjUou1h1pFxX32CfsP3MOmoRGxnoCF85CbuJkM\n",
       "U8Wa1KF8dG1731AC1Mp9YWPCVSBRsXSp8Wso6NS5+73wUacVETZXr71/SAkFzaXs6po+U7Bpof5X\n",
       "+YghwpAUvblitWVu8MoqmaWEInLNPFze/usyLocXsGh7U9Gh4VKQYGQ14uvFxn2brKZJrkQ+eIOf\n",
       "sA/WnxUfN5S0VoatX95e+rWfPk08ycG/H2dzuvzu9TqZqneGn0uWmc503lkW9l1phSTjqu79QDvz\n",
       "5sctpZNvwF66RJmSjwP3SukbN+Ghq6T1NEi7ZuRbsuEeYPX3CQmczTAt28//9RWMJXCR3l1wcVcG\n",
       "K9CoP2CxdKe/V8hJenbOWa6BsM/wKRm45Lf4JaJuPioFMsTQCdzWgLNg3dSONIAYNvyddawPjjdX\n",
       "3zC8S+WxECc3VZ38XPcPUmQRpxAABB0AAAL4QZtuSahBbJlMCHf//qmWAAADAAWTpg0AUGfx/fjD\n",
       "qZvPbAUFKttbrz5jl3ZdXVj6vNnGeHaCwoDIL8IVjuxwoMQWKjSNIzoPPrjPw9rKToCtKeXOS6FL\n",
       "ogFmK10g5RKnnbh2oyNfnY59detjy7Uk2QvXY772bfLRhdFmw+BU5Vh4CmCkSZVfsj71CCo0laKF\n",
       "lFHsX8tPflBV7LdKOhbo4zI+27FBENPTwTt964YDKXFUVA+iRAAUkGSkkK1+/LPMiGuo3cxJ49Ra\n",
       "WbEETes6ncLJXGDqM6wGRhTGeSfTWW3eeVwXLLCrG+ycq9Ld+s4YaHW3iBWfUpRlpwFhdQk+Mvve\n",
       "PZxUnJWz3KpJ62n/xcdxEOvTf6mxid19syKl2XYxAjWU7wt/ntecoiv/vSqFeeerV2LXZ1IhMB4/\n",
       "nmmBer3x1uQDR0aBHDtWUGnBdigSYGj4f9NvyfIrV8h4Gp/VIWsfN1C++8KXjrRG8lZQisnA1hoq\n",
       "Dh6kVmvf+RoYSred6ATOYdvseFZ4y4/mfGWgRn6Eb7wOkpzd7xSznYDygc14TlRNXxsdcSy2HkHN\n",
       "8JW5bXp766BnalWHM8oeerH0FMwhdphlYRevLzbKxx2Wl9jNGR/7LglszE6wba4smNnImA8lGQhO\n",
       "3a3xBGRBDVJpg4qTWmQ1Rx2G7GdyBLYal2uXWysfvT+npdf4u9y2GFxdkZ2/t7zULRD3vmf9f7LN\n",
       "d9yVwZC+GkiJfm/zFoIRQbhFhDN2gUJJaEgZh2ZintNvJC/F0Xmor5TYkJ1JGVwyzQZGzMa0hgEV\n",
       "Sg8SIY1DeU/R40jgNMeSKCnQOWIXj/3tx7ckEe/4JX4sCstCYZ2QyRLMcq+qv2nZkOcJr4AJQkdZ\n",
       "5ewdLp7jaxkged17wASJNE9CF67GqFrA7IuR2wtL7VUAw5Rwa0K/OySn1MkY2y72qtOvRMjGMrd6\n",
       "8XblYRymyW5cs9msNaRBhDymJcT8uyvPo/h4hulGQH1k9DLQBtg8lykT0AABIwAAAuJBm49J4QpS\n",
       "ZTAh//6plgAAAwAFlC/nQA6VAt+zQJDHvxgtI0sH131i7J9KIlrL71W9RtXc2Bz6E5C0d7TiUGQB\n",
       "kG2npRQGFlfS9h+JRRWFNK7idP3zh8yJeczgLUq1fyZTPxgn4KdW1Vqe2KBtzdao2i1BRD34/twJ\n",
       "HXeMNoVBm770PPdloRns0E1lozlpyGB4kptah/Glzdl0ymnBSdJHYHMivQOgDmveq9GZMp/Rc/OD\n",
       "j4KJw8AR/l9xjN0J1rAZkbIRkFITLH8zjJJRsSU5dVUBoRMxdX4pvKIZAJKmpZcnMathBP1FmUQC\n",
       "TblUWHKyhpH0qY4MlZR1PGnj4ltOcpOGK7u3kgKx8wTsYI+9WNDvCSNl6bra45fEkq9VFKrvL5SR\n",
       "nttjKiovHgezNhLNdnIBVE1lpd9uEL/+gYPDgRxjQNH0oIWwR8Gy3pqqMKQpBBC51et4Ty4UdyE7\n",
       "BQvBMt6o8NdEmkFr42D19DMIZqcGks3DTLGVVSXRIOngD+zU3IeDEd56RelZoyJ2s7ko4ETDwSVA\n",
       "TrQcIYerLDcF75GsaGtztbmpETJxcMUBwKj3IfCurXN+PUrPsWZXr+rR7ArU2zAZNACpdvUUyeIP\n",
       "mgfMvWoTK36908KH+3mWC2xKFXBqOIWHq59bpBLcf0Sy2UmWSdgmljxC+HCCa+QoBZiZwQqV8nsk\n",
       "MLpNgPy0VzOny+3XdVc679CUYadxOxXsxqR1gglC03uBGq/TnujsK3xHPsd5e3TtFcQkQAQR99jM\n",
       "F1QA+4XI+s6YqHSVafDrqTrsdGUsIZkC905/+KCruM+HTS2HGpgJPDi7Mln0hggKojJW5ziju3Gj\n",
       "Eq66v2kMQa//MIjCw6liBv5zUQ0a8noYb4EORoS6ifgAxWbzfuB6yvvUuAvIcjQPPKXKBGgINHEy\n",
       "rrFwAwHNjse6V+DKj1EJgCYS/UEzYSenOh7J1O8afPY8mL2sHZry1k8sEeAA3oEAAAUbQZuzSeEO\n",
       "iZTAh//+qZYAAAMAAB1Pw4rlP7DoyYBAsDNje/5aso7DpVf+Fle4ADrxg/wlluZs9MoKs7s2NWHg\n",
       "iGOw9qHbjEGSmMVo2th/447iYLCVNZIJSuHzE4jtmsFB4jDBk0bJXf54kH9ZHGy9rZnZlPu55vMu\n",
       "UV/PZ473vEx4mhvxhCGXj4rdQlBgOG85V3sB7qlEVQQAMaa60+kogapZiWeg75L9AtzOPEia9dUH\n",
       "6EeUsCLJm1KS+5qGOhOP3wkKiEwD1ssXMHUuC/BUy7Pv8LxXS7f2H9W/EtvG4xaIk2/Q/Uih7HHk\n",
       "vuBh6G/wbXN+SXmbmR2qk+VKq0HyQy/bGoicwcawve5JpWsoXnMm7k0Wf58umnabV70qDSZzzs24\n",
       "sE+QiwGc3wVeYmi+9NFt4opCRyxMO7Eiclq8wu0w47oWe2GZUKtYo6/szYsVgc1XqjRAV8TfnwNF\n",
       "F/Q+ZufU92Y0GAp0dqsinQo54QukIuEkbBIS2qoDsUA1wOzB95FgIXv5+Iiyf4nCB1YxJtkO4qaN\n",
       "YB01LJHWNfA9YtltT6/Zp2kLk0A7tjRhy4VkGnlI0VbCroWoqnYfjcetDiWCmdOkD/RGpdJugeYY\n",
       "m2hvs2pQTMcOGnRlcXCOVj2n+kjXrrsPZ8g39PhrI7ziMiOGrdUa0a7TkSFQqz6EYVU0YQmKYX9O\n",
       "EBbEc5lTpBgzUNgO98iOLlf5qXAY2uiL4CCO0WHZYUO0VuN0R7GDJ5emdRLjyY19mqb4d8ZNNAns\n",
       "JR0nQB/EUvfLbkfAJnUKVci2b8xq4KVXTHGhoFkpkVIKt6L+Qk+YlPJNzG9gIbWfXJ82igOisf5r\n",
       "MVm+rAJAVBayIM9S4lLT7WV8h/7Ysd2fRB4timvhw0+W432OEP7bp0lqXU1T/0EXNa4VVFKiBAHY\n",
       "FgukN6ujE9iT+VDJYnfVHEFHfSw7fmjWQ25AY4XGbP/oX5hlPgtoDJnPeS9AgAZk1CNEQVqMgxmG\n",
       "AEMgrxZ8plEjGyvhAVpbKbvG9Jyid4U2AALHTuU5uRVNkg6zVwNu5RjjJwqXOWKgfb0hDtlOwWVQ\n",
       "LNtI9ykqX11OuqNB0nDhZdSMQ140btnMg73TNwmerhcg6Ofka7uOSKL65hNlothM0Wus5eqtT4AJ\n",
       "WoORfxlY8gnYLOsZeVAWZpKXG0DRA89LNE3z3u0I2PAsgVMhQZDfHOHLFnFHnmgfB3sKeP3GIuip\n",
       "S2H5Hksa8x5LCjQneo99ZDxGouNIownk1Ez7Kd0xPcgLfGeEw19Ij+nmwYlG+u3+wnyW67sOhzXS\n",
       "75gf0TlZZITh9nXMz3TF+slU0uZIxdlsRpqFs3QEulT8XU9xQ7TL4BHw9iVH88VGoLxhV/omF4oT\n",
       "PeZZb40eZo3Utyvym1L7a3ra5cJs1uPEfLFXg0FFByVmokIbe7UGJU29yoU2qU9MMgIP/VzzjQBH\n",
       "hiyTT7sOBKAZlQjR9P0lsDGdaYaH2ylhDvwzTJC4HI3+q3A9d9SlH1CLNzVNqlbsgxI8SSptZhYZ\n",
       "BV1AQLgKQZEPr2aPCqpNB7rrgaOUQLOolyBy3ep33Qcosra38b5HE1GgLo/VR4BTBojyB/1fBk/J\n",
       "b7CwyEWJLZjWNybRgHA2y5emXNHEH/a3ZW1DJrEPqNDM8+7LID+45yWV5JMvoArK8vTLF2yw7fPc\n",
       "1XIeZdw6hZJ3XpSosvIwRoqVEIYv2yUsrh2AtQ/k0+29vDUWrhMD1KoJ7BMAAQcAAAI+QZ/RRRE8\n",
       "M/8AA7aNIpgS3ljOCW4fQoMX/y1KEe+oXcP1bed3p2Zqj9DiHdNk6S1v1v05DKEQhNCXyAZIB/ec\n",
       "Hgb77HGKVp45Cv7bxdrX8RlkEskl8uxLLNN8pKdREe3AoDEogHkfBsXAXAQVXuhbcEqCjEYOK9Vh\n",
       "Ntob/5+TN5ZXjgyKjJFd258sNJSUO4KRgPC+37XOz3EaFHuy+xYUlwgzKBzASEWYK/QpamYnkJGx\n",
       "JqtXsZr48sjZ9B+73MglseKcuqn9w2ICNHs+gpQeXkcg6vol+klPscjAa9sxjQYjFtolyWkeqUqg\n",
       "8OT8LhcBZcdVdK48duWZRQ8XpaBigR1TPIeNHtRvKHYMggc9gez3JCqMx+B9mOqM9Uote6P2lEvc\n",
       "AhB3O8kk0g0basoiYZ95Ub5gHh9e6RhYambJNR64UFJpTqeXhx3OQPoCullBqvGCc67LhsZ3qtjt\n",
       "j4LSz/qzTWHXqA2tCL/c8PSNk2/sZmDUt55yp1/0NTvW8WD7XIGKmljcrKhYuFMJ3HCR2JJ5gpNH\n",
       "dWllEkECNU+Mg6899hQFELbwtP+0IvqFl6WkaoCvj20WAlN2QxZpBYCWDxao7W0SvX+QMAjgPtE9\n",
       "wtfAoNkX6E2UVFmBHNGTIBQnfGvP0TEBSg6IcYW/KnRTE4zuIGJ9SDJOkTcKLWFzSEASbHgg9+Hs\n",
       "LIIE+B9Jgo8ztk/OM1bNM4mLtFmkrKoOyS5fxRmQsFqLugtdisA3loleXmFKWoq8OlwGQDC7gAAA\n",
       "AXIBn/B0Qr8AAAMAADD/uujD+B5wFRwA0Ar/CsUnH0yE23QhN1wJW7wNW+2nH3m+MmnvBDEvKgRZ\n",
       "BpT1Qev72+eWGmBn9V1Ld/ZMR3Wlvpno6MJ5iFM51FSR4NKu5T0F7UnTO67mIIrz5FBhMWWooVzW\n",
       "HB2Lvq9jgvXngCAh8LqFWDDC1gc3stMtZNeh4lCulVhZ1/URE1Dcif6cw7CCbkuWdRUkSeB1lSye\n",
       "1lkq449eSOSYdcozy+mDTUKLhb1PeZEqRut6HTFSK9wZQQFYRc11A8XCd+4wsFz/H715y06yQXxN\n",
       "8OFlNrQ2jdU5TzopCz7vYj2VEEY54sXkgAz3I9/esow6ZCOlrqdM9SML1dUwjh4nHgo1pTX/HcZs\n",
       "AHw1kQYdbSe8QNcx8EuX5aA/9RTfj11Wouh5lpqHshYx9DEoGMw+Qqj1OMLGngzi256QJIfyx+pa\n",
       "XAnggZJoQAe1Adp/HIzDt29lGKAyXcTTlgLIQAGVAAABewGf8mpCvwAAAwAAMQ6Sxf+Qlkr9APnz\n",
       "gaL+EIxJBaKf6UrLP5bK9PEESUeMkjei0cKSOPAtzn9IvYKhDruDSbW48IsphfNZjUX1yHMjKnZ7\n",
       "tqqqlNIqroxnMfBg682bJ/rnKEsfEiXJ9LtfUgk52uM/583TWVTj/uYCO+9CDR4J16EF2Z/vwhtz\n",
       "0kTEe74NNnocU4iluoN+57zHkgZ294d6dSJUtIospMDLZl7lmfGagvxNgfdGbR8+1kmdpr5Gxihw\n",
       "HZa5WYWawXqCGiQemtHCQ282sM94hgpgvzevnU6EyEbTKXGYCWsC4PbxWFheZ0J1ORC9TG+ETWJi\n",
       "kZ5hj4ubCA7aECCn2T8Kkf3BGn7KRCtwWs82J6IR0OjVOyIx0K5QED2oJl5Iepl8sQClCWgIdip7\n",
       "kstfLZrOmJnmDF0IKcYqm8BwjqNQ8GXM2zrF+Fvpwv2mbZVZsx82elAkzc96qmqw/J1zMSks8Yyb\n",
       "t3CDNBZflMDdjQ4ABJwAAAWfQZv3SahBaJlMCH///qmWAAADAAADABgvdKQPbLNz6njSjvwpQYon\n",
       "/xAJ4gA2q7BJkCJdIeK2hnC5GaCbD85e408o+nVB9c1g7O440cY+RcewMTw6yKOjIITjK97duH0E\n",
       "puN3CKuZY+ExRI+YSEIypH6Qk/6JkKISWVBVJCBXZVL4fLAePNzTS5Nesjck8co99IDw2cfp5GZH\n",
       "vGKxOBBT3Joplx54jygSdETExbLMNF2Uxqbs3TQ9Ni4uVqke4ZBSX1Oe82OJmDBKgrsU0mCasVyR\n",
       "cLWn3F/6Hp7FbQW8w/yzTVvstCLETBodp2d1PBPOeMQnzO4m3V+D//JomyBCKt5JZGRt3+iIu3W3\n",
       "rPWJ14jmeEa079+6bQRn///4emQB0TMiwOlEvOdkR+AhiT8U64w5DBQXPUvF9zg5iZpfnGEG1/mP\n",
       "+YTW5HanPUU/nAPmL6dy2zOP4m5akJmWt7/nzkuxdj7B4hF6tmm5tNgLEW8ojLpFC7+u4q8vIikQ\n",
       "8T/LZXM7W4xGBZE0UUMiFrzfTE/8YEytGC/pYRnpo2j7OhlzdchzJavrEpUH1fg7FY31vL7SIyjK\n",
       "CVi+PmCmnM8I35Kqu7ZGINHoO0wDaJLeXx+wJIJ9NF3VXAdI5BcKbTaA9bgFpLoo+bHKbNjbCgux\n",
       "jONUA90p7/x+AoGN1wAutB/6e7uJvzvcxLBq3AYrK0NLqtZaDPd8CEG5ie/Loa15FxuDVHXY3QgH\n",
       "O0dPL9n7RPD95XXVuCtQ8xxRRHUpcU9Ac4jVhz0fqI4jExK5aRgo03VcFH1l2FCGwz5bxXIg5tSJ\n",
       "Pr4soB8RH+XM40TtvhOaZZZfeFWkjqlQNGANon7aZxxmhGqsr7/6ac8MSmGi6bEb7uEx+aadK4H8\n",
       "lKxmbJsSWqwG5dS6WVicav/e38j4GrUO7D9ySBSJCG50gxBrDOXfRc22wZBGjHWMQupOzoFz7vl4\n",
       "mI/mSMknjTyTAmGa/ZTPaSa1JANUe8HAjkqEETQ8pQVEqzPZvEHZ6N78Q0GkqqOtIEHmpZJZndth\n",
       "BtfW/gPXHVYKp88zL66VEFgMPGkOdZkg3/cRZUKicpHlw/JXjBPaRlN7FgPzEbqvtIVt+wAB04AK\n",
       "UMNp65AAd1JDCPRIxV29P4mhNgYlBFwMK09M5kv0k5Vw4GJpZQ2Wy4Su0Q/f/B8txOsgjHdxpeNS\n",
       "NwNP1xT/fhqP6a9z48v1P4n2ANRjsixK3VQMdGuudi3NyG/I4WYGAwsBlLy3BEwDOwiWeBluprYM\n",
       "fZ8P5KFecVLAzzlv0bMv7NkPT46FQMI1CzTdqgLGikyZrTYrCsyV7S9SZ5zB8pvTBAUou0yeA23d\n",
       "TN1u2+ny+cWe0WnfSYatALoRa/AWu3McBYTKT7gZd0tQNzgpLk1RCvbVvhwKl6UufjkjCE2XBynp\n",
       "4pixKCNmKmLtxHwVV/I74oFKIG0dcm/hQCLGSyO5/Jx2s69rmIMYZClPtZcoRtVTIXTRJm8Lf87x\n",
       "OCM14rUq+W9CDa+pilyMBKGCTSfhN4/ohzyNADuP3MZim5lMN0a4GboFuj43Zx15R3bSeeYNxDHe\n",
       "Rkoco4pqfaD7QHb+AwQ4fuDkS/gawjRibmM/7iqafpVel5kO7aYCYDsWZVAB3uf9p8nQZprxUjHO\n",
       "wRoUungz2mlKobvnAEM4kjInEl49gWFbxLkFZLya4NqNCVDNu3YEYfP+ADqbF0iQAOGXqTwV2bT3\n",
       "pFIs/nqE3ewIkEp+y4vxptY+cJkc8aSTUBCh2+8JgsMZb0F4+Oj+zcazAEFPSsPDJhkIHzGUXNX+\n",
       "K5rPJyl7z2srbwh6IwcvjkWskm235qZawmt4TGLqmjxntpsRj0AFPKHgleQARZuFen/KECwyh3GO\n",
       "JXb2T7imvMvOIH/fbkkrZCSlWBwIaGOoP3SPON9UAkYAAALDQZ4VRREsM/8AA7bBJrAWK4r3AKd2\n",
       "H+biuWBplNYHwAavrh1f2P+tnQq1dVc1eCkoF/fkYb11Y/N5avwk8TivFbI5WAoWh8S66Nz/bbiY\n",
       "03i1zu1yRirbOTLPU9N11N1/ZjnKKL+35KAtzNR8f/DsGa4wGIWhITrPEHE1+GzBgZLDJI8piB/r\n",
       "2CUhX97V99GDJ4z8TDuj0gGQ3uScWmqlSZtAi3gv5YLQ5WD6wYqTvr6rx9RPabaIbfyD19v0lxXc\n",
       "dj1n1kJQDG52MFR+pLtgwX6YyoSlni29RpR5SUX7D0IdyIBbfWqzJatk5P4f7fHGvkf4akn26UkR\n",
       "aKPUlpGUQ8ZGbW0kZMc8GseDatnxXjhCQR36SaF1KYgIdeuFEBDVhe5WR12mYS7M/ao028uzPNAc\n",
       "66vwobaCEq3fu/FXAQGSrtswmpUDaoAAWYu6F3hQz9mvK0CEfpoON6soc1LPLt6MRqME3qQLC7m/\n",
       "6UMGbN92ENnZLE1uf5WrHPCNLiiTnV1R8qeuOul9r7/nWmieDNAT19xv8aCnMBtw1weyRepy5IML\n",
       "//7CgI9YkIpP/He9s7OWvEQpthd8CZbRFkLpyTlG1FGlOMfWgPUKEFm0a23+NBHvnbUhj5qiqQSe\n",
       "OVnAQeOcmL6vTOiAC8QK8RLUkkVteoqOKUkx594rpD4KPpwSKhvGiBA14cl0rEe6YBIFvlsWAVLT\n",
       "N1CyXpMmjIdOt2IGtaDivjz5ki0R3b3xGYLTUHOScyJUhHqStnT2fPMX/UD7Vb6+nlDB6WHC+Vu/\n",
       "4LwajxStBV5TkHNkXVseEG3TYRU6NvMozt55H3Yznx/tM+WDjXglZCMVqaGpxBER+KB7BH6T+ifF\n",
       "ug3g6/QJRlXvgQAJ7g2UIQ0k8+PknstK7v6NhIZzZ/f6pLmPFxsC8/d8YIfDrgNVakBUKm2TwEmB\n",
       "jUkAAAGjAZ40dEK/AAADAAAw/9CHqUHm41Kyb6LNiL/BSeRuqxC7piMk2yJ80AJL61ktLLvPidl/\n",
       "gecsUgJKiW8kJRB2cRtDBne0wQyuWFmAEeeRsm2PsbIludYN29QampRT26LXW/TEycu/gYWkt/KI\n",
       "2k1PkdL927GjPATC893/seC9LocaNC1vhaAzzh2ZPsAHyoVRPKaf2jEPUQmyFq6H/CbtF0ph3MxE\n",
       "95Swaj/1dKoo3/l4BvcSDEHFlzASyT1lBJwF/reO48dqy2Ip8Z8i6WLr5z7xGSB3KHrpV2DEyDa7\n",
       "MXyZ/+Rvwh8N2K9aBe+H+4wpy4hny7ktJNTD0wHRg1LnrZrOSsQrFtwdJkkeNA1qAEFfZQ2S/HBV\n",
       "SNNlu3cYMf3zNj+us7zzFmBB8ArNimu/1RuACFTPQHdnUxGx53KS/jGIq+eKqEj6p5rMo0AJYGcC\n",
       "zl7/YmzPYZPGf5zM7n+3aM7cyQoFZAJqtDM4rYFuy1a12EhX7iIJeoNqfclf+pncmuABn2P6UbX8\n",
       "PoXTn2ZIZoOJWuqh139FSvjBavtS1A4Af4AAAAGPAZ42akK/AAADAAAxDpIeVfG6ypNU6kQ0WjEV\n",
       "fhYAZ/YxD+5R4z+9w+bU0NTajIEP1mfIjJO9yloJMrpip3Cf5pPsUouqkJvf4ThaZ474Mf+gGjqu\n",
       "+o/ad0ZZvFVo9VfKM6l5N+cZv62qompyENKp+ry3fM5qYzpq+9Ns14Ay4Z+62F8NZNy9MoSvkQiH\n",
       "zF8Pw00exwJ+tmttG4j2NsU6U4Z9Mv29HS335NwDA8Tf0TO2k9swdV+fU1I0zXGVPgFKpa6pK/a5\n",
       "fNG2EZwJkuHEX2LPC9r0t+7smKzKOAaJY1puTuSKLLszvy9UKq0e5EIA34WsFT0A5xKKjuBEODPH\n",
       "7pCWUKzxpxwBRtWDDY/p2TY4+KgWXpXbUaCFBAaUAJFOqTqQAVVod2F2uP2c0EXR36fR1KEFWW0r\n",
       "QTIH9OP07DUtiPQPlCM3jURl4+EymmUuOSafRFO2Yy43kNQ1GP1Q9kG56eMqzdMy3t/wd6qhADpm\n",
       "A0AcC92Fnqi8IKp3Z23L7Rxvnl7bUA/vxDroAFTBAAAGCkGaO0moQWyZTAh///6plgAAAwAAAwAD\n",
       "qe6U2avZmUzZzazFRB4aAhtGenaF4Tg+4oAh8Rjn4a4iL/lGLvxOx+ij1bJdY/2RqSyXnK+gB96K\n",
       "4ZSyCWwr9A2P81cnX6qYFq7n6Jj/vN1FNeLt4G0sYNeg7nzYLOsBrGo0LiHwRso4JOGuijDwvYct\n",
       "7m/Rhht/YEc6Rui31i9561NF0Mg2GizRw8Uq+JgyFJb0hem8T+IrHtaq+eKAfRl+rIkRAuBO6Jfg\n",
       "9RTmAZSzVtjSJzDBeRXC5T/L6K+HBvn2Dyljm6GLbGylPBwv6/+7mD9oeQH+WIHgQw7Pgwr2klrW\n",
       "tM6HYY5fRYE5joIZsZF8XfdxRyECQ+ZA4usDYhpPb0lw4RyZ+Iah13K+zOnzUrvL87gVaXQn3n01\n",
       "6RU/uerqGl7C+w7Dk/BJ6qC44kcmC3cg2JY6IHZ/IuKErX9pyVD0qWacAUuo3v2Io//MOCmejGUH\n",
       "M/UAmhjK4f5qqG7qGw4En+QxbDEw9yLm6mbAlupNwq4x1/qWvrEumuKwa20vgQV/jVZlZS9mS8Xb\n",
       "Y3wFDyyHxnW/Z63yy8Ux3lPi5j3zFz0HJ9OcDS7p8BGy0qlBN0zi2wEYaZGTxTSMf7604zL+ODSM\n",
       "2kZxzTG/syWHCvGtPV5dGSgeEzQ3nVIwunZdZijmuOKONZ86l6Yc0yEcDvwrNtEXn2+yVr1S3xKl\n",
       "SMRQlH8Doy/tKZeGXMDwjExDuZf5dxHIzNRbDkmzMqLUHQ5RhQR4x7qnSIxDjd2L/ARDq6/Z4QR9\n",
       "0Zt7Xyr1Cus8K3usMdFsr1/YtoUmtd2AnxsPCssld2i4dbev8F+pf1X8y0mIKyJiKajIbPi3Sdvo\n",
       "zAkfBMOeLb6CSQ0BXer3pmUf/xXP228CyHcNPWAZ2IcJkqN+rmPPv/l0O0L4ePSxtSUZU1R4hCzz\n",
       "D+9yIU8mYsujhLSdzCu+avwHRL91CtQvmBg1kZfTe4QXKTZU3ooOUx73sUArFp2ig4/6a9Ag9iLd\n",
       "t134XNSBOWdoNvsaWyRi6NTjhNya9X9NgFVQO7cE6mMdwD/vfAgRcu5djzlrgJS9oJDMi9ZmRaX0\n",
       "76b9TgRO3AGjJrG+0GaEhyH4fa0wQ4UhPbEuj64+jeW43OZ9FT4P8M3NmDxUPnzBW+1NkFvWty6s\n",
       "d35/9pHHP23tOh9gCv+cxqLhd1wdcUnQItghSAzJUc+qwbDv93pV4wN6ET8Gbw/uDWxWJ43qzAmN\n",
       "qQQYrV1JB2tH5y62DfN/oLj/UIG/IT06HV+rcfwQWXB3mRZt88sdvaeK+WwwBoguCJUpXfK/u2qa\n",
       "XDrsA4SAMJs/zSsbdk3n4JHWwLks4Q+QSlwOzTfuFAxBMKXDvArHMp54TiAMO4HUcp8A2sPwI3Pi\n",
       "5OxCGJOeKZf70N+eb765IyYmK8ooW6hz7Rpy5USbqobQIWeW2wBhL21jwaX1ZzQ4OBsrciytYMnu\n",
       "4D/NxsdOeymx8VLRPcSA9rYQ62EzO4VcRtXCY7ZeP4NlZLoKDkdvzPOdwqHR9xPitmpxFDeKt0ID\n",
       "vBwTkI2Uxwx1LmGhq3KdPa820BFBHNkZ22Hk9f0nv+tTQpF9amSFC6tjRfuCKp8FRI4ZdKwd5juT\n",
       "srjwtaMfLxSGV1vefUjAzctJC2w4qJ3z61IRV6Lqwvp3YBpgqerTk2vgEd8/liCEW12mG55L8T2k\n",
       "MCFThCDqb8bKHcIi50RsMSWa3hTS3Ti4fpdMDawZQkdkQUsq/GYb7WZzjtDBzomaiMv4loYkfa35\n",
       "qrtKn7+OmlPasWtSwKq90Vf+E+quvugxbR/I9l7skMg7wHNlVj+zEZUkoP8zuBHnuxnLxGQdAoRN\n",
       "24nfrwczPxqZc35+vnCev8eQ5i0YcgbFSaWDiu5FQ885CQOoibY1FnJJ8HFGAFJDE+RveT1rERgZ\n",
       "1ubvfDCjwZ9MWJkl+KRawg9mBeHm/Y/w17bl1zdQpBOoFbE8XbqA5FgLLPd0K/fC8P8Nuax4N2OV\n",
       "EVzIKkbzoIIM7EsgWg1qm7BgO058w+nLKSpabXhtZYuNIpx5hRAAO6EAAAMCQZ5ZRRUsM/8AA7bB\n",
       "JrAWK4r3AKd2IK02R7dtn3PGhxxJlxQKpVIANoG8DsCaN4WYocFMmiqxcROUw0xhW5L/mNUeG3lu\n",
       "d5hcPqZb8wL02b4RhybQbGW6wH2wknHGgKnB55FpeLGDP5Y0tNhvlidFxvsL76ud1bsMBKOGLxLU\n",
       "30rZK82muPhIy+ZElVdJcAg2i+gNw3HudhJKcs059/ItCH6eP0kWNx2gEn7fV4heF2hqC/CfOePh\n",
       "eNUgvrwteahKFIUPXJh5Du4vXVs9yLtM/2X0lqLOi6S+L1LN/3WRolWq2Hnc4ooOCd8wNByhDVxn\n",
       "p3hITPjg8eat4VMNZOVuwCv9tyzaDzm/WdxzMPRxNyFqg0idL+AXKjxKNiVm399zB3CuHjX12SNl\n",
       "LERsHCN3lfKL5LKayB8+tY3Y9xvIeOUzc2zfv4ub6BAPDigOarp7c/TqFaj7aIheJTCq9D+nBjeF\n",
       "HDFgJGbo14kF/TMDLF4VvdFVL8HKPuKsD5QFHrTr5A2Gu+zmRTt1luSReu4i+STYP/JdVwBZP8KI\n",
       "CTizqLnf3tsH5nGGIPJ6dAWGxJMhqGhVzspzrHUF/ZYEq4KCzQf5emBHpTdurb225Un56VyySsvS\n",
       "Y5Azn3rpBsFZ42lMAfC50i5tqGjKcdhvbK40MvqGeWbiIRc13GDFf7dKfRu7p7AO/80ezyjwMSOJ\n",
       "m+xK+h+lcp17GiMZgIBgjPcvXwYLGKxBvs1eHjlG9g/FQj/dpcCzpjJ/52G1LylTzzC9tC5gCo8K\n",
       "MJDSQpgN299093370z+CFh7L8TtA/2ZrO87fUphiysS4IoH7B52w4MfU9sKHsoQ+aZn7dNOx4HHQ\n",
       "lAmj6a4oFMOAJP+jODRjcaoqoVF34Tv1DuHKYTtEtCzEoaamGY+Tl2woXh9wcbPwiKorlwt9qdBF\n",
       "h6qT2AkmhQMBxC8xSzCd9mDVxRCQc3/wzisjWDvHYAsg+NZK+8d9kTfV8NU8T2nS5aiBeZ/OYF77\n",
       "NirsVDL4thZKM2Z0BaCYl4AAAAH+AZ54dEK/AAADAAAw/9CHqT/k+fyrDV7Qf1GEw+WxqN+AFUW9\n",
       "PGCKZGaM9tmAgq2lHzkCo/TqpbHW93fL8E8SZCfyyiYVvPfHg2NgUNa7xWSh1bAmMcFqCfAZI/o5\n",
       "sMYoVny7PJlIzV1ssMxhNqgCxvKHpTOxGMss6RxT2ZERs/iOvusm/pXW078/O7ljwzSQY4OGsByJ\n",
       "BtIrxtvOdorzPlqab45j1dYzfg9ehDmiCwPPZhHm3LFBFF2RroQpHDqzRf0Il+x7iygw9/xgP/a5\n",
       "pQM0+FzSolmXkww7jEcTPq9Js0HIephGe08f2qIQqlWfRqcUohcMAR0HVXWndAu4VF/mt8TcrVeq\n",
       "TJICtiHEI2pAc+DB8UARVXOYse9pnuEGsqUWhCwzZ2NpLAwG1Kp75YiciQC505ksJFv6lvCNcJ7S\n",
       "7Ggx4NAZDpPGSfXNczhaUYGKRBz/uA76w90I3S9o9ypT8hfLiYsaJlnvhLN7hynW6UrvmSJ08mgh\n",
       "t2TR2J7KGdazPWb/1nFkWQN3rXbbTtK7MBzUxL1dkM6SZEQDAE+uRmJvWuNBzdfkhM/JXUwCXVLN\n",
       "UbQ1eBVq0ugef6evkYwLQqbLLiDgTw9seT5nNv+Pm5fkF+Lqe3/S5EDM6Ohc7VKtGzHsK1hKlGTh\n",
       "laUN2fqQqJs/bszljIDeACkhAAABrwGeempCvwAAAwAAMQ6SHlXxhM2jMvBFf32DYAXUdFaxqEnu\n",
       "dTbXO4ci5EqLbHO4VffOMkdbhwwHKEoc24yGUrmgqkTZXM3EiuVlfi6lRRxe/lcV32n9Di469bno\n",
       "Bm8wiJUoleOVwyWv3B+FIFDbb4F2MVnYZvFdIYbbkmVolwUX25SREtU+uvAXpiLPpUezguJ2REz1\n",
       "h5aWyLUv+nplJxNEqJFKHtXFChBjMDDa1EvxP8hvRJCqQk42TXRtIFDTyLgul6bvJg6As1Ath6z5\n",
       "nECHqqLkS1J9rjEOkWafYUNYbNVeG/cvBgOjLbycB/Ui9kmCduOqxFMsI8JCLueIcgvYxhgu68Ii\n",
       "m5BZ4Eh1xgz9CMlSfFF67p0YPgfS1AMAOJGgkl5nnduslaI6SVyS126GCjptElBUWMZSkvJEOfyM\n",
       "wrmtWivjt8exkxXiY99YF8X68MgJVV1+zjfwGYPptTCZpaLlcgWHxn0/JztweqHog7/MEAx53rmm\n",
       "xShOBEdsau6rpVeqTMLflUy0K0VReRa6fq+OYPpIAqf57b2TFcszy6j5tgLI4oq8i2DjwAFlAAAF\n",
       "wkGaf0moQWyZTAh///6plgAAAwAAAwAAAwK4LihpGB75FSAUzN7xqAC7sqrFKZq0TmtaQnfzXrYE\n",
       "x2NEb1LHtovCmO3h5+y9TPlmCFTCAtaBwXv/+XOXo5faydDoxLnmWYvwPlrCf82hi+eREnQB3gfJ\n",
       "ZaGPMRvxtAB3kBDyg64fGTDHL1j1dr4EXy0aYI4ZUjoEvTpUYRm4+JtL8sAjBv0CVKNoU3n3LJMS\n",
       "njnsM5BzNgBTSDFPFjLut79TQmqfXGwXPLcZJt84K7UQY7KxYKz9X5eO4Cdpnjnl2QBPB70HOHuC\n",
       "8turWhoaoThnRaVSZlApQXjb2NLR1p4IOjN2Si2ewpNFYt7yDLZx44gJVhBNqBbfiNqcIxJOKkYZ\n",
       "2MWUZ8mY7VHfeSgfnnhaaK3HLI55Zxx9mvGxfW6Lwg0KD8KaChxUlc24v9sI5AYO5ujo9PTcnESj\n",
       "/cn+QwTbSfRePoBtnGRzQiXPQ30gxm7gixM4SAVdGx+kVR1xgAImDKzJiZEjBxO3mxlF/rYsMQ5j\n",
       "3T1ZJ5ylaNUsOle9xbJtFMIVgvZyByEtpo/CKORIRQxCw1St9pPhcViNllvU+KjRMVcnvWMzDJkU\n",
       "l+j+SnIBKQJR4S12ZCEBkiXTWiwmOwmtz7ZFQTR28DiiaI5sRdGWCyMHhTTzSsxH0jZKV4316Thb\n",
       "SgSOquymoso4R/Ju/75S+ESfU6VTcJxLwD1V7pD+7lXfkoSuOrk1n62Za39lUGgXJ+zMR75dZB3X\n",
       "BqfIIt9cICZ/G6/2BLUxZrCgmiXSvoa4G9Tqg7YvO76I8Y0v1uHSE8o/DIjk/0CswOEmIgh7oMyP\n",
       "OgRjEvvNrq5y3e6DDvpQllEEZZ21Tbx4E8Zy+wFUuRTCaRut3jhDSqZtcoqhtY/WWHUhrnrR8e5W\n",
       "0+A70DgpY6kUfxGBocFwL2tVhkBRz+FU3Jopnd87pTYQma9MqG0LG6FESm7zo/hZe5D0ANO1QUCC\n",
       "NmOhO6UiCnu68vOhu/qGEqtuLKk8i0aXa1Ekqqnf3WwvscMaQZZGK7RyLLk1xK2iKLYjjgMg4pDv\n",
       "naPjqurq6zRe4D/FDd28SsFMCtgjSRHa6+qHq3W9aCTwXRgjDVliH6fJDhYHHO+E7Nyo1XZdn60k\n",
       "mouSjOCwwJ8yihcfCHnZWyyX9GoEd6v4gJy/JD63Ba/z5JDRT+mIDfp2u7lS8eLzSbOCqtP7wTk0\n",
       "zPyL+DxewWTOMMMd5b3v3+8NoBBIq0SdRLZyKMV0CDVTWqikXXoZ/ik7Ma94IQbTpg9c/nZyQ10X\n",
       "W1HYpbTW+2JJa9VRfUwUam1PzjzUTmPac3FrUmdEjJiMRTkVe/4YhZy1UbduJEUP/1JmHECwY4Is\n",
       "UrUCMHUf21O42LNX3Mm/cre9E4QpCja4vT7ZOxzWINYsm07w3KOesyWiP/yiGLY9VKE/6FLIWCKC\n",
       "f41XeFT8/4TP+TJbNUz1Ns0Jwgoxoi7GQ7PfMy2tTJIrJ+cC90u3+kYi6ECcdgx1nWFTABlt5QhQ\n",
       "7vvyp6asB/300KyZh5U16eHmfLDgJ4FAuFpUYPCvmRVJDsjkNlTp3JkvCRHKNEdgUiRX8dwvDpOa\n",
       "R/fEU05ik+GsnnTV3S8HM4u0fBx6brMqdc9VT8zFKF6ULF7B4nA0Z4ROophG6p0inepvFUTTV5Fr\n",
       "tYooBhq8FtllJB+e+0KS92HT/CdB5Tf63DgXOPr4bLYH1U0pyi+Rt4oL+FzqkExvDg78NfwEGgJp\n",
       "1k9XdROBCdyWFQSSF8odhmnO2Z9wwAciptk/w2Jrax9OF13bKcqRhZypVf6DeGXRmNrKBSiK8xXr\n",
       "V/pApXDhzxq60aBC3nxvqfrWmMo3j2zbIetQ+9njVdg68EoMsyAzv+J9uxY0XTXxfh+ACOjrI3uo\n",
       "7JGVZ3zn5vcdrd6F5VJA4i+REFJEexER+G9029lLIFja645edzEbxGTagels85kQAW0AAAJ1QZ6d\n",
       "RRUsM/8AA7bBJrAWK4r3AKd2IK0q0bwJ20mM+Cx/nkiC0VXHrs6SkGAIa1Pww+bmKXfeHUntn51e\n",
       "6gHyCrLFXUgfzNOssz5DWdUfgyC1lGoYpupFC8ME71Px9Q5V6VPdmXwYd/l0o1m04zIiGfd7QCIB\n",
       "MkRoUL/D9+V3mGXSFbauhyG99YVDAPiqURw6NDmq6SuZQQ4EW011HJvjDYnUxc5yUuMc/bQ5btwP\n",
       "WB1Pl+qOpY3BSLp04GQ5sH5qsnHfVJzomkGyod6Q4yxBsFakLj+VHZ+PEtlBzzBsAxFI0B0AKpvc\n",
       "eszjmWb7M9HFDxCG8LKMBIJ6m44FcNn7OgVQGUXrB9hyzAhsGUUBZCkxGv1TJCeVioLTP19tUU13\n",
       "PlF/4+dV1yBYSkwgEqkSckDpxEqkLbKXy1opOe9yqT+N0zF/Ppq/ZxCk2BOXnYHeIRd9ElvS8VWC\n",
       "R3OgyJSnV6h9GedUVw6of0lkhzakbRTx5y6IDxGp2NUjfGNc6WE+Lxt3D/dvOsKSG1TIQhUR/1gV\n",
       "YuFFy1Y+M43JXKo3JKmlLWZYHUQnV6FDF8trIxaLCMZyOTAzE2K7VQOmarapNoxD6PAJX65v+jBD\n",
       "9pAPeCZ0q/hf9EbAdsL+lHW0icdeakq4fejw0o+1WqzecM4q/r+DXvVpnwC4n2G/5Ei4jtbgzUPu\n",
       "Yde6W7pfFUnD/BzbrQjHPjsxJt9zqTOZQY6Tf/nVf0JL4zbvz45+R2WwvL+xUIRrdHT7fPYxHRn1\n",
       "QYmjKvI7sWDFcOCJ9JyWOv3fYXSG58iocoraQ3y16zgE40Xdyk+adkaV4MsqQvIaMQstZA1iYdMA\n",
       "AAFVAZ68dEK/AAADAAAw/9CHqT+U3b4mRixfXvjhgLLLADa27hN06AX9QR6r3NQFhQtqRP4YFDu8\n",
       "TTipSu1MATDVvLbXL2Ew1xEGs6Zor7+UGr9onfoC/n/usPMIplX3SDE9C71iusbD+AMqmxXY0pur\n",
       "+06/TKG4MRrZnfh356haqA6pL2etuXAp9IXCPd1ualtyufO2aLN/fMRgWPezvmaQpOL8eXFSlZaf\n",
       "Iw4ejNoabGJTn67lTh4NCSNIPBYjvqYhI0o8+A1ijiUCf2DZx4MX6waknCdhquVaGdP+ShmcK+Ky\n",
       "4ebJki8CssS1Bq3m+c2M+0zsolwvPziuaTXenxP25OfNLjP25oal4d5QCm3gk2lvm+cxy4rIRMSe\n",
       "XLwt9mXYjI8XfwDANC8Gy50e42jjpAUbp0M363s+1BtoBof2aeK8Lm06ldJNXWY4WI5ePOk+MIkA\n",
       "BZwAAAFNAZ6+akK/AAADAAAxDpIeVfGEzaMBHZJq3UvNUjIzVr7oA90ALBFYG4g/8fQ3q1wC0jJ3\n",
       "blp/wYdraaNrU9bCwBGe7bemPd0NfHb699QDsdCyNN1HsYSxaibSAjlFzyU9seF3ZBrVl+TxO1kw\n",
       "vHfrTw3TGWpjbtOihQ+BaswPSh3fjx00HwyJEnidfcqeYVSuDLQvIS59WsjsjDBgX/4dZV3ksseX\n",
       "lZSZsWpkbCh5xaCfDCx82jb826zKEgHX+F3bk4uHFVmyak5nnYdR4nh97/fKw638cAO2xsQJyEf+\n",
       "iFOBgQXgsramKr7eXqbvMBNFE1idDlEh2LAwlBPt+RSZFK3+a1xpghswIYiuhfoX+rYojkroTU4k\n",
       "ZjJX70npSPIUSjPpT7sjLLEACF9dRBt07O4R/mAOuhCzmZR5FSY7d4m514L5a+hzYO1fuAHpAAAE\n",
       "2EGao0moQWyZTAh3//6plgAAAwAAAwAAAwACI/GD+M5OrXUeMqcnR9sVICamtr8lxqNVCOB2/wjT\n",
       "0WgBLVxy2B8WaVyq8/VZwB/M2Sc0RQdGeOY1TijAmAhIlRP9Re7RewtjuPVNsHcMzgzkDk/ZdgzM\n",
       "QI/O3ywhj6Q9Cm2Wa+FuWBKaMYpyOCy058J+lzZ5hA3m7PmsHO6z82pinFQiDVW9heeUJl2SqqqN\n",
       "87XAUEj9esm21O7rzdrpKghRq+DjOCwQLXjiYM/A5MY1CoxDmP1vqgMkFRnFVI304u2gQaC5ImLj\n",
       "GrnOYyk1nS80QzRhTF+eQV4FmlRJEB7P/EXMry5S+twB94mzBd+kHwUd/clta3DwqoPQjdyy5D/v\n",
       "qRSdvQpyKureoY27naWBJoODJtCrhxCXiPaJ1m5NlV6IPCZSLj6DWQ2QOWX/WTiOgwaGFP50i1k9\n",
       "vZMjm9THm/86yTxgj2zEwtx645gAfpThFihgVMeyzEhDK05vDBZ22j/82m9qcbMSACP/Daa3IsL4\n",
       "4Q9bRVXxmNVkVPMs4oONASXFDeDHGDU8nrZsagGGD+E6vtNcn0y5Oh8k1fmv+ax80gY5qunK9pB6\n",
       "rI1Vf+4dl3ASD+n/5lSmN7wKp1OSz1dFlpl1tcFAlzF3R7XpHAzofqbfhRHrNd790L2cdFoXmoT0\n",
       "Objj4R7mVNV9E+IpYyLRQATPbHcoJ8VtrT9t3Ztscy2UhhzKyOSbtNHVWfibsgkwv1dWzfpedafc\n",
       "pmOEbJrz5b5VlK+EXkDD1UcWAENTuilv2+Z5kwvpx5EOyplEcU2I03FVB2FZfcFdcsahd6neptD6\n",
       "c63KuSXKkElsMpTF+hPMJFNCSGiwV5APIx3Yft/b5edZsraz5ouI5+spnBuGxjzCy3x0+mdtZzcq\n",
       "+jZdQyVQdtxmZf5H0zeR4xArc3rOH/V0XHIg+uk7JOSbqcLPlPtzzZdUDPZnghDv5dqM20fAnRQq\n",
       "xZ9QEakBlc377t+i3ldOTBYKkesx81COGEsrZ4iN9nOKrF/v4fEmCOGTnR/OgyOP9QFHYwf51dVc\n",
       "bBV0GWTb5YwzSb/6N9ngsrFUpJI4l9Rdex153AxkbnfW4t5yzVtl9kh9qkKwbDiEqnHhuXp8pQ4g\n",
       "wRV/I3rTO+2sil0qBmkSD0kxNRg5xi7dmFCF9ACP70/m6vtt1LbF5Ax0+A1Iq3Y1UNikC3xOWuKZ\n",
       "+CxKMhpXuvy4dzF5lZgTcOVgayDA2Inj17dPGoXMtyE7BzrXNoML7wjYxPz+Zqxxi03JzKakCbeq\n",
       "CBw5zxheW2Gt9XPXk5q8aQC1OLm7irlnfsekgmAtHr6h4uhDLC3KOdDh1STJlZ8ZJwOk3MO7kYFH\n",
       "rccA80UKQzUdr2qmvWUGrMv4slpP3k17lSFbez07tnYGo4t3sRGE8N8l2fnY6ntxxTHZBWPzqOUJ\n",
       "rGFIHKVbdETt0n/t5jiKbu/muoMepInGO7ssA8+LwMAPJZh5Cr6CmKDzw+LCsmjEeqLLRGux08Yn\n",
       "P6u9EGHGfEGyHmmwybVQ1QGGXVO8lW6jrG7EXEOKQkJoSZrOir8+i3w/Ox/lQSaBk/Gl15slTZWA\n",
       "dIyA+9ccoAhIC0T6c3EwBzs+bNSVJh/MxySQJCOiE6NcWMPeW1Qrj+AATsEAAAH5QZ7BRRUsM/8A\n",
       "A7bBJrAWK4r3AKd2IK0q0bwJ2XA9aANI7viISRACtD36kSPFNKWyNq5nPgAuLp+fCslcRY2q/Lqt\n",
       "xACx246ZFcyTHxDCv6g8LU3IfPz1w19O/hcPGgSrfDqeh/dP0Yf4GUMLrvipYPvaEe8b1ys4eOzz\n",
       "hegEcdHpZwB/sd4bds8SIAdWfpdH6yVTI8RscN9ca4QT2AAD5vSGXN4XQuxCi4WNS039Qy2NUnrq\n",
       "rnH1xIGdjAIQarCCMHyiGnBUtquZO52mXZdfwv2S8hyesX2kS9B9hcJGSWfeHF9kXvCpq7GufIo1\n",
       "fIrgOE9sqsjiFPQI+9fGqLwjzxpsP0rKzy5EWTbP8TVImAdWDVzpCn7IcrMGtkP00MDbVzj6pLAM\n",
       "gIha1WrMm6p+7ppU3WLd7G6xTQVp+BGQIHFDjwRuvbFcaaY1bKQYGGLKqTUYb5w7Sl/1RENQMUBw\n",
       "rnmsE8fEoyWkzUcUQhkNBKs/yrqz+ycR9hNEW6CcgHhxRCjwIsXLx8HvA/JJ8Wy71C2/XAFcaX+g\n",
       "cAWJFvn/TmrSl5FX66SA2tZeSPqipgMor3uR5Vd09LjUG5fLGqjGlqtPfmjoYYzdpXi9Nc2tilNO\n",
       "8M76rrW9ZV+QwWRfsa0zdGGQytHiHHLc7pdezcdcUjQ7Bw6oCa3BHwAAAXkBnuB0Qr8AAAMAADD/\n",
       "0IepP5Tdvh9KZzSDJAEcFMFaz9FMSVgSf8GJAq9CtrLCY86hNz3EPi21QANIvC43IKO1QddcyPg2\n",
       "9+b7AVqrLz2uuT1XapMSdEtVjWgDICW+fjjDEBmCjBPE6a6j5MWpu9kcewYU3MZFKNEza/SXJCAq\n",
       "fIjmYd+EmYmCKI2wN6RfTTdSJ+TtETlKoVi+sGiWP+zBIOrR9vYzJmxya4mzqUfFXoqu5zOxIgIq\n",
       "GI7aTXdY3RNof3flQe1YQdMITOaf3+lViLAJMqSsak2fOPc/PzOEbf3ksI9qZjBqz4SYCdkdgIAF\n",
       "CddLzcC93kO2yAzzsojuY5AEn7GHF27xI4ZKh1eD+GrEazZ1FP/0fgAy3uTQ0WJrk3dv87AbQr4Z\n",
       "Skx345nNzx+xeSKehxJCN5iKiuht0c+RVgqBfF92neeMeh3gFsEpGtxsSt6a/25X85It8USkwMbG\n",
       "VnYqeERyuWec0UbhWQMxwyFwQAAWkQAAAUUBnuJqQr8AAAMAADEOkh5V8YTNowEdjDhBRN4oZat2\n",
       "RUVyt42T7sl5MDnwaNVQj99/a3gAaSGttzma/uCIy/503YqxZySy+c+yQRclgg9+7j39uJxDbXkO\n",
       "r3dP+Jxyx3+eH2SQedFzs4OGBSVjeHoDlxja6uckJHEzyvRqPE6xqUt0ZR60AacgT34DMYIDIQOw\n",
       "Y4BcqnPZiuNvgAfFRwUmbOOdb3oE1AtLSgULU0lT/hjHpIYaxC9cXbMKbcMCoG1Q497f1tWzA9Ax\n",
       "NrJxo9xlVB0VKRwEC4i03rdwgEApG01pNaTEfzxrCnCZkIstN2h26cNDuWUY/hBWc6JaFhPa4qdB\n",
       "CDfmDKssCgKzDTTC8b++nLPDl5+4lcylO0evPMJFbYZsIXDJ/iJssjTuUEL+CMr6DDKWGflHn+iu\n",
       "EAItHPEagE3AAAAEDUGa50moQWyZTAh3//6plgAAAwAAAwAAAwAK3xgkALaQw70rFYBTjzR2cUCb\n",
       "aCrr7fcacVkm/Rww/vlxwgIS9Dj4UEs8ul+FpWPdxzEdUV6M/xu8sm/8m0U5qV7ri83qljshea3J\n",
       "diXz/txcVSbValhuUVXFJw9xjBRcUhTaK9hHgl6RDvrw8/XyPzzQoZ0a2DM6rvBQ7hTY86A2lgdJ\n",
       "b8993DQo5nQuFjcdMAN7sg3yrdtEbWBldsAsXq+UJLr+4VYuYeR+rcsaQfY32GoeYS0XzIrj/0Gy\n",
       "pTte0jWlpEhzRvfUYMdsZK5fe2SQpcTaWzzL774aUzZKYSybf8n9aFtb0osEbQQurNOZHUjaUKun\n",
       "6HH/TLaUO2VxG3fWqzafwneEypUu0TIrcDTm6v6/DzZ3xn53G6m8n/DgFf2tMmFS8LNV1lz7q7r9\n",
       "oByyz0N3QRFuW38s6v3k3CixdF1YOf/jgZsldtcYZtFLLuxS0Av2jzlsJsVR2hGIkQO5045vLLhz\n",
       "Y74cieUNzj7BU74b2+tGla6oJBuusxFJkVc35K4MXExNecLzsnCWBQN4PkCayvEoe/CUWbP3d335\n",
       "vAWoz9d71DW08UPxC6U+XTQi51/UFTRpL6OsBteZjFpjldLjY5ts9Twqa24AorKLKmJlJWZ2C154\n",
       "KO+CKIuHnpuC6bQJBYC/jDY1s5tbvk4pDghek4siwy/UYZ7rVpzG31ztxSMfL3zfrovobmRLjm96\n",
       "1AiSmfHfGZZBQ2ltrbl1XcrJTRytzJUzroTzK4iV9XcIicl5OBxfkhmBoRCMnLGfpa+JA78CD5DS\n",
       "xqkrH5RUqD25GJlfjCAEeotrm5bDHgeq2VxtDDoTcfZ85FBqWmE4D5kNIdj7CvKLLlbNr1ADuAvJ\n",
       "wYUJ/mj5lHYXJkdGrCPKnHV9n18PT87lzxADXyqkhOz+HhbNzHuIcUdl5rewvgSS2Z9pBAWnvk6B\n",
       "sWIeJUlrnaMzvT5+cMv2XHuHZYxbdRNFNNz2nq5S0GqT7bzOes2DqnTld14dPxRw06Idtks1YsXi\n",
       "h7Zu86wmyBbpYmwCjBJrbtYy+W5zgeHiH7yT4anzI2kOLXxkZM22RpjgBEkceXZPD+DMJTXXfuBl\n",
       "Gmkq8w/dWvklHfCZwn6KhjVAXPdjzUdYfzGLfIjufyklMyY6+6wcYcQbh2qDjEDqgrADsjiC+0Np\n",
       "2mRK2JQIZ4b0K46grB2Y4CbiNm4ApSFZ48St9Sx8Og0og26VgZpjEV/iKYKYrPA+PBwON5VhwgUT\n",
       "rki0Hphoc1pApBVQ0kjKksow2Fyhde99phgTzHYisMpA3ZuisNIqbBYrWXq/aWzOf9kEQxeFmhvo\n",
       "832H27w60O83N7Y8yYIao9Gk4DGfAK+BAAACP0GfBUUVLDP/AAO2wSawFiuK9wCndiCtKtG8Cdlw\n",
       "PWidSoMm9z9VBFHLqKLsi+wjK6fQAcJv5IMUqEgJnx9JJ7vPO3TzUCIDv40eHpIgrbvyBJEoLKZu\n",
       "QplbOPt1ghDcT5OeLgj8AbyOpajeuuZXzluCSfby4XrMoNs1d2/kD/bGJMMPjyDjMgnhH29DX3Y4\n",
       "iW8v7BouRhRKHRKDDfxpbu608PtfScIHDZ4aWw5qkmpi4vNMMJBpYnL+l1Ki1+upC7O8gIdOdS9t\n",
       "pPxdIy8aXVDC8b9ZRNuOSYaX7T4DYTs1MxuAP/+QX8xp9kngDfOW3ra+q+cunCF2DFidSYYQuTzJ\n",
       "BH4Jq3rFXMPfWGvKz2Y9FmT6EmBm+LtlT+L0ndkPG2mjiwfK3hEa4N0mowJgQaVfFIvYvIgmJ4K9\n",
       "5R6L1wMHioUg7uZZeUrh53/umlp5XhMobvC61yFwlKn/NTOKAvZ+J72+70zCR2Wh1Kx53RCk2QX5\n",
       "fwI9rBXHeHijwBnuTy5esrEDktuRQvJ0L4szaXv9ONazET/eoGewa+v1jcLT8t25CBs00r2vrBo+\n",
       "R2kaocPd5H0pXgClEVPIxS0J95eLLFpBTs9AW2p1zigHyStEWtOKIGRU6U0/+4HH5011oYcrTpBj\n",
       "WHTPr9eVoFmdpyXmBgimbwP+H8MMAZbeDPY7sRrYhszTlOURKhPMu58Uqsv+p4YUfWzpwEMwxVA9\n",
       "ba9kGh3thwKA4ag4+lIiCAkhJBGJANhJ/bAb9IAlYIcdAAABRgGfJHRCvwAAAwAAMP/Qh6k/lN2+\n",
       "H0pnNIJunGv5NVNOX2z3tECAAug6ibXZ/Fhdzq+TxYQjfjjs6dNZVr2nrPeOLwXiWftSnsg8GOA6\n",
       "NinZn3zVntVE7hD1JhcunOLD4LM7JfoeS91D66Ic09VqVwHHwwRQl9Pe+t8BvWH3wkxSBYTT51nj\n",
       "rR8sSHip/UaLve3yg97+ffTDuMFbUoBZrOGOLspDyru4z7QLp8qu8B1s2UDQC/+F2Z3U1vUprwHN\n",
       "Ets2SmAfqCqvsWZBcj5vYIMn+SZdNoGPlsN0vdEY0X1cDVrIIAJ/PbDykmZLXzsKJkPZvZdQRHkS\n",
       "s6yBGhovmshi7CvP22z9l1oC+gNA7fBwNnJsQeTnAaRImjdFcw7/lHc1p7+wsYg6GLdCZmIoTroj\n",
       "K+hIu/mvLwsV/HTIVDvD2F0AAMCBAAABtAGfJmpCvwAAAwAAMQ6SHlXxhM2jAR2O6IqDywLgHlG/\n",
       "8/X+gBJWFyxOXvdk0ZEII+Un96S9Hha3Fxzfi8CcQWZYzynuRblRsV/R/NGBrNMldeDvcKVvs5GR\n",
       "vgNeqHEhKVKIdMf4xYhV9foPa+a/1BVp8lHYjAragzZO9rjbyNvhwPwGKV3F+5O/oWe4cvb+ogW+\n",
       "trr38Z0ushareGsUgoTCF8TLXyNJ5dsrjOaJCVeeYe7rTTHgEuSGSxm35iJbv8pBOnVTSIgt8rA0\n",
       "MFX3op5vsa3BAqTDSZNcdoN/9ksrzGByQbC9wjuLdUCEFthTw1VLwfqcl4lwAmh/5s39DFvaRAGZ\n",
       "cK+1tzLT20QZZVgVfc7KxtPn3gqbKVR/sjJLfudse6eGLn4ehkpwbII82GxXZ6J0j2tX+3Mol5IH\n",
       "Feo09Mt0Uj2bB916F/s/XivZPBY1YRBNY39qIEOKwKV+74UyFmjBZp+X53lbc8w50TEx6x0b8v4D\n",
       "SYjkz8DLj/wBMDZcPKlBydQ5gcnd01axcjDKX/W4M+MpPElMJPMoJlrYu0Yf6k1RNgFFV8OQbdBc\n",
       "umAAIOEAAANqQZsrSahBbJlMCG///qeEAAADAAADACPcUcCiqGaAj4AOFkubNIvDuLYLsM3ze2+o\n",
       "AaB/yN/FXohPB/zi+B2y7JbYfOhL6u9t5ds/YbYg2VvA7uxie2Yq3drlpnTCXOUlSB1sAZsUfOJG\n",
       "RFYmny6HzXXIQdQzcN4LaL9+g85bKHqmqQs6NjqEkCQMRxuLa9qhjMd5qmzBZjwk8uNsel0GorTd\n",
       "gsVQ22jHAg+DyPG3RQC9fskbxBcXtroa1drNHQKBE/ZH+ZvBtQkaZUX8YbskBvJZ1kuKIs7fcrcx\n",
       "tCqvMczm5GRdkmcwV+82AR/Pd8yyzdcJ1fL+nDNqKcvgJNIoZuUR31WC2ei6Jwt34622nahuQD0r\n",
       "NIxvnZMR5txJt9QI4kwti10KdB68aGkNqjIfFJct8obZZRTaY9Cd8KVcgDyAyglg4sDsFSObe/wJ\n",
       "SRRquPTWhC4PtpdiDaUxKwx8nkyU9jZMIHD9bQifN4LqHOHfD6Z3fy8Ece+DH9kfzzA4N/tDulB7\n",
       "Hev6ZRlUJvCQUE9907sJQUPi96n+m24I2jXmfHIEjX/VfHOMMQJUYJUoNLjAl31gLsaRxdMNQb8o\n",
       "HJiVo9lOSwNIKaDsP+O3L/VMl9HEVE/lvlV2bXjgZx7N84/36ix3K+HOFUfDNZHKdvNkTra9HWLH\n",
       "EQgc3M0XPabr90a4Gqcg44xFUV6FML9BJCraFzCcojrSgKItogiWrWVx/tobbk2aiq0HljqPf+z+\n",
       "ECBRYhuncXEFguzRqRbO9zbilaj7+cIgUDcOllUCM6zgAcPkPgaWi9FtduPXADbaRZidgKij7DMv\n",
       "AWhlPp/Qne1adTLlewxE/U4pqlPNPSJv0U+01OLEkl/Wx90wGUc6f8MUZ0t0loSqTpL5+MvG2alZ\n",
       "RVtlRh+LNmpINSQabL/VKTIQJuS3I/uAwjAZP4o89QHOLVZSKjvzW+GCX/tLw36XHxzncYKB1ItO\n",
       "xvLYEO9PURtATjB90rJD9EnTrWnB5WHCdROFzL74jz6kRzrfrk1nZuSnksR/SU138NDCp1h8zQZM\n",
       "8DqwNM9S3+j5d+A32sqCpD+l/8Vg4EHvA7LYrm5ZSwueC5h1uFdZxIsPTuKBVUphFKDBHEN+zSZI\n",
       "exH0QZSK0rVKv5uM0yts/QhW+5yNBQD0zgABQQAAAkVBn0lFFSwz/wADtsEmsBYrivcAp3YgrWkC\n",
       "aHh977Bfst0ADrNJ9wSIwUvZdNlqQ6zFvvrUDzQjhb2XHzFCXF4pYI/8P7589GSzWqEbT/VVD/0G\n",
       "jgp26slKHMwp+bhgMQ0G8IWyH7xuL7S8w+JemumUUFt1Kh4L13Qh3gBqgelU15Pf/wBFukt9iNFs\n",
       "UgIKeaKijRJB7FCquwMQLFy5ablXHladmzPysgB2Wp6RH0UhS4cdhVS3BEJpG6xdvHLIrfFd+diR\n",
       "lulswkyw2r/+ZaQNsVPLKlPKMjU++GbtV+hB5+L8n/XAOiygPq77AY+kQVQjV6S9ECIWbTst6xdN\n",
       "p/mtIMSJcQWcc9umfuFYnYlzOivJy6iDj+Se7ruduDdotKdJY8MsUaKu5buwN9PxxC/vdoXII2HE\n",
       "++xmgIMls1ecdVrFUzZYjHE4C7soZNNukPTBeUoMB7hSSNpem37+FeBnojKI7iOiVaM7SRo2G8A8\n",
       "qMGM5Z4jMHIRGewk4b6C3Bigz8uM953bAg4sLKQsbgbWnTXvpOutxzD+KegCrqob50dLPoo3KsE/\n",
       "eIi0TMRR/24ZVvtmAAnD7OBU5IOfe+Fgqlu2mWEPZVp+MzJ3Rm6U83TS9+lBrqvDk3wPRWbVkgV2\n",
       "AVG3XPTSCD9JaezZAfUU6eEzVEyoVsL0lo0QAXlxQyhpbgzAzDsgQJLA3yDKPp4796m4SntMKcC8\n",
       "V/+ZUT648D4RudWzulphBvSuEeq9fFzeqlXQAAHpyAevtylbS8p0q00toAAAAcUBn2h0Qr8AAAMA\n",
       "ADD/0IepQT+3zYZbBHtS00rr12Ie55DJrZfNmAD8ArJUTVWF5tsJbN9iDzPMOBvaB3oOs87AxIEf\n",
       "GhuoiDFZ8yUZUR4JPKYOWfKgA2S7KZSGOtsdwKbVXG7nnYkFzAAOcAfbJ/X8Whks0ys/61Fa/zlg\n",
       "bSpbkGMJNuRnq5OTyObBM1EI75zaH8zhXSZ6ILxAcxInn4BqZVE/w5dHSNX93MzBF04iiZYOI10W\n",
       "Z+2zE3N5GeboTcowN1vkcQcCmQDOkJpbXWzK1eN/Y5fiREfTVbePD4tqq9xx3zYXopdmbNjSeglA\n",
       "2DxKn06xA4nLrSixWfZPajdz4VFURixJL/g1UasyhDcW5Q/4y+uP009k/Nqpx4a4AWuSfh/CIXSZ\n",
       "T9jxM+uDHcHnQB/Iy9808/ouz8om0Qevl7v3x36AKoO+AsCR3cyyG3B5aRooT94Xy3FcplJ0b8Ye\n",
       "KsqXiON/qNLoE40FwPawrNRQknJ74CT8kRD60Grvit1qg2gEkjW5/hbBr4wuDdHijqDe6u3cQDy9\n",
       "CAXvzp1ghnxxWSYSJqvWozyx2WhWCES6vPBYJRdPTWB7LUxzn0lx6CcAAXEAAAFYAZ9qakK/AAAD\n",
       "AAAxDpIeVfK1suakkjvTXfEABM3tzNCroFWp+95nCsezUBcP+/tOcY9kGz1PzM1LEZvqORe4mdLr\n",
       "y9L6EBa4dfOFJ6F40ttL26DxMdCbuFIj+yAUKHhAAEVKOXlnxgfoMIqYMBLfqdkn1S26MSELHrCN\n",
       "0/OkUVoPTkaUQ8EtdBIBcQvSU5zTi5gexAVGq/mju4+b4iaB49DwR0KBT1KT0mKRELuFUxjAWaxR\n",
       "Xu1Nr5RrlWOdtBtE5BQ1zb+nk9w834Z4Io93Kuh6wqK8ZSkCpwATJcSkJxZgkwl6//ijziOykhT+\n",
       "Zj2bqwtR6pMSET5ihb3xT4Vjstcg2m0Qcb5d6Cxxy8HVeJVnukdGG49KozAjo75U6v5rpeI3mIVH\n",
       "m0Hx61N4RyPgRcZky+OlcmQrEJMdvRiPzqcJWOuGicnkPwI0F4lUu7xbVG0j7y/wAScAAAJfQZtu\n",
       "SahBbJlMCGf//p4QAAADAOeIEAACAeWVoitGPCGKd0/+jcaI1eLjWlFvv0SVVpgdHFi7v+MxseP+\n",
       "q1QUOfiXt+gqkTjay/qtURV+qWsUsKNCVunKrBzvgdV7KQxO2iy+jM0D3QzUYQwXaFLBJRxP+G4A\n",
       "AAMAm3f+mmku5GIIQuPuW8necVohyLxb1BZ4Hsvpn8vPm0BrHczCjnsIDHcWvrKO66MJBfUhhUgT\n",
       "7dIwAf3GMX9IYXeG47wnuU3pAzBZGWEaa1sTJ38RpgZPJzkc/a8depjX2/k3bBnd96wr+ILm6E0L\n",
       "0jTOS/S5lLz8fQyozGRtZe3JLDHaDdyQTNuW7yYuV3UzZQV5rSjMIg/Ln0mU6CMBdzWM/XBRYvF1\n",
       "SY6UzhByrisbshIleMpWVg61MSZsY5Ptf9rKJEd52ExmUW1j6pFOVQ0z7go006Uv8YDlHkgSThqg\n",
       "kDEsq/VPfOyt3Fx4Ul21Ns1cqGuy2kByTzDFFzfgeNadamkfcUMuIlZxkfbu1BL5V2Sfc/0sklW7\n",
       "Brkd47ZB2S3Xst3HN0JHc1fTa5AAt8q2gZLhGG88F1xc3hxW3RfwIFB1FOVBxH8m3Xloi0ApOxZ4\n",
       "C9f4CvMq1IIK3+2P/9g6mMLjl0gbFZT35zFPt7J7pFGaBH6oojY9I7TTzhf/GzehblYOGO8gAjs6\n",
       "7kBYN5yjxCJpHBTBuAaeNfN8hEMNnZpjij4O8WWC2qiwrCbUMAS5v8SsZEqCuEL3bN23LmJe2f+m\n",
       "YgwQAkApznUmyY++bApdsNAC7tLknHFkjqUrPanhAABSQAAAAYZBn4xFFSwv/wAFHyLW8S24kHVu\n",
       "1WG7tpCMb5UMvUXp4gBMjjDaTIwWieupbYxzWo8V7wF5+0AoZdgOMa+a/fUs1jt8d3nvJGVfT/+W\n",
       "zf28NCjes0alldNg1J3W24rzBPgNplK16nrYaO/b3VmwAXHoCoWDaAJiO1ljAAAvCyawo2ohhZQw\n",
       "OpgryfYmZjRDThmS6YKcALTLEsCD0aLNq+362qpExzdUvale15zD5m4swCakT8lN6wP2wTc2SBb6\n",
       "YxKdYgj1kCEErDviVMUALk3SdvPpH61ULWobdDlNEzfpQmsthHVa9ms4Nqyqki51jsca+7C5CyQi\n",
       "1/E31bxgK37qo1eGg8WBUx+iWVID23FgqFsH/VSec25U+OJIOAeG3izsUfcSGMe1aroT+qPsXFFi\n",
       "N6C4MZKzpyjjIRaoLq6qNqCi4CwXXd2/4TuWO7iKde/96Q2QfVX4BYHoU8qywnrN7L0z0cx0+3tM\n",
       "nja1uAWfbZSR7zaXX6TB1NdzScetKWD8bCVxzAkAAAFVAZ+takK/AAADADEOhlzBysS9qQoQAkd3\n",
       "3kvXj2MtVktrGyYvyjokb9Ziv8uurqhKOBXc5lrxUGMpGTuZiCdKDSTGzLn4PRQ284xyRiL7Rm8s\n",
       "6p888ZN9dtpg/Tzuc6Wug4G4a1eogADG4nNDhVBTfginHh/Lgu/gnM56xXpcEgM6usrC7FkrrZ9q\n",
       "w7+6s/FB1m0AT3pICMf7D9wVEiwCOC5fh96kHnvpiiE41lG/N0VgPXlynHAFpSgdySpuuxzc4Nc+\n",
       "ALCqPtUE49QCxxu/H8rAI8Eb242vyPlggSv1yoH9sOz3FY2rs3BvXjGgDL207dHs5ORDMvDgKVpV\n",
       "LM8q4UJuAsOn4DLMtVPZYoNBdL81GnC/HbD4F0UeeIcqEyS9u5YFgR3rfaEweeltPjBGl5t28kbJ\n",
       "ljvVX8p9OdvTsCB/S3KWGKuRW7YpbdJxBqX49AAA9IEAAAGAQZuvSahBbJlMCFf//jhAAACo7t9d\n",
       "mMPevAB8GEpWwBWwVw6WcSI1wxh5Gw6e0M7TIdy5fa6+0K3XF7HOsbvNNJtUojJLY7iC2LQQh+8o\n",
       "+RGUAAADAAADAf1puEgNKz+wkzW8un3fGznPVo+F67ruACxLwiHnej421KM9lR+4nZw8z3lzRT+f\n",
       "ErkGfk3rvXeuUe4RqPrsLsY7saEJvxo94SBMbd3IMQrTuuQeHUZZ1WHIar/qvOHAHX+2jeoP4ym0\n",
       "3x6pzpQE0tzgMRLDK66zPRDZJ7ACBFre0PHRohzZhRkxhsFjc2wv5W3lxNgIpU7hjO3SHTGsq3tb\n",
       "SNZX1g90MCuYqD1bMoTz6dsUeS1+yHVfmH/krw83aQsiRAKfUI7AKCEQgh3gxi1MTWXhIFE+aG1o\n",
       "obw86Q/8NY/zriGSDb8/bk9qyjzdyC/i0SijpYBiT8Mt6zgJO6JmuYTFxm1VNO/K34Xe3gwSV1Xz\n",
       "QvqHM7XOlRugn5kM6R7ElOmRAAHpAAAGtG1vb3YAAABsbXZoZAAAAAAAAAAAAAAAAAAAA+gAAA+g\n",
       "AAEAAAEAAAAAAAAAAAAAAAABAAAAAAAAAAAAAAAAAAAAAQAAAAAAAAAAAAAAAAAAQAAAAAAAAAAA\n",
       "AAAAAAAAAAAAAAAAAAAAAAAAAAAAAAIAAAXedHJhawAAAFx0a2hkAAAAAwAAAAAAAAAAAAAAAQAA\n",
       "AAAAAA+gAAAAAAAAAAAAAAAAAAAAAAABAAAAAAAAAAAAAAAAAAAAAQAAAAAAAAAAAAAAAAAAQAAA\n",
       "AASwAAACWAAAAAAAJGVkdHMAAAAcZWxzdAAAAAAAAAABAAAPoAAABAAAAQAAAAAFVm1kaWEAAAAg\n",
       "bWRoZAAAAAAAAAAAAAAAAAAAKAAAAKAAVcQAAAAAAC1oZGxyAAAAAAAAAAB2aWRlAAAAAAAAAAAA\n",
       "AAAAVmlkZW9IYW5kbGVyAAAABQFtaW5mAAAAFHZtaGQAAAABAAAAAAAAAAAAAAAkZGluZgAAABxk\n",
       "cmVmAAAAAAAAAAEAAAAMdXJsIAAAAAEAAATBc3RibAAAALlzdHNkAAAAAAAAAAEAAACpYXZjMQAA\n",
       "AAAAAAABAAAAAAAAAAAAAAAAAAAAAASwAlgASAAAAEgAAAAAAAAAAQAAAAAAAAAAAAAAAAAAAAAA\n",
       "AAAAAAAAAAAAAAAAAAAAABj//wAAADdhdmNDAWQAH//hABpnZAAfrNlASwTflhAAAAMAEAAAAwKA\n",
       "8YMZYAEABmjr48siwP34+AAAAAAcdXVpZGtoQPJfJE/FujmlG88DI/MAAAAAAAAAGHN0dHMAAAAA\n",
       "AAAAAQAAAFAAAAIAAAAAFHN0c3MAAAAAAAAAAQAAAAEAAAJQY3R0cwAAAAAAAABIAAAAAgAABAAA\n",
       "AAABAAAGAAAAAAEAAAIAAAAAAQAABAAAAAABAAAKAAAAAAEAAAQAAAAAAQAAAAAAAAABAAACAAAA\n",
       "AAEAAAoAAAAAAQAABAAAAAABAAAAAAAAAAEAAAIAAAAAAQAABgAAAAABAAACAAAAAAEAAAYAAAAA\n",
       "AQAAAgAAAAABAAAGAAAAAAEAAAIAAAAAAQAABgAAAAABAAACAAAAAAEAAAoAAAAAAQAABAAAAAAB\n",
       "AAAAAAAAAAEAAAIAAAAAAQAACAAAAAACAAACAAAAAAEAAAgAAAAAAgAAAgAAAAABAAAGAAAAAAEA\n",
       "AAIAAAAAAQAACAAAAAACAAACAAAAAAEAAAgAAAAAAgAAAgAAAAABAAAIAAAAAAIAAAIAAAAAAQAA\n",
       "CgAAAAABAAAEAAAAAAEAAAAAAAAAAQAAAgAAAAACAAAEAAAAAAEAAAoAAAAAAQAABAAAAAABAAAA\n",
       "AAAAAAEAAAIAAAAAAQAACgAAAAABAAAEAAAAAAEAAAAAAAAAAQAAAgAAAAABAAAKAAAAAAEAAAQA\n",
       "AAAAAQAAAAAAAAABAAACAAAAAAEAAAoAAAAAAQAABAAAAAABAAAAAAAAAAEAAAIAAAAAAQAACgAA\n",
       "AAABAAAEAAAAAAEAAAAAAAAAAQAAAgAAAAABAAAKAAAAAAEAAAQAAAAAAQAAAAAAAAABAAACAAAA\n",
       "AAEAAAoAAAAAAQAABAAAAAABAAAAAAAAAAEAAAIAAAAAAQAACAAAAAACAAACAAAAAAEAAAQAAAAA\n",
       "HHN0c2MAAAAAAAAAAQAAAAEAAABQAAAAAQAAAVRzdHN6AAAAAAAAAAAAAABQAABI9gAAAvsAAAL/\n",
       "AAABQwAAAoAAAAR/AAABugAAARMAAAEaAAAFIgAAAiUAAAGQAAABFgAAA5cAAAE3AAADPwAAAVoA\n",
       "AAOAAAABOwAAA+4AAAFeAAAHkgAAAr0AAAG/AAABsAAABxcAAAKyAAABeAAAB/oAAAHwAAABWwAA\n",
       "BEsAAAF1AAAJggAAAcwAAAFuAAAFmgAAAeIAAAEZAAAAXQAAAe4AAABdAAALQAAAAngAAAEcAAAB\n",
       "eQAAAvwAAALmAAAFHwAAAkIAAAF2AAABfwAABaMAAALHAAABpwAAAZMAAAYOAAADBgAAAgIAAAGz\n",
       "AAAFxgAAAnkAAAFZAAABUQAABNwAAAH9AAABfQAAAUkAAAQRAAACQwAAAUoAAAG4AAADbgAAAkkA\n",
       "AAHJAAABXAAAAmMAAAGKAAABWQAAAYQAAAAUc3RjbwAAAAAAAAABAAAAMAAAAGJ1ZHRhAAAAWm1l\n",
       "dGEAAAAAAAAAIWhkbHIAAAAAAAAAAG1kaXJhcHBsAAAAAAAAAAAAAAAALWlsc3QAAAAlqXRvbwAA\n",
       "AB1kYXRhAAAAAQAAAABMYXZmNTguNzYuMTAw\n",
       "\">\n",
       "  Your browser does not support the video tag.\n",
       "</video>"
      ],
      "text/plain": [
       "<IPython.core.display.HTML object>"
      ]
     },
     "execution_count": 142,
     "metadata": {},
     "output_type": "execute_result"
    }
   ],
   "source": [
    "plot_1d_loss_surface(pred_ms=np.linspace(0, 1, 40))"
   ]
  },
  {
   "cell_type": "markdown",
   "metadata": {
    "id": "rDiJTGjPOqu0"
   },
   "source": [
    "If we are trying to find the slope that will minimize our loss, we can use the gradient to tell is which direction we need to move in order to optimize our objective.\n",
    "First, we are going to convert `x_data` and `y_data` from numpy arrays into tensors."
   ]
  },
  {
   "cell_type": "code",
   "execution_count": 157,
   "metadata": {
    "id": "6GneqZWuOqu0"
   },
   "outputs": [],
   "source": [
    "x = torch.from_numpy(x_data).float().unsqueeze(1)\n",
    "y = torch.from_numpy(y_data).float().unsqueeze(1)"
   ]
  },
  {
   "cell_type": "markdown",
   "metadata": {
    "id": "VjqT73AvOqu0"
   },
   "source": [
    "Now create two functions: `forward()` and `sse_loss()`.\n",
    "\n",
    "The `forward()` function does forward propagation.\n",
    "We apply the slope formula $m \\times x+b$, but we need to vectorize it. Dimension 0 of `x` is the \"batch\" dimension: it separates the 9 individual points. Dimension 1 of `x` is the \"channel\" dimension which contains a single channel of data (since the input is a point in 1D space). To get our y predictions, we perform the same function on each batch instance: so we need to matrix-multiply our slope `m` across dimension 1 of `x`. Our model's prediction is:\n",
    "\n",
    "$\\hat{y} = xm + b$\n",
    "\n",
    "where `x.shape==[9,1]`, `m.shape==[1,1]`, `b.shape=[1]`.\n",
    "\n",
    "This ensures that the output `y_hat.shape==[9,1]`: we predict one y-value per point."
   ]
  },
  {
   "cell_type": "code",
   "execution_count": 158,
   "metadata": {
    "id": "3vjJRoe3Oqu0"
   },
   "outputs": [],
   "source": [
    "def forward(m, b, x):\n",
    "    return x@m + b"
   ]
  },
  {
   "cell_type": "markdown",
   "metadata": {
    "id": "7uIAhgpbOqu0"
   },
   "source": [
    "The `sse_loss()` function takes your predictions `y_hat` and compares it to the true output `y`, by computing the sum of the squared errors."
   ]
  },
  {
   "cell_type": "code",
   "execution_count": 159,
   "metadata": {
    "id": "fOOw3snZOqu1"
   },
   "outputs": [],
   "source": [
    "def sse_loss(y_hat, y):\n",
    "    return torch.sum((y_hat - y)**2)"
   ]
  },
  {
   "cell_type": "markdown",
   "metadata": {
    "id": "Twyf8izMOqu1"
   },
   "source": [
    "Execute the cell below to validate your `forward()` and `sse_loss()` work correctly."
   ]
  },
  {
   "cell_type": "code",
   "execution_count": 160,
   "metadata": {
    "id": "AarcvNJGOqu1"
   },
   "outputs": [],
   "source": [
    "m = torch.tensor([[2.]])\n",
    "b = torch.tensor([[0.]])\n",
    "y_hat = forward(m, b, x)\n",
    "loss = sse_loss(y_hat, y)\n",
    "assert torch.allclose(loss, torch.tensor(5.4452))\n",
    "\n",
    "m = torch.tensor([[1.]])\n",
    "b = torch.tensor([[1.]])\n",
    "y_hat = forward(m, b, x)\n",
    "loss = sse_loss(y_hat, y)\n",
    "assert torch.allclose(loss, torch.tensor(11.8534))"
   ]
  },
  {
   "cell_type": "markdown",
   "metadata": {
    "id": "6Q5-vFbyOqu1"
   },
   "source": [
    "We will now analyze what the gradients tell us.\n",
    "At the moment we will only focus on a single parameter: the slope `m`.\n",
    "Go ahead and execute the cell below."
   ]
  },
  {
   "cell_type": "code",
   "execution_count": 161,
   "metadata": {
    "id": "l1peeg3MOqu1"
   },
   "outputs": [],
   "source": [
    "m = torch.tensor([[2.]]).float()\n",
    "b = torch.tensor([[0]]).float()\n",
    "m.requires_grad = True\n",
    "b.requires_grad = False"
   ]
  },
  {
   "cell_type": "markdown",
   "metadata": {
    "id": "gfdwqmErOqu2"
   },
   "source": [
    "Now use your `forward()` and `sse_loss()` functions to get the SSE loss for `m` and `b` and then calculate the derivative of loss, i.e. call `loss.backward()`."
   ]
  },
  {
   "cell_type": "code",
   "execution_count": 162,
   "metadata": {
    "id": "srZPQY28Oqu2"
   },
   "outputs": [],
   "source": [
    "y_hat = forward(m, b, x)\n",
    "loss = sse_loss(y_hat, y)\n",
    "loss.backward()"
   ]
  },
  {
   "cell_type": "markdown",
   "metadata": {
    "id": "1DSTCqR4Oqu2"
   },
   "source": [
    "Execute the cell below and validate you calculated the correct gradient."
   ]
  },
  {
   "cell_type": "code",
   "execution_count": 163,
   "metadata": {
    "id": "SKXVvM52Oqu2"
   },
   "outputs": [],
   "source": [
    "assert torch.allclose(m.grad, torch.tensor(7.7423))"
   ]
  },
  {
   "cell_type": "markdown",
   "metadata": {
    "id": "ov4jevzjOqu2"
   },
   "source": [
    "Now call the `plot_slope_grad()` function below to visualize what the gradient is pointing towards."
   ]
  },
  {
   "cell_type": "code",
   "execution_count": 164,
   "metadata": {
    "colab": {
     "base_uri": "https://localhost:8080/",
     "height": 315
    },
    "id": "9Kwof-YAOqu3",
    "outputId": "be452727-b084-4ab6-8957-4ed8e3848906"
   },
   "outputs": [
    {
     "data": {
      "image/png": "[encoded data removed]",
      "text/plain": [
       "<Figure size 400x300 with 1 Axes>"
      ]
     },
     "metadata": {},
     "output_type": "display_data"
    }
   ],
   "source": [
    "# execute this cell\n",
    "plot_slope_grad(m, m.grad)"
   ]
  },
  {
   "cell_type": "markdown",
   "metadata": {
    "id": "PKyDv94jOqu3"
   },
   "source": [
    "Notice how the gradient points towards away from the minimal point, this is because gradients point towards \"steepest ascent\" (which will become more apparent when we work with 2d loss surfaces).\n",
    "To move towards the the minimal point we therefore need to move in the opposite direction, i.e. `-x.grad`.\n",
    "Create the same plot, but point the gradient in the opposite direction."
   ]
  },
  {
   "cell_type": "code",
   "execution_count": 165,
   "metadata": {
    "colab": {
     "base_uri": "https://localhost:8080/",
     "height": 315
    },
    "id": "EUDLRsXgOqu4",
    "outputId": "22e7941e-d780-4c19-b5c8-11d7012db6f4"
   },
   "outputs": [
    {
     "data": {
      "image/png": "[encoded data removed]",
      "text/plain": [
       "<Figure size 400x300 with 1 Axes>"
      ]
     },
     "metadata": {},
     "output_type": "display_data"
    }
   ],
   "source": [
    "plot_slope_grad(m, -m.grad)"
   ]
  },
  {
   "cell_type": "markdown",
   "metadata": {
    "id": "vHdN1xlJOqu4"
   },
   "source": [
    "Now we are pointing in the right direction, but as you can see the gradient, $\\nabla m$, is telling our slope, $m$, to become $m \\approx -6$, which clearly overshoots the minimal point.\n",
    "Therefore let's apply a learning rate, $\\alpha$, to our gradient.\n",
    "Call `plot_slope_grad()` one more time, but this time pass in the argument `learning_rate=.05`."
   ]
  },
  {
   "cell_type": "code",
   "execution_count": 166,
   "metadata": {
    "colab": {
     "base_uri": "https://localhost:8080/",
     "height": 315
    },
    "id": "Iegany5KOqu4",
    "outputId": "cbffb140-7ee2-4b69-db0a-f8fe2e62acbc"
   },
   "outputs": [
    {
     "data": {
      "image/png": "[encoded data removed]",
      "text/plain": [
       "<Figure size 400x300 with 1 Axes>"
      ]
     },
     "metadata": {},
     "output_type": "display_data"
    }
   ],
   "source": [
    "plot_slope_grad(m, -m.grad, learning_rate =.05)"
   ]
  },
  {
   "cell_type": "markdown",
   "metadata": {
    "id": "kCtHdxADOqu4"
   },
   "source": [
    "Now we are pointing in the right direction and with an acceptable magnitude (this learning rate is perhaps a little too small, but it is useful for our other visualizations).\n",
    "Now let's update our slope by apply the gradient, i.e. $m \\leftarrow m - \\alpha \\nabla m$.\n",
    "First print out `m - .05 * m.grad` below."
   ]
  },
  {
   "cell_type": "code",
   "execution_count": 181,
   "metadata": {
    "colab": {
     "base_uri": "https://localhost:8080/"
    },
    "id": "RHeyLsRKOqu4",
    "outputId": "97bec562-278d-4b71-9c1d-2b9513569398"
   },
   "outputs": [
    {
     "data": {
      "text/plain": [
       "tensor([[1.4882]], grad_fn=<SubBackward0>)"
      ]
     },
     "execution_count": 181,
     "metadata": {},
     "output_type": "execute_result"
    }
   ],
   "source": [
    "# execute this cell\n",
    "m - .05 * m.grad"
   ]
  },
  {
   "cell_type": "markdown",
   "metadata": {
    "id": "bi7wWtAVOqu4"
   },
   "source": [
    "You will notice this contains a `grad_fn` which means this operation was put on the computation graph because `m` is a tensor that requires gradients.\n",
    "We do not want to calculate gradients on our update step since we aren't doing meta-learning.\n",
    "\n",
    "Instead you should update `m` by accessing its `.data` variable and setting `m.data = m.data - .05 * m.grad.data`"
   ]
  },
  {
   "cell_type": "code",
   "execution_count": 182,
   "metadata": {
    "id": "7EUFjBhBOqu5"
   },
   "outputs": [],
   "source": [
    "m.data = m.data - .05 * m.grad.data"
   ]
  },
  {
   "cell_type": "markdown",
   "metadata": {
    "id": "9z8b_25vOqu5"
   },
   "source": [
    "Now that we have updated our slope, call `plot_slope_grad()` below."
   ]
  },
  {
   "cell_type": "code",
   "execution_count": 183,
   "metadata": {
    "colab": {
     "base_uri": "https://localhost:8080/",
     "height": 315
    },
    "id": "z_uSnnyGOqu5",
    "outputId": "88b3dd0c-a79d-4814-ca95-40a697ca3a63"
   },
   "outputs": [
    {
     "data": {
      "image/png": "[encoded data removed]",
      "text/plain": [
       "<Figure size 400x300 with 1 Axes>"
      ]
     },
     "metadata": {},
     "output_type": "display_data"
    }
   ],
   "source": [
    "# execute this cell\n",
    "plot_slope_grad(m, None)"
   ]
  },
  {
   "cell_type": "markdown",
   "metadata": {
    "id": "hGfcKQv5Oqu5"
   },
   "source": [
    "We have take a step closer towards minimizing our loss, which means that our slope is beginning to fit our data better."
   ]
  },
  {
   "cell_type": "markdown",
   "metadata": {
    "id": "7QPGpbPfOqu5"
   },
   "source": [
    "Let's see how this function will operate for many timesteps.\n",
    "Follow the directions below and implement the `slope_optimization_step()` function."
   ]
  },
  {
   "cell_type": "code",
   "execution_count": 170,
   "metadata": {
    "id": "WakbGjeeOqu6"
   },
   "outputs": [],
   "source": [
    "def slope_optimization_step(m: torch.Tensor, b, x, y, learning_rate):\n",
    "    m.grad = None\n",
    "\n",
    "    # call your forward function\n",
    "    y_hat = forward(m, b, x)\n",
    "\n",
    "    # compute sse loss\n",
    "    sse = sse_loss(y_hat, y)\n",
    "\n",
    "    # call backward\n",
    "    sse.backward()\n",
    "\n",
    "    # apply your gradient and don't forget to use the learning_rate\n",
    "    m.data = m.data - learning_rate * m.grad.data"
   ]
  },
  {
   "cell_type": "markdown",
   "metadata": {
    "id": "4GK6rZfAOqu6"
   },
   "source": [
    "We will now use your `optimization_step` function to plot multiple optimization steps. Execute the cell below."
   ]
  },
  {
   "cell_type": "code",
   "execution_count": 171,
   "metadata": {
    "colab": {
     "base_uri": "https://localhost:8080/",
     "height": 315
    },
    "id": "WEXmsmEpOqu6",
    "outputId": "493a5b39-5ba6-41d7-c825-c9a0e833f2b2"
   },
   "outputs": [
    {
     "data": {
      "image/png": "[encoded data removed]",
      "text/plain": [
       "<Figure size 400x300 with 1 Axes>"
      ]
     },
     "metadata": {},
     "output_type": "display_data"
    }
   ],
   "source": [
    "def plot_slope_optimization_steps(m, b, x, y, learning_rate, steps=4):\n",
    "    ms = [m.clone()]\n",
    "    grads = []\n",
    "    for _ in range(steps):\n",
    "        slope_optimization_step(m, b, x, y, learning_rate)\n",
    "        ms.append(m.clone())\n",
    "        grads.append(-m.grad.clone())\n",
    "\n",
    "    grads.append(None)\n",
    "    plot_slope_grad(ms, grads, learning_rate)\n",
    "\n",
    "m = torch.tensor([[2.5]]).float()\n",
    "b = torch.tensor([[0]]).float()\n",
    "m.requires_grad = True\n",
    "b.requires_grad = False\n",
    "\n",
    "plot_slope_optimization_steps(m, b, x, y, learning_rate=.05, steps=4)"
   ]
  },
  {
   "cell_type": "markdown",
   "metadata": {
    "id": "z12r6KeZOqu6"
   },
   "source": [
    "Now if we had a smaller learning rate ($\\alpha = .02$), it will take us more gradient steps to solve the problem. Execute the cell below to see."
   ]
  },
  {
   "cell_type": "code",
   "execution_count": 172,
   "metadata": {
    "colab": {
     "base_uri": "https://localhost:8080/",
     "height": 315
    },
    "id": "Pz4XZdjZOqu7",
    "outputId": "06f3cdba-e9c1-44d1-c250-02bbd2bd295f"
   },
   "outputs": [
    {
     "data": {
      "image/png": "[encoded data removed]",
      "text/plain": [
       "<Figure size 400x300 with 1 Axes>"
      ]
     },
     "metadata": {},
     "output_type": "display_data"
    }
   ],
   "source": [
    "m = torch.tensor([[2.5]]).float()\n",
    "m.requires_grad = True\n",
    "\n",
    "plot_slope_optimization_steps(m, b, x, y, learning_rate=.02, steps=8)"
   ]
  },
  {
   "cell_type": "markdown",
   "metadata": {
    "id": "GHAgdtfgOqu7"
   },
   "source": [
    "But if our learning rate is too large ($\\alpha = .42$), then the parameter will bounce away from the minimal point. Execute the cell below to see. *Note that $m$ starts at 1 in this case*."
   ]
  },
  {
   "cell_type": "code",
   "execution_count": 173,
   "metadata": {
    "colab": {
     "base_uri": "https://localhost:8080/",
     "height": 315
    },
    "id": "__ExxMDMOqu7",
    "outputId": "ae4fe41b-f610-42f5-d4a8-3881f7591208"
   },
   "outputs": [
    {
     "data": {
      "image/png": "[encoded data removed]",
      "text/plain": [
       "<Figure size 400x300 with 1 Axes>"
      ]
     },
     "metadata": {},
     "output_type": "display_data"
    }
   ],
   "source": [
    "m = torch.tensor([[1]]).float()\n",
    "m.requires_grad = True\n",
    "\n",
    "plot_slope_optimization_steps(m, b, x, y, learning_rate=.42, steps=4)"
   ]
  },
  {
   "cell_type": "markdown",
   "metadata": {
    "id": "TomPDXHDOqu7"
   },
   "source": [
    "Now let's work with on optimizing the slope $m$ and intercept $b$.\n",
    "Execute the cell below to see what the gradient tells us about $m$ and $b$."
   ]
  },
  {
   "cell_type": "code",
   "execution_count": 174,
   "metadata": {
    "colab": {
     "base_uri": "https://localhost:8080/",
     "height": 414
    },
    "id": "D5Z2tn1fOqu7",
    "outputId": "ca57c1e5-f032-43e6-a461-deb71f72cc6b"
   },
   "outputs": [
    {
     "data": {
      "image/png": "[encoded data removed]",
      "text/plain": [
       "<Figure size 400x400 with 1 Axes>"
      ]
     },
     "metadata": {},
     "output_type": "display_data"
    }
   ],
   "source": [
    "m = torch.tensor([[2.]]).float()\n",
    "b = torch.tensor([[1]]).float()\n",
    "m.requires_grad = True\n",
    "b.requires_grad = True\n",
    "y_hat = forward(m, b, x)\n",
    "loss = sse_loss(y_hat, y)\n",
    "loss.backward()\n",
    "plot_grad(m, b, m.grad, b.grad, learning_rate=.02)"
   ]
  },
  {
   "cell_type": "markdown",
   "metadata": {
    "id": "lnHwUPStOqu7"
   },
   "source": [
    "As stated before, the gradient points towards steepest ascent, and as you can imagine if we looked at the negative gradient it would point (indirectly) towards the minimal point of the loss.\n",
    "\n",
    "Let's visualize what gradient descent looks like for multiple steps.\n",
    "Follow the directions below and implement the `optimization_step()` function."
   ]
  },
  {
   "cell_type": "code",
   "execution_count": 175,
   "metadata": {
    "id": "xY3HMSY4Oqu8"
   },
   "outputs": [],
   "source": [
    "def optimization_step(m: torch.Tensor, b: torch.Tensor, x, y, learning_rate):\n",
    "    # Zero out your gradients\n",
    "    m.grad = None\n",
    "    b.grad = None\n",
    "\n",
    "    # call your forward function\n",
    "    y_hat = forward(m, b, x)\n",
    "\n",
    "    # compute sse loss\n",
    "    sse = sse_loss(y_hat, y)\n",
    "\n",
    "    # call backward\n",
    "    sse.backward()\n",
    "\n",
    "    # apply your gradients\n",
    "    m.data = m.data - learning_rate * m.grad.data\n",
    "    b.data = b.data - learning_rate * b.grad.data"
   ]
  },
  {
   "cell_type": "markdown",
   "metadata": {
    "id": "f2HEUiTjOqu8"
   },
   "source": [
    "We will now use your `optimization_step` function and plot what it looks like to perform multiple gradient descent steps.\n",
    "You can set the argument `plot_grads=False` to make the plot less noisy."
   ]
  },
  {
   "cell_type": "code",
   "execution_count": 176,
   "metadata": {
    "colab": {
     "base_uri": "https://localhost:8080/",
     "height": 722
    },
    "id": "uoB7N3q0Oqu8",
    "outputId": "965d418d-e4a8-42f9-93bb-b8fcab4530d3"
   },
   "outputs": [
    {
     "data": {
      "image/png": "[encoded data removed]",
      "text/plain": [
       "<Figure size 800x800 with 1 Axes>"
      ]
     },
     "metadata": {},
     "output_type": "display_data"
    }
   ],
   "source": [
    "def plot_optimization_steps(m, b, x, y, learning_rate, steps=4, plot_grads=True, figsize=(8, 8)):\n",
    "    ms = [m.clone()]\n",
    "    bs = [b.clone()]\n",
    "    m_grads = []\n",
    "    b_grads = []\n",
    "    for _ in range(steps):\n",
    "        optimization_step(m, b, x, y, learning_rate)\n",
    "        ms.append(m.clone())\n",
    "        bs.append(b.clone())\n",
    "        m_grads.append(-m.grad.clone())\n",
    "        b_grads.append(-b.grad.clone())\n",
    "\n",
    "    m_grads.append(None)\n",
    "    b_grads.append(None)\n",
    "    if plot_grads:\n",
    "        plot_grad(ms, bs, m_grads, b_grads, learning_rate, figsize=figsize)\n",
    "    else:\n",
    "        plot_grad(ms, bs, None, None, learning_rate, figsize=figsize)\n",
    "\n",
    "m = torch.tensor([[2.5]]).float()\n",
    "b = torch.tensor([[2]]).float()\n",
    "m.requires_grad = True\n",
    "b.requires_grad = True\n",
    "\n",
    "plot_optimization_steps(m, b, x, y, .02, steps=10, plot_grads=True)"
   ]
  },
  {
   "cell_type": "markdown",
   "metadata": {
    "id": "3QmzOZ1-Oqu8"
   },
   "source": [
    "After 10 optimization steps, we were not able to reach the minimal loss, so let's start over and optimize for 100 steps."
   ]
  },
  {
   "cell_type": "code",
   "execution_count": 177,
   "metadata": {
    "colab": {
     "base_uri": "https://localhost:8080/",
     "height": 722
    },
    "id": "-m8vGQOgOqu9",
    "outputId": "44d4ece8-f402-4a4e-ea0b-42a816da3866"
   },
   "outputs": [
    {
     "data": {
      "image/png": "[encoded data removed]",
      "text/plain": [
       "<Figure size 800x800 with 1 Axes>"
      ]
     },
     "metadata": {},
     "output_type": "display_data"
    }
   ],
   "source": [
    "m = torch.tensor([[2.5]]).float()\n",
    "b = torch.tensor([[2]]).float()\n",
    "m.requires_grad = True\n",
    "b.requires_grad = True\n",
    "\n",
    "plot_optimization_steps(m, b, x, y, .02, steps=100, plot_grads=False)"
   ]
  },
  {
   "cell_type": "markdown",
   "metadata": {
    "id": "v3A6lgqpOqu9"
   },
   "source": [
    "After 100 steps we are pretty close to reaching the optimal point.\n",
    "For fun, go ahead and execute the code below, which performs 20 optimization steps with a larger learning rate."
   ]
  },
  {
   "cell_type": "code",
   "execution_count": 178,
   "metadata": {
    "colab": {
     "base_uri": "https://localhost:8080/",
     "height": 722
    },
    "id": "l62dQWJROqu9",
    "outputId": "2908362e-a7f1-40f3-f50f-e09e7cd1ac29"
   },
   "outputs": [
    {
     "data": {
      "image/png": "[encoded data removed]",
      "text/plain": [
       "<Figure size 800x800 with 1 Axes>"
      ]
     },
     "metadata": {},
     "output_type": "display_data"
    }
   ],
   "source": [
    "m = torch.tensor([[2.5]]).float()\n",
    "b = torch.tensor([[2]]).float()\n",
    "m.requires_grad = True\n",
    "b.requires_grad = True\n",
    "\n",
    "plot_optimization_steps(m, b, x, y, .085, steps=20, plot_grads=True)"
   ]
  },
  {
   "cell_type": "markdown",
   "metadata": {
    "id": "bHwRsmTkOqu-"
   },
   "source": [
    "It is interesting that the learning rate is a little too big for the intercept (not big enough for it to jump away from the minimal point though), but it is better for our slope, which converges faster than the previous examples.\n",
    "In the future you will learn about optimizers that can handle this issue."
   ]
  },
  {
   "cell_type": "markdown",
   "metadata": {
    "id": "iymNI1hrOqu-"
   },
   "source": [
    "This process of gradient descent is the power house of deep learning.\n",
    "We will usually not be able to visualize the optimization process in detail because once we scale up the number of parameters we are optimizing we lose our ability to visualize the loss surface, but this process still happens in that high-dimensional space."
   ]
  },
  {
   "cell_type": "markdown",
   "metadata": {
    "id": "8ddyvUr9Oqu-"
   },
   "source": [
    "---\n",
    "\n",
    "# Lab Submission Information:\n",
    "\n",
    "Colab stores the saved changes of your notebook on your Google Drive (NOT the file on your device). Remember to download your notebook as an .ipynb file to get your changes, and submit the downloaded file. The file should contain all the changes you've made, including code and output cells: if you can see it in Colab, it will be stored in the .ipynb file. If you download the file as .py, it will not contain the outputs.\n",
    "\n",
    "Submit your .ipynb file online."
   ]
  }
 ],
 "metadata": {
  "colab": {
   "provenance": []
  },
  "kernelspec": {
   "display_name": "Python 3 (ipykernel)",
   "language": "python",
   "name": "python3"
  },
  "language_info": {
   "codemirror_mode": {
    "name": "ipython",
    "version": 3
   },
   "file_extension": ".py",
   "mimetype": "text/x-python",
   "name": "python",
   "nbconvert_exporter": "python",
   "pygments_lexer": "ipython3",
   "version": "3.9.13"
  }
 },
 "nbformat": 4,
 "nbformat_minor": 0
}
