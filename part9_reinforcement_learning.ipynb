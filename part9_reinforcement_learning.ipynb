{
  "cells": [
    {
      "cell_type": "markdown",
      "metadata": {
        "id": "hb3sYKiyBv5z"
      },
      "source": [
        "[![Open In Colab](https://colab.research.google.com/assets/colab-badge.svg)](https://github.com/porterjenkins/byu-cs474/blob/master/lab11_rl.ipynb)"
      ]
    },
    {
      "cell_type": "markdown",
      "metadata": {
        "id": "sl7hEuB3J4k3"
      },
      "source": [
        "# Deep Learning Part 9: Reinforcement Learning\n",
        "\n",
        "## Objective\n",
        "\n",
        "- Build DQN and PPO Deep RL algorithms\n",
        "- Learn the difference between Q Learning and Policy Gradient techniques\n",
        "\n",
        "## Tips\n",
        "\n",
        "Deep reinforcement learning is difficult. We provide hyperparameters, visualizations, and code for gathering experience, but require you to code up algorithms for training your networks.\n",
        "\n",
        "- Your networks should be able to demonstrate learning on cartpole within a minute of wall time.\n",
        "\n",
        "- Understand what your the starter code is doing. This will help you with the *TODO* sections. The main code block is similar for the two algorithms with some small yet important differences.\n",
        "\n",
        "- We provide hyperparameters for you to start with. Feel free to experiment with different values, but these worked for us.\n",
        "\n",
        "- **Print dtypes and shapes** throughout your code to make sure your tensors look the way you expect.\n",
        "\n",
        "- The DQN algorithm is significantly more unstable than PPO. Even with a correct implementation it may fail to learn every 1/10 times.\n",
        "\n",
        "- Unfortunately visualizing your agent acting in the environment is non-trivial in Colab. You can visualize your agent by running this code locally and uncommenting the `env.render()` line.\n",
        "\n",
        "### Cartpole\n",
        "\n",
        "Cartpole is a simple environment to get your agent up and running. It has a continuous state space of 4 dimensions and a discrete action space of 2. The agent is given a reward of 1 for each timestep it remains standing. Your agent should be able to reach close to 200 cumulative reward for an episode after a minute or two of training. The below graphs show example results for dqn (left) and ppo (right).\n",
        "\n",
        "![alt text](https://github.com/wingated/cs474_labs/blob/master/images/dqn.png?raw=true)\n",
        "![alt text](https://github.com/wingated/cs474_labs/blob/master/images/ppo.png?raw=true)\n",
        "\n",
        "### TODO\n",
        "\n",
        "- Train DQN and PPO on cartpole\n",
        "- Display learning curves with average episodic reward per epoch"
      ]
    },
    {
      "cell_type": "markdown",
      "metadata": {
        "id": "gVWokqnVab6O"
      },
      "source": [
        "# Starter Code"
      ]
    },
    {
      "cell_type": "markdown",
      "metadata": {
        "id": "WhaPOG6xt0yn"
      },
      "source": [
        "## Init"
      ]
    },
    {
      "cell_type": "code",
      "execution_count": 3,
      "metadata": {
        "colab": {
          "base_uri": "https://localhost:8080/"
        },
        "id": "EyykNyRM1Tf3",
        "outputId": "0d42afeb-97b9-441f-b724-9aa33830a328"
      },
      "outputs": [
        {
          "name": "stdout",
          "output_type": "stream",
          "text": [
            "Collecting gymnasium\n",
            "  Downloading gymnasium-1.0.0-py3-none-any.whl.metadata (9.5 kB)\n",
            "Requirement already satisfied: numpy>=1.21.0 in /usr/local/lib/python3.10/dist-packages (from gymnasium) (1.26.4)\n",
            "Requirement already satisfied: cloudpickle>=1.2.0 in /usr/local/lib/python3.10/dist-packages (from gymnasium) (3.1.0)\n",
            "Requirement already satisfied: typing-extensions>=4.3.0 in /usr/local/lib/python3.10/dist-packages (from gymnasium) (4.12.2)\n",
            "Collecting farama-notifications>=0.0.1 (from gymnasium)\n",
            "  Downloading Farama_Notifications-0.0.4-py3-none-any.whl.metadata (558 bytes)\n",
            "Downloading gymnasium-1.0.0-py3-none-any.whl (958 kB)\n",
            "\u001b[2K   \u001b[90m━━━━━━━━━━━━━━━━━━━━━━━━━━━━━━━━━━━━━━━━\u001b[0m \u001b[32m958.1/958.1 kB\u001b[0m \u001b[31m17.8 MB/s\u001b[0m eta \u001b[36m0:00:00\u001b[0m\n",
            "\u001b[?25hDownloading Farama_Notifications-0.0.4-py3-none-any.whl (2.5 kB)\n",
            "Installing collected packages: farama-notifications, gymnasium\n",
            "Successfully installed farama-notifications-0.0.4 gymnasium-1.0.0\n",
            "Requirement already satisfied: torch in /usr/local/lib/python3.10/dist-packages (2.5.1+cu121)\n",
            "Requirement already satisfied: filelock in /usr/local/lib/python3.10/dist-packages (from torch) (3.16.1)\n",
            "Requirement already satisfied: typing-extensions>=4.8.0 in /usr/local/lib/python3.10/dist-packages (from torch) (4.12.2)\n",
            "Requirement already satisfied: networkx in /usr/local/lib/python3.10/dist-packages (from torch) (3.4.2)\n",
            "Requirement already satisfied: jinja2 in /usr/local/lib/python3.10/dist-packages (from torch) (3.1.4)\n",
            "Requirement already satisfied: fsspec in /usr/local/lib/python3.10/dist-packages (from torch) (2024.10.0)\n",
            "Requirement already satisfied: sympy==1.13.1 in /usr/local/lib/python3.10/dist-packages (from torch) (1.13.1)\n",
            "Requirement already satisfied: mpmath<1.4,>=1.1.0 in /usr/local/lib/python3.10/dist-packages (from sympy==1.13.1->torch) (1.3.0)\n",
            "Requirement already satisfied: MarkupSafe>=2.0 in /usr/local/lib/python3.10/dist-packages (from jinja2->torch) (3.0.2)\n",
            "Requirement already satisfied: pygame in /usr/local/lib/python3.10/dist-packages (2.6.1)\n",
            "Requirement already satisfied: moviepy==1.0.3 in /usr/local/lib/python3.10/dist-packages (1.0.3)\n",
            "Requirement already satisfied: decorator<5.0,>=4.0.2 in /usr/local/lib/python3.10/dist-packages (from moviepy==1.0.3) (4.4.2)\n",
            "Requirement already satisfied: imageio<3.0,>=2.5 in /usr/local/lib/python3.10/dist-packages (from moviepy==1.0.3) (2.36.1)\n",
            "Requirement already satisfied: imageio_ffmpeg>=0.2.0 in /usr/local/lib/python3.10/dist-packages (from moviepy==1.0.3) (0.5.1)\n",
            "Requirement already satisfied: tqdm<5.0,>=4.11.2 in /usr/local/lib/python3.10/dist-packages (from moviepy==1.0.3) (4.66.6)\n",
            "Requirement already satisfied: numpy>=1.17.3 in /usr/local/lib/python3.10/dist-packages (from moviepy==1.0.3) (1.26.4)\n",
            "Requirement already satisfied: requests<3.0,>=2.8.1 in /usr/local/lib/python3.10/dist-packages (from moviepy==1.0.3) (2.32.3)\n",
            "Requirement already satisfied: proglog<=1.0.0 in /usr/local/lib/python3.10/dist-packages (from moviepy==1.0.3) (0.1.10)\n",
            "Requirement already satisfied: pillow>=8.3.2 in /usr/local/lib/python3.10/dist-packages (from imageio<3.0,>=2.5->moviepy==1.0.3) (11.0.0)\n",
            "Requirement already satisfied: setuptools in /usr/local/lib/python3.10/dist-packages (from imageio_ffmpeg>=0.2.0->moviepy==1.0.3) (75.1.0)\n",
            "Requirement already satisfied: charset-normalizer<4,>=2 in /usr/local/lib/python3.10/dist-packages (from requests<3.0,>=2.8.1->moviepy==1.0.3) (3.4.0)\n",
            "Requirement already satisfied: idna<4,>=2.5 in /usr/local/lib/python3.10/dist-packages (from requests<3.0,>=2.8.1->moviepy==1.0.3) (3.10)\n",
            "Requirement already satisfied: urllib3<3,>=1.21.1 in /usr/local/lib/python3.10/dist-packages (from requests<3.0,>=2.8.1->moviepy==1.0.3) (2.2.3)\n",
            "Requirement already satisfied: certifi>=2017.4.17 in /usr/local/lib/python3.10/dist-packages (from requests<3.0,>=2.8.1->moviepy==1.0.3) (2024.8.30)\n",
            "Requirement already satisfied: imageio_ffmpeg in /usr/local/lib/python3.10/dist-packages (0.5.1)\n",
            "Requirement already satisfied: setuptools in /usr/local/lib/python3.10/dist-packages (from imageio_ffmpeg) (75.1.0)\n",
            "Collecting pyvirtualdisplay\n",
            "  Downloading PyVirtualDisplay-3.0-py3-none-any.whl.metadata (943 bytes)\n",
            "Downloading PyVirtualDisplay-3.0-py3-none-any.whl (15 kB)\n",
            "Installing collected packages: pyvirtualdisplay\n",
            "Successfully installed pyvirtualdisplay-3.0\n",
            "Reading package lists... Done\n",
            "Building dependency tree... Done\n",
            "Reading state information... Done\n",
            "ffmpeg is already the newest version (7:4.4.2-0ubuntu0.22.04.1).\n",
            "The following additional packages will be installed:\n",
            "  freeglut3 libfontenc1 libglu1-mesa libxfont2 libxkbfile1 x11-xkb-utils xfonts-base\n",
            "  xfonts-encodings xfonts-utils xserver-common\n",
            "Suggested packages:\n",
            "  libgle3 python3-numpy\n",
            "The following NEW packages will be installed:\n",
            "  freeglut3 libfontenc1 libglu1-mesa libxfont2 libxkbfile1 python3-opengl x11-xkb-utils xfonts-base\n",
            "  xfonts-encodings xfonts-utils xserver-common xvfb\n",
            "0 upgraded, 12 newly installed, 0 to remove and 49 not upgraded.\n",
            "Need to get 8,639 kB of archives.\n",
            "After this operation, 20.0 MB of additional disk space will be used.\n",
            "Get:1 http://archive.ubuntu.com/ubuntu jammy/universe amd64 freeglut3 amd64 2.8.1-6 [74.0 kB]\n",
            "Get:2 http://archive.ubuntu.com/ubuntu jammy/main amd64 libfontenc1 amd64 1:1.1.4-1build3 [14.7 kB]\n",
            "Get:3 http://archive.ubuntu.com/ubuntu jammy/main amd64 libxfont2 amd64 1:2.0.5-1build1 [94.5 kB]\n",
            "Get:4 http://archive.ubuntu.com/ubuntu jammy/main amd64 libxkbfile1 amd64 1:1.1.0-1build3 [71.8 kB]\n",
            "Get:5 http://archive.ubuntu.com/ubuntu jammy/main amd64 libglu1-mesa amd64 9.0.2-1 [145 kB]\n",
            "Get:6 http://archive.ubuntu.com/ubuntu jammy/universe amd64 python3-opengl all 3.1.5+dfsg-1 [605 kB]\n",
            "Get:7 http://archive.ubuntu.com/ubuntu jammy/main amd64 x11-xkb-utils amd64 7.7+5build4 [172 kB]\n",
            "Get:8 http://archive.ubuntu.com/ubuntu jammy/main amd64 xfonts-encodings all 1:1.0.5-0ubuntu2 [578 kB]\n",
            "Get:9 http://archive.ubuntu.com/ubuntu jammy/main amd64 xfonts-utils amd64 1:7.7+6build2 [94.6 kB]\n",
            "Get:10 http://archive.ubuntu.com/ubuntu jammy/main amd64 xfonts-base all 1:1.0.5 [5,896 kB]\n",
            "Get:11 http://archive.ubuntu.com/ubuntu jammy-updates/main amd64 xserver-common all 2:21.1.4-2ubuntu1.7~22.04.12 [28.7 kB]\n",
            "Get:12 http://archive.ubuntu.com/ubuntu jammy-updates/universe amd64 xvfb amd64 2:21.1.4-2ubuntu1.7~22.04.12 [864 kB]\n",
            "Fetched 8,639 kB in 2s (4,557 kB/s)\n",
            "Selecting previously unselected package freeglut3:amd64.\n",
            "(Reading database ... 123632 files and directories currently installed.)\n",
            "Preparing to unpack .../00-freeglut3_2.8.1-6_amd64.deb ...\n",
            "Unpacking freeglut3:amd64 (2.8.1-6) ...\n",
            "Selecting previously unselected package libfontenc1:amd64.\n",
            "Preparing to unpack .../01-libfontenc1_1%3a1.1.4-1build3_amd64.deb ...\n",
            "Unpacking libfontenc1:amd64 (1:1.1.4-1build3) ...\n",
            "Selecting previously unselected package libxfont2:amd64.\n",
            "Preparing to unpack .../02-libxfont2_1%3a2.0.5-1build1_amd64.deb ...\n",
            "Unpacking libxfont2:amd64 (1:2.0.5-1build1) ...\n",
            "Selecting previously unselected package libxkbfile1:amd64.\n",
            "Preparing to unpack .../03-libxkbfile1_1%3a1.1.0-1build3_amd64.deb ...\n",
            "Unpacking libxkbfile1:amd64 (1:1.1.0-1build3) ...\n",
            "Selecting previously unselected package libglu1-mesa:amd64.\n",
            "Preparing to unpack .../04-libglu1-mesa_9.0.2-1_amd64.deb ...\n",
            "Unpacking libglu1-mesa:amd64 (9.0.2-1) ...\n",
            "Selecting previously unselected package python3-opengl.\n",
            "Preparing to unpack .../05-python3-opengl_3.1.5+dfsg-1_all.deb ...\n",
            "Unpacking python3-opengl (3.1.5+dfsg-1) ...\n",
            "Selecting previously unselected package x11-xkb-utils.\n",
            "Preparing to unpack .../06-x11-xkb-utils_7.7+5build4_amd64.deb ...\n",
            "Unpacking x11-xkb-utils (7.7+5build4) ...\n",
            "Selecting previously unselected package xfonts-encodings.\n",
            "Preparing to unpack .../07-xfonts-encodings_1%3a1.0.5-0ubuntu2_all.deb ...\n",
            "Unpacking xfonts-encodings (1:1.0.5-0ubuntu2) ...\n",
            "Selecting previously unselected package xfonts-utils.\n",
            "Preparing to unpack .../08-xfonts-utils_1%3a7.7+6build2_amd64.deb ...\n",
            "Unpacking xfonts-utils (1:7.7+6build2) ...\n",
            "Selecting previously unselected package xfonts-base.\n",
            "Preparing to unpack .../09-xfonts-base_1%3a1.0.5_all.deb ...\n",
            "Unpacking xfonts-base (1:1.0.5) ...\n",
            "Selecting previously unselected package xserver-common.\n",
            "Preparing to unpack .../10-xserver-common_2%3a21.1.4-2ubuntu1.7~22.04.12_all.deb ...\n",
            "Unpacking xserver-common (2:21.1.4-2ubuntu1.7~22.04.12) ...\n",
            "Selecting previously unselected package xvfb.\n",
            "Preparing to unpack .../11-xvfb_2%3a21.1.4-2ubuntu1.7~22.04.12_amd64.deb ...\n",
            "Unpacking xvfb (2:21.1.4-2ubuntu1.7~22.04.12) ...\n",
            "Setting up freeglut3:amd64 (2.8.1-6) ...\n",
            "Setting up libfontenc1:amd64 (1:1.1.4-1build3) ...\n",
            "Setting up xfonts-encodings (1:1.0.5-0ubuntu2) ...\n",
            "Setting up libglu1-mesa:amd64 (9.0.2-1) ...\n",
            "Setting up libxkbfile1:amd64 (1:1.1.0-1build3) ...\n",
            "Setting up libxfont2:amd64 (1:2.0.5-1build1) ...\n",
            "Setting up x11-xkb-utils (7.7+5build4) ...\n",
            "Setting up python3-opengl (3.1.5+dfsg-1) ...\n",
            "Setting up xfonts-utils (1:7.7+6build2) ...\n",
            "Setting up xfonts-base (1:1.0.5) ...\n",
            "Setting up xserver-common (2:21.1.4-2ubuntu1.7~22.04.12) ...\n",
            "Setting up xvfb (2:21.1.4-2ubuntu1.7~22.04.12) ...\n",
            "Processing triggers for man-db (2.10.2-1) ...\n",
            "Processing triggers for fontconfig (2.13.1-4.2ubuntu5) ...\n",
            "Processing triggers for libc-bin (2.35-0ubuntu3.4) ...\n",
            "/sbin/ldconfig.real: /usr/local/lib/libumf.so.0 is not a symbolic link\n",
            "\n",
            "/sbin/ldconfig.real: /usr/local/lib/libtbbbind.so.3 is not a symbolic link\n",
            "\n",
            "/sbin/ldconfig.real: /usr/local/lib/libtcm.so.1 is not a symbolic link\n",
            "\n",
            "/sbin/ldconfig.real: /usr/local/lib/libur_loader.so.0 is not a symbolic link\n",
            "\n",
            "/sbin/ldconfig.real: /usr/local/lib/libtcm_debug.so.1 is not a symbolic link\n",
            "\n",
            "/sbin/ldconfig.real: /usr/local/lib/libtbbbind_2_5.so.3 is not a symbolic link\n",
            "\n",
            "/sbin/ldconfig.real: /usr/local/lib/libtbbbind_2_0.so.3 is not a symbolic link\n",
            "\n",
            "/sbin/ldconfig.real: /usr/local/lib/libur_adapter_level_zero.so.0 is not a symbolic link\n",
            "\n",
            "/sbin/ldconfig.real: /usr/local/lib/libtbbmalloc_proxy.so.2 is not a symbolic link\n",
            "\n",
            "/sbin/ldconfig.real: /usr/local/lib/libtbbmalloc.so.2 is not a symbolic link\n",
            "\n",
            "/sbin/ldconfig.real: /usr/local/lib/libtbb.so.12 is not a symbolic link\n",
            "\n",
            "/sbin/ldconfig.real: /usr/local/lib/libur_adapter_opencl.so.0 is not a symbolic link\n",
            "\n",
            "/sbin/ldconfig.real: /usr/local/lib/libhwloc.so.15 is not a symbolic link\n",
            "\n"
          ]
        }
      ],
      "source": [
        "! pip3 install gymnasium\n",
        "! pip3 install torch\n",
        "! pip install pygame\n",
        "! pip install moviepy==1.0.3\n",
        "! pip install imageio_ffmpeg\n",
        "! pip install pyvirtualdisplay\n",
        "! apt-get install -y xvfb python3-opengl ffmpeg"
      ]
    },
    {
      "cell_type": "code",
      "execution_count": 4,
      "metadata": {
        "id": "Rim8iocC1Vva"
      },
      "outputs": [],
      "source": [
        "import gymnasium as gym\n",
        "import torch\n",
        "import torch.nn as nn\n",
        "import torch.nn.functional as F\n",
        "from itertools import chain\n",
        "import matplotlib.pyplot as plt\n",
        "from tqdm import tqdm\n",
        "import random\n",
        "from torch.utils.data import Dataset, DataLoader\n",
        "import numpy as np\n",
        "\n",
        "from gymnasium import logger as gymlogger\n",
        "from gymnasium.wrappers import RecordVideo\n",
        "gymlogger.min_level = 40 # Error only\n",
        "\n",
        "import glob\n",
        "import io\n",
        "import base64\n",
        "from IPython.display import HTML\n",
        "from IPython import display as ipythondisplay\n",
        "\n",
        "device = torch.device(\"cuda\" if torch.cuda.is_available() else \"cpu\")"
      ]
    },
    {
      "cell_type": "code",
      "execution_count": 5,
      "metadata": {
        "colab": {
          "base_uri": "https://localhost:8080/"
        },
        "id": "l1f8lZp19Lwj",
        "outputId": "fe8ed0bd-c2e7-4a6d-94d1-a1478c8bd523"
      },
      "outputs": [
        {
          "data": {
            "text/plain": [
              "<pyvirtualdisplay.display.Display at 0x7993be00e140>"
            ]
          },
          "execution_count": 5,
          "metadata": {},
          "output_type": "execute_result"
        }
      ],
      "source": [
        "from pyvirtualdisplay import Display\n",
        "display = Display(visible=0, size=(1400,900))\n",
        "display.start()"
      ]
    },
    {
      "cell_type": "code",
      "execution_count": 6,
      "metadata": {
        "id": "_TI_5c0l9Ojv"
      },
      "outputs": [],
      "source": [
        "def show_video():\n",
        "  mp4list = glob.glob('video/*.mp4')\n",
        "  if len(mp4list) > 0:\n",
        "    mp4 = mp4list[0]\n",
        "    video = io.open(mp4, 'r+b').read()\n",
        "    encoded = base64.b64encode(video)\n",
        "    ipythondisplay.display(HTML(data='''<video alt=\"test\" autoplay\n",
        "                loop controls style=\"height: 400px;\">\n",
        "                <source src=\"data:video/mp4;base64,{0}\" type=\"video/mp4\" />\n",
        "             </video>'''.format(encoded.decode('ascii'))))\n",
        "  else:\n",
        "    print(\"Could not find video\")\n",
        "\n",
        "def wrap_env(env):\n",
        "  env = RecordVideo(env, './video')\n",
        "  return env"
      ]
    },
    {
      "cell_type": "markdown",
      "metadata": {
        "id": "mV282uYJ2aSw"
      },
      "source": [
        "## DQN"
      ]
    },
    {
      "cell_type": "markdown",
      "metadata": {
        "id": "Qi_aDdTg2btp"
      },
      "source": [
        "## Part 1\n",
        "\n",
        "\n",
        "Deep Q-Network (https://www.cs.toronto.edu/~vmnih/docs/dqn.pdf) is a Q-learning algorithm that learns values for state-action pairs.\n",
        "\n",
        "Actions are sampled according to an $\\epsilon-greedy$ policy to help with exploration of the state space. Every time an action is sampled, the agent chooses a random action with $\\epsilon$ probability. Otherwise, the agent selects the action with the highest Q-value for a state. $\\epsilon$ decays over time according to $\\epsilon \\gets \\epsilon * epsilon\\_decay$.\n",
        "\n",
        "Tuples of state, action, reward, next_state, and terminal $(s,a,r,s',d)$ are collected during training. Every $learn\\_frequency$ steps $sample\\_size$ tuples are sampled and made into 5 tensors tensors of states, actions, rewarads, next_states, and terminals.\n",
        "\n",
        "The loss for a batch of size N is given below.\n",
        "\n",
        "$Loss=\\frac{1}{N}\\sum \\bigg(Q(s,a) - (r + \\gamma \\underset{a'\\sim A}{max} \\hat{Q}(s',a')(1-d))\\bigg)^2 $\n",
        "\n",
        "Loss is calculated and used to update the Q-Network. The target network $\\hat{Q}$ begins as a copy of the Q network but is not updated by the optimizer. Every $target\\_update$ steps, the target network is updated with the parameters of the Q-Network. This process is a type of bootstrapping.\n",
        "\n",
        "### TODO\n",
        "\n",
        "- Implement get action method with e-greedy policy\n",
        "- Implement sample batch method\n",
        "- Implement DQN learning algorithm\n",
        "\n"
      ]
    },
    {
      "cell_type": "code",
      "execution_count": 24,
      "metadata": {
        "id": "_mBUvXkT2dHy"
      },
      "outputs": [],
      "source": [
        "def get_action_dqn(network, state, epsilon, epsilon_decay):\n",
        "    \"\"\"Select action according to e-greedy policy and decay epsilon\n",
        "\n",
        "    Args:\n",
        "        network (QNetwork): Q-Network\n",
        "        state (np-array): current state, size (state_size)\n",
        "        epsilon (float): probability of choosing a random action\n",
        "        epsilon_decay (float): amount by which to decay epsilon\n",
        "\n",
        "    Returns:\n",
        "        action (int): chosen action [0, action_size)\n",
        "        epsilon (float): decayed epsilon\n",
        "    \"\"\"\n",
        "    # If it it is less than the epsilon, choose a random action\n",
        "    if random.random() < epsilon:\n",
        "        action = random.randint(0, network.action_size-1)\n",
        "\n",
        "    # Otherwise choose an action from the network\n",
        "    else:\n",
        "        with torch.no_grad():\n",
        "            state = torch.tensor(state).to(device)\n",
        "        action = torch.argmax(network(state)).item()\n",
        "    return action, epsilon*epsilon_decay\n",
        "\n",
        "\n",
        "\n",
        "def prepare_batch(memory, batch_size):\n",
        "    \"\"\"Randomly sample batch from memory\n",
        "        Prepare cuda tensors\n",
        "\n",
        "        Args:\n",
        "            memory (list): state, action, next_state, reward, done tuples\n",
        "            batch_size (int): amount of memory to sample into a batch\n",
        "\n",
        "        Returns:\n",
        "            state (tensor): float cuda tensor of size (batch_size x state_size)\n",
        "            action (tensor): long tensor of size (batch_size)\n",
        "            next_state (tensor): float cuda tensor of size (batch_size x state_size)\n",
        "            reward (tensor): float cuda tensor of size (batch_size)\n",
        "            done (tensor): float cuda tensor of size (batch_size)\n",
        "    \"\"\"\n",
        "    # Sample the batch and get the variables\n",
        "    batch = random.sample(memory, batch_size)\n",
        "    state, action, next_state, reward, done = zip(*batch)\n",
        "\n",
        "    # Put them all on the device\n",
        "    state = torch.tensor(state, dtype=torch.float).cuda()\n",
        "    action = torch.tensor(action, dtype=torch.long).cuda()\n",
        "    next_state = torch.tensor(next_state, dtype=torch.float).cuda()\n",
        "    reward = torch.tensor(reward, dtype=torch.float).cuda()\n",
        "    done = torch.tensor(done, dtype=torch.float).cuda()\n",
        "\n",
        "    # Return the variables\n",
        "    return state, action, next_state, reward, done\n",
        "\n",
        "def learn_dqn(batch, optim, q_network, target_network, gamma, global_step, target_update):\n",
        "    \"\"\"Update Q-Network according to DQN Loss function\n",
        "        Update Target Network every target_update global steps\n",
        "\n",
        "        Args:\n",
        "            batch (tuple): tuple of state, action, next_state, reward, and done tensors\n",
        "            optim (Adam): Q-Network optimizer\n",
        "            q_network (QNetwork): Q-Network\n",
        "            target_network (QNetwork): Target Q-Network\n",
        "            gamma (float): discount factor\n",
        "            global_step (int): total steps taken in environment\n",
        "            target_update (int): frequency of target network update\n",
        "    \"\"\"\n",
        "    # Unpack our batch and get our N\n",
        "    state, action, next_state, reward, done = batch\n",
        "    N = state.shape[0]\n",
        "\n",
        "    # Get our next action and state\n",
        "    q_score = q_network(state).gather(1, action.unsqueeze(1)).squeeze(1)\n",
        "    target_max = torch.max(target_network(next_state).detach(), dim=1)[0]\n",
        "\n",
        "    # Calculate the target performance\n",
        "    target_performance = reward + gamma * target_max * (1 - done)\n",
        "\n",
        "    # Calculate loss\n",
        "    loss = F.mse_loss(q_score, target_performance) / q_network.action_size\n",
        "\n",
        "    # Update Q-Network\n",
        "    optim.zero_grad()\n",
        "    loss.backward()\n",
        "    optim.step()\n",
        "\n",
        "    # Update the target network when indicated\n",
        "    if global_step % target_update == 0:\n",
        "        target_network.load_state_dict(q_network.state_dict())\n",
        "\n",
        "    return loss.item()\n",
        "\n"
      ]
    },
    {
      "cell_type": "markdown",
      "metadata": {
        "id": "vGQgiY0WvImB"
      },
      "source": [
        "### Modules"
      ]
    },
    {
      "cell_type": "code",
      "execution_count": 8,
      "metadata": {
        "id": "1vMhl-oevIBo"
      },
      "outputs": [],
      "source": [
        "# Q-Value Network\n",
        "class QNetwork(nn.Module):\n",
        "  def __init__(self, state_size, action_size):\n",
        "    super().__init__()\n",
        "    hidden_size = 8\n",
        "    self.action_size = action_size\n",
        "    self.state_size = state_size\n",
        "\n",
        "    self.net = nn.Sequential(nn.Linear(state_size, hidden_size),\n",
        "                             nn.ReLU(),\n",
        "                             nn.Linear(hidden_size, hidden_size),\n",
        "                             nn.ReLU(),\n",
        "                             nn.Linear(hidden_size, hidden_size),\n",
        "                             nn.ReLU(),\n",
        "                             nn.Linear(hidden_size, action_size))\n",
        "\n",
        "  def forward(self, x):\n",
        "    \"\"\"Estimate q-values given state\n",
        "\n",
        "      Args:\n",
        "          state (tensor): current state, size (batch x state_size)\n",
        "\n",
        "      Returns:\n",
        "          q-values (tensor): estimated q-values, size (batch x action_size)\n",
        "    \"\"\"\n",
        "    return self.net(x)"
      ]
    },
    {
      "cell_type": "markdown",
      "metadata": {
        "id": "yCafVI552dgg"
      },
      "source": [
        "### Main"
      ]
    },
    {
      "cell_type": "code",
      "execution_count": 25,
      "metadata": {
        "colab": {
          "base_uri": "https://localhost:8080/",
          "height": 457
        },
        "id": "8Sy_r9Wr2eg8",
        "outputId": "9b2a41b7-bb88-4c03-d6c0-dd42de67f4e9"
      },
      "outputs": [
        {
          "name": "stderr",
          "output_type": "stream",
          "text": [
            "Episodes: 41 Reward: 21.0:   8%|▊         | 42/500 [00:00<00:01, 329.18it/s]"
          ]
        },
        {
          "name": "stdout",
          "output_type": "stream",
          "text": [
            "\n"
          ]
        },
        {
          "name": "stderr",
          "output_type": "stream",
          "text": [
            "Episodes: 499 Reward: 152.0: 100%|██████████| 500/500 [01:35<00:00,  5.23it/s]\n"
          ]
        },
        {
          "data": {
            "text/html": [
              "<video alt=\"test\" autoplay\n",
              "                loop controls style=\"height: 400px;\">\n",
              "                <source src=\"data:video/mp4;base64,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\" type=\"video/mp4\" />\n",
              "             </video>"
            ],
            "text/plain": [
              "<IPython.core.display.HTML object>"
            ]
          },
          "metadata": {},
          "output_type": "display_data"
        }
      ],
      "source": [
        "def dqn_main():\n",
        "    # Hyper parameters\n",
        "    lr = 1e-3\n",
        "    epochs = 500\n",
        "    start_training = 1000\n",
        "    gamma = 0.99\n",
        "    batch_size = 32\n",
        "    epsilon = 1\n",
        "    epsilon_decay = .9999\n",
        "    target_update = 1000\n",
        "    learn_frequency = 2\n",
        "\n",
        "    # Init environment\n",
        "    state_size = 4\n",
        "    action_size = 2\n",
        "    env = gym.make('CartPole-v1', render_mode=\"rgb_array\")\n",
        "\n",
        "    # Init networks\n",
        "    q_network = QNetwork(state_size, action_size).cuda()\n",
        "    target_network = QNetwork(state_size, action_size).cuda()\n",
        "    target_network.load_state_dict(q_network.state_dict())\n",
        "\n",
        "    # Init optimizer\n",
        "    optim = torch.optim.Adam(q_network.parameters(), lr=lr)\n",
        "\n",
        "    # Init replay buffer\n",
        "    memory = []\n",
        "\n",
        "    # Begin main loop\n",
        "    results_dqn = []\n",
        "    global_step = 0\n",
        "    loop = tqdm(total=epochs, position=0, leave=False)\n",
        "    print()\n",
        "    for epoch in range(epochs):\n",
        "        last_epoch = (epoch+1 == epochs)\n",
        "        # Record the last epoch, not the previous epochs\n",
        "        if last_epoch:\n",
        "            env = wrap_env(env)\n",
        "\n",
        "        # Reset environment\n",
        "        state, _ = env.reset()\n",
        "        done = False\n",
        "        cum_reward = 0  # Track cumulative reward per episode\n",
        "\n",
        "        # Begin episode\n",
        "        while not done and cum_reward < 200:  # End after 200 steps\n",
        "            # Select e-greedy action\n",
        "            action, epsilon = get_action_dqn(q_network, state, epsilon, epsilon_decay)\n",
        "\n",
        "            # Take step\n",
        "            next_state, reward, terminated, truncated, _ = env.step(action)\n",
        "            done = terminated or truncated\n",
        "            # env.render()\n",
        "\n",
        "            # Store step in replay buffer\n",
        "            memory.append((state, action, next_state, reward, done))\n",
        "\n",
        "            cum_reward += reward\n",
        "            global_step += 1  # Increment total steps\n",
        "            state = next_state  # Set current state\n",
        "\n",
        "            # If time to train\n",
        "            if global_step > start_training and global_step % learn_frequency == 0:\n",
        "\n",
        "                # Sample batch\n",
        "                batch = prepare_batch(memory, batch_size)\n",
        "\n",
        "                # Train\n",
        "                learn_dqn(batch, optim, q_network, target_network, gamma, global_step, target_update)\n",
        "\n",
        "        env.close()\n",
        "        # Print results at end of episode\n",
        "        results_dqn.append(cum_reward)\n",
        "        loop.update(1)\n",
        "        loop.set_description('Episodes: {} Reward: {}'.format(epoch, cum_reward))\n",
        "\n",
        "    return results_dqn\n",
        "\n",
        "results_dqn = dqn_main()\n",
        "show_video()"
      ]
    },
    {
      "cell_type": "code",
      "execution_count": 26,
      "metadata": {
        "colab": {
          "base_uri": "https://localhost:8080/",
          "height": 430
        },
        "id": "ZWYwytCDC3aw",
        "outputId": "4b54e8c9-8e82-4b1a-a2e3-f82095ae9c93"
      },
      "outputs": [
        {
          "data": {
            "image/png": "[encoded data removed]",
            "text/plain": [
              "<Figure size 640x480 with 1 Axes>"
            ]
          },
          "metadata": {},
          "output_type": "display_data"
        }
      ],
      "source": [
        "plt.plot(results_dqn)\n",
        "plt.show()"
      ]
    },
    {
      "cell_type": "markdown",
      "metadata": {
        "id": "qN9yy5EWVNz0"
      },
      "source": [
        "## PPO"
      ]
    },
    {
      "cell_type": "markdown",
      "metadata": {
        "id": "XvRUJUew0yN_"
      },
      "source": [
        "## Part 2\n",
        "\n",
        "Proximal Policy Optimization (https://arxiv.org/pdf/1707.06347.pdf) is a type of policy gradient method. Instead of calculating Q-values, we train a network $\\pi$ to optimize the probability of taking good actions directly, using states as inputs and actions as outputs. PPO also uses a value network $V$ that estimates state values in order to estimate the advantage $\\hat{A}$.\n",
        "\n",
        "Tuples of state, action distribution, action taken, and return $(s,\\pi(s), a,\\hat{R})$ are gathered for several rollouts. After training on this experience, these tuples are discarded and new experience is gathered.\n",
        "\n",
        "Loss for the value network and the policy network are calculated according to the following formula:\n",
        "\n",
        "$Loss=ValueLoss+PolicyLoss$\n",
        "\n",
        "$ValueLoss=\\frac{1}{N}\\sum \\bigg(\\hat{R} - V(s) \\bigg)^2 $\n",
        "\n",
        "$PolicyLoss=-\\frac{1}{N}\\sum \\min\\bigg( \\frac{\\pi'(a|s)}{\\pi(a|s)} \\hat{A}, clip(\\frac{\\pi'(a|s)}{\\pi(a|s)},1-\\epsilon,1+\\epsilon) \\hat{A} \\bigg) $\n",
        "\n",
        "$\\hat{R}_t = \\sum_{i=t}^H \\gamma^{i-t}r_i$\n",
        "\n",
        "$\\hat{A}_t=\\hat{R}_t-V(s_t)$\n",
        "\n",
        "Here, $\\pi'(a|s)$ is the probability of taking an action given a state under the current policy and $\\pi(a|s)$ is the probability of taking an action given a state under the policy used to gather data. In the loss function, $a$ is the action your agent actually took and is sampled from memory.\n",
        "\n",
        "Additionally, the $clip$ function clips the value of the first argument according to the lower and upper bounds in the second and third arguments resectively.\n",
        "\n",
        "Another important note: Your the calculation of your advantage $\\hat{A}$ should not permit gradient flow from your policy loss calculation. In other words, make sure to call `.detach()` on your advantage.\n",
        "\n",
        "### TODO\n",
        "\n",
        "- Implement calculate return method\n",
        "- Implement get action method\n",
        "- Implement PPO learning algorithm"
      ]
    },
    {
      "cell_type": "code",
      "execution_count": 86,
      "metadata": {
        "id": "zsm1pILHVcEp"
      },
      "outputs": [],
      "source": [
        "def calculate_return(memory, rollout, gamma):\n",
        "    \"\"\"Return memory with calculated return in experience tuple\n",
        "\n",
        "        Args:\n",
        "            memory (list): (state, action, action_dist, return) tuples\n",
        "            rollout (list): (state, action, action_dist, reward) tuples from last rollout\n",
        "            gamma (float): discount factor\n",
        "\n",
        "        Returns:\n",
        "            list: memory updated with (state, action, action_dist, return) tuples from rollout\n",
        "    \"\"\"\n",
        "    intermediate_return = 0.0\n",
        "    for (state, action, action_dist, reward) in reversed(rollout):\n",
        "        intermediate_return = reward + gamma * intermediate_return\n",
        "        memory.append((state, action, action_dist, intermediate_return))\n",
        "    return memory\n",
        "\n",
        "\n",
        "def get_action_ppo(network, state):\n",
        "    \"\"\"Sample action from the distribution obtained from the policy network\n",
        "\n",
        "        Args:\n",
        "            network (PolicyNetwork): Policy Network\n",
        "            state (np-array): current state, size (state_size)\n",
        "\n",
        "        Returns:\n",
        "            int: action sampled from output distribution of policy network\n",
        "            array: output distribution of policy network\n",
        "    \"\"\"\n",
        "    # Get the state as a tensor on the device\n",
        "    with torch.no_grad():\n",
        "        state = torch.tensor(state).to(device).unsqueeze(0)\n",
        "\n",
        "    # get the distribution and sample from it\n",
        "    action_dist = network(state)\n",
        "    action = torch.multinomial(action_dist, 1).item()\n",
        "    return action, action_dist\n",
        "\n",
        "\n",
        "def learn_ppo(optim, policy, value, memory_dataloader, epsilon, policy_epochs):\n",
        "    \"\"\"Implement PPO policy and value network updates. Iterate over your entire\n",
        "        memory the number of times indicated by policy_epochs.\n",
        "\n",
        "        Args:\n",
        "            optim (Adam): value and policy optimizer\n",
        "            policy (PolicyNetwork): Policy Network\n",
        "            value (ValueNetwork): Value Network\n",
        "            memory_dataloader (DataLoader): dataloader with (state, action, action_dist, return) tensors\n",
        "            epsilon (float): trust region\n",
        "            policy_epochs (int): number of times to iterate over all memory\n",
        "    \"\"\"\n",
        "    # Loop through all the epochs and send our data to the device\n",
        "    for i in range(policy_epochs):\n",
        "        # for state, action, action_dist, reward in memory_dataloader:\n",
        "        for batch in memory_dataloader:\n",
        "            # state, action, action_dist = state.to(device), action.to(device), action_dist.to(device).squeeze(1)\n",
        "\n",
        "            # reward = np.array(reward, dtype = np.float32)\n",
        "            # reward = torch.FloatTensor(reward).to(device)\n",
        "\n",
        "            state, action, action_dist, reward = batch\n",
        "            reward = np.array(reward, dtype = np.float32)\n",
        "            state = torch.FloatTensor(state).to(device)\n",
        "            action = torch.LongTensor(action).to(device)\n",
        "            reward = torch.FloatTensor(reward).to(device)\n",
        "            action_dist = action_dist.squeeze(1)\n",
        "\n",
        "            # Calculate the probability ratios\n",
        "            new_action_dist = policy(state)\n",
        "            suggested_action_prov = new_action_dist.gather(1, action.unsqueeze(1)).squeeze(1)\n",
        "            actual_action_prov = action_dist.gather(1, action.unsqueeze(1)).squeeze(1)\n",
        "            ratio = suggested_action_prov / actual_action_prov\n",
        "\n",
        "            # Clip the ratio\n",
        "            ratio_clipped = torch.clamp(ratio, 1-epsilon, 1+epsilon)\n",
        "\n",
        "            # Calculate the advantage and value loss\n",
        "            advantage = reward - value(state)\n",
        "            advantage = advantage.detach()\n",
        "            value_loss = F.mse_loss(value(state).squeeze(-1), reward) / state.shape[0]\n",
        "\n",
        "\n",
        "            # Calculate the policy loss\n",
        "            policy_loss = -torch.mean(torch.min(ratio * advantage, ratio_clipped * advantage))\n",
        "\n",
        "            # Get the total loss\n",
        "            loss = value_loss + policy_loss\n",
        "\n",
        "            # Update the networks\n",
        "            optim.zero_grad()\n",
        "            loss.backward()\n",
        "            optim.step()"
      ]
    },
    {
      "cell_type": "markdown",
      "metadata": {
        "id": "R6RXma_-vSGX"
      },
      "source": [
        "### Modules"
      ]
    },
    {
      "cell_type": "code",
      "execution_count": 87,
      "metadata": {
        "id": "L8URnP8xvTTG"
      },
      "outputs": [],
      "source": [
        "# Dataset that wraps memory for a dataloader\n",
        "class RLDataset(Dataset):\n",
        "  def __init__(self, data):\n",
        "    super().__init__()\n",
        "    self.data = []\n",
        "    for d in data:\n",
        "      self.data.append(d)\n",
        "\n",
        "  def __getitem__(self, index):\n",
        "    return self.data[index]\n",
        "\n",
        "  def __len__(self):\n",
        "    return len(self.data)\n",
        "\n",
        "\n",
        "# Policy Network\n",
        "class PolicyNetwork(nn.Module):\n",
        "  def __init__(self, state_size, action_size):\n",
        "    super().__init__()\n",
        "    hidden_size = 8\n",
        "    self.action_size = action_size\n",
        "    self.state_size = state_size\n",
        "\n",
        "    self.net = nn.Sequential(nn.Linear(state_size, hidden_size),\n",
        "                             nn.ReLU(),\n",
        "                             nn.Linear(hidden_size, hidden_size),\n",
        "                             nn.ReLU(),\n",
        "                             nn.Linear(hidden_size, hidden_size),\n",
        "                             nn.ReLU(),\n",
        "                             nn.Linear(hidden_size, action_size),\n",
        "                             nn.Softmax(dim=1))\n",
        "\n",
        "  def forward(self, x):\n",
        "    \"\"\"Get policy from state\n",
        "\n",
        "      Args:\n",
        "          state (tensor): current state, size (batch x state_size)\n",
        "\n",
        "      Returns:\n",
        "          action_dist (tensor): probability distribution over actions (batch x action_size)\n",
        "    \"\"\"\n",
        "    return self.net(x)\n",
        "\n",
        "\n",
        "# Value Network\n",
        "class ValueNetwork(nn.Module):\n",
        "  def __init__(self, state_size):\n",
        "    super().__init__()\n",
        "    hidden_size = 8\n",
        "    self.state_size = state_size\n",
        "\n",
        "    self.net = nn.Sequential(nn.Linear(state_size, hidden_size),\n",
        "                             nn.ReLU(),\n",
        "                             nn.Linear(hidden_size, hidden_size),\n",
        "                             nn.ReLU(),\n",
        "                             nn.Linear(hidden_size, hidden_size),\n",
        "                             nn.ReLU(),\n",
        "                             nn.Linear(hidden_size, 1))\n",
        "\n",
        "  def forward(self, x):\n",
        "    \"\"\"Estimate value given state\n",
        "\n",
        "      Args:\n",
        "          state (tensor): current state, size (batch x state_size)\n",
        "\n",
        "      Returns:\n",
        "          value (tensor): estimated value, size (batch)\n",
        "    \"\"\"\n",
        "    return self.net(x)"
      ]
    },
    {
      "cell_type": "markdown",
      "metadata": {
        "id": "_aBD_R_e01Qb"
      },
      "source": [
        "### Main"
      ]
    },
    {
      "cell_type": "code",
      "execution_count": 92,
      "metadata": {
        "colab": {
          "base_uri": "https://localhost:8080/",
          "height": 457
        },
        "id": "qX_Bv4M4MyY2",
        "outputId": "14b5e164-5720-4adc-8ad5-e9d49bc4b236"
      },
      "outputs": [
        {
          "name": "stderr",
          "output_type": "stream",
          "text": [
            "Epochs: 4 Reward: 200.0: : 428it [09:18,  1.31s/it]\n",
            "Epochs: 19 Reward: 200.0: 100%|██████████| 20/20 [02:38<00:00,  7.92s/it]\n"
          ]
        },
        {
          "data": {
            "text/html": [
              "<video alt=\"test\" autoplay\n",
              "                loop controls style=\"height: 400px;\">\n",
              "                <source src=\"data:video/mp4;base64,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\" type=\"video/mp4\" />\n",
              "             </video>"
            ],
            "text/plain": [
              "<IPython.core.display.HTML object>"
            ]
          },
          "metadata": {},
          "output_type": "display_data"
        }
      ],
      "source": [
        "def ppo_main():\n",
        "    # Hyper parameters\n",
        "    lr = 1e-3\n",
        "    epochs = 20\n",
        "    env_samples = 100\n",
        "    gamma = 0.9\n",
        "    batch_size = 256\n",
        "    epsilon = 0.2\n",
        "    policy_epochs = 5\n",
        "\n",
        "    # Init environment\n",
        "    state_size = 4\n",
        "    action_size = 2\n",
        "    env = gym.make('CartPole-v1', render_mode=\"rgb_array\")\n",
        "\n",
        "    # Init networks\n",
        "    policy_network = PolicyNetwork(state_size, action_size).cuda()\n",
        "    value_network = ValueNetwork(state_size).cuda()\n",
        "\n",
        "    # Init optimizer\n",
        "    optim = torch.optim.Adam(chain(policy_network.parameters(), value_network.parameters()), lr=lr)\n",
        "\n",
        "    # Start main loop\n",
        "    results_ppo = []\n",
        "    loop = tqdm(total=epochs, position=0, leave=True)\n",
        "    for epoch in range(epochs):\n",
        "        last_epoch = (epoch+1 == epochs)\n",
        "        # Record only last epoch\n",
        "        if last_epoch:\n",
        "            env = wrap_env(env)\n",
        "\n",
        "        memory = []  # Reset memory every epoch\n",
        "        rewards = []  # Calculate average episodic reward per epoch\n",
        "\n",
        "        # Begin experience loop\n",
        "        for episode in range(env_samples):\n",
        "\n",
        "            # Reset environment\n",
        "            state, _ = env.reset()\n",
        "            done = False\n",
        "            rollout = []\n",
        "            cum_reward = 0  # Track cumulative reward\n",
        "\n",
        "            # Begin episode\n",
        "            while not done and cum_reward < 200:  # End after 200 steps\n",
        "                # Get action\n",
        "                action, action_dist = get_action_ppo(policy_network, state)\n",
        "\n",
        "                # Take step\n",
        "                next_state, reward, terminated, truncated, _ = env.step(action)\n",
        "                done = terminated or truncated\n",
        "                # env.render()\n",
        "\n",
        "                # Store step\n",
        "                rollout.append((state, action, action_dist.detach(), reward))\n",
        "\n",
        "                cum_reward += reward\n",
        "                state = next_state  # Set current state\n",
        "\n",
        "            # Calculate returns and add episode to memory\n",
        "            memory = calculate_return(memory, rollout, gamma)\n",
        "\n",
        "            rewards.append(cum_reward)\n",
        "            env.close()\n",
        "            # Train\n",
        "        dataset = RLDataset(memory)\n",
        "        loader = DataLoader(dataset, batch_size=batch_size, shuffle=True)\n",
        "        learn_ppo(optim, policy_network, value_network, loader, epsilon, policy_epochs)\n",
        "\n",
        "        # Print results\n",
        "        results_ppo.extend(rewards)  # Store rewards for this epoch\n",
        "        loop.update(1)\n",
        "        loop.set_description(\"Epochs: {} Reward: {}\".format(epoch, results_ppo[-1]))\n",
        "\n",
        "    return results_ppo\n",
        "\n",
        "results_ppo = ppo_main()\n",
        "show_video()"
      ]
    },
    {
      "cell_type": "code",
      "execution_count": 93,
      "metadata": {
        "colab": {
          "base_uri": "https://localhost:8080/",
          "height": 430
        },
        "id": "pLXetCMpC1DE",
        "outputId": "f5ed5d15-10b2-4f1f-91d1-700d6b342361"
      },
      "outputs": [
        {
          "data": {
            "image/png": "[encoded data removed]",
            "text/plain": [
              "<Figure size 640x480 with 1 Axes>"
            ]
          },
          "metadata": {},
          "output_type": "display_data"
        }
      ],
      "source": [
        "plt.plot(results_ppo)\n",
        "plt.show()"
      ]
    }
  ],
  "metadata": {
    "accelerator": "GPU",
    "colab": {
      "gpuType": "T4",
      "provenance": []
    },
    "kernelspec": {
      "display_name": "Python 3",
      "name": "python3"
    },
    "language_info": {
      "codemirror_mode": {
        "name": "ipython",
        "version": 3
      },
      "file_extension": ".py",
      "mimetype": "text/x-python",
      "name": "python",
      "nbconvert_exporter": "python",
      "pygments_lexer": "ipython3",
      "version": "3.10.14"
    }
  },
  "nbformat": 4,
  "nbformat_minor": 0
}
